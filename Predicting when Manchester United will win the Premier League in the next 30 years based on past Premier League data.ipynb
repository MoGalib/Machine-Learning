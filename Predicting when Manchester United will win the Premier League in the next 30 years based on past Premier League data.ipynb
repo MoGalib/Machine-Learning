{
 "cells": [
  {
   "cell_type": "markdown",
   "metadata": {},
   "source": [
    "# About the Dataset"
   ]
  },
  {
   "cell_type": "markdown",
   "metadata": {},
   "source": [
    "The dataset have been taken from https://en.wikipedia.org/wiki/List_of_Manchester_United_F.C._seasons. It has 10 columns in total. Season, Division, P = Total Matches played, W = No. of matches won, D = No. of matches drawn, L = No. of matches lost, F = No. of goals scored for Manchester United, A = No. of goals conceded by Manchester United, Pts = Total points earned, Pos = The final position earned by Manchester United."
   ]
  },
  {
   "cell_type": "markdown",
   "metadata": {},
   "source": [
    "I have tried to predict the season in the next 30 years when Manchester United is going to lift the Premier League trophy. I have used several algorithms for training and testing and have chosen the best algorithm for predicting. The dataset comprises of each of the relevant data related to Manchester United since the Premier League started in 1992. "
   ]
  },
  {
   "cell_type": "code",
   "execution_count": 1,
   "metadata": {},
   "outputs": [],
   "source": [
    "import itertools\n",
    "import numpy as np\n",
    "import matplotlib.pyplot as plt\n",
    "from matplotlib.ticker import NullFormatter\n",
    "import pandas as pd\n",
    "import numpy as np\n",
    "import seaborn as sns\n",
    "import matplotlib.ticker as ticker\n",
    "from sklearn import preprocessing\n",
    "import operator\n",
    "import random\n",
    "from sklearn.metrics import mean_squared_error,r2_score\n",
    "from sklearn.model_selection import train_test_split\n",
    "import warnings\n",
    "warnings.filterwarnings('ignore')\n",
    "#warnings.filterwarnings(action='once')\n",
    "%matplotlib inline"
   ]
  },
  {
   "cell_type": "code",
   "execution_count": 2,
   "metadata": {},
   "outputs": [
    {
     "data": {
      "text/html": [
       "<div>\n",
       "<style scoped>\n",
       "    .dataframe tbody tr th:only-of-type {\n",
       "        vertical-align: middle;\n",
       "    }\n",
       "\n",
       "    .dataframe tbody tr th {\n",
       "        vertical-align: top;\n",
       "    }\n",
       "\n",
       "    .dataframe thead th {\n",
       "        text-align: right;\n",
       "    }\n",
       "</style>\n",
       "<table border=\"1\" class=\"dataframe\">\n",
       "  <thead>\n",
       "    <tr style=\"text-align: right;\">\n",
       "      <th></th>\n",
       "      <th>Season</th>\n",
       "      <th>Division</th>\n",
       "      <th>P</th>\n",
       "      <th>W</th>\n",
       "      <th>D</th>\n",
       "      <th>L</th>\n",
       "      <th>F</th>\n",
       "      <th>A</th>\n",
       "      <th>Pts</th>\n",
       "      <th>Pos</th>\n",
       "    </tr>\n",
       "  </thead>\n",
       "  <tbody>\n",
       "    <tr>\n",
       "      <th>0</th>\n",
       "      <td>1992</td>\n",
       "      <td>Prem</td>\n",
       "      <td>42</td>\n",
       "      <td>24</td>\n",
       "      <td>12</td>\n",
       "      <td>6</td>\n",
       "      <td>67</td>\n",
       "      <td>31</td>\n",
       "      <td>84</td>\n",
       "      <td>1</td>\n",
       "    </tr>\n",
       "    <tr>\n",
       "      <th>1</th>\n",
       "      <td>1993</td>\n",
       "      <td>Prem</td>\n",
       "      <td>42</td>\n",
       "      <td>27</td>\n",
       "      <td>11</td>\n",
       "      <td>4</td>\n",
       "      <td>80</td>\n",
       "      <td>38</td>\n",
       "      <td>92</td>\n",
       "      <td>1</td>\n",
       "    </tr>\n",
       "    <tr>\n",
       "      <th>2</th>\n",
       "      <td>1994</td>\n",
       "      <td>Prem</td>\n",
       "      <td>42</td>\n",
       "      <td>26</td>\n",
       "      <td>10</td>\n",
       "      <td>6</td>\n",
       "      <td>77</td>\n",
       "      <td>28</td>\n",
       "      <td>88</td>\n",
       "      <td>2</td>\n",
       "    </tr>\n",
       "    <tr>\n",
       "      <th>3</th>\n",
       "      <td>1995</td>\n",
       "      <td>Prem</td>\n",
       "      <td>38</td>\n",
       "      <td>25</td>\n",
       "      <td>7</td>\n",
       "      <td>6</td>\n",
       "      <td>73</td>\n",
       "      <td>35</td>\n",
       "      <td>82</td>\n",
       "      <td>1</td>\n",
       "    </tr>\n",
       "    <tr>\n",
       "      <th>4</th>\n",
       "      <td>1996</td>\n",
       "      <td>Prem</td>\n",
       "      <td>38</td>\n",
       "      <td>21</td>\n",
       "      <td>12</td>\n",
       "      <td>5</td>\n",
       "      <td>76</td>\n",
       "      <td>44</td>\n",
       "      <td>75</td>\n",
       "      <td>1</td>\n",
       "    </tr>\n",
       "  </tbody>\n",
       "</table>\n",
       "</div>"
      ],
      "text/plain": [
       "   Season Division   P   W   D  L   F   A  Pts  Pos\n",
       "0    1992     Prem  42  24  12  6  67  31   84    1\n",
       "1    1993     Prem  42  27  11  4  80  38   92    1\n",
       "2    1994     Prem  42  26  10  6  77  28   88    2\n",
       "3    1995     Prem  38  25   7  6  73  35   82    1\n",
       "4    1996     Prem  38  21  12  5  76  44   75    1"
      ]
     },
     "execution_count": 2,
     "metadata": {},
     "output_type": "execute_result"
    }
   ],
   "source": [
    "df = pd.read_csv(r'E:\\Datasets\\Manchester_United_prediction\\PL data\\Man_Utd.csv', encoding = 'unicode_escape')   \n",
    "df.head(5)"
   ]
  },
  {
   "cell_type": "code",
   "execution_count": 3,
   "metadata": {},
   "outputs": [
    {
     "data": {
      "text/plain": [
       "Season      0\n",
       "Division    0\n",
       "P           0\n",
       "W           0\n",
       "D           0\n",
       "L           0\n",
       "F           0\n",
       "A           0\n",
       "Pts         0\n",
       "Pos         0\n",
       "dtype: int64"
      ]
     },
     "execution_count": 3,
     "metadata": {},
     "output_type": "execute_result"
    }
   ],
   "source": [
    "df.isnull().sum()"
   ]
  },
  {
   "cell_type": "code",
   "execution_count": 4,
   "metadata": {},
   "outputs": [
    {
     "data": {
      "text/html": [
       "<div>\n",
       "<style scoped>\n",
       "    .dataframe tbody tr th:only-of-type {\n",
       "        vertical-align: middle;\n",
       "    }\n",
       "\n",
       "    .dataframe tbody tr th {\n",
       "        vertical-align: top;\n",
       "    }\n",
       "\n",
       "    .dataframe thead th {\n",
       "        text-align: right;\n",
       "    }\n",
       "</style>\n",
       "<table border=\"1\" class=\"dataframe\">\n",
       "  <thead>\n",
       "    <tr style=\"text-align: right;\">\n",
       "      <th></th>\n",
       "      <th>Season</th>\n",
       "      <th>P</th>\n",
       "      <th>W</th>\n",
       "      <th>D</th>\n",
       "      <th>L</th>\n",
       "      <th>F</th>\n",
       "      <th>A</th>\n",
       "      <th>Pts</th>\n",
       "      <th>Pos</th>\n",
       "    </tr>\n",
       "  </thead>\n",
       "  <tbody>\n",
       "    <tr>\n",
       "      <th>0</th>\n",
       "      <td>1992</td>\n",
       "      <td>42</td>\n",
       "      <td>24</td>\n",
       "      <td>12</td>\n",
       "      <td>6</td>\n",
       "      <td>67</td>\n",
       "      <td>31</td>\n",
       "      <td>84</td>\n",
       "      <td>1</td>\n",
       "    </tr>\n",
       "    <tr>\n",
       "      <th>1</th>\n",
       "      <td>1993</td>\n",
       "      <td>42</td>\n",
       "      <td>27</td>\n",
       "      <td>11</td>\n",
       "      <td>4</td>\n",
       "      <td>80</td>\n",
       "      <td>38</td>\n",
       "      <td>92</td>\n",
       "      <td>1</td>\n",
       "    </tr>\n",
       "    <tr>\n",
       "      <th>2</th>\n",
       "      <td>1994</td>\n",
       "      <td>42</td>\n",
       "      <td>26</td>\n",
       "      <td>10</td>\n",
       "      <td>6</td>\n",
       "      <td>77</td>\n",
       "      <td>28</td>\n",
       "      <td>88</td>\n",
       "      <td>2</td>\n",
       "    </tr>\n",
       "    <tr>\n",
       "      <th>3</th>\n",
       "      <td>1995</td>\n",
       "      <td>38</td>\n",
       "      <td>25</td>\n",
       "      <td>7</td>\n",
       "      <td>6</td>\n",
       "      <td>73</td>\n",
       "      <td>35</td>\n",
       "      <td>82</td>\n",
       "      <td>1</td>\n",
       "    </tr>\n",
       "    <tr>\n",
       "      <th>4</th>\n",
       "      <td>1996</td>\n",
       "      <td>38</td>\n",
       "      <td>21</td>\n",
       "      <td>12</td>\n",
       "      <td>5</td>\n",
       "      <td>76</td>\n",
       "      <td>44</td>\n",
       "      <td>75</td>\n",
       "      <td>1</td>\n",
       "    </tr>\n",
       "  </tbody>\n",
       "</table>\n",
       "</div>"
      ],
      "text/plain": [
       "   Season   P   W   D  L   F   A  Pts  Pos\n",
       "0    1992  42  24  12  6  67  31   84    1\n",
       "1    1993  42  27  11  4  80  38   92    1\n",
       "2    1994  42  26  10  6  77  28   88    2\n",
       "3    1995  38  25   7  6  73  35   82    1\n",
       "4    1996  38  21  12  5  76  44   75    1"
      ]
     },
     "execution_count": 4,
     "metadata": {},
     "output_type": "execute_result"
    }
   ],
   "source": [
    "df = df.drop(['Division'], axis = 1)\n",
    "df.head()"
   ]
  },
  {
   "cell_type": "code",
   "execution_count": 5,
   "metadata": {},
   "outputs": [
    {
     "data": {
      "text/plain": [
       "<seaborn.axisgrid.FacetGrid at 0x22d7648e848>"
      ]
     },
     "execution_count": 5,
     "metadata": {},
     "output_type": "execute_result"
    },
    {
     "data": {
      "image/png": "[encoded data removed]",
      "text/plain": [
       "<Figure size 1080x360 with 1 Axes>"
      ]
     },
     "metadata": {
      "needs_background": "light"
     },
     "output_type": "display_data"
    }
   ],
   "source": [
    "sns.relplot(x=\"Season\", y=\"Pos\", ci=None, kind=\"line\",dashes = False, markers=True, data=df, height = 5, aspect = 3)"
   ]
  },
  {
   "cell_type": "code",
   "execution_count": 5,
   "metadata": {},
   "outputs": [],
   "source": [
    "X = df[['Season', 'P', 'W', 'D', 'L', 'F', 'A', 'Pts']]\n",
    "y = df[['Pos']]\n",
    "X1 = df[['Season', 'P', 'W', 'D', 'L', 'F', 'A', 'Pts']]\n",
    "y1 = df[['Pos']]"
   ]
  },
  {
   "cell_type": "markdown",
   "metadata": {},
   "source": [
    "# Linear Models"
   ]
  },
  {
   "cell_type": "markdown",
   "metadata": {},
   "source": [
    "### 1.Linear Regression"
   ]
  },
  {
   "cell_type": "code",
   "execution_count": 6,
   "metadata": {},
   "outputs": [
    {
     "data": {
      "text/plain": [
       "array([[1.57961346],\n",
       "       [1.62222552],\n",
       "       [2.13701125],\n",
       "       [5.25463421],\n",
       "       [2.27083551]])"
      ]
     },
     "execution_count": 6,
     "metadata": {},
     "output_type": "execute_result"
    }
   ],
   "source": [
    "X_train, X_test, y_train, y_test = train_test_split( X, y, test_size=0.2, random_state=42)\n",
    "\n",
    "from sklearn.linear_model import LinearRegression\n",
    "from sklearn.metrics import accuracy_score\n",
    "lin_df = LinearRegression()  \n",
    "lin_df.fit(X_train, y_train)\n",
    "lr_pred = lin_df.predict(X_test)   \n",
    "lr_pred[0:5]"
   ]
  },
  {
   "cell_type": "code",
   "execution_count": 7,
   "metadata": {},
   "outputs": [
    {
     "name": "stdout",
     "output_type": "stream",
     "text": [
      "RMSE Score for Test set:  0.9971829796882571\n",
      "R2 Score:  0.7597485891323608\n"
     ]
    }
   ],
   "source": [
    "linrgr_rmse = np.sqrt(mean_squared_error(y_test, lr_pred))\n",
    "linrgr_r2 = r2_score(y_test, lr_pred)\n",
    "print(\"RMSE Score for Test set: \",linrgr_rmse)\n",
    "print(\"R2 Score: \",linrgr_r2)"
   ]
  },
  {
   "cell_type": "markdown",
   "metadata": {},
   "source": [
    "### Ridge Regression"
   ]
  },
  {
   "cell_type": "code",
   "execution_count": 8,
   "metadata": {},
   "outputs": [
    {
     "name": "stdout",
     "output_type": "stream",
     "text": [
      "The coefficients after ridge regression is : [[ 0.09260154  0.27926509 -0.05393454  0.1078445   0.22535513 -0.00558186\n",
      "  -0.00117116 -0.05395912]]\n",
      "The intercept after ridge regression is : [-190.36194644]\n"
     ]
    },
    {
     "data": {
      "text/plain": [
       "array([[1.57966431],\n",
       "       [1.63706457],\n",
       "       [2.12562397],\n",
       "       [5.23046331],\n",
       "       [2.23843626]])"
      ]
     },
     "execution_count": 8,
     "metadata": {},
     "output_type": "execute_result"
    }
   ],
   "source": [
    "X_train, X_test, y_train, y_test = train_test_split( X, y, test_size=0.2, random_state=42)\n",
    "\n",
    "from sklearn import linear_model\n",
    "reg = linear_model.Ridge()\n",
    "reg.fit(X_train, y_train)\n",
    "rdg_pred = reg.predict(X_test)\n",
    "print(\"The coefficients after ridge regression is :\", reg.coef_)\n",
    "print(\"The intercept after ridge regression is :\", reg.intercept_)\n",
    "rdg_pred[0:5]"
   ]
  },
  {
   "cell_type": "code",
   "execution_count": 9,
   "metadata": {},
   "outputs": [
    {
     "name": "stdout",
     "output_type": "stream",
     "text": [
      "RMSE Score for Test set:  0.997939929397257\n",
      "R2 Score:  0.7593837067337283\n"
     ]
    }
   ],
   "source": [
    "rdgrgr_rmse = np.sqrt(mean_squared_error(y_test, rdg_pred))\n",
    "rdgrgr_r2 = r2_score(y_test, rdg_pred)\n",
    "print(\"RMSE Score for Test set: \",rdgrgr_rmse)\n",
    "print(\"R2 Score: \",rdgrgr_r2)"
   ]
  },
  {
   "cell_type": "markdown",
   "metadata": {
    "scrolled": true
   },
   "source": [
    "### Lasso"
   ]
  },
  {
   "cell_type": "code",
   "execution_count": 10,
   "metadata": {},
   "outputs": [
    {
     "name": "stdout",
     "output_type": "stream",
     "text": [
      "1.0769854933649836\n"
     ]
    }
   ],
   "source": [
    "# Finding the best value of alpha using cross validation\n",
    "from sklearn.linear_model import LassoCV\n",
    "regr = LassoCV()\n",
    "regr.fit(X, y)\n",
    "print(regr.alpha_)"
   ]
  },
  {
   "cell_type": "code",
   "execution_count": 11,
   "metadata": {},
   "outputs": [
    {
     "name": "stdout",
     "output_type": "stream",
     "text": [
      "The coefficients after lasso regression is : [ 0.05105031  0.         -0.          0.          0.         -0.03419514\n",
      "  0.0023105  -0.08535248]\n",
      "The intercept after lasso regression is : [-90.86651577]\n"
     ]
    },
    {
     "data": {
      "text/plain": [
       "array([1.77610982, 2.02160138, 1.84200343, 4.34605655, 1.4366391 ])"
      ]
     },
     "execution_count": 11,
     "metadata": {},
     "output_type": "execute_result"
    }
   ],
   "source": [
    "X_train, X_test, y_train, y_test = train_test_split( X, y, test_size=0.2, random_state=42)\n",
    "\n",
    "from sklearn import linear_model\n",
    "clf = linear_model.Lasso(alpha=regr.alpha_)\n",
    "clf.fit(X_train, y_train)\n",
    "las_pred = clf.predict(X_test)\n",
    "print(\"The coefficients after lasso regression is :\", clf.coef_)\n",
    "print(\"The intercept after lasso regression is :\", clf.intercept_)\n",
    "las_pred[0:5]"
   ]
  },
  {
   "cell_type": "code",
   "execution_count": 12,
   "metadata": {},
   "outputs": [
    {
     "name": "stdout",
     "output_type": "stream",
     "text": [
      "RMSE Score for Test set:  1.2377853766262539\n",
      "R2 Score:  0.6298251343004516\n"
     ]
    }
   ],
   "source": [
    "lasrgr_rmse = np.sqrt(mean_squared_error(y_test, las_pred))\n",
    "lasrgr_r2 = r2_score(y_test, las_pred)\n",
    "print(\"RMSE Score for Test set: \",lasrgr_rmse)\n",
    "print(\"R2 Score: \",lasrgr_r2)"
   ]
  },
  {
   "cell_type": "markdown",
   "metadata": {},
   "source": [
    "### ElasticNet"
   ]
  },
  {
   "cell_type": "code",
   "execution_count": 13,
   "metadata": {},
   "outputs": [
    {
     "name": "stdout",
     "output_type": "stream",
     "text": [
      "0.265551610784285\n"
     ]
    }
   ],
   "source": [
    "# Finding the best value of alpha using cross validation\n",
    "from sklearn.linear_model import ElasticNetCV\n",
    "regr = ElasticNetCV()\n",
    "regr.fit(X, y)\n",
    "print(regr.alpha_)"
   ]
  },
  {
   "cell_type": "code",
   "execution_count": 14,
   "metadata": {},
   "outputs": [
    {
     "name": "stdout",
     "output_type": "stream",
     "text": [
      "The coefficients after elasticnet regression is : [ 0.07810538  0.26707061 -0.          0.          0.02802889 -0.02075427\n",
      "  0.00655679 -0.11100914]\n",
      "The intercept after elasticnet regression is : [-154.5981932]\n"
     ]
    },
    {
     "data": {
      "text/plain": [
       "array([1.61236069, 1.80678154, 2.0333411 , 4.96204577, 1.86081479])"
      ]
     },
     "execution_count": 14,
     "metadata": {},
     "output_type": "execute_result"
    }
   ],
   "source": [
    "X_train, X_test, y_train, y_test = train_test_split( X, y, test_size=0.2, random_state=42)\n",
    "# Actual regression on test set\n",
    "from sklearn.linear_model import ElasticNet\n",
    "reg = ElasticNet(alpha=regr.alpha_)\n",
    "reg.fit(X_train, y_train)\n",
    "en_pred = reg.predict(X_test)\n",
    "print(\"The coefficients after elasticnet regression is :\", reg.coef_)\n",
    "print(\"The intercept after elasticnet regression is :\", reg.intercept_)\n",
    "en_pred[0:5]"
   ]
  },
  {
   "cell_type": "code",
   "execution_count": 15,
   "metadata": {},
   "outputs": [
    {
     "name": "stdout",
     "output_type": "stream",
     "text": [
      "RMSE Score for Test set:  1.022432805079632\n",
      "R2 Score:  0.7474276626006162\n"
     ]
    }
   ],
   "source": [
    "enrgr_rmse = np.sqrt(mean_squared_error(y_test, en_pred))\n",
    "enrgr_r2 = r2_score(y_test, en_pred)\n",
    "print(\"RMSE Score for Test set: \",enrgr_rmse)\n",
    "print(\"R2 Score: \",enrgr_r2)"
   ]
  },
  {
   "cell_type": "markdown",
   "metadata": {},
   "source": [
    "### LassoLars"
   ]
  },
  {
   "cell_type": "code",
   "execution_count": 16,
   "metadata": {},
   "outputs": [
    {
     "name": "stdout",
     "output_type": "stream",
     "text": [
      "0.007179227436123559\n"
     ]
    }
   ],
   "source": [
    "# Finding the best value of alpha using cross validation\n",
    "from sklearn.linear_model import LassoLarsCV\n",
    "regr = LassoLarsCV()\n",
    "regr.fit(X, y)\n",
    "print(regr.alpha_)"
   ]
  },
  {
   "cell_type": "code",
   "execution_count": 17,
   "metadata": {},
   "outputs": [
    {
     "name": "stdout",
     "output_type": "stream",
     "text": [
      "The coefficients after elasticnet regression is : [ 0.08549218  0.28475096 -0.25599251  0.          0.17511703 -0.00697308\n",
      "  0.          0.        ]\n",
      "The intercept after elasticnet regression is : [-174.53399145]\n"
     ]
    },
    {
     "data": {
      "text/plain": [
       "array([1.62690447, 1.67206735, 2.18196311, 5.17356367, 2.16564783])"
      ]
     },
     "execution_count": 17,
     "metadata": {},
     "output_type": "execute_result"
    }
   ],
   "source": [
    "X_train, X_test, y_train, y_test = train_test_split( X, y, test_size=0.2, random_state=42)\n",
    "from sklearn import linear_model\n",
    "reg = linear_model.LassoLars(alpha=regr.alpha_)\n",
    "reg.fit(X_train, y_train)\n",
    "lslr_pred = reg.predict(X_test)\n",
    "print(\"The coefficients after elasticnet regression is :\", reg.coef_)\n",
    "print(\"The intercept after elasticnet regression is :\", reg.intercept_)\n",
    "lslr_pred[0:5]"
   ]
  },
  {
   "cell_type": "code",
   "execution_count": 18,
   "metadata": {},
   "outputs": [
    {
     "name": "stdout",
     "output_type": "stream",
     "text": [
      "RMSE Score for Test set:  0.9931054701197409\n",
      "R2 Score:  0.7617093617976975\n"
     ]
    }
   ],
   "source": [
    "lslrrgr_rmse = np.sqrt(mean_squared_error(y_test, lslr_pred))\n",
    "lslrrgr_r2 = r2_score(y_test, lslr_pred)\n",
    "print(\"RMSE Score for Test set: \",lslrrgr_rmse)\n",
    "print(\"R2 Score: \",lslrrgr_r2)"
   ]
  },
  {
   "cell_type": "markdown",
   "metadata": {},
   "source": [
    "# 3.Polynomial Regression"
   ]
  },
  {
   "cell_type": "code",
   "execution_count": 19,
   "metadata": {},
   "outputs": [
    {
     "name": "stdout",
     "output_type": "stream",
     "text": [
      "\n",
      "The predicted values with degree =  1  is \n",
      " [[1.57961346]\n",
      " [1.62222552]\n",
      " [2.13701125]\n",
      " [5.25463421]\n",
      " [2.27083551]]\n",
      "\n",
      "RMSE Score of Test set for degree  1  is:  0.9971829796882489\n",
      "R2 RMSE Score of Test set for degree  1  is:  0.7597485891323648\n",
      "\n",
      "The predicted values with degree =  2  is \n",
      " [[  3.18304056]\n",
      " [  1.00857042]\n",
      " [  6.49935203]\n",
      " [  2.0819222 ]\n",
      " [-16.2944064 ]]\n",
      "\n",
      "RMSE Score of Test set for degree  2  is:  7.593309047167244\n",
      "R2 RMSE Score of Test set for degree  2  is:  -12.930874646231604\n",
      "\n",
      "The predicted values with degree =  3  is \n",
      " [[ 2.42572235]\n",
      " [ 1.10233701]\n",
      " [ 5.78914181]\n",
      " [ 5.38446535]\n",
      " [-5.04573979]]\n",
      "\n",
      "RMSE Score of Test set for degree  3  is:  2.8991863376294242\n",
      "R2 RMSE Score of Test set for degree  3  is:  -1.0308062491993026\n",
      "\n",
      "The predicted values with degree =  4  is \n",
      " [[ 2.41091948]\n",
      " [ 1.10060426]\n",
      " [ 5.76018235]\n",
      " [ 5.43329408]\n",
      " [-4.76494992]]\n",
      "\n",
      "RMSE Score of Test set for degree  4  is:  2.791231001774916\n",
      "R2 RMSE Score of Test set for degree  4  is:  -0.8823821355013317\n",
      "\n",
      "The predicted values with degree =  5  is \n",
      " [[ 2.40192621]\n",
      " [ 1.09799895]\n",
      " [ 5.75109867]\n",
      " [ 5.4758688 ]\n",
      " [-4.57359648]]\n",
      "\n",
      "RMSE Score of Test set for degree  5  is:  2.7193040297799067\n",
      "R2 RMSE Score of Test set for degree  5  is:  -0.7866182458361117\n",
      "\n",
      "The predicted values with degree =  6  is \n",
      " [[ 2.39286391]\n",
      " [ 1.09540979]\n",
      " [ 5.74213858]\n",
      " [ 5.51961204]\n",
      " [-4.38281541]]\n",
      "\n",
      "RMSE Score of Test set for degree  6  is:  2.6479389570357283\n",
      "R2 RMSE Score of Test set for degree  6  is:  -0.6940731941392522\n",
      "\n",
      "The predicted values with degree =  7  is \n",
      " [[ 2.38392668]\n",
      " [ 1.09282193]\n",
      " [ 5.73232888]\n",
      " [ 5.56208318]\n",
      " [-4.19533057]]\n",
      "\n",
      "RMSE Score of Test set for degree  7  is:  2.5781983904519987\n",
      "R2 RMSE Score of Test set for degree  7  is:  -0.6060124151614363\n",
      "\n",
      "The predicted values with degree =  8  is \n",
      " [[ 2.37509109]\n",
      " [ 1.09022151]\n",
      " [ 5.72505773]\n",
      " [ 5.60803407]\n",
      " [-4.01164229]]\n",
      "\n",
      "RMSE Score of Test set for degree  8  is:  2.5103541797296955\n",
      "R2 RMSE Score of Test set for degree  8  is:  -0.5226014219913335\n",
      "\n",
      "The predicted values with degree =  9  is \n",
      " [[ 2.36631769]\n",
      " [ 1.0876314 ]\n",
      " [ 5.71671228]\n",
      " [ 5.6527707 ]\n",
      " [-3.83024627]]\n",
      "\n",
      "RMSE Score of Test set for degree  9  is:  2.443778717084691\n",
      "R2 RMSE Score of Test set for degree  9  is:  -0.442912476850601\n",
      "\n",
      "The best RMSE score of Test Set is  0.9971829796882489  with degree =  1\n",
      "The max R2 score of Test Set is  0.7597485891323648  with degree =  1\n"
     ]
    }
   ],
   "source": [
    "X_train, X_test, y_train, y_test = train_test_split( X, y, test_size=0.2, random_state=42)\n",
    "\n",
    "from sklearn.preprocessing import PolynomialFeatures\n",
    "\n",
    "from sklearn import linear_model\n",
    "\n",
    "plrgr_rmse = np.zeros(9)\n",
    "plrgr_r2 = np.zeros(9)\n",
    "\n",
    "for i in range(1,10):\n",
    "    poly_df = PolynomialFeatures(degree = i)\n",
    "    transform_poly = poly_df.fit_transform(X_train)\n",
    "    clf = linear_model.LinearRegression()\n",
    "    clf.fit(transform_poly,y_train)\n",
    "    polynomial_predict = clf.predict(poly_df.fit_transform(X_test))\n",
    "    plrgr_rmse[i-1] = np.sqrt(mean_squared_error(y_test,polynomial_predict))\n",
    "    plrgr_r2[i-1] = r2_score(y_test,polynomial_predict)\n",
    "    print(\"\\nThe predicted values with degree = \",i,\" is \\n\",polynomial_predict[0:5])\n",
    "    print(\"\\nRMSE Score of Test set for degree \", i,\" is: \",plrgr_rmse[i-1])\n",
    "    print(\"R2 RMSE Score of Test set for degree \", i,\" is: \",plrgr_r2[i-1]) \n",
    "\n",
    "print(\"\\nThe best RMSE score of Test Set is \", plrgr_rmse.min(), \" with degree = \",plrgr_rmse.argmin()+1)\n",
    "print(\"The max R2 score of Test Set is \", plrgr_r2.max(), \" with degree = \",plrgr_r2.argmax()+1)"
   ]
  },
  {
   "cell_type": "markdown",
   "metadata": {},
   "source": [
    "# 4.Decision Tree Regression"
   ]
  },
  {
   "cell_type": "code",
   "execution_count": 20,
   "metadata": {},
   "outputs": [
    {
     "name": "stdout",
     "output_type": "stream",
     "text": [
      "\n",
      "The predicted values for Test Set using criterion =  mse  is:  [2. 1. 2. 5. 2.]\n",
      "\n",
      "The RMSE score for Test Set using criterion =  mse  is:  1.224744871391589\n",
      "The R2 score for Test Set using criterion =  mse  is:  0.6375838926174496\n",
      "\n",
      "The predicted values for Test Set using criterion =  friedman_mse  is:  [2. 1. 2. 4. 2.]\n",
      "\n",
      "The RMSE score for Test Set using criterion =  friedman_mse  is:  1.5275252316519468\n",
      "The R2 score for Test Set using criterion =  friedman_mse  is:  0.43624161073825496\n",
      "\n",
      "The predicted values for Test Set using criterion =  mae  is:  [2. 1. 1. 6. 2.]\n",
      "\n",
      "The RMSE score for Test Set using criterion =  mae  is:  1.4142135623730951\n",
      "The R2 score for Test Set using criterion =  mae  is:  0.5167785234899329\n",
      "\n",
      "The best RMSE score for Test Set is  1.224744871391589\n",
      "The max R2 score of Test Set is  0.6375838926174496\n"
     ]
    }
   ],
   "source": [
    "X_train, X_test, y_train, y_test = train_test_split( X, y, test_size=0.2, random_state=42)\n",
    "\n",
    "k = ['mse', 'friedman_mse', 'mae']\n",
    "dt_rmse = np.zeros(3)\n",
    "dt_r2 = np.zeros(3)\n",
    "n = 0\n",
    "\n",
    "from sklearn.tree import DecisionTreeRegressor\n",
    "for i in k:\n",
    "    dt_reg = DecisionTreeRegressor(criterion = i)          # create  DecisionTreeReg with sklearn\n",
    "    dt_reg.fit(X_train,y_train)\n",
    "    dt_predict = dt_reg.predict(X_test)\n",
    "    dt_rmse[n] = np.sqrt(mean_squared_error(y_test,dt_predict))\n",
    "    dt_r2[n] = r2_score(y_test,dt_predict)\n",
    "    print(\"\\nThe predicted values for Test Set using criterion = \",i,\" is: \",dt_predict[0:5])\n",
    "    print(\"\\nThe RMSE score for Test Set using criterion = \",i,\" is: \",dt_rmse[n])\n",
    "    print(\"The R2 score for Test Set using criterion = \",i,\" is: \",dt_r2[n])\n",
    "    n += 1   \n",
    "print(\"\\nThe best RMSE score for Test Set is \", dt_rmse.min())\n",
    "print(\"The max R2 score of Test Set is \", dt_r2.max())   "
   ]
  },
  {
   "cell_type": "markdown",
   "metadata": {},
   "source": [
    "# Ensemble Methods"
   ]
  },
  {
   "cell_type": "markdown",
   "metadata": {},
   "source": [
    "### Random Forest Model"
   ]
  },
  {
   "cell_type": "code",
   "execution_count": 21,
   "metadata": {},
   "outputs": [
    {
     "name": "stdout",
     "output_type": "stream",
     "text": [
      "\n",
      "The predicted values for Test Set using criterion =  mse  is:  [1.68 1.1  1.68 4.67 1.86]\n",
      "\n",
      "The RMSE score for Test Set using criterion =  mse  is:  1.2735056602413146\n",
      "The R2 score for Test Set using criterion =  mse  is:  0.5167785234899329\n",
      "\n",
      "The predicted values for Test Set using criterion =  mae  is:  [1.65 1.15 1.84 4.78 1.94]\n",
      "\n",
      "The RMSE score for Test Set using criterion =  mae  is:  1.1854816180214125\n",
      "The R2 score for Test Set using criterion =  mae  is:  0.5167785234899329\n",
      "\n",
      "The best RMSE score for Test Set is  1.1854816180214125\n",
      "The max R2 score of Test Set is  0.5167785234899329\n"
     ]
    }
   ],
   "source": [
    "X_train, X_test, y_train, y_test = train_test_split( X, y, test_size=0.2, random_state=42)\n",
    "\n",
    "k = ['mse', 'mae']\n",
    "n = 0\n",
    "rf_rmse = np.zeros(2)\n",
    "rf_r2 = np.zeros(2)\n",
    "\n",
    "from sklearn.ensemble import RandomForestRegressor\n",
    "for i in k:\n",
    "    rf_reg = RandomForestRegressor(criterion = i)\n",
    "    rf_reg.fit(X_train,y_train)\n",
    "    rf_pred = rf_reg.predict(X_test)\n",
    "    rf_rmse[n] = np.sqrt(mean_squared_error(y_test,rf_pred))\n",
    "    rf_r2[n] = r2_score(y_test,dt_predict)\n",
    "    print(\"\\nThe predicted values for Test Set using criterion = \",i,\" is: \",rf_pred[0:5])\n",
    "    print(\"\\nThe RMSE score for Test Set using criterion = \",i,\" is: \",rf_rmse[n])\n",
    "    print(\"The R2 score for Test Set using criterion = \",i,\" is: \",rf_r2[n])\n",
    "    n += 1   \n",
    "    \n",
    "print(\"\\nThe best RMSE score for Test Set is \", rf_rmse.min())\n",
    "print(\"The max R2 score of Test Set is \", rf_r2.max())       "
   ]
  },
  {
   "cell_type": "markdown",
   "metadata": {},
   "source": [
    "### ADABoost"
   ]
  },
  {
   "cell_type": "code",
   "execution_count": 22,
   "metadata": {},
   "outputs": [
    {
     "name": "stdout",
     "output_type": "stream",
     "text": [
      "\n",
      "The predicted values for Test Set using loss =  linear  is:  [1.63636364 1.         1.         5.         2.        ]\n",
      "\n",
      "The RMSE score for Test Set using loss =  linear  is:  1.378704626191191\n",
      "The R2 score for Test Set using loss =  linear  is:  0.5407399190193577\n",
      "\n",
      "The predicted values for Test Set using loss =  square  is:  [1.  1.  2.  5.  1.8]\n",
      "\n",
      "The RMSE score for Test Set using loss =  square  is:  1.1284207253207172\n",
      "The R2 score for Test Set using loss =  square  is:  0.6923489932885906\n",
      "\n",
      "The predicted values for Test Set using loss =  exponential  is:  [1.83333333 1.         1.09090909 5.         2.        ]\n",
      "\n",
      "The RMSE score for Test Set using loss =  exponential  is:  1.3747164885664\n",
      "The R2 score for Test Set using loss =  exponential  is:  0.5433930519348457\n",
      "\n",
      "The best RMSE score for Test Set is  1.1284207253207172\n",
      "The max R2 score of Test Set is  0.6923489932885906\n"
     ]
    }
   ],
   "source": [
    "X_train, X_test, y_train, y_test = train_test_split( X, y, test_size=0.2, random_state=42)\n",
    "\n",
    "k = ['linear', 'square', 'exponential']\n",
    "n = 0\n",
    "adb_rmse = np.zeros(3)\n",
    "adb_r2 = np.zeros(3)\n",
    "\n",
    "from sklearn.ensemble import AdaBoostRegressor\n",
    "for i in k:\n",
    "    ada_regr = AdaBoostRegressor(loss = i)\n",
    "    ada_regr.fit(X_train,y_train)\n",
    "    ada_pred = ada_regr.predict(X_test)\n",
    "    adb_rmse[n] = np.sqrt(mean_squared_error(y_test,ada_pred))\n",
    "    adb_r2[n] = r2_score(y_test,ada_pred)\n",
    "    print(\"\\nThe predicted values for Test Set using loss = \",i,\" is: \",ada_pred[0:5])\n",
    "    print(\"\\nThe RMSE score for Test Set using loss = \",i,\" is: \",adb_rmse[n])\n",
    "    print(\"The R2 score for Test Set using loss = \",i,\" is: \",adb_r2[n])\n",
    "    n += 1   \n",
    "print(\"\\nThe best RMSE score for Test Set is \", adb_rmse.min())\n",
    "print(\"The max R2 score of Test Set is \", adb_r2.max())           "
   ]
  },
  {
   "cell_type": "markdown",
   "metadata": {},
   "source": [
    "### Gradient Boosting"
   ]
  },
  {
   "cell_type": "code",
   "execution_count": 23,
   "metadata": {},
   "outputs": [
    {
     "name": "stdout",
     "output_type": "stream",
     "text": [
      "\n",
      "The predicted values for Test Set using loss =  ls  is:  [2.10055404 1.01620884 1.192849   4.86760217 2.09243619]\n",
      "\n",
      "The RMSE score for Test Set using loss =  ls  is:  1.3733375716082044\n",
      "The R2 score for Test Set using loss =  ls  is:  0.5443085967700274\n",
      "\n",
      "The predicted values for Test Set using loss =  lad  is:  [1.         1.         1.99997344 1.99997344 1.        ]\n",
      "\n",
      "The RMSE score for Test Set using loss =  lad  is:  2.1602612442982037\n",
      "The R2 score for Test Set using loss =  lad  is:  -0.12753175282017226\n",
      "\n",
      "The predicted values for Test Set using loss =  huber  is:  [2.02634184 1.00366966 1.09260654 4.79340164 2.02772353]\n",
      "\n",
      "The RMSE score for Test Set using loss =  huber  is:  1.3924784469601623\n",
      "The R2 score for Test Set using loss =  huber  is:  0.531517690543966\n",
      "\n",
      "The predicted values for Test Set using loss =  quantile  is:  [3.70529375 3.70529375 3.70529375 5.03247213 3.70529375]\n",
      "\n",
      "The RMSE score for Test Set using loss =  quantile  is:  1.932670852831446\n",
      "The R2 score for Test Set using loss =  quantile  is:  0.09753155359844135\n",
      "\n",
      "The best RMSE score for Test Set is  1.3733375716082044\n",
      "The max R2 score of Test Set is  0.5443085967700274\n"
     ]
    }
   ],
   "source": [
    "X_train, X_test, y_train, y_test = train_test_split( X, y, test_size=0.2, random_state=42)\n",
    "\n",
    "k = ['ls', 'lad', 'huber', 'quantile']\n",
    "n = 0\n",
    "gdb_rmse = np.zeros(4)\n",
    "gdb_r2 = np.zeros(4)\n",
    "\n",
    "from sklearn.ensemble import GradientBoostingRegressor\n",
    "\n",
    "for i in k:\n",
    "    reg = GradientBoostingRegressor(loss = i)\n",
    "    reg.fit(X_train, y_train)\n",
    "    grdbst_pred = reg.predict(X_test)\n",
    "    gdb_rmse[n] = np.sqrt(mean_squared_error(y_test,grdbst_pred))\n",
    "    gdb_r2[n] = r2_score(y_test,grdbst_pred)\n",
    "    print(\"\\nThe predicted values for Test Set using loss = \",i,\" is: \",grdbst_pred[0:5])\n",
    "    print(\"\\nThe RMSE score for Test Set using loss = \",i,\" is: \",gdb_rmse[n])\n",
    "    print(\"The R2 score for Test Set using loss = \",i,\" is: \",gdb_r2[n])\n",
    "    n += 1   \n",
    "print(\"\\nThe best RMSE score for Test Set is \", gdb_rmse.min())\n",
    "print(\"The max R2 score of Test Set is \", gdb_r2.max())    "
   ]
  },
  {
   "cell_type": "markdown",
   "metadata": {},
   "source": [
    "# KNearestNeighbor"
   ]
  },
  {
   "cell_type": "code",
   "execution_count": 24,
   "metadata": {},
   "outputs": [
    {
     "name": "stdout",
     "output_type": "stream",
     "text": [
      "\n",
      "The predicted values for Test Set with neighbor k =  1  is: \n",
      " [[1.]\n",
      " [1.]\n",
      " [1.]\n",
      " [4.]\n",
      " [1.]]\n",
      "\n",
      "The RMSE score for Test Set with neighbor k =  1  is:  1.5275252316519468\n",
      "The R2 score for Test Set with neighbor k =  1  is:  0.43624161073825496\n",
      "\n",
      "The predicted values for Test Set with neighbor k =  2  is: \n",
      " [[1. ]\n",
      " [1. ]\n",
      " [1. ]\n",
      " [5. ]\n",
      " [1.5]]\n",
      "\n",
      "The RMSE score for Test Set with neighbor k =  2  is:  1.2583057392117916\n",
      "The R2 score for Test Set with neighbor k =  2  is:  0.6174496644295302\n",
      "\n",
      "The predicted values for Test Set with neighbor k =  3  is: \n",
      " [[1.33333333]\n",
      " [1.        ]\n",
      " [1.        ]\n",
      " [5.        ]\n",
      " [1.66666667]]\n",
      "\n",
      "The RMSE score for Test Set with neighbor k =  3  is:  1.2692955176439846\n",
      "The R2 score for Test Set with neighbor k =  3  is:  0.610738255033557\n",
      "\n",
      "The predicted values for Test Set with neighbor k =  4  is: \n",
      " [[1.25]\n",
      " [1.25]\n",
      " [1.  ]\n",
      " [5.25]\n",
      " [1.5 ]]\n",
      "\n",
      "The RMSE score for Test Set with neighbor k =  4  is:  1.1902380714238083\n",
      "The R2 score for Test Set with neighbor k =  4  is:  0.6577181208053691\n",
      "\n",
      "The predicted values for Test Set with neighbor k =  5  is: \n",
      " [[1.4]\n",
      " [1.2]\n",
      " [1. ]\n",
      " [4.4]\n",
      " [1.4]]\n",
      "\n",
      "The RMSE score for Test Set with neighbor k =  5  is:  1.4352700094407325\n",
      "The R2 score for Test Set with neighbor k =  5  is:  0.5022818791946309\n",
      "\n",
      "The predicted values for Test Set with neighbor k =  6  is: \n",
      " [[1.33333333]\n",
      " [1.16666667]\n",
      " [1.        ]\n",
      " [4.        ]\n",
      " [1.33333333]]\n",
      "\n",
      "The RMSE score for Test Set with neighbor k =  6  is:  1.5605079894653489\n",
      "The R2 score for Test Set with neighbor k =  6  is:  0.4116331096196868\n",
      "\n",
      "The predicted values for Test Set with neighbor k =  7  is: \n",
      " [[1.28571429]\n",
      " [1.28571429]\n",
      " [1.        ]\n",
      " [3.57142857]\n",
      " [1.57142857]]\n",
      "\n",
      "The RMSE score for Test Set with neighbor k =  7  is:  1.7162686943752476\n",
      "The R2 score for Test Set with neighbor k =  7  is:  0.28831666894945895\n",
      "\n",
      "The predicted values for Test Set with neighbor k =  8  is: \n",
      " [[1.375]\n",
      " [1.25 ]\n",
      " [1.125]\n",
      " [3.5  ]\n",
      " [1.5  ]]\n",
      "\n",
      "The RMSE score for Test Set with neighbor k =  8  is:  1.731298886193061\n",
      "The R2 score for Test Set with neighbor k =  8  is:  0.2757969798657718\n",
      "\n",
      "The predicted values for Test Set with neighbor k =  9  is: \n",
      " [[1.33333333]\n",
      " [1.33333333]\n",
      " [1.22222222]\n",
      " [3.22222222]\n",
      " [1.44444444]]\n",
      "\n",
      "The RMSE score for Test Set with neighbor k =  9  is:  1.811031581984837\n",
      "The R2 score for Test Set with neighbor k =  9  is:  0.20755654983842908\n",
      "\n",
      "The best RMSE score for Test Set is  1.1902380714238083  with neighbor k =  4\n",
      "The max R2 score of Test Set is  0.6577181208053691  with neighbor k =  4\n"
     ]
    }
   ],
   "source": [
    "X_train, X_test, y_train, y_test = train_test_split( X, y, test_size=0.2, random_state=42)\n",
    "\n",
    "from sklearn.neighbors import KNeighborsRegressor\n",
    "\n",
    "n = 0\n",
    "knn_rmse = np.zeros(9)\n",
    "knn_r2 = np.zeros(9)\n",
    "\n",
    "for i in range(1,10):\n",
    "    neigh = KNeighborsRegressor(n_neighbors=i)\n",
    "    neigh.fit(X_train, y_train)\n",
    "    knn_pred = neigh.predict(X_test)\n",
    "    knn_rmse[n] = np.sqrt(mean_squared_error(y_test,knn_pred))\n",
    "    knn_r2[n] = r2_score(y_test,knn_pred)\n",
    "    print(\"\\nThe predicted values for Test Set with neighbor k = \",i,\" is: \\n\",knn_pred[0:5])\n",
    "    print(\"\\nThe RMSE score for Test Set with neighbor k = \",i,\" is: \",knn_rmse[n])\n",
    "    print(\"The R2 score for Test Set with neighbor k = \",i,\" is: \",knn_r2[n])\n",
    "    n += 1   \n",
    "print(\"\\nThe best RMSE score for Test Set is \", knn_rmse.min(), \" with neighbor k = \", knn_rmse.argmin()+1)\n",
    "print(\"The max R2 score of Test Set is \", knn_r2.max(), \" with neighbor k = \", knn_r2.argmax()+1)   "
   ]
  },
  {
   "cell_type": "markdown",
   "metadata": {},
   "source": [
    "# Stochastic Gradient Descent"
   ]
  },
  {
   "cell_type": "code",
   "execution_count": 25,
   "metadata": {},
   "outputs": [
    {
     "data": {
      "text/plain": [
       "array([1.36683989, 1.70131832, 1.65879737, 4.69130018, 1.96084502])"
      ]
     },
     "execution_count": 25,
     "metadata": {},
     "output_type": "execute_result"
    }
   ],
   "source": [
    "X= preprocessing.StandardScaler().fit(X).transform(X)\n",
    "X_train, X_test, y_train, y_test = train_test_split( X, y, test_size=0.2, random_state=42)\n",
    "\n",
    "from sklearn.linear_model import SGDRegressor\n",
    "reg = SGDRegressor()\n",
    "reg.fit(X_train, y_train)\n",
    "sgd_pred = reg.predict(X_test)\n",
    "sgd_pred[0:5]"
   ]
  },
  {
   "cell_type": "code",
   "execution_count": 26,
   "metadata": {},
   "outputs": [
    {
     "name": "stdout",
     "output_type": "stream",
     "text": [
      "RMSE Score for Test set:  1.188136206245974\n",
      "R2 Score for Test set:  0.6589259382192434\n"
     ]
    }
   ],
   "source": [
    "sgd_rmse = np.sqrt(mean_squared_error(y_test,sgd_pred))\n",
    "sgd_r2 = r2_score(y_test,sgd_pred)\n",
    "print(\"RMSE Score for Test set: \",sgd_rmse)\n",
    "print(\"R2 Score for Test set: \",sgd_r2)"
   ]
  },
  {
   "cell_type": "markdown",
   "metadata": {},
   "source": [
    "# Support Vector Machines"
   ]
  },
  {
   "cell_type": "markdown",
   "metadata": {},
   "source": [
    "### SVR"
   ]
  },
  {
   "cell_type": "code",
   "execution_count": 27,
   "metadata": {},
   "outputs": [
    {
     "name": "stdout",
     "output_type": "stream",
     "text": [
      "\n",
      "The predicted values for Test Set with kernel =  linear  is:  [1.54398721 1.44360768 2.23734096 5.26736291 2.19228195]\n",
      "\n",
      "The RMSE score for Test Set with kernel =  linear  is:  0.9685241151876802\n",
      "The R2 score for Test Set with kernel =  linear  is:  0.7733597139516588\n",
      "\n",
      "The predicted values for Test Set with kernel =  poly  is:  [1.65047787 1.64945446 1.37405485 5.04581271 2.11618651]\n",
      "\n",
      "The RMSE score for Test Set with kernel =  poly  is:  1.2760816007488038\n",
      "The R2 score for Test Set with kernel =  poly  is:  0.6065648787670693\n",
      "\n",
      "The predicted values for Test Set with kernel =  rbf  is:  [1.20421134 1.03344859 1.89487548 3.66746999 2.03868186]\n",
      "\n",
      "The RMSE score for Test Set with kernel =  rbf  is:  1.5569739481545886\n",
      "The R2 score for Test Set with kernel =  rbf  is:  0.4142950100110393\n",
      "\n",
      "The predicted values for Test Set with kernel =  sigmoid  is:  [1.61233885 1.57518346 2.66090568 4.53493766 2.10052948]\n",
      "\n",
      "The RMSE score for Test Set with kernel =  sigmoid  is:  1.1615607669534436\n",
      "The R2 score for Test Set with kernel =  sigmoid  is:  0.6740131345522349\n",
      "\n",
      "The best RMSE score for Test Set is  0.9685241151876802\n",
      "The max R2 score of Test Set is  0.7733597139516588\n"
     ]
    }
   ],
   "source": [
    "#X= preprocessing.StandardScaler().fit(X).transform(X)\n",
    "X_train, X_test, y_train, y_test = train_test_split( X, y, test_size=0.2, random_state=42)\n",
    "\n",
    "from sklearn.svm import SVR\n",
    "k = ['linear', 'poly', 'rbf', 'sigmoid']\n",
    "n = 0\n",
    "svr_rmse = np.zeros(4)\n",
    "svr_r2 = np.zeros(4)\n",
    "\n",
    "for i in k:\n",
    "    reg = SVR(kernel = i)\n",
    "    reg.fit(X_train, y_train)\n",
    "    svr_pred = reg.predict(X_test)\n",
    "    svr_rmse[n] = np.sqrt(mean_squared_error(y_test,svr_pred))\n",
    "    svr_r2[n] = r2_score(y_test,svr_pred)\n",
    "    print(\"\\nThe predicted values for Test Set with kernel = \",i,\" is: \",svr_pred[0:5])\n",
    "    print(\"\\nThe RMSE score for Test Set with kernel = \",i,\" is: \",svr_rmse[n])\n",
    "    print(\"The R2 score for Test Set with kernel = \",i,\" is: \",svr_r2[n])\n",
    "    n += 1   \n",
    "print(\"\\nThe best RMSE score for Test Set is \", svr_rmse.min())\n",
    "print(\"The max R2 score of Test Set is \", svr_r2.max())         "
   ]
  },
  {
   "cell_type": "markdown",
   "metadata": {},
   "source": [
    "### NuSVR"
   ]
  },
  {
   "cell_type": "code",
   "execution_count": 28,
   "metadata": {},
   "outputs": [
    {
     "name": "stdout",
     "output_type": "stream",
     "text": [
      "\n",
      "The predicted values for Test Set with kernel =  linear  is:  [1.45739436 1.69701344 1.65806374 4.87838965 2.08367994]\n",
      "\n",
      "The RMSE score for Test Set with kernel =  linear  is:  1.1519512054038563\n",
      "The R2 score for Test Set with kernel =  linear  is:  0.6793845847870448\n",
      "\n",
      "The predicted values for Test Set with kernel =  poly  is:  [1.61265089 1.61892594 1.31835325 4.57007705 1.92228673]\n",
      "\n",
      "The RMSE score for Test Set with kernel =  poly  is:  1.3991703355575917\n",
      "The R2 score for Test Set with kernel =  poly  is:  0.5270040630566686\n",
      "\n",
      "The predicted values for Test Set with kernel =  rbf  is:  [1.31434575 1.17461074 1.92496727 3.56239909 1.85281946]\n",
      "\n",
      "The RMSE score for Test Set with kernel =  rbf  is:  1.5653457309570915\n",
      "The R2 score for Test Set with kernel =  rbf  is:  0.40797945458173634\n",
      "\n",
      "The predicted values for Test Set with kernel =  sigmoid  is:  [1.73808887 1.83846981 2.54292789 3.95632297 1.80682178]\n",
      "\n",
      "The RMSE score for Test Set with kernel =  sigmoid  is:  1.337053520396863\n",
      "The R2 score for Test Set with kernel =  sigmoid  is:  0.5680695557677637\n",
      "\n",
      "The best RMSE score for Test Set is  1.1519512054038563\n",
      "The max R2 score of Test Set is  0.6793845847870448\n"
     ]
    }
   ],
   "source": [
    "#X= preprocessing.StandardScaler().fit(X).transform(X)\n",
    "X_train, X_test, y_train, y_test = train_test_split( X, y, test_size=0.2, random_state=42)\n",
    "\n",
    "from sklearn.svm import NuSVR\n",
    "k = ['linear', 'poly', 'rbf', 'sigmoid']\n",
    "n = 0\n",
    "nusvr_rmse = np.zeros(4)\n",
    "nusvr_r2 = np.zeros(4)\n",
    "\n",
    "for i in k:\n",
    "    reg = NuSVR(kernel = i)\n",
    "    reg.fit(X_train, y_train)\n",
    "    nusvr_pred = reg.predict(X_test)\n",
    "    nusvr_rmse[n] = np.sqrt(mean_squared_error(y_test,nusvr_pred))\n",
    "    nusvr_r2[n] = r2_score(y_test,nusvr_pred)\n",
    "    print(\"\\nThe predicted values for Test Set with kernel = \",i,\" is: \",nusvr_pred[0:5])\n",
    "    print(\"\\nThe RMSE score for Test Set with kernel = \",i,\" is: \",nusvr_rmse[n])\n",
    "    print(\"The R2 score for Test Set with kernel = \",i,\" is: \",nusvr_r2[n])\n",
    "    n += 1   \n",
    "print(\"\\nThe best RMSE score for Test Set is \", nusvr_rmse.min())\n",
    "print(\"The max R2 score of Test Set is \", nusvr_r2.max())         "
   ]
  },
  {
   "cell_type": "markdown",
   "metadata": {},
   "source": [
    "### LinearSVR"
   ]
  },
  {
   "cell_type": "code",
   "execution_count": 29,
   "metadata": {},
   "outputs": [
    {
     "name": "stdout",
     "output_type": "stream",
     "text": [
      "\n",
      "The predicted values for Test Set is:  [1.58262906 1.4801285  2.07500242 5.05749503 2.36061874]\n",
      "\n",
      "The RMSE score for Test Set is:  1.088551498566798\n",
      "The R2 score for Test Set is:  0.7137047171734714\n"
     ]
    }
   ],
   "source": [
    "#X= preprocessing.StandardScaler().fit(X).transform(X)\n",
    "X_train, X_test, y_train, y_test = train_test_split( X, y, test_size=0.2, random_state=42)\n",
    "\n",
    "from sklearn.svm import LinearSVR\n",
    "\n",
    "reg = LinearSVR()\n",
    "reg.fit(X_train, y_train)\n",
    "linsvr_pred = reg.predict(X_test)\n",
    "linsvr_rmse = np.sqrt(mean_squared_error(y_test,linsvr_pred))\n",
    "linsvr_r2 = r2_score(y_test,linsvr_pred)\n",
    "print(\"\\nThe predicted values for Test Set is: \",linsvr_pred[0:5])\n",
    "print(\"\\nThe RMSE score for Test Set is: \",linsvr_rmse)\n",
    "print(\"The R2 score for Test Set is: \",linsvr_r2)  "
   ]
  },
  {
   "cell_type": "markdown",
   "metadata": {},
   "source": [
    "# Report on accuracy of different algorithms using RMSE value and R2 score"
   ]
  },
  {
   "cell_type": "code",
   "execution_count": 30,
   "metadata": {},
   "outputs": [],
   "source": [
    "# rmse = root mean squared score.......r2 = R2-Score\n",
    "# 1.Linear Models\n",
    "# 1.1. Linear Regression\n",
    "linrgr_rmse\n",
    "linrgr_r2\n",
    "\n",
    "# 1.2. Ridge Regression\n",
    "rdgrgr_rmse\n",
    "rdgrgr_r2\n",
    "\n",
    "# 1.3. Lasso\n",
    "lasrgr_rmse\n",
    "lasrgr_r2\n",
    "\n",
    "# 1.4. ElasticNet\n",
    "enrgr_rmse\n",
    "enrgr_r2\n",
    "\n",
    "# 1.5. LarsLasso\n",
    "lslrrgr_rmse\n",
    "lslrrgr_r2\n",
    "\n",
    "# 2.Polynomial Regression\n",
    "plrgr_rmse = plrgr_rmse.min()\n",
    "plrgr_r2 = plrgr_r2.max()\n",
    "\n",
    "# 3.Decision Tree\n",
    "dt_rmse = dt_rmse.min()\n",
    "dt_r2 = dt_r2.max()\n",
    "\n",
    "# 4.Ensemble Methods\n",
    "# 4.1. Random Forest\n",
    "rf_rmse = rf_rmse.min()\n",
    "rf_r2 = rf_r2.max()\n",
    "\n",
    "# 4.2. AdaBoost\n",
    "adb_rmse = adb_rmse.min()\n",
    "adb_r2 = adb_r2.max()\n",
    "\n",
    "# 4.3. GradientBoost\n",
    "gdb_rmse = gdb_rmse.min()\n",
    "gdb_r2 = gdb_r2.max()\n",
    "\n",
    "# 5.KNearestNeighbor\n",
    "knn_rmse = knn_rmse.min()\n",
    "knn_r2 = knn_r2.max()\n",
    "\n",
    "# 6.Stochastic Gradient Descent\n",
    "sgd_rmse\n",
    "sgd_r2\n",
    "\n",
    "# 7.Support Vector Machines\n",
    "# 7.1. SVR\n",
    "svr_rmse = svr_rmse.min()\n",
    "svr_r2 = svr_r2.max()\n",
    "\n",
    "# 7.2. NuSVR\n",
    "nusvr_rmse = nusvr_rmse.min()\n",
    "nusvr_r2 = nusvr_r2.max()\n",
    "# 7.3. LinearSVR\n",
    "linsvr_rmse = linsvr_rmse\n",
    "linsvr_r2 = linsvr_r2\n",
    "\n",
    "#max of all\n",
    "min_rmse = [linrgr_rmse,rdgrgr_rmse,lasrgr_rmse,enrgr_rmse,lslrrgr_rmse,plrgr_rmse,dt_rmse,rf_rmse,adb_rmse,gdb_rmse,knn_rmse,sgd_rmse,svr_rmse,nusvr_rmse,linsvr_rmse]\n",
    "max_r2 = [linrgr_r2,rdgrgr_r2,lasrgr_r2,enrgr_r2,lslrrgr_r2,plrgr_r2,dt_r2,rf_r2,adb_r2,gdb_r2,knn_r2,sgd_r2,svr_r2,nusvr_r2,linsvr_r2]"
   ]
  },
  {
   "cell_type": "markdown",
   "metadata": {},
   "source": [
    "## Final Report"
   ]
  },
  {
   "cell_type": "code",
   "execution_count": 31,
   "metadata": {},
   "outputs": [
    {
     "data": {
      "text/html": [
       "<div>\n",
       "<style scoped>\n",
       "    .dataframe tbody tr th:only-of-type {\n",
       "        vertical-align: middle;\n",
       "    }\n",
       "\n",
       "    .dataframe tbody tr th {\n",
       "        vertical-align: top;\n",
       "    }\n",
       "\n",
       "    .dataframe thead th {\n",
       "        text-align: right;\n",
       "    }\n",
       "</style>\n",
       "<table border=\"1\" class=\"dataframe\">\n",
       "  <thead>\n",
       "    <tr style=\"text-align: right;\">\n",
       "      <th></th>\n",
       "      <th>Algorithm</th>\n",
       "      <th>R2-Sore</th>\n",
       "      <th>Root Mean Squared Error</th>\n",
       "    </tr>\n",
       "  </thead>\n",
       "  <tbody>\n",
       "    <tr>\n",
       "      <th>1</th>\n",
       "      <td>Linear Regression</td>\n",
       "      <td>0.759749</td>\n",
       "      <td>0.997183</td>\n",
       "    </tr>\n",
       "    <tr>\n",
       "      <th>2</th>\n",
       "      <td>Ridge Regression</td>\n",
       "      <td>0.759384</td>\n",
       "      <td>0.997940</td>\n",
       "    </tr>\n",
       "    <tr>\n",
       "      <th>3</th>\n",
       "      <td>Lasso Regression</td>\n",
       "      <td>0.629825</td>\n",
       "      <td>1.237785</td>\n",
       "    </tr>\n",
       "    <tr>\n",
       "      <th>4</th>\n",
       "      <td>ElasticNet Regression</td>\n",
       "      <td>0.747428</td>\n",
       "      <td>1.022433</td>\n",
       "    </tr>\n",
       "    <tr>\n",
       "      <th>5</th>\n",
       "      <td>LarsLasso Regression</td>\n",
       "      <td>0.761709</td>\n",
       "      <td>0.993105</td>\n",
       "    </tr>\n",
       "    <tr>\n",
       "      <th>6</th>\n",
       "      <td>Polynomial Regression</td>\n",
       "      <td>0.759749</td>\n",
       "      <td>0.997183</td>\n",
       "    </tr>\n",
       "    <tr>\n",
       "      <th>7</th>\n",
       "      <td>Decision Tree Regression</td>\n",
       "      <td>0.637584</td>\n",
       "      <td>1.224745</td>\n",
       "    </tr>\n",
       "    <tr>\n",
       "      <th>8</th>\n",
       "      <td>Random Forest Regression</td>\n",
       "      <td>0.516779</td>\n",
       "      <td>1.185482</td>\n",
       "    </tr>\n",
       "    <tr>\n",
       "      <th>9</th>\n",
       "      <td>AdaBoost Regression</td>\n",
       "      <td>0.692349</td>\n",
       "      <td>1.128421</td>\n",
       "    </tr>\n",
       "    <tr>\n",
       "      <th>10</th>\n",
       "      <td>Gradient Boosting Regression</td>\n",
       "      <td>0.544309</td>\n",
       "      <td>1.373338</td>\n",
       "    </tr>\n",
       "    <tr>\n",
       "      <th>11</th>\n",
       "      <td>KNearest Neighbor Regression</td>\n",
       "      <td>0.657718</td>\n",
       "      <td>1.190238</td>\n",
       "    </tr>\n",
       "    <tr>\n",
       "      <th>12</th>\n",
       "      <td>Stochastic Gradient Regression</td>\n",
       "      <td>0.658926</td>\n",
       "      <td>1.188136</td>\n",
       "    </tr>\n",
       "    <tr>\n",
       "      <th>13</th>\n",
       "      <td>Support Vector Regression</td>\n",
       "      <td>0.773360</td>\n",
       "      <td>0.968524</td>\n",
       "    </tr>\n",
       "    <tr>\n",
       "      <th>14</th>\n",
       "      <td>Nu Support Vector Regression</td>\n",
       "      <td>0.679385</td>\n",
       "      <td>1.151951</td>\n",
       "    </tr>\n",
       "    <tr>\n",
       "      <th>15</th>\n",
       "      <td>Linear Support Vector Regression</td>\n",
       "      <td>0.713705</td>\n",
       "      <td>1.088551</td>\n",
       "    </tr>\n",
       "  </tbody>\n",
       "</table>\n",
       "</div>"
      ],
      "text/plain": [
       "                           Algorithm   R2-Sore  Root Mean Squared Error\n",
       "1                  Linear Regression  0.759749                 0.997183\n",
       "2                   Ridge Regression  0.759384                 0.997940\n",
       "3                   Lasso Regression  0.629825                 1.237785\n",
       "4              ElasticNet Regression  0.747428                 1.022433\n",
       "5               LarsLasso Regression  0.761709                 0.993105\n",
       "6              Polynomial Regression  0.759749                 0.997183\n",
       "7           Decision Tree Regression  0.637584                 1.224745\n",
       "8           Random Forest Regression  0.516779                 1.185482\n",
       "9                AdaBoost Regression  0.692349                 1.128421\n",
       "10      Gradient Boosting Regression  0.544309                 1.373338\n",
       "11      KNearest Neighbor Regression  0.657718                 1.190238\n",
       "12    Stochastic Gradient Regression  0.658926                 1.188136\n",
       "13         Support Vector Regression  0.773360                 0.968524\n",
       "14      Nu Support Vector Regression  0.679385                 1.151951\n",
       "15  Linear Support Vector Regression  0.713705                 1.088551"
      ]
     },
     "execution_count": 31,
     "metadata": {},
     "output_type": "execute_result"
    }
   ],
   "source": [
    "data = {'Algorithm':['Linear Regression', 'Ridge Regression', 'Lasso Regression', 'ElasticNet Regression', 'LarsLasso Regression', 'Polynomial Regression','Decision Tree Regression','Random Forest Regression','AdaBoost Regression','Gradient Boosting Regression','KNearest Neighbor Regression','Stochastic Gradient Regression','Support Vector Regression','Nu Support Vector Regression','Linear Support Vector Regression'], \n",
    "        'R2-Sore':max_r2, 'Root Mean Squared Error':min_rmse}\n",
    "s = pd.DataFrame(data, index = [1,2,3,4,5,6,7,8,9,10,11,12,13,14,15])\n",
    "s"
   ]
  },
  {
   "cell_type": "code",
   "execution_count": 33,
   "metadata": {},
   "outputs": [
    {
     "name": "stdout",
     "output_type": "stream",
     "text": [
      "The best R-squared score is shown by Linear Regression\n",
      "\n",
      "R2 Score =  0.7597485891323608\n"
     ]
    }
   ],
   "source": [
    "print(\"The best R-squared score is shown by Linear Regression\")\n",
    "print(\"\\nR2 Score = \",linrgr_r2)"
   ]
  },
  {
   "cell_type": "markdown",
   "metadata": {},
   "source": [
    "# Creating a test set for the next 30 years and predicting Manchester United's League Standing using the best algorithm."
   ]
  },
  {
   "cell_type": "code",
   "execution_count": 32,
   "metadata": {},
   "outputs": [
    {
     "data": {
      "text/html": [
       "<div>\n",
       "<style scoped>\n",
       "    .dataframe tbody tr th:only-of-type {\n",
       "        vertical-align: middle;\n",
       "    }\n",
       "\n",
       "    .dataframe tbody tr th {\n",
       "        vertical-align: top;\n",
       "    }\n",
       "\n",
       "    .dataframe thead th {\n",
       "        text-align: right;\n",
       "    }\n",
       "</style>\n",
       "<table border=\"1\" class=\"dataframe\">\n",
       "  <thead>\n",
       "    <tr style=\"text-align: right;\">\n",
       "      <th></th>\n",
       "      <th>Season</th>\n",
       "      <th>Division</th>\n",
       "      <th>P</th>\n",
       "      <th>W</th>\n",
       "      <th>D</th>\n",
       "      <th>L</th>\n",
       "      <th>F</th>\n",
       "      <th>A</th>\n",
       "      <th>Pts</th>\n",
       "      <th>Pos</th>\n",
       "    </tr>\n",
       "  </thead>\n",
       "  <tbody>\n",
       "    <tr>\n",
       "      <th>0</th>\n",
       "      <td>1992</td>\n",
       "      <td>Prem</td>\n",
       "      <td>42</td>\n",
       "      <td>24</td>\n",
       "      <td>12</td>\n",
       "      <td>6</td>\n",
       "      <td>67</td>\n",
       "      <td>31</td>\n",
       "      <td>84</td>\n",
       "      <td>1</td>\n",
       "    </tr>\n",
       "    <tr>\n",
       "      <th>1</th>\n",
       "      <td>1993</td>\n",
       "      <td>Prem</td>\n",
       "      <td>42</td>\n",
       "      <td>27</td>\n",
       "      <td>11</td>\n",
       "      <td>4</td>\n",
       "      <td>80</td>\n",
       "      <td>38</td>\n",
       "      <td>92</td>\n",
       "      <td>1</td>\n",
       "    </tr>\n",
       "    <tr>\n",
       "      <th>2</th>\n",
       "      <td>1994</td>\n",
       "      <td>Prem</td>\n",
       "      <td>42</td>\n",
       "      <td>26</td>\n",
       "      <td>10</td>\n",
       "      <td>6</td>\n",
       "      <td>77</td>\n",
       "      <td>28</td>\n",
       "      <td>88</td>\n",
       "      <td>2</td>\n",
       "    </tr>\n",
       "    <tr>\n",
       "      <th>3</th>\n",
       "      <td>1995</td>\n",
       "      <td>Prem</td>\n",
       "      <td>38</td>\n",
       "      <td>25</td>\n",
       "      <td>7</td>\n",
       "      <td>6</td>\n",
       "      <td>73</td>\n",
       "      <td>35</td>\n",
       "      <td>82</td>\n",
       "      <td>1</td>\n",
       "    </tr>\n",
       "    <tr>\n",
       "      <th>4</th>\n",
       "      <td>1996</td>\n",
       "      <td>Prem</td>\n",
       "      <td>38</td>\n",
       "      <td>21</td>\n",
       "      <td>12</td>\n",
       "      <td>5</td>\n",
       "      <td>76</td>\n",
       "      <td>44</td>\n",
       "      <td>75</td>\n",
       "      <td>1</td>\n",
       "    </tr>\n",
       "  </tbody>\n",
       "</table>\n",
       "</div>"
      ],
      "text/plain": [
       "   Season Division   P   W   D  L   F   A  Pts  Pos\n",
       "0    1992     Prem  42  24  12  6  67  31   84    1\n",
       "1    1993     Prem  42  27  11  4  80  38   92    1\n",
       "2    1994     Prem  42  26  10  6  77  28   88    2\n",
       "3    1995     Prem  38  25   7  6  73  35   82    1\n",
       "4    1996     Prem  38  21  12  5  76  44   75    1"
      ]
     },
     "execution_count": 32,
     "metadata": {},
     "output_type": "execute_result"
    }
   ],
   "source": [
    "fd = pd.read_csv(r'E:\\Datasets\\Manchester_United_prediction\\PL data\\Man_Utd.csv', encoding = 'unicode_escape')   \n",
    "fd.head(5)"
   ]
  },
  {
   "cell_type": "code",
   "execution_count": 33,
   "metadata": {},
   "outputs": [],
   "source": [
    "fd = fd.drop(['Division'], axis = 1)"
   ]
  },
  {
   "cell_type": "code",
   "execution_count": 34,
   "metadata": {},
   "outputs": [
    {
     "name": "stdout",
     "output_type": "stream",
     "text": [
      "mean of W =  24\n",
      "std of W =  3\n",
      "The random value which we require is between  21  and  27\n"
     ]
    }
   ],
   "source": [
    "print(\"mean of W = \",round(fd.W.mean()))\n",
    "print(\"std of W = \",round(fd.W.std()))\n",
    "min1 = round(fd.W.mean())-round(fd.W.std())\n",
    "max1 = round(fd.W.mean())+round(fd.W.std())\n",
    "print(\"The random value which we require is between \",min1,\" and \",max1)"
   ]
  },
  {
   "cell_type": "code",
   "execution_count": 35,
   "metadata": {},
   "outputs": [],
   "source": [
    "w = np.zeros(30)\n",
    "for i in range(0,30):\n",
    "    w[i] = random.randint(21,27)"
   ]
  },
  {
   "cell_type": "code",
   "execution_count": 36,
   "metadata": {},
   "outputs": [
    {
     "name": "stdout",
     "output_type": "stream",
     "text": [
      "mean of D =  8\n",
      "std of D =  3\n",
      "The random value which we require is between  5  and  11\n"
     ]
    }
   ],
   "source": [
    "print(\"mean of D = \",round(fd.D.mean()))\n",
    "print(\"std of D = \",round(fd.D.std()))\n",
    "min2 = round(fd.D.mean())-round(fd.D.std())\n",
    "max2 = round(fd.D.mean())+round(fd.D.std())\n",
    "print(\"The random value which we require is between \",min2,\" and \",max2)"
   ]
  },
  {
   "cell_type": "code",
   "execution_count": 37,
   "metadata": {},
   "outputs": [],
   "source": [
    "d = np.zeros(30)\n",
    "for i in range(0,30):\n",
    "    d[i] = random.randint(5,11)"
   ]
  },
  {
   "cell_type": "code",
   "execution_count": 38,
   "metadata": {},
   "outputs": [],
   "source": [
    "l = np.zeros(30)\n",
    "for i in range(0,30):\n",
    "    l[i] = (38 - (w[i]+d[i]))"
   ]
  },
  {
   "cell_type": "code",
   "execution_count": 39,
   "metadata": {},
   "outputs": [
    {
     "name": "stdout",
     "output_type": "stream",
     "text": [
      "mean of F =  74\n",
      "std of F =  11\n",
      "The random value which we require is between  63  and  85\n"
     ]
    }
   ],
   "source": [
    "print(\"mean of F = \",round(fd.F.mean()))\n",
    "print(\"std of F = \",round(fd.F.std()))\n",
    "min4 = round(fd.F.mean())-round(fd.F.std())\n",
    "max4 = round(fd.F.mean())+round(fd.F.std())\n",
    "print(\"The random value which we require is between \",min4,\" and \",max4)"
   ]
  },
  {
   "cell_type": "code",
   "execution_count": 40,
   "metadata": {},
   "outputs": [],
   "source": [
    "f = np.zeros(30)\n",
    "for i in range(0,30):\n",
    "    f[i] = random.randint(63,85)"
   ]
  },
  {
   "cell_type": "code",
   "execution_count": 41,
   "metadata": {},
   "outputs": [
    {
     "name": "stdout",
     "output_type": "stream",
     "text": [
      "mean of A =  34\n",
      "std of A =  8\n",
      "The random value which we require is between  26  and  42\n"
     ]
    }
   ],
   "source": [
    "print(\"mean of A = \",round(fd.A.mean()))\n",
    "print(\"std of A = \",round(fd.A.std()))\n",
    "min5 = round(fd.A.mean())-round(fd.A.std())\n",
    "max5 = round(fd.A.mean())+round(fd.A.std())\n",
    "print(\"The random value which we require is between \",min5,\" and \",max5)"
   ]
  },
  {
   "cell_type": "code",
   "execution_count": 42,
   "metadata": {},
   "outputs": [],
   "source": [
    "a = np.zeros(30)\n",
    "for i in range(0,30):\n",
    "    a[i] = random.randint(26,42)"
   ]
  },
  {
   "cell_type": "code",
   "execution_count": 43,
   "metadata": {},
   "outputs": [],
   "source": [
    "p = np.zeros(30)\n",
    "for i in range(0,30):\n",
    "    p[i] = (3*w[i]+d[i])"
   ]
  },
  {
   "cell_type": "code",
   "execution_count": 44,
   "metadata": {},
   "outputs": [],
   "source": [
    "n = 0\n",
    "test_set = np.zeros((30,8))\n",
    "s = 38\n",
    "for i in range(2019,2049):\n",
    "    test_set[n] = [i, s, w[n], d[n], l[n], f[n], a[n], p[n]]\n",
    "    n += 1"
   ]
  },
  {
   "cell_type": "code",
   "execution_count": 45,
   "metadata": {},
   "outputs": [
    {
     "data": {
      "text/plain": [
       "array([[2019.,   38.,   24.,    6.,    8.,   70.,   27.,   78.],\n",
       "       [2020.,   38.,   22.,    5.,   11.,   71.,   34.,   71.],\n",
       "       [2021.,   38.,   21.,    9.,    8.,   68.,   27.,   72.],\n",
       "       [2022.,   38.,   22.,    9.,    7.,   67.,   30.,   75.],\n",
       "       [2023.,   38.,   26.,    6.,    6.,   81.,   37.,   84.]])"
      ]
     },
     "execution_count": 45,
     "metadata": {},
     "output_type": "execute_result"
    }
   ],
   "source": [
    "test_set[0:5]"
   ]
  },
  {
   "cell_type": "markdown",
   "metadata": {},
   "source": [
    "### 1.Linear Regression"
   ]
  },
  {
   "cell_type": "code",
   "execution_count": 46,
   "metadata": {},
   "outputs": [
    {
     "data": {
      "text/plain": [
       "array([[3.98300657],\n",
       "       [5.50802077],\n",
       "       [4.99358512],\n",
       "       [4.53774963],\n",
       "       [3.34742227]])"
      ]
     },
     "execution_count": 46,
     "metadata": {},
     "output_type": "execute_result"
    }
   ],
   "source": [
    "from sklearn.linear_model import LinearRegression\n",
    "lin_df = LinearRegression()  \n",
    "lin_df.fit(X1, y1)\n",
    "lr_pred = lin_df.predict(test_set)   \n",
    "lr_pred[0:5]"
   ]
  },
  {
   "cell_type": "code",
   "execution_count": 47,
   "metadata": {},
   "outputs": [
    {
     "data": {
      "text/plain": [
       "array([[3.],\n",
       "       [5.],\n",
       "       [4.],\n",
       "       [4.],\n",
       "       [3.]])"
      ]
     },
     "execution_count": 47,
     "metadata": {},
     "output_type": "execute_result"
    }
   ],
   "source": [
    "plpred = np.floor(lr_pred)\n",
    "plpred[0:5]"
   ]
  }
 ],
 "metadata": {
  "kernelspec": {
   "display_name": "Python 3",
   "language": "python",
   "name": "python3"
  },
  "language_info": {
   "codemirror_mode": {
    "name": "ipython",
    "version": 3
   },
   "file_extension": ".py",
   "mimetype": "text/x-python",
   "name": "python",
   "nbconvert_exporter": "python",
   "pygments_lexer": "ipython3",
   "version": "3.7.6"
  }
 },
 "nbformat": 4,
 "nbformat_minor": 4
}
