{
 "cells": [
  {
   "cell_type": "markdown",
   "metadata": {},
   "source": [
    "# About the Dataset"
   ]
  },
  {
   "cell_type": "markdown",
   "metadata": {},
   "source": [
    "The dataset have been taken from https://en.wikipedia.org/wiki/List_of_Manchester_United_F.C._seasons. It has 10 columns in total. Season, Division, P = Total Matches played, W = No. of matches won, D = No. of matches drawn, L = No. of matches lost, F = No. of goals scored for Manchester United, A = No. of goals conceded by Manchester United, Pts = Total points earned, Pos = The final position earned by Manchester United."
   ]
  },
  {
   "cell_type": "markdown",
   "metadata": {},
   "source": [
    "I have tried to predict the season in the next 30 years when Manchester United is going to lift the Premier League trophy. I have used several algorithms for training and testing and have chosen the best algorithm for predicting. The dataset comprises of each of the relevant data related to Manchester United since English Football started to be played in divisions. "
   ]
  },
  {
   "cell_type": "code",
   "execution_count": 1,
   "metadata": {},
   "outputs": [],
   "source": [
    "import itertools\n",
    "import numpy as np\n",
    "import matplotlib.pyplot as plt\n",
    "from matplotlib.ticker import NullFormatter\n",
    "import pandas as pd\n",
    "import numpy as np\n",
    "import seaborn as sns\n",
    "import matplotlib.ticker as ticker\n",
    "from sklearn import preprocessing\n",
    "import operator\n",
    "import random\n",
    "from sklearn.metrics import mean_squared_error,r2_score\n",
    "from sklearn.model_selection import train_test_split\n",
    "import warnings\n",
    "warnings.filterwarnings('ignore')\n",
    "#warnings.filterwarnings(action='once')\n",
    "%matplotlib inline"
   ]
  },
  {
   "cell_type": "code",
   "execution_count": 2,
   "metadata": {},
   "outputs": [
    {
     "data": {
      "text/html": [
       "<div>\n",
       "<style scoped>\n",
       "    .dataframe tbody tr th:only-of-type {\n",
       "        vertical-align: middle;\n",
       "    }\n",
       "\n",
       "    .dataframe tbody tr th {\n",
       "        vertical-align: top;\n",
       "    }\n",
       "\n",
       "    .dataframe thead th {\n",
       "        text-align: right;\n",
       "    }\n",
       "</style>\n",
       "<table border=\"1\" class=\"dataframe\">\n",
       "  <thead>\n",
       "    <tr style=\"text-align: right;\">\n",
       "      <th></th>\n",
       "      <th>Season</th>\n",
       "      <th>Division</th>\n",
       "      <th>P</th>\n",
       "      <th>W</th>\n",
       "      <th>D</th>\n",
       "      <th>L</th>\n",
       "      <th>F</th>\n",
       "      <th>A</th>\n",
       "      <th>Pts</th>\n",
       "      <th>Pos</th>\n",
       "    </tr>\n",
       "  </thead>\n",
       "  <tbody>\n",
       "    <tr>\n",
       "      <th>0</th>\n",
       "      <td>1892</td>\n",
       "      <td>Div 1</td>\n",
       "      <td>30.0</td>\n",
       "      <td>6.0</td>\n",
       "      <td>6.0</td>\n",
       "      <td>18.0</td>\n",
       "      <td>50.0</td>\n",
       "      <td>85.0</td>\n",
       "      <td>18.0</td>\n",
       "      <td>16.0</td>\n",
       "    </tr>\n",
       "    <tr>\n",
       "      <th>1</th>\n",
       "      <td>1893</td>\n",
       "      <td>Div 1</td>\n",
       "      <td>30.0</td>\n",
       "      <td>6.0</td>\n",
       "      <td>2.0</td>\n",
       "      <td>22.0</td>\n",
       "      <td>36.0</td>\n",
       "      <td>72.0</td>\n",
       "      <td>14.0</td>\n",
       "      <td>16.0</td>\n",
       "    </tr>\n",
       "    <tr>\n",
       "      <th>2</th>\n",
       "      <td>1894</td>\n",
       "      <td>Div 2</td>\n",
       "      <td>30.0</td>\n",
       "      <td>15.0</td>\n",
       "      <td>8.0</td>\n",
       "      <td>7.0</td>\n",
       "      <td>78.0</td>\n",
       "      <td>44.0</td>\n",
       "      <td>38.0</td>\n",
       "      <td>3.0</td>\n",
       "    </tr>\n",
       "    <tr>\n",
       "      <th>3</th>\n",
       "      <td>1895</td>\n",
       "      <td>Div 2</td>\n",
       "      <td>30.0</td>\n",
       "      <td>15.0</td>\n",
       "      <td>3.0</td>\n",
       "      <td>12.0</td>\n",
       "      <td>66.0</td>\n",
       "      <td>57.0</td>\n",
       "      <td>33.0</td>\n",
       "      <td>6.0</td>\n",
       "    </tr>\n",
       "    <tr>\n",
       "      <th>4</th>\n",
       "      <td>1896</td>\n",
       "      <td>Div 2</td>\n",
       "      <td>30.0</td>\n",
       "      <td>17.0</td>\n",
       "      <td>5.0</td>\n",
       "      <td>8.0</td>\n",
       "      <td>56.0</td>\n",
       "      <td>34.0</td>\n",
       "      <td>39.0</td>\n",
       "      <td>2.0</td>\n",
       "    </tr>\n",
       "    <tr>\n",
       "      <th>...</th>\n",
       "      <td>...</td>\n",
       "      <td>...</td>\n",
       "      <td>...</td>\n",
       "      <td>...</td>\n",
       "      <td>...</td>\n",
       "      <td>...</td>\n",
       "      <td>...</td>\n",
       "      <td>...</td>\n",
       "      <td>...</td>\n",
       "      <td>...</td>\n",
       "    </tr>\n",
       "    <tr>\n",
       "      <th>95</th>\n",
       "      <td>1987</td>\n",
       "      <td>Div 1</td>\n",
       "      <td>40.0</td>\n",
       "      <td>23.0</td>\n",
       "      <td>12.0</td>\n",
       "      <td>5.0</td>\n",
       "      <td>71.0</td>\n",
       "      <td>38.0</td>\n",
       "      <td>81.0</td>\n",
       "      <td>2.0</td>\n",
       "    </tr>\n",
       "    <tr>\n",
       "      <th>96</th>\n",
       "      <td>1988</td>\n",
       "      <td>Div 1</td>\n",
       "      <td>38.0</td>\n",
       "      <td>13.0</td>\n",
       "      <td>12.0</td>\n",
       "      <td>13.0</td>\n",
       "      <td>45.0</td>\n",
       "      <td>35.0</td>\n",
       "      <td>51.0</td>\n",
       "      <td>11.0</td>\n",
       "    </tr>\n",
       "    <tr>\n",
       "      <th>97</th>\n",
       "      <td>1989</td>\n",
       "      <td>Div 1</td>\n",
       "      <td>38.0</td>\n",
       "      <td>13.0</td>\n",
       "      <td>9.0</td>\n",
       "      <td>16.0</td>\n",
       "      <td>46.0</td>\n",
       "      <td>47.0</td>\n",
       "      <td>48.0</td>\n",
       "      <td>13.0</td>\n",
       "    </tr>\n",
       "    <tr>\n",
       "      <th>98</th>\n",
       "      <td>1990</td>\n",
       "      <td>Div 1</td>\n",
       "      <td>38.0</td>\n",
       "      <td>16.0</td>\n",
       "      <td>12.0</td>\n",
       "      <td>10.0</td>\n",
       "      <td>58.0</td>\n",
       "      <td>45.0</td>\n",
       "      <td>59.0</td>\n",
       "      <td>6.0</td>\n",
       "    </tr>\n",
       "    <tr>\n",
       "      <th>99</th>\n",
       "      <td>1991</td>\n",
       "      <td>Div 1</td>\n",
       "      <td>42.0</td>\n",
       "      <td>21.0</td>\n",
       "      <td>15.0</td>\n",
       "      <td>6.0</td>\n",
       "      <td>63.0</td>\n",
       "      <td>33.0</td>\n",
       "      <td>78.0</td>\n",
       "      <td>2.0</td>\n",
       "    </tr>\n",
       "  </tbody>\n",
       "</table>\n",
       "<p>100 rows × 10 columns</p>\n",
       "</div>"
      ],
      "text/plain": [
       "    Season Division     P     W     D     L     F     A   Pts   Pos\n",
       "0     1892    Div 1  30.0   6.0   6.0  18.0  50.0  85.0  18.0  16.0\n",
       "1     1893    Div 1  30.0   6.0   2.0  22.0  36.0  72.0  14.0  16.0\n",
       "2     1894    Div 2  30.0  15.0   8.0   7.0  78.0  44.0  38.0   3.0\n",
       "3     1895    Div 2  30.0  15.0   3.0  12.0  66.0  57.0  33.0   6.0\n",
       "4     1896    Div 2  30.0  17.0   5.0   8.0  56.0  34.0  39.0   2.0\n",
       "..     ...      ...   ...   ...   ...   ...   ...   ...   ...   ...\n",
       "95    1987    Div 1  40.0  23.0  12.0   5.0  71.0  38.0  81.0   2.0\n",
       "96    1988    Div 1  38.0  13.0  12.0  13.0  45.0  35.0  51.0  11.0\n",
       "97    1989    Div 1  38.0  13.0   9.0  16.0  46.0  47.0  48.0  13.0\n",
       "98    1990    Div 1  38.0  16.0  12.0  10.0  58.0  45.0  59.0   6.0\n",
       "99    1991    Div 1  42.0  21.0  15.0   6.0  63.0  33.0  78.0   2.0\n",
       "\n",
       "[100 rows x 10 columns]"
      ]
     },
     "execution_count": 2,
     "metadata": {},
     "output_type": "execute_result"
    }
   ],
   "source": [
    "df = pd.read_csv(r'E:\\Datasets\\Manchester_United_prediction\\All Season data\\ManUtd.csv', encoding = 'unicode_escape')   \n",
    "df.head(100)"
   ]
  },
  {
   "cell_type": "code",
   "execution_count": 3,
   "metadata": {},
   "outputs": [
    {
     "data": {
      "text/plain": [
       "Season       0\n",
       "Division     0\n",
       "P           10\n",
       "W           10\n",
       "D           10\n",
       "L           10\n",
       "F           10\n",
       "A           10\n",
       "Pts         10\n",
       "Pos         10\n",
       "dtype: int64"
      ]
     },
     "execution_count": 3,
     "metadata": {},
     "output_type": "execute_result"
    }
   ],
   "source": [
    "df.isnull().sum()"
   ]
  },
  {
   "cell_type": "code",
   "execution_count": 4,
   "metadata": {},
   "outputs": [
    {
     "data": {
      "text/html": [
       "<div>\n",
       "<style scoped>\n",
       "    .dataframe tbody tr th:only-of-type {\n",
       "        vertical-align: middle;\n",
       "    }\n",
       "\n",
       "    .dataframe tbody tr th {\n",
       "        vertical-align: top;\n",
       "    }\n",
       "\n",
       "    .dataframe thead th {\n",
       "        text-align: right;\n",
       "    }\n",
       "</style>\n",
       "<table border=\"1\" class=\"dataframe\">\n",
       "  <thead>\n",
       "    <tr style=\"text-align: right;\">\n",
       "      <th></th>\n",
       "      <th>Season</th>\n",
       "      <th>P</th>\n",
       "      <th>W</th>\n",
       "      <th>D</th>\n",
       "      <th>L</th>\n",
       "      <th>F</th>\n",
       "      <th>A</th>\n",
       "      <th>Pts</th>\n",
       "      <th>Pos</th>\n",
       "    </tr>\n",
       "  </thead>\n",
       "  <tbody>\n",
       "    <tr>\n",
       "      <th>0</th>\n",
       "      <td>1892</td>\n",
       "      <td>30.0</td>\n",
       "      <td>6.0</td>\n",
       "      <td>6.0</td>\n",
       "      <td>18.0</td>\n",
       "      <td>50.0</td>\n",
       "      <td>85.0</td>\n",
       "      <td>18.0</td>\n",
       "      <td>16.0</td>\n",
       "    </tr>\n",
       "    <tr>\n",
       "      <th>1</th>\n",
       "      <td>1893</td>\n",
       "      <td>30.0</td>\n",
       "      <td>6.0</td>\n",
       "      <td>2.0</td>\n",
       "      <td>22.0</td>\n",
       "      <td>36.0</td>\n",
       "      <td>72.0</td>\n",
       "      <td>14.0</td>\n",
       "      <td>16.0</td>\n",
       "    </tr>\n",
       "    <tr>\n",
       "      <th>2</th>\n",
       "      <td>1894</td>\n",
       "      <td>30.0</td>\n",
       "      <td>15.0</td>\n",
       "      <td>8.0</td>\n",
       "      <td>7.0</td>\n",
       "      <td>78.0</td>\n",
       "      <td>44.0</td>\n",
       "      <td>38.0</td>\n",
       "      <td>3.0</td>\n",
       "    </tr>\n",
       "    <tr>\n",
       "      <th>3</th>\n",
       "      <td>1895</td>\n",
       "      <td>30.0</td>\n",
       "      <td>15.0</td>\n",
       "      <td>3.0</td>\n",
       "      <td>12.0</td>\n",
       "      <td>66.0</td>\n",
       "      <td>57.0</td>\n",
       "      <td>33.0</td>\n",
       "      <td>6.0</td>\n",
       "    </tr>\n",
       "    <tr>\n",
       "      <th>4</th>\n",
       "      <td>1896</td>\n",
       "      <td>30.0</td>\n",
       "      <td>17.0</td>\n",
       "      <td>5.0</td>\n",
       "      <td>8.0</td>\n",
       "      <td>56.0</td>\n",
       "      <td>34.0</td>\n",
       "      <td>39.0</td>\n",
       "      <td>2.0</td>\n",
       "    </tr>\n",
       "  </tbody>\n",
       "</table>\n",
       "</div>"
      ],
      "text/plain": [
       "   Season     P     W    D     L     F     A   Pts   Pos\n",
       "0    1892  30.0   6.0  6.0  18.0  50.0  85.0  18.0  16.0\n",
       "1    1893  30.0   6.0  2.0  22.0  36.0  72.0  14.0  16.0\n",
       "2    1894  30.0  15.0  8.0   7.0  78.0  44.0  38.0   3.0\n",
       "3    1895  30.0  15.0  3.0  12.0  66.0  57.0  33.0   6.0\n",
       "4    1896  30.0  17.0  5.0   8.0  56.0  34.0  39.0   2.0"
      ]
     },
     "execution_count": 4,
     "metadata": {},
     "output_type": "execute_result"
    }
   ],
   "source": [
    "df = df.drop(['Division'], axis = 1)\n",
    "df.head()"
   ]
  },
  {
   "cell_type": "code",
   "execution_count": 5,
   "metadata": {},
   "outputs": [
    {
     "data": {
      "text/html": [
       "<div>\n",
       "<style scoped>\n",
       "    .dataframe tbody tr th:only-of-type {\n",
       "        vertical-align: middle;\n",
       "    }\n",
       "\n",
       "    .dataframe tbody tr th {\n",
       "        vertical-align: top;\n",
       "    }\n",
       "\n",
       "    .dataframe thead th {\n",
       "        text-align: right;\n",
       "    }\n",
       "</style>\n",
       "<table border=\"1\" class=\"dataframe\">\n",
       "  <thead>\n",
       "    <tr style=\"text-align: right;\">\n",
       "      <th></th>\n",
       "      <th>Season</th>\n",
       "      <th>P</th>\n",
       "      <th>W</th>\n",
       "      <th>D</th>\n",
       "      <th>L</th>\n",
       "      <th>F</th>\n",
       "      <th>A</th>\n",
       "      <th>Pts</th>\n",
       "      <th>Pos</th>\n",
       "    </tr>\n",
       "  </thead>\n",
       "  <tbody>\n",
       "    <tr>\n",
       "      <th>0</th>\n",
       "      <td>False</td>\n",
       "      <td>False</td>\n",
       "      <td>False</td>\n",
       "      <td>False</td>\n",
       "      <td>False</td>\n",
       "      <td>False</td>\n",
       "      <td>False</td>\n",
       "      <td>False</td>\n",
       "      <td>False</td>\n",
       "    </tr>\n",
       "    <tr>\n",
       "      <th>1</th>\n",
       "      <td>False</td>\n",
       "      <td>False</td>\n",
       "      <td>False</td>\n",
       "      <td>False</td>\n",
       "      <td>False</td>\n",
       "      <td>False</td>\n",
       "      <td>False</td>\n",
       "      <td>False</td>\n",
       "      <td>False</td>\n",
       "    </tr>\n",
       "    <tr>\n",
       "      <th>2</th>\n",
       "      <td>False</td>\n",
       "      <td>False</td>\n",
       "      <td>False</td>\n",
       "      <td>False</td>\n",
       "      <td>False</td>\n",
       "      <td>False</td>\n",
       "      <td>False</td>\n",
       "      <td>False</td>\n",
       "      <td>False</td>\n",
       "    </tr>\n",
       "    <tr>\n",
       "      <th>3</th>\n",
       "      <td>False</td>\n",
       "      <td>False</td>\n",
       "      <td>False</td>\n",
       "      <td>False</td>\n",
       "      <td>False</td>\n",
       "      <td>False</td>\n",
       "      <td>False</td>\n",
       "      <td>False</td>\n",
       "      <td>False</td>\n",
       "    </tr>\n",
       "    <tr>\n",
       "      <th>4</th>\n",
       "      <td>False</td>\n",
       "      <td>False</td>\n",
       "      <td>False</td>\n",
       "      <td>False</td>\n",
       "      <td>False</td>\n",
       "      <td>False</td>\n",
       "      <td>False</td>\n",
       "      <td>False</td>\n",
       "      <td>False</td>\n",
       "    </tr>\n",
       "    <tr>\n",
       "      <th>...</th>\n",
       "      <td>...</td>\n",
       "      <td>...</td>\n",
       "      <td>...</td>\n",
       "      <td>...</td>\n",
       "      <td>...</td>\n",
       "      <td>...</td>\n",
       "      <td>...</td>\n",
       "      <td>...</td>\n",
       "      <td>...</td>\n",
       "    </tr>\n",
       "    <tr>\n",
       "      <th>122</th>\n",
       "      <td>False</td>\n",
       "      <td>False</td>\n",
       "      <td>False</td>\n",
       "      <td>False</td>\n",
       "      <td>False</td>\n",
       "      <td>False</td>\n",
       "      <td>False</td>\n",
       "      <td>False</td>\n",
       "      <td>False</td>\n",
       "    </tr>\n",
       "    <tr>\n",
       "      <th>123</th>\n",
       "      <td>False</td>\n",
       "      <td>False</td>\n",
       "      <td>False</td>\n",
       "      <td>False</td>\n",
       "      <td>False</td>\n",
       "      <td>False</td>\n",
       "      <td>False</td>\n",
       "      <td>False</td>\n",
       "      <td>False</td>\n",
       "    </tr>\n",
       "    <tr>\n",
       "      <th>124</th>\n",
       "      <td>False</td>\n",
       "      <td>False</td>\n",
       "      <td>False</td>\n",
       "      <td>False</td>\n",
       "      <td>False</td>\n",
       "      <td>False</td>\n",
       "      <td>False</td>\n",
       "      <td>False</td>\n",
       "      <td>False</td>\n",
       "    </tr>\n",
       "    <tr>\n",
       "      <th>125</th>\n",
       "      <td>False</td>\n",
       "      <td>False</td>\n",
       "      <td>False</td>\n",
       "      <td>False</td>\n",
       "      <td>False</td>\n",
       "      <td>False</td>\n",
       "      <td>False</td>\n",
       "      <td>False</td>\n",
       "      <td>False</td>\n",
       "    </tr>\n",
       "    <tr>\n",
       "      <th>126</th>\n",
       "      <td>False</td>\n",
       "      <td>False</td>\n",
       "      <td>False</td>\n",
       "      <td>False</td>\n",
       "      <td>False</td>\n",
       "      <td>False</td>\n",
       "      <td>False</td>\n",
       "      <td>False</td>\n",
       "      <td>False</td>\n",
       "    </tr>\n",
       "  </tbody>\n",
       "</table>\n",
       "<p>127 rows × 9 columns</p>\n",
       "</div>"
      ],
      "text/plain": [
       "     Season      P      W      D      L      F      A    Pts    Pos\n",
       "0     False  False  False  False  False  False  False  False  False\n",
       "1     False  False  False  False  False  False  False  False  False\n",
       "2     False  False  False  False  False  False  False  False  False\n",
       "3     False  False  False  False  False  False  False  False  False\n",
       "4     False  False  False  False  False  False  False  False  False\n",
       "..      ...    ...    ...    ...    ...    ...    ...    ...    ...\n",
       "122   False  False  False  False  False  False  False  False  False\n",
       "123   False  False  False  False  False  False  False  False  False\n",
       "124   False  False  False  False  False  False  False  False  False\n",
       "125   False  False  False  False  False  False  False  False  False\n",
       "126   False  False  False  False  False  False  False  False  False\n",
       "\n",
       "[127 rows x 9 columns]"
      ]
     },
     "execution_count": 5,
     "metadata": {},
     "output_type": "execute_result"
    }
   ],
   "source": [
    "df.isnull()"
   ]
  },
  {
   "cell_type": "code",
   "execution_count": 6,
   "metadata": {},
   "outputs": [
    {
     "data": {
      "text/plain": [
       "Season     0\n",
       "P         10\n",
       "W         10\n",
       "D         10\n",
       "L         10\n",
       "F         10\n",
       "A         10\n",
       "Pts       10\n",
       "Pos       10\n",
       "dtype: int64"
      ]
     },
     "execution_count": 6,
     "metadata": {},
     "output_type": "execute_result"
    }
   ],
   "source": [
    "df.isnull().sum()"
   ]
  },
  {
   "cell_type": "code",
   "execution_count": 7,
   "metadata": {},
   "outputs": [],
   "source": [
    "df.dropna(subset = [\"P\"], inplace=True)"
   ]
  },
  {
   "cell_type": "code",
   "execution_count": 8,
   "metadata": {},
   "outputs": [
    {
     "data": {
      "text/plain": [
       "Season    0\n",
       "P         0\n",
       "W         0\n",
       "D         0\n",
       "L         0\n",
       "F         0\n",
       "A         0\n",
       "Pts       0\n",
       "Pos       0\n",
       "dtype: int64"
      ]
     },
     "execution_count": 8,
     "metadata": {},
     "output_type": "execute_result"
    }
   ],
   "source": [
    "df.isnull().sum()"
   ]
  },
  {
   "cell_type": "code",
   "execution_count": 9,
   "metadata": {
    "scrolled": false
   },
   "outputs": [
    {
     "data": {
      "text/plain": [
       "<seaborn.axisgrid.FacetGrid at 0x2134e1ca5c8>"
      ]
     },
     "execution_count": 9,
     "metadata": {},
     "output_type": "execute_result"
    },
    {
     "data": {
      "image/png": "[encoded data removed]",
      "text/plain": [
       "<Figure size 1080x360 with 1 Axes>"
      ]
     },
     "metadata": {
      "needs_background": "light"
     },
     "output_type": "display_data"
    }
   ],
   "source": [
    "sns.relplot(x=\"Season\", y=\"Pos\", ci=None, kind=\"line\",dashes = False, markers=True, data=df, height = 5, aspect = 3)"
   ]
  },
  {
   "cell_type": "code",
   "execution_count": 9,
   "metadata": {},
   "outputs": [],
   "source": [
    "X = df[['Season', 'P', 'W', 'D', 'L', 'F', 'A', 'Pts']]\n",
    "y = df[['Pos']]\n",
    "X1 = df[['Season', 'P', 'W', 'D', 'L', 'F', 'A', 'Pts']]\n",
    "y1 = df[['Pos']]"
   ]
  },
  {
   "cell_type": "markdown",
   "metadata": {},
   "source": [
    "# Linear Models"
   ]
  },
  {
   "cell_type": "markdown",
   "metadata": {},
   "source": [
    "### 1.Linear Regression"
   ]
  },
  {
   "cell_type": "code",
   "execution_count": 10,
   "metadata": {},
   "outputs": [
    {
     "data": {
      "text/plain": [
       "array([[ 1.31866962],\n",
       "       [ 4.54014728],\n",
       "       [ 0.69793167],\n",
       "       [12.63937238],\n",
       "       [ 7.58472427]])"
      ]
     },
     "execution_count": 10,
     "metadata": {},
     "output_type": "execute_result"
    }
   ],
   "source": [
    "X_train, X_test, y_train, y_test = train_test_split( X, y, test_size=0.3, random_state=42)\n",
    "\n",
    "from sklearn.linear_model import LinearRegression\n",
    "from sklearn.metrics import accuracy_score\n",
    "lin_df = LinearRegression()  \n",
    "lin_df.fit(X_train, y_train)\n",
    "lr_pred = lin_df.predict(X_test)   \n",
    "lr_pred[0:5]"
   ]
  },
  {
   "cell_type": "code",
   "execution_count": 11,
   "metadata": {},
   "outputs": [
    {
     "name": "stdout",
     "output_type": "stream",
     "text": [
      "RMSE Score for Test set:  2.2626875545095912\n",
      "R2 Score:  0.8443609861077349\n"
     ]
    }
   ],
   "source": [
    "linrgr_rmse = np.sqrt(mean_squared_error(y_test, lr_pred))\n",
    "linrgr_r2 = r2_score(y_test, lr_pred)\n",
    "print(\"RMSE Score for Test set: \",linrgr_rmse)\n",
    "print(\"R2 Score: \",linrgr_r2)"
   ]
  },
  {
   "cell_type": "markdown",
   "metadata": {},
   "source": [
    "### Ridge Regression"
   ]
  },
  {
   "cell_type": "code",
   "execution_count": 12,
   "metadata": {},
   "outputs": [
    {
     "name": "stdout",
     "output_type": "stream",
     "text": [
      "The coefficients after ridge regression is : [[ 0.00617826  0.0481298  -0.45963089 -0.06774742  0.57550811 -0.08554471\n",
      "   0.04408922  0.06564813]]\n",
      "The intercept after ridge regression is : [-4.33539229]\n"
     ]
    },
    {
     "data": {
      "text/plain": [
       "array([[ 1.31854412],\n",
       "       [ 4.5429008 ],\n",
       "       [ 0.71210389],\n",
       "       [12.63663888],\n",
       "       [ 7.58237631]])"
      ]
     },
     "execution_count": 12,
     "metadata": {},
     "output_type": "execute_result"
    }
   ],
   "source": [
    "X_train, X_test, y_train, y_test = train_test_split( X, y, test_size=0.3, random_state=42)\n",
    "\n",
    "from sklearn import linear_model\n",
    "reg = linear_model.Ridge()\n",
    "reg.fit(X_train, y_train)\n",
    "rdg_pred = reg.predict(X_test)\n",
    "print(\"The coefficients after ridge regression is :\", reg.coef_)\n",
    "print(\"The intercept after ridge regression is :\", reg.intercept_)\n",
    "rdg_pred[0:5]"
   ]
  },
  {
   "cell_type": "code",
   "execution_count": 13,
   "metadata": {},
   "outputs": [
    {
     "name": "stdout",
     "output_type": "stream",
     "text": [
      "RMSE Score for Test set:  2.263217799255104\n",
      "R2 Score:  0.844288031767283\n"
     ]
    }
   ],
   "source": [
    "rdgrgr_rmse = np.sqrt(mean_squared_error(y_test, rdg_pred))\n",
    "rdgrgr_r2 = r2_score(y_test, rdg_pred)\n",
    "print(\"RMSE Score for Test set: \",rdgrgr_rmse)\n",
    "print(\"R2 Score: \",rdgrgr_r2)"
   ]
  },
  {
   "cell_type": "markdown",
   "metadata": {
    "scrolled": true
   },
   "source": [
    "### Lasso"
   ]
  },
  {
   "cell_type": "code",
   "execution_count": 14,
   "metadata": {},
   "outputs": [
    {
     "name": "stdout",
     "output_type": "stream",
     "text": [
      "0.7327364144008396\n"
     ]
    }
   ],
   "source": [
    "# Finding the best value of alpha using cross validation\n",
    "from sklearn.linear_model import LassoCV\n",
    "regr = LassoCV()\n",
    "regr.fit(X, y)\n",
    "print(regr.alpha_)"
   ]
  },
  {
   "cell_type": "code",
   "execution_count": 15,
   "metadata": {},
   "outputs": [
    {
     "name": "stdout",
     "output_type": "stream",
     "text": [
      "The coefficients after lasso regression is : [ 0.0148669   0.         -0.14047859  0.          0.47993567 -0.13437002\n",
      "  0.08288278  0.        ]\n",
      "The intercept after lasso regression is : [-20.05588601]\n"
     ]
    },
    {
     "data": {
      "text/plain": [
       "array([ 1.33456911,  4.87639238,  1.93079164, 12.13821938,  7.42099911])"
      ]
     },
     "execution_count": 15,
     "metadata": {},
     "output_type": "execute_result"
    }
   ],
   "source": [
    "X_train, X_test, y_train, y_test = train_test_split( X, y, test_size=0.3, random_state=42)\n",
    "\n",
    "from sklearn import linear_model\n",
    "clf = linear_model.Lasso(alpha=regr.alpha_)\n",
    "clf.fit(X_train, y_train)\n",
    "las_pred = clf.predict(X_test)\n",
    "print(\"The coefficients after lasso regression is :\", clf.coef_)\n",
    "print(\"The intercept after lasso regression is :\", clf.intercept_)\n",
    "las_pred[0:5]"
   ]
  },
  {
   "cell_type": "code",
   "execution_count": 16,
   "metadata": {},
   "outputs": [
    {
     "name": "stdout",
     "output_type": "stream",
     "text": [
      "RMSE Score for Test set:  2.3609449268776546\n",
      "R2 Score:  0.8305502207664867\n"
     ]
    }
   ],
   "source": [
    "lasrgr_rmse = np.sqrt(mean_squared_error(y_test, las_pred))\n",
    "lasrgr_r2 = r2_score(y_test, las_pred)\n",
    "print(\"RMSE Score for Test set: \",lasrgr_rmse)\n",
    "print(\"R2 Score: \",lasrgr_r2)"
   ]
  },
  {
   "cell_type": "markdown",
   "metadata": {},
   "source": [
    "### ElasticNet"
   ]
  },
  {
   "cell_type": "code",
   "execution_count": 17,
   "metadata": {},
   "outputs": [
    {
     "name": "stdout",
     "output_type": "stream",
     "text": [
      "1.0338621098925476\n"
     ]
    }
   ],
   "source": [
    "# Finding the best value of alpha using cross validation\n",
    "from sklearn.linear_model import ElasticNetCV\n",
    "regr = ElasticNetCV()\n",
    "regr.fit(X, y)\n",
    "print(regr.alpha_)"
   ]
  },
  {
   "cell_type": "code",
   "execution_count": 18,
   "metadata": {},
   "outputs": [
    {
     "name": "stdout",
     "output_type": "stream",
     "text": [
      "The coefficients after elasticnet regression is : [ 0.01531709  0.         -0.15405453  0.          0.46222544 -0.13392893\n",
      "  0.08601409  0.        ]\n",
      "The intercept after elasticnet regression is : [-20.66919727]\n"
     ]
    },
    {
     "data": {
      "text/plain": [
       "array([ 1.36796918,  4.875334  ,  1.93053884, 12.21106485,  7.40786507])"
      ]
     },
     "execution_count": 18,
     "metadata": {},
     "output_type": "execute_result"
    }
   ],
   "source": [
    "X_train, X_test, y_train, y_test = train_test_split( X, y, test_size=0.3, random_state=42)\n",
    "# Actual regression on test set\n",
    "from sklearn.linear_model import ElasticNet\n",
    "reg = ElasticNet(alpha=regr.alpha_)\n",
    "reg.fit(X_train, y_train)\n",
    "en_pred = reg.predict(X_test)\n",
    "print(\"The coefficients after elasticnet regression is :\", reg.coef_)\n",
    "print(\"The intercept after elasticnet regression is :\", reg.intercept_)\n",
    "en_pred[0:5]"
   ]
  },
  {
   "cell_type": "code",
   "execution_count": 19,
   "metadata": {},
   "outputs": [
    {
     "name": "stdout",
     "output_type": "stream",
     "text": [
      "RMSE Score for Test set:  2.357991314109003\n",
      "R2 Score:  0.8309739290559228\n"
     ]
    }
   ],
   "source": [
    "enrgr_rmse = np.sqrt(mean_squared_error(y_test, en_pred))\n",
    "enrgr_r2 = r2_score(y_test, en_pred)\n",
    "print(\"RMSE Score for Test set: \",enrgr_rmse)\n",
    "print(\"R2 Score: \",enrgr_r2)"
   ]
  },
  {
   "cell_type": "markdown",
   "metadata": {},
   "source": [
    "### LassoLars"
   ]
  },
  {
   "cell_type": "code",
   "execution_count": 20,
   "metadata": {},
   "outputs": [
    {
     "name": "stdout",
     "output_type": "stream",
     "text": [
      "0.0010430707940392737\n"
     ]
    }
   ],
   "source": [
    "# Finding the best value of alpha using cross validation\n",
    "from sklearn.linear_model import LassoLarsCV\n",
    "regr = LassoLarsCV()\n",
    "regr.fit(X, y)\n",
    "print(regr.alpha_)"
   ]
  },
  {
   "cell_type": "code",
   "execution_count": 21,
   "metadata": {},
   "outputs": [
    {
     "name": "stdout",
     "output_type": "stream",
     "text": [
      "The coefficients after elasticnet regression is : [ 0.00722146  0.         -0.38899657 -0.01155546  0.62464756 -0.08562444\n",
      "  0.04222376  0.05724959]\n",
      "The intercept after elasticnet regression is : [-6.33049024]\n"
     ]
    },
    {
     "data": {
      "text/plain": [
       "array([ 1.37480967,  4.56124216,  0.80109681, 12.61000856,  7.59035916])"
      ]
     },
     "execution_count": 21,
     "metadata": {},
     "output_type": "execute_result"
    }
   ],
   "source": [
    "from sklearn import linear_model\n",
    "reg = linear_model.LassoLars(alpha=regr.alpha_)\n",
    "reg.fit(X_train, y_train)\n",
    "lslr_pred = reg.predict(X_test)\n",
    "print(\"The coefficients after elasticnet regression is :\", reg.coef_)\n",
    "print(\"The intercept after elasticnet regression is :\", reg.intercept_)\n",
    "lslr_pred[0:5]"
   ]
  },
  {
   "cell_type": "code",
   "execution_count": 22,
   "metadata": {},
   "outputs": [
    {
     "name": "stdout",
     "output_type": "stream",
     "text": [
      "RMSE Score for Test set:  2.264796167564896\n",
      "R2 Score:  0.8440707689510422\n"
     ]
    }
   ],
   "source": [
    "lslrrgr_rmse = np.sqrt(mean_squared_error(y_test, lslr_pred))\n",
    "lslrrgr_r2 = r2_score(y_test, lslr_pred)\n",
    "print(\"RMSE Score for Test set: \",lslrrgr_rmse)\n",
    "print(\"R2 Score: \",lslrrgr_r2)"
   ]
  },
  {
   "cell_type": "markdown",
   "metadata": {},
   "source": [
    "# 3.Polynomial Regression"
   ]
  },
  {
   "cell_type": "code",
   "execution_count": 23,
   "metadata": {},
   "outputs": [
    {
     "name": "stdout",
     "output_type": "stream",
     "text": [
      "\n",
      "The predicted values with degree =  1  is \n",
      " [[ 1.31866962]\n",
      " [ 4.54014728]\n",
      " [ 0.69793167]\n",
      " [12.63937238]\n",
      " [ 7.58472427]]\n",
      "\n",
      "RMSE Score of Test set for degree  1  is:  2.2626875545095912\n",
      "R2 RMSE Score of Test set for degree  1  is:  0.8443609861077349\n",
      "\n",
      "The predicted values with degree =  2  is \n",
      " [[-0.21774459]\n",
      " [ 6.95329833]\n",
      " [ 4.16636276]\n",
      " [13.27926898]\n",
      " [11.07016826]]\n",
      "\n",
      "RMSE Score of Test set for degree  2  is:  3.7300460038762027\n",
      "R2 RMSE Score of Test set for degree  2  is:  0.5770415843596699\n",
      "\n",
      "The predicted values with degree =  3  is \n",
      " [[ -0.40946514]\n",
      " [-30.97354618]\n",
      " [  3.47679273]\n",
      " [  0.73833789]\n",
      " [ 10.34313708]]\n",
      "\n",
      "RMSE Score of Test set for degree  3  is:  12.499335368617173\n",
      "R2 RMSE Score of Test set for degree  3  is:  -3.7494479854495406\n",
      "\n",
      "The predicted values with degree =  4  is \n",
      " [[ 0.4438998 ]\n",
      " [-2.25651657]\n",
      " [ 1.14127662]\n",
      " [ 9.50408105]\n",
      " [ 6.13757663]]\n",
      "\n",
      "RMSE Score of Test set for degree  4  is:  9.561075421989974\n",
      "R2 RMSE Score of Test set for degree  4  is:  -1.7789631154901273\n",
      "\n",
      "The predicted values with degree =  5  is \n",
      " [[ 0.45988991]\n",
      " [-1.96802709]\n",
      " [ 1.01116544]\n",
      " [ 9.52373898]\n",
      " [ 5.95511169]]\n",
      "\n",
      "RMSE Score of Test set for degree  5  is:  9.113738677953144\n",
      "R2 RMSE Score of Test set for degree  5  is:  -1.5250061354443805\n",
      "\n",
      "The predicted values with degree =  6  is \n",
      " [[ 0.47129921]\n",
      " [-1.76144128]\n",
      " [ 0.88408877]\n",
      " [ 9.5433518 ]\n",
      " [ 5.82740166]]\n",
      "\n",
      "RMSE Score of Test set for degree  6  is:  8.69974530016717\n",
      "R2 RMSE Score of Test set for degree  6  is:  -1.30081855181469\n",
      "\n",
      "The predicted values with degree =  7  is \n",
      " [[ 0.48283665]\n",
      " [-1.55686696]\n",
      " [ 0.75412917]\n",
      " [ 9.56601257]\n",
      " [ 5.70973644]]\n",
      "\n",
      "RMSE Score of Test set for degree  7  is:  8.302125359506954\n",
      "R2 RMSE Score of Test set for degree  7  is:  -1.0953079843431968\n",
      "\n",
      "The predicted values with degree =  8  is \n",
      " [[ 0.49455205]\n",
      " [-1.35381517]\n",
      " [ 0.62128785]\n",
      " [ 9.59162979]\n",
      " [ 5.60094751]]\n",
      "\n",
      "RMSE Score of Test set for degree  8  is:  7.920468839244346\n",
      "R2 RMSE Score of Test set for degree  8  is:  -0.9070894942048022\n",
      "\n",
      "The predicted values with degree =  9  is \n",
      " [[ 0.50643192]\n",
      " [-1.15247167]\n",
      " [ 0.4855425 ]\n",
      " [ 9.62013169]\n",
      " [ 5.50057024]]\n",
      "\n",
      "RMSE Score of Test set for degree  9  is:  7.554469695768572\n",
      "R2 RMSE Score of Test set for degree  9  is:  -0.7349112415564429\n",
      "\n",
      "The best RMSE score of Test Set is  2.2626875545095912  with degree =  1\n",
      "The max R2 score of Test Set is  0.8443609861077349  with degree =  1\n"
     ]
    }
   ],
   "source": [
    "X_train, X_test, y_train, y_test = train_test_split( X, y, test_size=0.3, random_state=42)\n",
    "\n",
    "from sklearn.preprocessing import PolynomialFeatures\n",
    "\n",
    "from sklearn import linear_model\n",
    "\n",
    "plrgr_rmse = np.zeros(9)\n",
    "plrgr_r2 = np.zeros(9)\n",
    "\n",
    "for i in range(1,10):\n",
    "    poly_df = PolynomialFeatures(degree = i)\n",
    "    transform_poly = poly_df.fit_transform(X_train)\n",
    "    clf = linear_model.LinearRegression()\n",
    "    clf.fit(transform_poly,y_train)\n",
    "    polynomial_predict = clf.predict(poly_df.fit_transform(X_test))\n",
    "    plrgr_rmse[i-1] = np.sqrt(mean_squared_error(y_test,polynomial_predict))\n",
    "    plrgr_r2[i-1] = r2_score(y_test,polynomial_predict)\n",
    "    print(\"\\nThe predicted values with degree = \",i,\" is \\n\",polynomial_predict[0:5])\n",
    "    print(\"\\nRMSE Score of Test set for degree \", i,\" is: \",plrgr_rmse[i-1])\n",
    "    print(\"R2 RMSE Score of Test set for degree \", i,\" is: \",plrgr_r2[i-1]) \n",
    "\n",
    "print(\"\\nThe best RMSE score of Test Set is \", plrgr_rmse.min(), \" with degree = \",plrgr_rmse.argmin()+1)\n",
    "print(\"The max R2 score of Test Set is \", plrgr_r2.max(), \" with degree = \",plrgr_r2.argmax()+1)"
   ]
  },
  {
   "cell_type": "markdown",
   "metadata": {},
   "source": [
    "# 4.Decision Tree Regression"
   ]
  },
  {
   "cell_type": "code",
   "execution_count": 24,
   "metadata": {},
   "outputs": [
    {
     "name": "stdout",
     "output_type": "stream",
     "text": [
      "\n",
      "The predicted values for Test Set using criterion =  mse  is:  [ 1.  4.  1. 15.  6.]\n",
      "\n",
      "The RMSE score for Test Set using criterion =  mse  is:  1.7716909687891083\n",
      "The R2 score for Test Set using criterion =  mse  is:  0.9045787202101707\n",
      "\n",
      "The predicted values for Test Set using criterion =  friedman_mse  is:  [ 1.  4.  1. 18.  8.]\n",
      "\n",
      "The RMSE score for Test Set using criterion =  friedman_mse  is:  1.922093765778466\n",
      "The R2 score for Test Set using criterion =  friedman_mse  is:  0.8876899981234753\n",
      "\n",
      "The predicted values for Test Set using criterion =  mae  is:  [ 1.  4.  2. 12.  4.]\n",
      "\n",
      "The RMSE score for Test Set using criterion =  mae  is:  2.0\n",
      "The R2 score for Test Set using criterion =  mae  is:  0.8784012009757928\n",
      "\n",
      "The best RMSE score for Test Set is  1.7716909687891083\n",
      "The max R2 score of Test Set is  0.9045787202101707\n"
     ]
    }
   ],
   "source": [
    "X_train, X_test, y_train, y_test = train_test_split( X, y, test_size=0.3, random_state=42)\n",
    "\n",
    "k = ['mse', 'friedman_mse', 'mae']\n",
    "dt_rmse = np.zeros(3)\n",
    "dt_r2 = np.zeros(3)\n",
    "n = 0\n",
    "\n",
    "from sklearn.tree import DecisionTreeRegressor\n",
    "for i in k:\n",
    "    dt_reg = DecisionTreeRegressor(criterion = i)          # create  DecisionTreeReg with sklearn\n",
    "    dt_reg.fit(X_train,y_train)\n",
    "    dt_predict = dt_reg.predict(X_test)\n",
    "    dt_rmse[n] = np.sqrt(mean_squared_error(y_test,dt_predict))\n",
    "    dt_r2[n] = r2_score(y_test,dt_predict)\n",
    "    print(\"\\nThe predicted values for Test Set using criterion = \",i,\" is: \",dt_predict[0:5])\n",
    "    print(\"\\nThe RMSE score for Test Set using criterion = \",i,\" is: \",dt_rmse[n])\n",
    "    print(\"The R2 score for Test Set using criterion = \",i,\" is: \",dt_r2[n])\n",
    "    n += 1   \n",
    "print(\"\\nThe best RMSE score for Test Set is \", dt_rmse.min())\n",
    "print(\"The max R2 score of Test Set is \", dt_r2.max())   "
   ]
  },
  {
   "cell_type": "markdown",
   "metadata": {},
   "source": [
    "# Ensemble Methods"
   ]
  },
  {
   "cell_type": "markdown",
   "metadata": {},
   "source": [
    "### Random Forest Model"
   ]
  },
  {
   "cell_type": "code",
   "execution_count": 25,
   "metadata": {},
   "outputs": [
    {
     "name": "stdout",
     "output_type": "stream",
     "text": [
      "\n",
      "The predicted values for Test Set using criterion =  mse  is:  [ 1.36  5.05  1.34 13.72  6.7 ]\n",
      "\n",
      "The RMSE score for Test Set using criterion =  mse  is:  1.6422604679052726\n",
      "The R2 score for Test Set using criterion =  mse  is:  0.8784012009757928\n",
      "\n",
      "The predicted values for Test Set using criterion =  mae  is:  [ 1.47  5.18  1.54 13.66  6.24]\n",
      "\n",
      "The RMSE score for Test Set using criterion =  mae  is:  1.6089238984834275\n",
      "The R2 score for Test Set using criterion =  mae  is:  0.8784012009757928\n",
      "\n",
      "The best RMSE score for Test Set is  1.6089238984834275\n",
      "The max R2 score of Test Set is  0.8784012009757928\n"
     ]
    }
   ],
   "source": [
    "X_train, X_test, y_train, y_test = train_test_split( X, y, test_size=0.3, random_state=42)\n",
    "\n",
    "k = ['mse', 'mae']\n",
    "n = 0\n",
    "rf_rmse = np.zeros(2)\n",
    "rf_r2 = np.zeros(2)\n",
    "\n",
    "from sklearn.ensemble import RandomForestRegressor\n",
    "for i in k:\n",
    "    rf_reg = RandomForestRegressor(criterion = i)\n",
    "    rf_reg.fit(X_train,y_train)\n",
    "    rf_pred = rf_reg.predict(X_test)\n",
    "    rf_rmse[n] = np.sqrt(mean_squared_error(y_test,rf_pred))\n",
    "    rf_r2[n] = r2_score(y_test,dt_predict)\n",
    "    print(\"\\nThe predicted values for Test Set using criterion = \",i,\" is: \",rf_pred[0:5])\n",
    "    print(\"\\nThe RMSE score for Test Set using criterion = \",i,\" is: \",rf_rmse[n])\n",
    "    print(\"The R2 score for Test Set using criterion = \",i,\" is: \",rf_r2[n])\n",
    "    n += 1   \n",
    "    \n",
    "print(\"\\nThe best RMSE score for Test Set is \", rf_rmse.min())\n",
    "print(\"The max R2 score of Test Set is \", rf_r2.max())       "
   ]
  },
  {
   "cell_type": "markdown",
   "metadata": {},
   "source": [
    "### ADABoost"
   ]
  },
  {
   "cell_type": "code",
   "execution_count": 26,
   "metadata": {},
   "outputs": [
    {
     "name": "stdout",
     "output_type": "stream",
     "text": [
      "\n",
      "The predicted values for Test Set using loss =  linear  is:  [ 2.7         5.25        2.21428571 12.33333333  7.        ]\n",
      "\n",
      "The RMSE score for Test Set using loss =  linear  is:  1.6997394127004253\n",
      "The R2 score for Test Set using loss =  linear  is:  0.912171799677965\n",
      "\n",
      "The predicted values for Test Set using loss =  square  is:  [ 2.07692308  5.4         2.07692308 12.4         6.75      ]\n",
      "\n",
      "The RMSE score for Test Set using loss =  square  is:  1.4557348159345431\n",
      "The R2 score for Test Set using loss =  square  is:  0.9355780550946735\n",
      "\n",
      "The predicted values for Test Set using loss =  exponential  is:  [ 2.38461538  5.45454545  2.22222222 12.15789474  7.05882353]\n",
      "\n",
      "The RMSE score for Test Set using loss =  exponential  is:  1.7311800998281635\n",
      "The R2 score for Test Set using loss =  exponential  is:  0.9088925698700224\n",
      "\n",
      "The best RMSE score for Test Set is  1.4557348159345431\n",
      "The max R2 score of Test Set is  0.9355780550946735\n"
     ]
    }
   ],
   "source": [
    "X_train, X_test, y_train, y_test = train_test_split( X, y, test_size=0.3, random_state=42)\n",
    "\n",
    "k = ['linear', 'square', 'exponential']\n",
    "n = 0\n",
    "adb_rmse = np.zeros(3)\n",
    "adb_r2 = np.zeros(3)\n",
    "\n",
    "from sklearn.ensemble import AdaBoostRegressor\n",
    "for i in k:\n",
    "    ada_regr = AdaBoostRegressor(loss = i)\n",
    "    ada_regr.fit(X_train,y_train)\n",
    "    ada_pred = ada_regr.predict(X_test)\n",
    "    adb_rmse[n] = np.sqrt(mean_squared_error(y_test,ada_pred))\n",
    "    adb_r2[n] = r2_score(y_test,ada_pred)\n",
    "    print(\"\\nThe predicted values for Test Set using loss = \",i,\" is: \",ada_pred[0:5])\n",
    "    print(\"\\nThe RMSE score for Test Set using loss = \",i,\" is: \",adb_rmse[n])\n",
    "    print(\"The R2 score for Test Set using loss = \",i,\" is: \",adb_r2[n])\n",
    "    n += 1   \n",
    "print(\"\\nThe best RMSE score for Test Set is \", adb_rmse.min())\n",
    "print(\"The max R2 score of Test Set is \", adb_r2.max())           "
   ]
  },
  {
   "cell_type": "markdown",
   "metadata": {},
   "source": [
    "### Gradient Boosting"
   ]
  },
  {
   "cell_type": "code",
   "execution_count": 27,
   "metadata": {},
   "outputs": [
    {
     "name": "stdout",
     "output_type": "stream",
     "text": [
      "\n",
      "The predicted values for Test Set using loss =  ls  is:  [ 1.05566552  4.40624537  1.27301851 12.82771663  6.54812902]\n",
      "\n",
      "The RMSE score for Test Set using loss =  ls  is:  1.6077918600656498\n",
      "The R2 score for Test Set using loss =  ls  is:  0.9214169383040862\n",
      "\n",
      "The predicted values for Test Set using loss =  lad  is:  [ 1.15064174  4.35034695  1.31265632 12.97369482  8.42129449]\n",
      "\n",
      "The RMSE score for Test Set using loss =  lad  is:  1.699343420701754\n",
      "The R2 score for Test Set using loss =  lad  is:  0.9122127179658212\n",
      "\n",
      "The predicted values for Test Set using loss =  huber  is:  [ 1.0909835   4.2322628   1.15679456 12.98438256  6.41204259]\n",
      "\n",
      "The RMSE score for Test Set using loss =  huber  is:  1.840811238425116\n",
      "The R2 score for Test Set using loss =  huber  is:  0.896988002530873\n",
      "\n",
      "The predicted values for Test Set using loss =  quantile  is:  [ 4.03763295  7.94378289  4.02335062 15.3202069   8.60232694]\n",
      "\n",
      "The RMSE score for Test Set using loss =  quantile  is:  2.4366912586409293\n",
      "The R2 score for Test Set using loss =  quantile  is:  0.8195028682736324\n",
      "\n",
      "The best RMSE score for Test Set is  1.6077918600656498\n",
      "The max R2 score of Test Set is  0.9214169383040862\n"
     ]
    }
   ],
   "source": [
    "X_train, X_test, y_train, y_test = train_test_split( X, y, test_size=0.3, random_state=42)\n",
    "\n",
    "k = ['ls', 'lad', 'huber', 'quantile']\n",
    "n = 0\n",
    "gdb_rmse = np.zeros(4)\n",
    "gdb_r2 = np.zeros(4)\n",
    "\n",
    "from sklearn.ensemble import GradientBoostingRegressor\n",
    "\n",
    "for i in k:\n",
    "    reg = GradientBoostingRegressor(loss = i)\n",
    "    reg.fit(X_train, y_train)\n",
    "    grdbst_pred = reg.predict(X_test)\n",
    "    gdb_rmse[n] = np.sqrt(mean_squared_error(y_test,grdbst_pred))\n",
    "    gdb_r2[n] = r2_score(y_test,grdbst_pred)\n",
    "    print(\"\\nThe predicted values for Test Set using loss = \",i,\" is: \",grdbst_pred[0:5])\n",
    "    print(\"\\nThe RMSE score for Test Set using loss = \",i,\" is: \",gdb_rmse[n])\n",
    "    print(\"The R2 score for Test Set using loss = \",i,\" is: \",gdb_r2[n])\n",
    "    n += 1   \n",
    "print(\"\\nThe best RMSE score for Test Set is \", gdb_rmse.min())\n",
    "print(\"The max R2 score of Test Set is \", gdb_r2.max())    "
   ]
  },
  {
   "cell_type": "markdown",
   "metadata": {},
   "source": [
    "# KNearestNeighbor"
   ]
  },
  {
   "cell_type": "code",
   "execution_count": 28,
   "metadata": {},
   "outputs": [
    {
     "name": "stdout",
     "output_type": "stream",
     "text": [
      "\n",
      "The predicted values for Test Set with neighbor k =  1  is: \n",
      " [[ 1.]\n",
      " [ 4.]\n",
      " [ 1.]\n",
      " [12.]\n",
      " [ 4.]]\n",
      "\n",
      "The RMSE score for Test Set with neighbor k =  1  is:  2.614064523559687\n",
      "The R2 score for Test Set with neighbor k =  1  is:  0.7922687183336461\n",
      "\n",
      "The predicted values for Test Set with neighbor k =  2  is: \n",
      " [[ 1.5]\n",
      " [ 4. ]\n",
      " [ 1. ]\n",
      " [12. ]\n",
      " [ 7. ]]\n",
      "\n",
      "The RMSE score for Test Set with neighbor k =  2  is:  2.598076211353316\n",
      "The R2 score for Test Set with neighbor k =  2  is:  0.7948020266466503\n",
      "\n",
      "The predicted values for Test Set with neighbor k =  3  is: \n",
      " [[ 1.33333333]\n",
      " [ 4.        ]\n",
      " [ 1.33333333]\n",
      " [11.        ]\n",
      " [ 6.        ]]\n",
      "\n",
      "The RMSE score for Test Set with neighbor k =  3  is:  2.1030548034164114\n",
      "The R2 score for Test Set with neighbor k =  3  is:  0.8655470069431412\n",
      "\n",
      "The predicted values for Test Set with neighbor k =  4  is: \n",
      " [[ 1.5 ]\n",
      " [ 5.5 ]\n",
      " [ 1.5 ]\n",
      " [10.25]\n",
      " [ 5.5 ]]\n",
      "\n",
      "The RMSE score for Test Set with neighbor k =  4  is:  2.074564880750767\n",
      "The R2 score for Test Set with neighbor k =  4  is:  0.8691651810846313\n",
      "\n",
      "The predicted values for Test Set with neighbor k =  5  is: \n",
      " [[ 1.4]\n",
      " [ 5. ]\n",
      " [ 1.6]\n",
      " [12.2]\n",
      " [ 6. ]]\n",
      "\n",
      "The RMSE score for Test Set with neighbor k =  5  is:  2.0218253578827667\n",
      "The R2 score for Test Set with neighbor k =  5  is:  0.8757327828860949\n",
      "\n",
      "The predicted values for Test Set with neighbor k =  6  is: \n",
      " [[ 1.5       ]\n",
      " [ 4.83333333]\n",
      " [ 1.66666667]\n",
      " [12.16666667]\n",
      " [ 5.66666667]]\n",
      "\n",
      "The RMSE score for Test Set with neighbor k =  6  is:  2.2855558256360236\n",
      "The R2 score for Test Set with neighbor k =  6  is:  0.8411990992681553\n",
      "\n",
      "The predicted values for Test Set with neighbor k =  7  is: \n",
      " [[ 1.57142857]\n",
      " [ 5.        ]\n",
      " [ 2.        ]\n",
      " [12.42857143]\n",
      " [ 6.57142857]]\n",
      "\n",
      "The RMSE score for Test Set with neighbor k =  7  is:  2.407824546685046\n",
      "The R2 score for Test Set with neighbor k =  7  is:  0.823754121652414\n",
      "\n",
      "The predicted values for Test Set with neighbor k =  8  is: \n",
      " [[ 1.875]\n",
      " [ 5.375]\n",
      " [ 2.25 ]\n",
      " [11.375]\n",
      " [ 7.5  ]]\n",
      "\n",
      "The RMSE score for Test Set with neighbor k =  8  is:  2.6019990979159764\n",
      "The R2 score for Test Set with neighbor k =  8  is:  0.7941818938825295\n",
      "\n",
      "The predicted values for Test Set with neighbor k =  9  is: \n",
      " [[ 1.77777778]\n",
      " [ 6.44444444]\n",
      " [ 2.22222222]\n",
      " [12.55555556]\n",
      " [ 8.33333333]]\n",
      "\n",
      "The RMSE score for Test Set with neighbor k =  9  is:  2.718251071716682\n",
      "The R2 score for Test Set with neighbor k =  9  is:  0.7753799962469505\n",
      "\n",
      "The best RMSE score for Test Set is  2.0218253578827667  with neighbor k =  5\n",
      "The max R2 score of Test Set is  0.8757327828860949  with neighbor k =  5\n"
     ]
    }
   ],
   "source": [
    "X_train, X_test, y_train, y_test = train_test_split( X, y, test_size=0.3, random_state=42)\n",
    "\n",
    "from sklearn.neighbors import KNeighborsRegressor\n",
    "\n",
    "n = 0\n",
    "knn_rmse = np.zeros(9)\n",
    "knn_r2 = np.zeros(9)\n",
    "\n",
    "for i in range(1,10):\n",
    "    neigh = KNeighborsRegressor(n_neighbors=i)\n",
    "    neigh.fit(X_train, y_train)\n",
    "    knn_pred = neigh.predict(X_test)\n",
    "    knn_rmse[n] = np.sqrt(mean_squared_error(y_test,knn_pred))\n",
    "    knn_r2[n] = r2_score(y_test,knn_pred)\n",
    "    print(\"\\nThe predicted values for Test Set with neighbor k = \",i,\" is: \\n\",knn_pred[0:5])\n",
    "    print(\"\\nThe RMSE score for Test Set with neighbor k = \",i,\" is: \",knn_rmse[n])\n",
    "    print(\"The R2 score for Test Set with neighbor k = \",i,\" is: \",knn_r2[n])\n",
    "    n += 1   \n",
    "print(\"\\nThe best RMSE score for Test Set is \", knn_rmse.min(), \" with neighbor k = \", knn_rmse.argmin()+1)\n",
    "print(\"The max R2 score of Test Set is \", knn_r2.max(), \" with neighbor k = \", knn_r2.argmax()+1)   "
   ]
  },
  {
   "cell_type": "markdown",
   "metadata": {},
   "source": [
    "# Stochastic Gradient Descent"
   ]
  },
  {
   "cell_type": "code",
   "execution_count": 29,
   "metadata": {},
   "outputs": [
    {
     "data": {
      "text/plain": [
       "array([ 1.32216735,  4.54689573,  1.45735445, 12.27951623,  7.34855485])"
      ]
     },
     "execution_count": 29,
     "metadata": {},
     "output_type": "execute_result"
    }
   ],
   "source": [
    "X= preprocessing.StandardScaler().fit(X).transform(X)\n",
    "X_train, X_test, y_train, y_test = train_test_split( X, y, test_size=0.3, random_state=42)\n",
    "\n",
    "from sklearn.linear_model import SGDRegressor\n",
    "reg = SGDRegressor()\n",
    "reg.fit(X_train, y_train)\n",
    "sgd_pred = reg.predict(X_test)\n",
    "sgd_pred[0:5]"
   ]
  },
  {
   "cell_type": "code",
   "execution_count": 30,
   "metadata": {},
   "outputs": [
    {
     "name": "stdout",
     "output_type": "stream",
     "text": [
      "RMSE Score for Test set:  2.3241850907570973\n",
      "R2 Score for Test set:  0.8357857972513028\n"
     ]
    }
   ],
   "source": [
    "sgd_rmse = np.sqrt(mean_squared_error(y_test,sgd_pred))\n",
    "sgd_r2 = r2_score(y_test,sgd_pred)\n",
    "print(\"RMSE Score for Test set: \",sgd_rmse)\n",
    "print(\"R2 Score for Test set: \",sgd_r2)"
   ]
  },
  {
   "cell_type": "markdown",
   "metadata": {},
   "source": [
    "# Support Vector Machines"
   ]
  },
  {
   "cell_type": "markdown",
   "metadata": {},
   "source": [
    "### SVR"
   ]
  },
  {
   "cell_type": "code",
   "execution_count": 31,
   "metadata": {},
   "outputs": [
    {
     "name": "stdout",
     "output_type": "stream",
     "text": [
      "\n",
      "The predicted values for Test Set with kernel =  linear  is:  [ 1.037505    4.18732009  0.54218813 11.94738051  6.92730223]\n",
      "\n",
      "The RMSE score for Test Set with kernel =  linear  is:  2.3586499807179213\n",
      "The R2 score for Test Set with kernel =  linear  is:  0.8308794864872235\n",
      "\n",
      "The predicted values for Test Set with kernel =  poly  is:  [4.68302957 4.19710125 4.97286641 7.88712934 5.84417151]\n",
      "\n",
      "The RMSE score for Test Set with kernel =  poly  is:  4.1163494233948645\n",
      "The R2 score for Test Set with kernel =  poly  is:  0.4848973771386217\n",
      "\n",
      "The predicted values for Test Set with kernel =  rbf  is:  [ 1.52756726  4.92387266  0.49595535 11.7954299   7.1085628 ]\n",
      "\n",
      "The RMSE score for Test Set with kernel =  rbf  is:  2.417698528838964\n",
      "The R2 score for Test Set with kernel =  rbf  is:  0.8223056632447523\n",
      "\n",
      "The predicted values for Test Set with kernel =  sigmoid  is:  [ 1.54081491  5.03169687  1.64045909 11.83632941  6.97917221]\n",
      "\n",
      "The RMSE score for Test Set with kernel =  sigmoid  is:  2.6418545025769995\n",
      "The R2 score for Test Set with kernel =  sigmoid  is:  0.7878284810524693\n",
      "\n",
      "The best RMSE score for Test Set is  2.3586499807179213\n",
      "The max R2 score of Test Set is  0.8308794864872235\n"
     ]
    }
   ],
   "source": [
    "#X= preprocessing.StandardScaler().fit(X).transform(X)\n",
    "X_train, X_test, y_train, y_test = train_test_split( X, y, test_size=0.3, random_state=42)\n",
    "\n",
    "from sklearn.svm import SVR\n",
    "k = ['linear', 'poly', 'rbf', 'sigmoid']\n",
    "n = 0\n",
    "svr_rmse = np.zeros(4)\n",
    "svr_r2 = np.zeros(4)\n",
    "\n",
    "for i in k:\n",
    "    reg = SVR(kernel = i)\n",
    "    reg.fit(X_train, y_train)\n",
    "    svr_pred = reg.predict(X_test)\n",
    "    svr_rmse[n] = np.sqrt(mean_squared_error(y_test,svr_pred))\n",
    "    svr_r2[n] = r2_score(y_test,svr_pred)\n",
    "    print(\"\\nThe predicted values for Test Set with kernel = \",i,\" is: \",svr_pred[0:5])\n",
    "    print(\"\\nThe RMSE score for Test Set with kernel = \",i,\" is: \",svr_rmse[n])\n",
    "    print(\"The R2 score for Test Set with kernel = \",i,\" is: \",svr_r2[n])\n",
    "    n += 1   \n",
    "print(\"\\nThe best RMSE score for Test Set is \", svr_rmse.min())\n",
    "print(\"The max R2 score of Test Set is \", svr_r2.max())         "
   ]
  },
  {
   "cell_type": "markdown",
   "metadata": {},
   "source": [
    "### NuSVR"
   ]
  },
  {
   "cell_type": "code",
   "execution_count": 32,
   "metadata": {},
   "outputs": [
    {
     "name": "stdout",
     "output_type": "stream",
     "text": [
      "\n",
      "The predicted values for Test Set with kernel =  linear  is:  [ 1.07778627  4.27180899  0.98880154 12.38281384  7.19868214]\n",
      "\n",
      "The RMSE score for Test Set with kernel =  linear  is:  2.3067286364929034\n",
      "The R2 score for Test Set with kernel =  linear  is:  0.8382432887236895\n",
      "\n",
      "The predicted values for Test Set with kernel =  poly  is:  [ 6.19198564  6.30287835  6.35957174 10.31284751  7.15670768]\n",
      "\n",
      "The RMSE score for Test Set with kernel =  poly  is:  4.132400893273624\n",
      "The R2 score for Test Set with kernel =  poly  is:  0.48087231804803154\n",
      "\n",
      "The predicted values for Test Set with kernel =  rbf  is:  [ 2.24352608  5.61158932  1.3095644  11.38428386  7.3887419 ]\n",
      "\n",
      "The RMSE score for Test Set with kernel =  rbf  is:  2.5896659227509766\n",
      "The R2 score for Test Set with kernel =  rbf  is:  0.7961283779665711\n",
      "\n",
      "The predicted values for Test Set with kernel =  sigmoid  is:  [ 2.25070164  6.12423379  2.19602895 12.41603352  7.96102686]\n",
      "\n",
      "The RMSE score for Test Set with kernel =  sigmoid  is:  2.72551807444016\n",
      "The R2 score for Test Set with kernel =  sigmoid  is:  0.774177387614149\n",
      "\n",
      "The best RMSE score for Test Set is  2.3067286364929034\n",
      "The max R2 score of Test Set is  0.8382432887236895\n"
     ]
    }
   ],
   "source": [
    "#X= preprocessing.StandardScaler().fit(X).transform(X)\n",
    "X_train, X_test, y_train, y_test = train_test_split( X, y, test_size=0.3, random_state=42)\n",
    "\n",
    "from sklearn.svm import NuSVR\n",
    "k = ['linear', 'poly', 'rbf', 'sigmoid']\n",
    "n = 0\n",
    "nusvr_rmse = np.zeros(4)\n",
    "nusvr_r2 = np.zeros(4)\n",
    "\n",
    "for i in k:\n",
    "    reg = NuSVR(kernel = i)\n",
    "    reg.fit(X_train, y_train)\n",
    "    nusvr_pred = reg.predict(X_test)\n",
    "    nusvr_rmse[n] = np.sqrt(mean_squared_error(y_test,nusvr_pred))\n",
    "    nusvr_r2[n] = r2_score(y_test,nusvr_pred)\n",
    "    print(\"\\nThe predicted values for Test Set with kernel = \",i,\" is: \",nusvr_pred[0:5])\n",
    "    print(\"\\nThe RMSE score for Test Set with kernel = \",i,\" is: \",nusvr_rmse[n])\n",
    "    print(\"The R2 score for Test Set with kernel = \",i,\" is: \",nusvr_r2[n])\n",
    "    n += 1   \n",
    "print(\"\\nThe best RMSE score for Test Set is \", nusvr_rmse.min())\n",
    "print(\"The max R2 score of Test Set is \", nusvr_r2.max())         "
   ]
  },
  {
   "cell_type": "markdown",
   "metadata": {},
   "source": [
    "### LinearSVR"
   ]
  },
  {
   "cell_type": "code",
   "execution_count": 33,
   "metadata": {},
   "outputs": [
    {
     "name": "stdout",
     "output_type": "stream",
     "text": [
      "\n",
      "The predicted values for Test Set is:  [ 0.79603268  4.11431086  0.13268411 11.91286142  6.95344725]\n",
      "\n",
      "The RMSE score for Test Set is:  2.3726123875215257\n",
      "The R2 score for Test Set is:  0.8288712881009315\n"
     ]
    }
   ],
   "source": [
    "#X= preprocessing.StandardScaler().fit(X).transform(X)\n",
    "X_train, X_test, y_train, y_test = train_test_split( X, y, test_size=0.3, random_state=42)\n",
    "\n",
    "from sklearn.svm import LinearSVR\n",
    "\n",
    "reg = LinearSVR()\n",
    "reg.fit(X_train, y_train)\n",
    "linsvr_pred = reg.predict(X_test)\n",
    "linsvr_rmse = np.sqrt(mean_squared_error(y_test,linsvr_pred))\n",
    "linsvr_r2 = r2_score(y_test,linsvr_pred)\n",
    "print(\"\\nThe predicted values for Test Set is: \",linsvr_pred[0:5])\n",
    "print(\"\\nThe RMSE score for Test Set is: \",linsvr_rmse)\n",
    "print(\"The R2 score for Test Set is: \",linsvr_r2)  "
   ]
  },
  {
   "cell_type": "markdown",
   "metadata": {},
   "source": [
    "# Report on accuracy of different algorithms using RMSE value and R2 score"
   ]
  },
  {
   "cell_type": "code",
   "execution_count": 34,
   "metadata": {},
   "outputs": [],
   "source": [
    "# rmse = root mean squared score.......r2 = R2-Score\n",
    "# 1.Linear Models\n",
    "# 1.1. Linear Regression\n",
    "linrgr_rmse\n",
    "linrgr_r2\n",
    "\n",
    "# 1.2. Ridge Regression\n",
    "rdgrgr_rmse\n",
    "rdgrgr_r2\n",
    "\n",
    "# 1.3. Lasso\n",
    "lasrgr_rmse\n",
    "lasrgr_r2\n",
    "\n",
    "# 1.4. ElasticNet\n",
    "enrgr_rmse\n",
    "enrgr_r2\n",
    "\n",
    "# 1.5. LarsLasso\n",
    "lslrrgr_rmse\n",
    "lslrrgr_r2\n",
    "\n",
    "# 2.Polynomial Regression\n",
    "plrgr_rmse = plrgr_rmse.min()\n",
    "plrgr_r2 = plrgr_r2.max()\n",
    "\n",
    "# 3.Decision Tree\n",
    "dt_rmse = dt_rmse.min()\n",
    "dt_r2 = dt_r2.max()\n",
    "\n",
    "# 4.Ensemble Methods\n",
    "# 4.1. Random Forest\n",
    "rf_rmse = rf_rmse.min()\n",
    "rf_r2 = rf_r2.max()\n",
    "\n",
    "# 4.2. AdaBoost\n",
    "adb_rmse = adb_rmse.min()\n",
    "adb_r2 = adb_r2.max()\n",
    "\n",
    "# 4.3. GradientBoost\n",
    "gdb_rmse = gdb_rmse.min()\n",
    "gdb_r2 = gdb_r2.max()\n",
    "\n",
    "# 5.KNearestNeighbor\n",
    "knn_rmse = knn_rmse.min()\n",
    "knn_r2 = knn_r2.max()\n",
    "\n",
    "# 6.Stochastic Gradient Descent\n",
    "sgd_rmse\n",
    "sgd_r2\n",
    "\n",
    "# 7.Support Vector Machines\n",
    "# 7.1. SVR\n",
    "svr_rmse = svr_rmse.min()\n",
    "svr_r2 = svr_r2.max()\n",
    "\n",
    "# 7.2. NuSVR\n",
    "nusvr_rmse = nusvr_rmse.min()\n",
    "nusvr_r2 = nusvr_r2.max()\n",
    "# 7.3. LinearSVR\n",
    "linsvr_rmse = linsvr_rmse\n",
    "linsvr_r2 = linsvr_r2\n",
    "\n",
    "#max of all\n",
    "min_rmse = [linrgr_rmse,rdgrgr_rmse,lasrgr_rmse,enrgr_rmse,lslrrgr_rmse,plrgr_rmse,dt_rmse,rf_rmse,adb_rmse,gdb_rmse,knn_rmse,sgd_rmse,svr_rmse,nusvr_rmse,linsvr_rmse]\n",
    "max_r2 = [linrgr_r2,rdgrgr_r2,lasrgr_r2,enrgr_r2,lslrrgr_r2,plrgr_r2,dt_r2,rf_r2,adb_r2,gdb_r2,knn_r2,sgd_r2,svr_r2,nusvr_r2,linsvr_r2]"
   ]
  },
  {
   "cell_type": "markdown",
   "metadata": {},
   "source": [
    "## Final Report"
   ]
  },
  {
   "cell_type": "code",
   "execution_count": 35,
   "metadata": {},
   "outputs": [
    {
     "data": {
      "text/html": [
       "<div>\n",
       "<style scoped>\n",
       "    .dataframe tbody tr th:only-of-type {\n",
       "        vertical-align: middle;\n",
       "    }\n",
       "\n",
       "    .dataframe tbody tr th {\n",
       "        vertical-align: top;\n",
       "    }\n",
       "\n",
       "    .dataframe thead th {\n",
       "        text-align: right;\n",
       "    }\n",
       "</style>\n",
       "<table border=\"1\" class=\"dataframe\">\n",
       "  <thead>\n",
       "    <tr style=\"text-align: right;\">\n",
       "      <th></th>\n",
       "      <th>Algorithm</th>\n",
       "      <th>R2-Sore</th>\n",
       "      <th>Root Mean Squared Error</th>\n",
       "    </tr>\n",
       "  </thead>\n",
       "  <tbody>\n",
       "    <tr>\n",
       "      <th>1</th>\n",
       "      <td>Linear Regression</td>\n",
       "      <td>0.844361</td>\n",
       "      <td>2.262688</td>\n",
       "    </tr>\n",
       "    <tr>\n",
       "      <th>2</th>\n",
       "      <td>Ridge Regression</td>\n",
       "      <td>0.844288</td>\n",
       "      <td>2.263218</td>\n",
       "    </tr>\n",
       "    <tr>\n",
       "      <th>3</th>\n",
       "      <td>Lasso Regression</td>\n",
       "      <td>0.830550</td>\n",
       "      <td>2.360945</td>\n",
       "    </tr>\n",
       "    <tr>\n",
       "      <th>4</th>\n",
       "      <td>ElasticNet Regression</td>\n",
       "      <td>0.830974</td>\n",
       "      <td>2.357991</td>\n",
       "    </tr>\n",
       "    <tr>\n",
       "      <th>5</th>\n",
       "      <td>LarsLasso Regression</td>\n",
       "      <td>0.844071</td>\n",
       "      <td>2.264796</td>\n",
       "    </tr>\n",
       "    <tr>\n",
       "      <th>6</th>\n",
       "      <td>Polynomial Regression</td>\n",
       "      <td>0.844361</td>\n",
       "      <td>2.262688</td>\n",
       "    </tr>\n",
       "    <tr>\n",
       "      <th>7</th>\n",
       "      <td>Decision Tree Regression</td>\n",
       "      <td>0.904579</td>\n",
       "      <td>1.771691</td>\n",
       "    </tr>\n",
       "    <tr>\n",
       "      <th>8</th>\n",
       "      <td>Random Forest Regression</td>\n",
       "      <td>0.878401</td>\n",
       "      <td>1.608924</td>\n",
       "    </tr>\n",
       "    <tr>\n",
       "      <th>9</th>\n",
       "      <td>AdaBoost Regression</td>\n",
       "      <td>0.935578</td>\n",
       "      <td>1.455735</td>\n",
       "    </tr>\n",
       "    <tr>\n",
       "      <th>10</th>\n",
       "      <td>Gradient Boosting Regression</td>\n",
       "      <td>0.921417</td>\n",
       "      <td>1.607792</td>\n",
       "    </tr>\n",
       "    <tr>\n",
       "      <th>11</th>\n",
       "      <td>KNearest Neighbor Regression</td>\n",
       "      <td>0.875733</td>\n",
       "      <td>2.021825</td>\n",
       "    </tr>\n",
       "    <tr>\n",
       "      <th>12</th>\n",
       "      <td>Stochastic Gradient Regression</td>\n",
       "      <td>0.835786</td>\n",
       "      <td>2.324185</td>\n",
       "    </tr>\n",
       "    <tr>\n",
       "      <th>13</th>\n",
       "      <td>Support Vector Regression</td>\n",
       "      <td>0.830879</td>\n",
       "      <td>2.358650</td>\n",
       "    </tr>\n",
       "    <tr>\n",
       "      <th>14</th>\n",
       "      <td>Nu Support Vector Regression</td>\n",
       "      <td>0.838243</td>\n",
       "      <td>2.306729</td>\n",
       "    </tr>\n",
       "    <tr>\n",
       "      <th>15</th>\n",
       "      <td>Linear Support Vector Regression</td>\n",
       "      <td>0.828871</td>\n",
       "      <td>2.372612</td>\n",
       "    </tr>\n",
       "  </tbody>\n",
       "</table>\n",
       "</div>"
      ],
      "text/plain": [
       "                           Algorithm   R2-Sore  Root Mean Squared Error\n",
       "1                  Linear Regression  0.844361                 2.262688\n",
       "2                   Ridge Regression  0.844288                 2.263218\n",
       "3                   Lasso Regression  0.830550                 2.360945\n",
       "4              ElasticNet Regression  0.830974                 2.357991\n",
       "5               LarsLasso Regression  0.844071                 2.264796\n",
       "6              Polynomial Regression  0.844361                 2.262688\n",
       "7           Decision Tree Regression  0.904579                 1.771691\n",
       "8           Random Forest Regression  0.878401                 1.608924\n",
       "9                AdaBoost Regression  0.935578                 1.455735\n",
       "10      Gradient Boosting Regression  0.921417                 1.607792\n",
       "11      KNearest Neighbor Regression  0.875733                 2.021825\n",
       "12    Stochastic Gradient Regression  0.835786                 2.324185\n",
       "13         Support Vector Regression  0.830879                 2.358650\n",
       "14      Nu Support Vector Regression  0.838243                 2.306729\n",
       "15  Linear Support Vector Regression  0.828871                 2.372612"
      ]
     },
     "execution_count": 35,
     "metadata": {},
     "output_type": "execute_result"
    }
   ],
   "source": [
    "data = {'Algorithm':['Linear Regression', 'Ridge Regression', 'Lasso Regression', 'ElasticNet Regression', 'LarsLasso Regression', 'Polynomial Regression','Decision Tree Regression','Random Forest Regression','AdaBoost Regression','Gradient Boosting Regression','KNearest Neighbor Regression','Stochastic Gradient Regression','Support Vector Regression','Nu Support Vector Regression','Linear Support Vector Regression'], \n",
    "        'R2-Sore':max_r2, 'Root Mean Squared Error':min_rmse}\n",
    "s = pd.DataFrame(data, index = [1,2,3,4,5,6,7,8,9,10,11,12,13,14,15])\n",
    "s"
   ]
  },
  {
   "cell_type": "code",
   "execution_count": 36,
   "metadata": {},
   "outputs": [
    {
     "name": "stdout",
     "output_type": "stream",
     "text": [
      "The best R-squared score is shown by ADABoost Regression with loss = square\n",
      "\n",
      "R2 Score =  0.9355780550946735\n"
     ]
    }
   ],
   "source": [
    "print(\"The best R-squared score is shown by ADABoost Regression with loss = square\")\n",
    "print(\"\\nR2 Score = \",adb_r2)"
   ]
  },
  {
   "cell_type": "markdown",
   "metadata": {},
   "source": [
    "# Creating a test set for the next 30 years and predicting Manchester United's League Standing using the best algorithm."
   ]
  },
  {
   "cell_type": "code",
   "execution_count": 38,
   "metadata": {},
   "outputs": [
    {
     "data": {
      "text/html": [
       "<div>\n",
       "<style scoped>\n",
       "    .dataframe tbody tr th:only-of-type {\n",
       "        vertical-align: middle;\n",
       "    }\n",
       "\n",
       "    .dataframe tbody tr th {\n",
       "        vertical-align: top;\n",
       "    }\n",
       "\n",
       "    .dataframe thead th {\n",
       "        text-align: right;\n",
       "    }\n",
       "</style>\n",
       "<table border=\"1\" class=\"dataframe\">\n",
       "  <thead>\n",
       "    <tr style=\"text-align: right;\">\n",
       "      <th></th>\n",
       "      <th>Season</th>\n",
       "      <th>Division</th>\n",
       "      <th>P</th>\n",
       "      <th>W</th>\n",
       "      <th>D</th>\n",
       "      <th>L</th>\n",
       "      <th>F</th>\n",
       "      <th>A</th>\n",
       "      <th>Pts</th>\n",
       "      <th>Pos</th>\n",
       "    </tr>\n",
       "  </thead>\n",
       "  <tbody>\n",
       "    <tr>\n",
       "      <th>0</th>\n",
       "      <td>1892</td>\n",
       "      <td>Div 1</td>\n",
       "      <td>30.0</td>\n",
       "      <td>6.0</td>\n",
       "      <td>6.0</td>\n",
       "      <td>18.0</td>\n",
       "      <td>50.0</td>\n",
       "      <td>85.0</td>\n",
       "      <td>18.0</td>\n",
       "      <td>16.0</td>\n",
       "    </tr>\n",
       "    <tr>\n",
       "      <th>1</th>\n",
       "      <td>1893</td>\n",
       "      <td>Div 1</td>\n",
       "      <td>30.0</td>\n",
       "      <td>6.0</td>\n",
       "      <td>2.0</td>\n",
       "      <td>22.0</td>\n",
       "      <td>36.0</td>\n",
       "      <td>72.0</td>\n",
       "      <td>14.0</td>\n",
       "      <td>16.0</td>\n",
       "    </tr>\n",
       "    <tr>\n",
       "      <th>2</th>\n",
       "      <td>1894</td>\n",
       "      <td>Div 2</td>\n",
       "      <td>30.0</td>\n",
       "      <td>15.0</td>\n",
       "      <td>8.0</td>\n",
       "      <td>7.0</td>\n",
       "      <td>78.0</td>\n",
       "      <td>44.0</td>\n",
       "      <td>38.0</td>\n",
       "      <td>3.0</td>\n",
       "    </tr>\n",
       "    <tr>\n",
       "      <th>3</th>\n",
       "      <td>1895</td>\n",
       "      <td>Div 2</td>\n",
       "      <td>30.0</td>\n",
       "      <td>15.0</td>\n",
       "      <td>3.0</td>\n",
       "      <td>12.0</td>\n",
       "      <td>66.0</td>\n",
       "      <td>57.0</td>\n",
       "      <td>33.0</td>\n",
       "      <td>6.0</td>\n",
       "    </tr>\n",
       "    <tr>\n",
       "      <th>4</th>\n",
       "      <td>1896</td>\n",
       "      <td>Div 2</td>\n",
       "      <td>30.0</td>\n",
       "      <td>17.0</td>\n",
       "      <td>5.0</td>\n",
       "      <td>8.0</td>\n",
       "      <td>56.0</td>\n",
       "      <td>34.0</td>\n",
       "      <td>39.0</td>\n",
       "      <td>2.0</td>\n",
       "    </tr>\n",
       "    <tr>\n",
       "      <th>...</th>\n",
       "      <td>...</td>\n",
       "      <td>...</td>\n",
       "      <td>...</td>\n",
       "      <td>...</td>\n",
       "      <td>...</td>\n",
       "      <td>...</td>\n",
       "      <td>...</td>\n",
       "      <td>...</td>\n",
       "      <td>...</td>\n",
       "      <td>...</td>\n",
       "    </tr>\n",
       "    <tr>\n",
       "      <th>95</th>\n",
       "      <td>1987</td>\n",
       "      <td>Div 1</td>\n",
       "      <td>40.0</td>\n",
       "      <td>23.0</td>\n",
       "      <td>12.0</td>\n",
       "      <td>5.0</td>\n",
       "      <td>71.0</td>\n",
       "      <td>38.0</td>\n",
       "      <td>81.0</td>\n",
       "      <td>2.0</td>\n",
       "    </tr>\n",
       "    <tr>\n",
       "      <th>96</th>\n",
       "      <td>1988</td>\n",
       "      <td>Div 1</td>\n",
       "      <td>38.0</td>\n",
       "      <td>13.0</td>\n",
       "      <td>12.0</td>\n",
       "      <td>13.0</td>\n",
       "      <td>45.0</td>\n",
       "      <td>35.0</td>\n",
       "      <td>51.0</td>\n",
       "      <td>11.0</td>\n",
       "    </tr>\n",
       "    <tr>\n",
       "      <th>97</th>\n",
       "      <td>1989</td>\n",
       "      <td>Div 1</td>\n",
       "      <td>38.0</td>\n",
       "      <td>13.0</td>\n",
       "      <td>9.0</td>\n",
       "      <td>16.0</td>\n",
       "      <td>46.0</td>\n",
       "      <td>47.0</td>\n",
       "      <td>48.0</td>\n",
       "      <td>13.0</td>\n",
       "    </tr>\n",
       "    <tr>\n",
       "      <th>98</th>\n",
       "      <td>1990</td>\n",
       "      <td>Div 1</td>\n",
       "      <td>38.0</td>\n",
       "      <td>16.0</td>\n",
       "      <td>12.0</td>\n",
       "      <td>10.0</td>\n",
       "      <td>58.0</td>\n",
       "      <td>45.0</td>\n",
       "      <td>59.0</td>\n",
       "      <td>6.0</td>\n",
       "    </tr>\n",
       "    <tr>\n",
       "      <th>99</th>\n",
       "      <td>1991</td>\n",
       "      <td>Div 1</td>\n",
       "      <td>42.0</td>\n",
       "      <td>21.0</td>\n",
       "      <td>15.0</td>\n",
       "      <td>6.0</td>\n",
       "      <td>63.0</td>\n",
       "      <td>33.0</td>\n",
       "      <td>78.0</td>\n",
       "      <td>2.0</td>\n",
       "    </tr>\n",
       "  </tbody>\n",
       "</table>\n",
       "<p>100 rows × 10 columns</p>\n",
       "</div>"
      ],
      "text/plain": [
       "    Season Division     P     W     D     L     F     A   Pts   Pos\n",
       "0     1892    Div 1  30.0   6.0   6.0  18.0  50.0  85.0  18.0  16.0\n",
       "1     1893    Div 1  30.0   6.0   2.0  22.0  36.0  72.0  14.0  16.0\n",
       "2     1894    Div 2  30.0  15.0   8.0   7.0  78.0  44.0  38.0   3.0\n",
       "3     1895    Div 2  30.0  15.0   3.0  12.0  66.0  57.0  33.0   6.0\n",
       "4     1896    Div 2  30.0  17.0   5.0   8.0  56.0  34.0  39.0   2.0\n",
       "..     ...      ...   ...   ...   ...   ...   ...   ...   ...   ...\n",
       "95    1987    Div 1  40.0  23.0  12.0   5.0  71.0  38.0  81.0   2.0\n",
       "96    1988    Div 1  38.0  13.0  12.0  13.0  45.0  35.0  51.0  11.0\n",
       "97    1989    Div 1  38.0  13.0   9.0  16.0  46.0  47.0  48.0  13.0\n",
       "98    1990    Div 1  38.0  16.0  12.0  10.0  58.0  45.0  59.0   6.0\n",
       "99    1991    Div 1  42.0  21.0  15.0   6.0  63.0  33.0  78.0   2.0\n",
       "\n",
       "[100 rows x 10 columns]"
      ]
     },
     "execution_count": 38,
     "metadata": {},
     "output_type": "execute_result"
    }
   ],
   "source": [
    "fd = pd.read_csv(r'E:\\Datasets\\Manchester_United_prediction\\All Season data\\ManUtd.csv')   \n",
    "fd.head(100)"
   ]
  },
  {
   "cell_type": "code",
   "execution_count": 39,
   "metadata": {},
   "outputs": [],
   "source": [
    "fd = fd.drop(['Division'], axis = 1)\n",
    "fd.dropna(subset = [\"P\"], inplace=True)"
   ]
  },
  {
   "cell_type": "code",
   "execution_count": 40,
   "metadata": {},
   "outputs": [
    {
     "data": {
      "text/plain": [
       "Season    0\n",
       "P         0\n",
       "W         0\n",
       "D         0\n",
       "L         0\n",
       "F         0\n",
       "A         0\n",
       "Pts       0\n",
       "Pos       0\n",
       "dtype: int64"
      ]
     },
     "execution_count": 40,
     "metadata": {},
     "output_type": "execute_result"
    }
   ],
   "source": [
    "fd.isnull().sum()"
   ]
  },
  {
   "cell_type": "code",
   "execution_count": 41,
   "metadata": {},
   "outputs": [
    {
     "name": "stdout",
     "output_type": "stream",
     "text": [
      "mean of W =  19\n",
      "std of W =  6\n",
      "The random value which we require is between  13  and  25\n"
     ]
    }
   ],
   "source": [
    "print(\"mean of W = \",round(fd.W.mean()))\n",
    "print(\"std of W = \",round(fd.W.std()))\n",
    "min1 = round(fd.W.mean())-round(fd.W.std())\n",
    "max1 = round(fd.W.mean())+round(fd.W.std())\n",
    "print(\"The random value which we require is between \",min1,\" and \",max1)"
   ]
  },
  {
   "cell_type": "code",
   "execution_count": 42,
   "metadata": {},
   "outputs": [],
   "source": [
    "w = np.zeros(30)\n",
    "for i in range(0,30):\n",
    "    w[i] = random.randint(13,25)"
   ]
  },
  {
   "cell_type": "code",
   "execution_count": 43,
   "metadata": {},
   "outputs": [
    {
     "name": "stdout",
     "output_type": "stream",
     "text": [
      "mean of D =  9\n",
      "std of D =  3\n",
      "The random value which we require is between  6  and  12\n"
     ]
    }
   ],
   "source": [
    "print(\"mean of D = \",round(fd.D.mean()))\n",
    "print(\"std of D = \",round(fd.D.std()))\n",
    "min2 = round(fd.D.mean())-round(fd.D.std())\n",
    "max2 = round(fd.D.mean())+round(fd.D.std())\n",
    "print(\"The random value which we require is between \",min2,\" and \",max2)"
   ]
  },
  {
   "cell_type": "code",
   "execution_count": 44,
   "metadata": {},
   "outputs": [],
   "source": [
    "d = np.zeros(30)\n",
    "for i in range(0,30):\n",
    "    d[i] = random.randint(6,12)"
   ]
  },
  {
   "cell_type": "code",
   "execution_count": 45,
   "metadata": {},
   "outputs": [],
   "source": [
    "l = np.zeros(30)\n",
    "for i in range(0,30):\n",
    "    l[i] = (38 - (w[i]+d[i]))"
   ]
  },
  {
   "cell_type": "code",
   "execution_count": 46,
   "metadata": {},
   "outputs": [
    {
     "name": "stdout",
     "output_type": "stream",
     "text": [
      "mean of F =  68\n",
      "std of F =  16\n",
      "The random value which we require is between  52  and  84\n"
     ]
    }
   ],
   "source": [
    "print(\"mean of F = \",round(fd.F.mean()))\n",
    "print(\"std of F = \",round(fd.F.std()))\n",
    "min4 = round(fd.F.mean())-round(fd.F.std())\n",
    "max4 = round(fd.F.mean())+round(fd.F.std())\n",
    "print(\"The random value which we require is between \",min4,\" and \",max4)"
   ]
  },
  {
   "cell_type": "code",
   "execution_count": 47,
   "metadata": {},
   "outputs": [],
   "source": [
    "f = np.zeros(30)\n",
    "for i in range(0,30):\n",
    "    f[i] = random.randint(52,84)"
   ]
  },
  {
   "cell_type": "code",
   "execution_count": 48,
   "metadata": {},
   "outputs": [
    {
     "name": "stdout",
     "output_type": "stream",
     "text": [
      "mean of A =  49\n",
      "std of A =  18\n",
      "The random value which we require is between  31  and  67\n"
     ]
    }
   ],
   "source": [
    "print(\"mean of A = \",round(df.A.mean()))\n",
    "print(\"std of A = \",round(df.A.std()))\n",
    "min5 = round(fd.A.mean())-round(fd.A.std())\n",
    "max5 = round(fd.A.mean())+round(fd.A.std())\n",
    "print(\"The random value which we require is between \",min5,\" and \",max5)"
   ]
  },
  {
   "cell_type": "code",
   "execution_count": 49,
   "metadata": {},
   "outputs": [],
   "source": [
    "a = np.zeros(30)\n",
    "for i in range(0,30):\n",
    "    a[i] = random.randint(31,67)"
   ]
  },
  {
   "cell_type": "code",
   "execution_count": 50,
   "metadata": {},
   "outputs": [],
   "source": [
    "p = np.zeros(30)\n",
    "for i in range(0,30):\n",
    "    p[i] = (3*w[i]+d[i])"
   ]
  },
  {
   "cell_type": "code",
   "execution_count": 51,
   "metadata": {},
   "outputs": [],
   "source": [
    "n = 0\n",
    "test_set = np.zeros((30,8))\n",
    "s = 38\n",
    "for i in range(2019,2049):\n",
    "    test_set[n] = [i, s, w[n], d[n], l[n], f[n], a[n], p[n]]\n",
    "    n += 1"
   ]
  },
  {
   "cell_type": "code",
   "execution_count": 52,
   "metadata": {},
   "outputs": [
    {
     "data": {
      "text/plain": [
       "array([[2019.,   38.,   23.,    8.,    7.,   78.,   57.,   77.],\n",
       "       [2020.,   38.,   15.,   10.,   13.,   77.,   36.,   55.],\n",
       "       [2021.,   38.,   22.,   10.,    6.,   77.,   33.,   76.],\n",
       "       [2022.,   38.,   19.,   10.,    9.,   76.,   50.,   67.],\n",
       "       [2023.,   38.,   21.,    9.,    8.,   54.,   67.,   72.]])"
      ]
     },
     "execution_count": 52,
     "metadata": {},
     "output_type": "execute_result"
    }
   ],
   "source": [
    "test_set[0:5]"
   ]
  },
  {
   "cell_type": "markdown",
   "metadata": {},
   "source": [
    "### ADABoost"
   ]
  },
  {
   "cell_type": "code",
   "execution_count": 53,
   "metadata": {},
   "outputs": [],
   "source": [
    "from sklearn.ensemble import AdaBoostRegressor\n",
    "\n",
    "reg = AdaBoostRegressor(loss = 'linear')\n",
    "reg.fit(X1, y1)\n",
    "grdbst_pred = reg.predict(test_set)\n"
   ]
  },
  {
   "cell_type": "code",
   "execution_count": 54,
   "metadata": {},
   "outputs": [
    {
     "name": "stdout",
     "output_type": "stream",
     "text": [
      "\n",
      "The predicted values for Test Set is:  [2.42105263 7.48148148 2.42105263 3.375      2.97222222]\n"
     ]
    }
   ],
   "source": [
    "print(\"\\nThe predicted values for Test Set is: \",grdbst_pred[0:5])"
   ]
  },
  {
   "cell_type": "code",
   "execution_count": 55,
   "metadata": {},
   "outputs": [],
   "source": [
    "plpred = np.round(grdbst_pred)"
   ]
  },
  {
   "cell_type": "code",
   "execution_count": 56,
   "metadata": {},
   "outputs": [
    {
     "data": {
      "text/plain": [
       "array([2., 7., 2., 3., 3.])"
      ]
     },
     "execution_count": 56,
     "metadata": {},
     "output_type": "execute_result"
    }
   ],
   "source": [
    "plpred[0:5]"
   ]
  }
 ],
 "metadata": {
  "kernelspec": {
   "display_name": "Python 3",
   "language": "python",
   "name": "python3"
  },
  "language_info": {
   "codemirror_mode": {
    "name": "ipython",
    "version": 3
   },
   "file_extension": ".py",
   "mimetype": "text/x-python",
   "name": "python",
   "nbconvert_exporter": "python",
   "pygments_lexer": "ipython3",
   "version": "3.7.6"
  }
 },
 "nbformat": 4,
 "nbformat_minor": 4
}
