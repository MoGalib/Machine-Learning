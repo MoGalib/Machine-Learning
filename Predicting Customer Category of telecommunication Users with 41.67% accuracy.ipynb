{
 "cells": [
  {
   "cell_type": "markdown",
   "metadata": {},
   "source": [
    "\n",
    "\n",
    "<h1 align=\"center\"><font size=\"5\">Predicting Customer Category Of Telecommunication Users</font></h1>"
   ]
  },
  {
   "cell_type": "markdown",
   "metadata": {
    "button": false,
    "new_sheet": false,
    "run_control": {
     "read_only": false
    }
   },
   "source": [
    "<div id=\"about_dataset\">\n",
    "    <h2>About the dataset</h2>\n",
    "</div>"
   ]
  },
  {
   "cell_type": "markdown",
   "metadata": {
    "button": false,
    "new_sheet": false,
    "run_control": {
     "read_only": false
    }
   },
   "source": [
    "Imagine a telecommunications provider has segmented its customer base by service usage patterns, categorizing the customers into four groups. If demographic data can be used to predict group membership, the company can customize offers for individual prospective customers. It is a classification problem. That is, given the dataset,  with predefined labels, we need to build a model to be used to predict class of a new or unknown case. \n",
    "\n",
    "The example focuses on using demographic data, such as region, age, and marital, to predict usage patterns. \n",
    "\n",
    "The target field, called __custcat__, has four possible values that correspond to the four customer groups, as follows:\n",
    "  1- Basic Service\n",
    "  2- E-Service\n",
    "  3- Plus Service\n",
    "  4- Total Service\n",
    "\n",
    "Our objective is to build a classifier, to predict the class of unknown cases. We will use a specific type of classification called K nearest neighbour.\n"
   ]
  },
  {
   "cell_type": "code",
   "execution_count": 1,
   "metadata": {},
   "outputs": [],
   "source": [
    "import itertools\n",
    "import numpy as np\n",
    "import matplotlib.pyplot as plt\n",
    "from matplotlib.ticker import NullFormatter\n",
    "import pandas as pd\n",
    "import numpy as np\n",
    "import seaborn as sns\n",
    "import matplotlib.ticker as ticker\n",
    "from sklearn import preprocessing\n",
    "%matplotlib inline"
   ]
  },
  {
   "cell_type": "markdown",
   "metadata": {},
   "source": [
    "### Load Data From CSV File  "
   ]
  },
  {
   "cell_type": "code",
   "execution_count": 2,
   "metadata": {},
   "outputs": [
    {
     "data": {
      "text/html": [
       "<div>\n",
       "<style scoped>\n",
       "    .dataframe tbody tr th:only-of-type {\n",
       "        vertical-align: middle;\n",
       "    }\n",
       "\n",
       "    .dataframe tbody tr th {\n",
       "        vertical-align: top;\n",
       "    }\n",
       "\n",
       "    .dataframe thead th {\n",
       "        text-align: right;\n",
       "    }\n",
       "</style>\n",
       "<table border=\"1\" class=\"dataframe\">\n",
       "  <thead>\n",
       "    <tr style=\"text-align: right;\">\n",
       "      <th></th>\n",
       "      <th>region</th>\n",
       "      <th>tenure</th>\n",
       "      <th>age</th>\n",
       "      <th>marital</th>\n",
       "      <th>address</th>\n",
       "      <th>income</th>\n",
       "      <th>ed</th>\n",
       "      <th>employ</th>\n",
       "      <th>retire</th>\n",
       "      <th>gender</th>\n",
       "      <th>reside</th>\n",
       "      <th>custcat</th>\n",
       "    </tr>\n",
       "  </thead>\n",
       "  <tbody>\n",
       "    <tr>\n",
       "      <th>0</th>\n",
       "      <td>2</td>\n",
       "      <td>13</td>\n",
       "      <td>44</td>\n",
       "      <td>1</td>\n",
       "      <td>9</td>\n",
       "      <td>64</td>\n",
       "      <td>4</td>\n",
       "      <td>5</td>\n",
       "      <td>0</td>\n",
       "      <td>0</td>\n",
       "      <td>2</td>\n",
       "      <td>1</td>\n",
       "    </tr>\n",
       "    <tr>\n",
       "      <th>1</th>\n",
       "      <td>3</td>\n",
       "      <td>11</td>\n",
       "      <td>33</td>\n",
       "      <td>1</td>\n",
       "      <td>7</td>\n",
       "      <td>136</td>\n",
       "      <td>5</td>\n",
       "      <td>5</td>\n",
       "      <td>0</td>\n",
       "      <td>0</td>\n",
       "      <td>6</td>\n",
       "      <td>4</td>\n",
       "    </tr>\n",
       "    <tr>\n",
       "      <th>2</th>\n",
       "      <td>3</td>\n",
       "      <td>68</td>\n",
       "      <td>52</td>\n",
       "      <td>1</td>\n",
       "      <td>24</td>\n",
       "      <td>116</td>\n",
       "      <td>1</td>\n",
       "      <td>29</td>\n",
       "      <td>0</td>\n",
       "      <td>1</td>\n",
       "      <td>2</td>\n",
       "      <td>3</td>\n",
       "    </tr>\n",
       "    <tr>\n",
       "      <th>3</th>\n",
       "      <td>2</td>\n",
       "      <td>33</td>\n",
       "      <td>33</td>\n",
       "      <td>0</td>\n",
       "      <td>12</td>\n",
       "      <td>33</td>\n",
       "      <td>2</td>\n",
       "      <td>0</td>\n",
       "      <td>0</td>\n",
       "      <td>1</td>\n",
       "      <td>1</td>\n",
       "      <td>1</td>\n",
       "    </tr>\n",
       "    <tr>\n",
       "      <th>4</th>\n",
       "      <td>2</td>\n",
       "      <td>23</td>\n",
       "      <td>30</td>\n",
       "      <td>1</td>\n",
       "      <td>9</td>\n",
       "      <td>30</td>\n",
       "      <td>1</td>\n",
       "      <td>2</td>\n",
       "      <td>0</td>\n",
       "      <td>0</td>\n",
       "      <td>4</td>\n",
       "      <td>3</td>\n",
       "    </tr>\n",
       "    <tr>\n",
       "      <th>...</th>\n",
       "      <td>...</td>\n",
       "      <td>...</td>\n",
       "      <td>...</td>\n",
       "      <td>...</td>\n",
       "      <td>...</td>\n",
       "      <td>...</td>\n",
       "      <td>...</td>\n",
       "      <td>...</td>\n",
       "      <td>...</td>\n",
       "      <td>...</td>\n",
       "      <td>...</td>\n",
       "      <td>...</td>\n",
       "    </tr>\n",
       "    <tr>\n",
       "      <th>95</th>\n",
       "      <td>2</td>\n",
       "      <td>17</td>\n",
       "      <td>33</td>\n",
       "      <td>0</td>\n",
       "      <td>9</td>\n",
       "      <td>23</td>\n",
       "      <td>5</td>\n",
       "      <td>3</td>\n",
       "      <td>0</td>\n",
       "      <td>0</td>\n",
       "      <td>1</td>\n",
       "      <td>4</td>\n",
       "    </tr>\n",
       "    <tr>\n",
       "      <th>96</th>\n",
       "      <td>1</td>\n",
       "      <td>55</td>\n",
       "      <td>53</td>\n",
       "      <td>1</td>\n",
       "      <td>21</td>\n",
       "      <td>34</td>\n",
       "      <td>1</td>\n",
       "      <td>8</td>\n",
       "      <td>0</td>\n",
       "      <td>0</td>\n",
       "      <td>2</td>\n",
       "      <td>3</td>\n",
       "    </tr>\n",
       "    <tr>\n",
       "      <th>97</th>\n",
       "      <td>3</td>\n",
       "      <td>43</td>\n",
       "      <td>36</td>\n",
       "      <td>1</td>\n",
       "      <td>5</td>\n",
       "      <td>107</td>\n",
       "      <td>1</td>\n",
       "      <td>19</td>\n",
       "      <td>0</td>\n",
       "      <td>1</td>\n",
       "      <td>3</td>\n",
       "      <td>2</td>\n",
       "    </tr>\n",
       "    <tr>\n",
       "      <th>98</th>\n",
       "      <td>2</td>\n",
       "      <td>47</td>\n",
       "      <td>25</td>\n",
       "      <td>1</td>\n",
       "      <td>5</td>\n",
       "      <td>21</td>\n",
       "      <td>1</td>\n",
       "      <td>1</td>\n",
       "      <td>0</td>\n",
       "      <td>1</td>\n",
       "      <td>2</td>\n",
       "      <td>3</td>\n",
       "    </tr>\n",
       "    <tr>\n",
       "      <th>99</th>\n",
       "      <td>3</td>\n",
       "      <td>65</td>\n",
       "      <td>58</td>\n",
       "      <td>0</td>\n",
       "      <td>30</td>\n",
       "      <td>83</td>\n",
       "      <td>2</td>\n",
       "      <td>16</td>\n",
       "      <td>0</td>\n",
       "      <td>1</td>\n",
       "      <td>1</td>\n",
       "      <td>2</td>\n",
       "    </tr>\n",
       "  </tbody>\n",
       "</table>\n",
       "<p>100 rows × 12 columns</p>\n",
       "</div>"
      ],
      "text/plain": [
       "    region  tenure  age  marital  address  income  ed  employ  retire  gender  \\\n",
       "0        2      13   44        1        9      64   4       5       0       0   \n",
       "1        3      11   33        1        7     136   5       5       0       0   \n",
       "2        3      68   52        1       24     116   1      29       0       1   \n",
       "3        2      33   33        0       12      33   2       0       0       1   \n",
       "4        2      23   30        1        9      30   1       2       0       0   \n",
       "..     ...     ...  ...      ...      ...     ...  ..     ...     ...     ...   \n",
       "95       2      17   33        0        9      23   5       3       0       0   \n",
       "96       1      55   53        1       21      34   1       8       0       0   \n",
       "97       3      43   36        1        5     107   1      19       0       1   \n",
       "98       2      47   25        1        5      21   1       1       0       1   \n",
       "99       3      65   58        0       30      83   2      16       0       1   \n",
       "\n",
       "    reside  custcat  \n",
       "0        2        1  \n",
       "1        6        4  \n",
       "2        2        3  \n",
       "3        1        1  \n",
       "4        4        3  \n",
       "..     ...      ...  \n",
       "95       1        4  \n",
       "96       2        3  \n",
       "97       3        2  \n",
       "98       2        3  \n",
       "99       1        2  \n",
       "\n",
       "[100 rows x 12 columns]"
      ]
     },
     "execution_count": 2,
     "metadata": {},
     "output_type": "execute_result"
    }
   ],
   "source": [
    "df = pd.read_csv(r'E:\\Datasets\\teleCustCat.csv', encoding= 'unicode_escape')   \n",
    "df.head(100) "
   ]
  },
  {
   "cell_type": "code",
   "execution_count": 3,
   "metadata": {},
   "outputs": [
    {
     "data": {
      "text/html": [
       "<div>\n",
       "<style scoped>\n",
       "    .dataframe tbody tr th:only-of-type {\n",
       "        vertical-align: middle;\n",
       "    }\n",
       "\n",
       "    .dataframe tbody tr th {\n",
       "        vertical-align: top;\n",
       "    }\n",
       "\n",
       "    .dataframe thead th {\n",
       "        text-align: right;\n",
       "    }\n",
       "</style>\n",
       "<table border=\"1\" class=\"dataframe\">\n",
       "  <thead>\n",
       "    <tr style=\"text-align: right;\">\n",
       "      <th></th>\n",
       "      <th>region</th>\n",
       "      <th>tenure</th>\n",
       "      <th>age</th>\n",
       "      <th>marital</th>\n",
       "      <th>address</th>\n",
       "      <th>income</th>\n",
       "      <th>ed</th>\n",
       "      <th>employ</th>\n",
       "      <th>retire</th>\n",
       "      <th>gender</th>\n",
       "      <th>reside</th>\n",
       "      <th>custcat</th>\n",
       "    </tr>\n",
       "  </thead>\n",
       "  <tbody>\n",
       "    <tr>\n",
       "      <th>0</th>\n",
       "      <td>False</td>\n",
       "      <td>False</td>\n",
       "      <td>False</td>\n",
       "      <td>False</td>\n",
       "      <td>False</td>\n",
       "      <td>False</td>\n",
       "      <td>False</td>\n",
       "      <td>False</td>\n",
       "      <td>False</td>\n",
       "      <td>False</td>\n",
       "      <td>False</td>\n",
       "      <td>False</td>\n",
       "    </tr>\n",
       "    <tr>\n",
       "      <th>1</th>\n",
       "      <td>False</td>\n",
       "      <td>False</td>\n",
       "      <td>False</td>\n",
       "      <td>False</td>\n",
       "      <td>False</td>\n",
       "      <td>False</td>\n",
       "      <td>False</td>\n",
       "      <td>False</td>\n",
       "      <td>False</td>\n",
       "      <td>False</td>\n",
       "      <td>False</td>\n",
       "      <td>False</td>\n",
       "    </tr>\n",
       "    <tr>\n",
       "      <th>2</th>\n",
       "      <td>False</td>\n",
       "      <td>False</td>\n",
       "      <td>False</td>\n",
       "      <td>False</td>\n",
       "      <td>False</td>\n",
       "      <td>False</td>\n",
       "      <td>False</td>\n",
       "      <td>False</td>\n",
       "      <td>False</td>\n",
       "      <td>False</td>\n",
       "      <td>False</td>\n",
       "      <td>False</td>\n",
       "    </tr>\n",
       "    <tr>\n",
       "      <th>3</th>\n",
       "      <td>False</td>\n",
       "      <td>False</td>\n",
       "      <td>False</td>\n",
       "      <td>False</td>\n",
       "      <td>False</td>\n",
       "      <td>False</td>\n",
       "      <td>False</td>\n",
       "      <td>False</td>\n",
       "      <td>False</td>\n",
       "      <td>False</td>\n",
       "      <td>False</td>\n",
       "      <td>False</td>\n",
       "    </tr>\n",
       "    <tr>\n",
       "      <th>4</th>\n",
       "      <td>False</td>\n",
       "      <td>False</td>\n",
       "      <td>False</td>\n",
       "      <td>False</td>\n",
       "      <td>False</td>\n",
       "      <td>False</td>\n",
       "      <td>False</td>\n",
       "      <td>False</td>\n",
       "      <td>False</td>\n",
       "      <td>False</td>\n",
       "      <td>False</td>\n",
       "      <td>False</td>\n",
       "    </tr>\n",
       "    <tr>\n",
       "      <th>...</th>\n",
       "      <td>...</td>\n",
       "      <td>...</td>\n",
       "      <td>...</td>\n",
       "      <td>...</td>\n",
       "      <td>...</td>\n",
       "      <td>...</td>\n",
       "      <td>...</td>\n",
       "      <td>...</td>\n",
       "      <td>...</td>\n",
       "      <td>...</td>\n",
       "      <td>...</td>\n",
       "      <td>...</td>\n",
       "    </tr>\n",
       "    <tr>\n",
       "      <th>995</th>\n",
       "      <td>False</td>\n",
       "      <td>False</td>\n",
       "      <td>False</td>\n",
       "      <td>False</td>\n",
       "      <td>False</td>\n",
       "      <td>False</td>\n",
       "      <td>False</td>\n",
       "      <td>False</td>\n",
       "      <td>False</td>\n",
       "      <td>False</td>\n",
       "      <td>False</td>\n",
       "      <td>False</td>\n",
       "    </tr>\n",
       "    <tr>\n",
       "      <th>996</th>\n",
       "      <td>False</td>\n",
       "      <td>False</td>\n",
       "      <td>False</td>\n",
       "      <td>False</td>\n",
       "      <td>False</td>\n",
       "      <td>False</td>\n",
       "      <td>False</td>\n",
       "      <td>False</td>\n",
       "      <td>False</td>\n",
       "      <td>False</td>\n",
       "      <td>False</td>\n",
       "      <td>False</td>\n",
       "    </tr>\n",
       "    <tr>\n",
       "      <th>997</th>\n",
       "      <td>False</td>\n",
       "      <td>False</td>\n",
       "      <td>False</td>\n",
       "      <td>False</td>\n",
       "      <td>False</td>\n",
       "      <td>False</td>\n",
       "      <td>False</td>\n",
       "      <td>False</td>\n",
       "      <td>False</td>\n",
       "      <td>False</td>\n",
       "      <td>False</td>\n",
       "      <td>False</td>\n",
       "    </tr>\n",
       "    <tr>\n",
       "      <th>998</th>\n",
       "      <td>False</td>\n",
       "      <td>False</td>\n",
       "      <td>False</td>\n",
       "      <td>False</td>\n",
       "      <td>False</td>\n",
       "      <td>False</td>\n",
       "      <td>False</td>\n",
       "      <td>False</td>\n",
       "      <td>False</td>\n",
       "      <td>False</td>\n",
       "      <td>False</td>\n",
       "      <td>False</td>\n",
       "    </tr>\n",
       "    <tr>\n",
       "      <th>999</th>\n",
       "      <td>False</td>\n",
       "      <td>False</td>\n",
       "      <td>False</td>\n",
       "      <td>False</td>\n",
       "      <td>False</td>\n",
       "      <td>False</td>\n",
       "      <td>False</td>\n",
       "      <td>False</td>\n",
       "      <td>False</td>\n",
       "      <td>False</td>\n",
       "      <td>False</td>\n",
       "      <td>False</td>\n",
       "    </tr>\n",
       "  </tbody>\n",
       "</table>\n",
       "<p>1000 rows × 12 columns</p>\n",
       "</div>"
      ],
      "text/plain": [
       "     region  tenure    age  marital  address  income     ed  employ  retire  \\\n",
       "0     False   False  False    False    False   False  False   False   False   \n",
       "1     False   False  False    False    False   False  False   False   False   \n",
       "2     False   False  False    False    False   False  False   False   False   \n",
       "3     False   False  False    False    False   False  False   False   False   \n",
       "4     False   False  False    False    False   False  False   False   False   \n",
       "..      ...     ...    ...      ...      ...     ...    ...     ...     ...   \n",
       "995   False   False  False    False    False   False  False   False   False   \n",
       "996   False   False  False    False    False   False  False   False   False   \n",
       "997   False   False  False    False    False   False  False   False   False   \n",
       "998   False   False  False    False    False   False  False   False   False   \n",
       "999   False   False  False    False    False   False  False   False   False   \n",
       "\n",
       "     gender  reside  custcat  \n",
       "0     False   False    False  \n",
       "1     False   False    False  \n",
       "2     False   False    False  \n",
       "3     False   False    False  \n",
       "4     False   False    False  \n",
       "..      ...     ...      ...  \n",
       "995   False   False    False  \n",
       "996   False   False    False  \n",
       "997   False   False    False  \n",
       "998   False   False    False  \n",
       "999   False   False    False  \n",
       "\n",
       "[1000 rows x 12 columns]"
      ]
     },
     "execution_count": 3,
     "metadata": {},
     "output_type": "execute_result"
    }
   ],
   "source": [
    "df.isnull()"
   ]
  },
  {
   "cell_type": "code",
   "execution_count": 4,
   "metadata": {},
   "outputs": [
    {
     "data": {
      "text/html": [
       "<div>\n",
       "<style scoped>\n",
       "    .dataframe tbody tr th:only-of-type {\n",
       "        vertical-align: middle;\n",
       "    }\n",
       "\n",
       "    .dataframe tbody tr th {\n",
       "        vertical-align: top;\n",
       "    }\n",
       "\n",
       "    .dataframe thead th {\n",
       "        text-align: right;\n",
       "    }\n",
       "</style>\n",
       "<table border=\"1\" class=\"dataframe\">\n",
       "  <thead>\n",
       "    <tr style=\"text-align: right;\">\n",
       "      <th></th>\n",
       "      <th>region</th>\n",
       "      <th>tenure</th>\n",
       "      <th>age</th>\n",
       "      <th>marital</th>\n",
       "      <th>address</th>\n",
       "      <th>income</th>\n",
       "      <th>ed</th>\n",
       "      <th>employ</th>\n",
       "      <th>retire</th>\n",
       "      <th>gender</th>\n",
       "      <th>reside</th>\n",
       "      <th>custcat</th>\n",
       "    </tr>\n",
       "  </thead>\n",
       "  <tbody>\n",
       "    <tr>\n",
       "      <th>count</th>\n",
       "      <td>1000.0000</td>\n",
       "      <td>1000.000000</td>\n",
       "      <td>1000.000000</td>\n",
       "      <td>1000.000000</td>\n",
       "      <td>1000.000000</td>\n",
       "      <td>1000.000000</td>\n",
       "      <td>1000.000000</td>\n",
       "      <td>1000.000000</td>\n",
       "      <td>1000.000000</td>\n",
       "      <td>1000.000000</td>\n",
       "      <td>1000.000000</td>\n",
       "      <td>1000.000000</td>\n",
       "    </tr>\n",
       "    <tr>\n",
       "      <th>mean</th>\n",
       "      <td>2.0220</td>\n",
       "      <td>35.526000</td>\n",
       "      <td>41.684000</td>\n",
       "      <td>0.495000</td>\n",
       "      <td>11.551000</td>\n",
       "      <td>77.535000</td>\n",
       "      <td>2.671000</td>\n",
       "      <td>10.987000</td>\n",
       "      <td>0.047000</td>\n",
       "      <td>0.517000</td>\n",
       "      <td>2.331000</td>\n",
       "      <td>2.487000</td>\n",
       "    </tr>\n",
       "    <tr>\n",
       "      <th>std</th>\n",
       "      <td>0.8162</td>\n",
       "      <td>21.359812</td>\n",
       "      <td>12.558816</td>\n",
       "      <td>0.500225</td>\n",
       "      <td>10.086681</td>\n",
       "      <td>107.044165</td>\n",
       "      <td>1.222397</td>\n",
       "      <td>10.082087</td>\n",
       "      <td>0.211745</td>\n",
       "      <td>0.499961</td>\n",
       "      <td>1.435793</td>\n",
       "      <td>1.120306</td>\n",
       "    </tr>\n",
       "    <tr>\n",
       "      <th>min</th>\n",
       "      <td>1.0000</td>\n",
       "      <td>1.000000</td>\n",
       "      <td>18.000000</td>\n",
       "      <td>0.000000</td>\n",
       "      <td>0.000000</td>\n",
       "      <td>9.000000</td>\n",
       "      <td>1.000000</td>\n",
       "      <td>0.000000</td>\n",
       "      <td>0.000000</td>\n",
       "      <td>0.000000</td>\n",
       "      <td>1.000000</td>\n",
       "      <td>1.000000</td>\n",
       "    </tr>\n",
       "    <tr>\n",
       "      <th>25%</th>\n",
       "      <td>1.0000</td>\n",
       "      <td>17.000000</td>\n",
       "      <td>32.000000</td>\n",
       "      <td>0.000000</td>\n",
       "      <td>3.000000</td>\n",
       "      <td>29.000000</td>\n",
       "      <td>2.000000</td>\n",
       "      <td>3.000000</td>\n",
       "      <td>0.000000</td>\n",
       "      <td>0.000000</td>\n",
       "      <td>1.000000</td>\n",
       "      <td>1.000000</td>\n",
       "    </tr>\n",
       "    <tr>\n",
       "      <th>50%</th>\n",
       "      <td>2.0000</td>\n",
       "      <td>34.000000</td>\n",
       "      <td>40.000000</td>\n",
       "      <td>0.000000</td>\n",
       "      <td>9.000000</td>\n",
       "      <td>47.000000</td>\n",
       "      <td>3.000000</td>\n",
       "      <td>8.000000</td>\n",
       "      <td>0.000000</td>\n",
       "      <td>1.000000</td>\n",
       "      <td>2.000000</td>\n",
       "      <td>3.000000</td>\n",
       "    </tr>\n",
       "    <tr>\n",
       "      <th>75%</th>\n",
       "      <td>3.0000</td>\n",
       "      <td>54.000000</td>\n",
       "      <td>51.000000</td>\n",
       "      <td>1.000000</td>\n",
       "      <td>18.000000</td>\n",
       "      <td>83.000000</td>\n",
       "      <td>4.000000</td>\n",
       "      <td>17.000000</td>\n",
       "      <td>0.000000</td>\n",
       "      <td>1.000000</td>\n",
       "      <td>3.000000</td>\n",
       "      <td>3.000000</td>\n",
       "    </tr>\n",
       "    <tr>\n",
       "      <th>max</th>\n",
       "      <td>3.0000</td>\n",
       "      <td>72.000000</td>\n",
       "      <td>77.000000</td>\n",
       "      <td>1.000000</td>\n",
       "      <td>55.000000</td>\n",
       "      <td>1668.000000</td>\n",
       "      <td>5.000000</td>\n",
       "      <td>47.000000</td>\n",
       "      <td>1.000000</td>\n",
       "      <td>1.000000</td>\n",
       "      <td>8.000000</td>\n",
       "      <td>4.000000</td>\n",
       "    </tr>\n",
       "  </tbody>\n",
       "</table>\n",
       "</div>"
      ],
      "text/plain": [
       "          region       tenure          age      marital      address  \\\n",
       "count  1000.0000  1000.000000  1000.000000  1000.000000  1000.000000   \n",
       "mean      2.0220    35.526000    41.684000     0.495000    11.551000   \n",
       "std       0.8162    21.359812    12.558816     0.500225    10.086681   \n",
       "min       1.0000     1.000000    18.000000     0.000000     0.000000   \n",
       "25%       1.0000    17.000000    32.000000     0.000000     3.000000   \n",
       "50%       2.0000    34.000000    40.000000     0.000000     9.000000   \n",
       "75%       3.0000    54.000000    51.000000     1.000000    18.000000   \n",
       "max       3.0000    72.000000    77.000000     1.000000    55.000000   \n",
       "\n",
       "            income           ed       employ       retire       gender  \\\n",
       "count  1000.000000  1000.000000  1000.000000  1000.000000  1000.000000   \n",
       "mean     77.535000     2.671000    10.987000     0.047000     0.517000   \n",
       "std     107.044165     1.222397    10.082087     0.211745     0.499961   \n",
       "min       9.000000     1.000000     0.000000     0.000000     0.000000   \n",
       "25%      29.000000     2.000000     3.000000     0.000000     0.000000   \n",
       "50%      47.000000     3.000000     8.000000     0.000000     1.000000   \n",
       "75%      83.000000     4.000000    17.000000     0.000000     1.000000   \n",
       "max    1668.000000     5.000000    47.000000     1.000000     1.000000   \n",
       "\n",
       "            reside      custcat  \n",
       "count  1000.000000  1000.000000  \n",
       "mean      2.331000     2.487000  \n",
       "std       1.435793     1.120306  \n",
       "min       1.000000     1.000000  \n",
       "25%       1.000000     1.000000  \n",
       "50%       2.000000     3.000000  \n",
       "75%       3.000000     3.000000  \n",
       "max       8.000000     4.000000  "
      ]
     },
     "execution_count": 4,
     "metadata": {},
     "output_type": "execute_result"
    }
   ],
   "source": [
    "df.describe()"
   ]
  },
  {
   "cell_type": "code",
   "execution_count": 5,
   "metadata": {},
   "outputs": [
    {
     "data": {
      "text/plain": [
       "(1000, 12)"
      ]
     },
     "execution_count": 5,
     "metadata": {},
     "output_type": "execute_result"
    }
   ],
   "source": [
    "df.shape"
   ]
  },
  {
   "cell_type": "markdown",
   "metadata": {
    "button": false,
    "new_sheet": false,
    "run_control": {
     "read_only": false
    }
   },
   "source": [
    "<div id=\"visualization_analysis\">\n",
    "    <h2>Data Visualization and Analysis</h2> \n",
    "</div>\n"
   ]
  },
  {
   "cell_type": "code",
   "execution_count": 6,
   "metadata": {
    "scrolled": true
   },
   "outputs": [
    {
     "data": {
      "text/plain": [
       "3    281\n",
       "1    266\n",
       "4    236\n",
       "2    217\n",
       "Name: custcat, dtype: int64"
      ]
     },
     "execution_count": 6,
     "metadata": {},
     "output_type": "execute_result"
    }
   ],
   "source": [
    "df['custcat'].value_counts()"
   ]
  },
  {
   "cell_type": "markdown",
   "metadata": {
    "button": false,
    "new_sheet": false,
    "run_control": {
     "read_only": false
    }
   },
   "source": [
    "#### 281 Plus Service, 266 Basic-service, 236 Total Service, and 217 E-Service customers\n"
   ]
  },
  {
   "cell_type": "code",
   "execution_count": 7,
   "metadata": {},
   "outputs": [
    {
     "data": {
      "text/plain": [
       "array([[<matplotlib.axes._subplots.AxesSubplot object at 0x0000022D9311A1C8>]],\n",
       "      dtype=object)"
      ]
     },
     "execution_count": 7,
     "metadata": {},
     "output_type": "execute_result"
    },
    {
     "data": {
      "image/png": "[encoded data removed]",
      "text/plain": [
       "<Figure size 432x288 with 1 Axes>"
      ]
     },
     "metadata": {
      "needs_background": "light"
     },
     "output_type": "display_data"
    }
   ],
   "source": [
    "df.hist(column='income', bins=50)"
   ]
  },
  {
   "cell_type": "code",
   "execution_count": 8,
   "metadata": {
    "scrolled": true
   },
   "outputs": [
    {
     "data": {
      "text/plain": [
       "Text(0.5, 1.0, 'scatter')"
      ]
     },
     "execution_count": 8,
     "metadata": {},
     "output_type": "execute_result"
    },
    {
     "data": {
      "image/png": "[encoded data removed]",
      "text/plain": [
       "<Figure size 432x288 with 1 Axes>"
      ]
     },
     "metadata": {
      "needs_background": "light"
     },
     "output_type": "display_data"
    }
   ],
   "source": [
    "ax = df[df.custcat==1].plot.scatter(x='income', y='age', color='red', label='Basic Service')\n",
    "df[df.custcat==2].plot.scatter(x='income', y='age', color='green', label='E Service', ax=ax)\n",
    "df[df.custcat==3].plot.scatter(x='income', y='age', color='blue', label='Plus Service', ax=ax)\n",
    "df[df.custcat==4].plot.scatter(x='income', y='age', color='yellow', label='Total Service', ax=ax)\n",
    "ax.set_title(\"scatter\")"
   ]
  },
  {
   "cell_type": "markdown",
   "metadata": {},
   "source": [
    "# Pre-processing:  Feature selection/extraction"
   ]
  },
  {
   "cell_type": "code",
   "execution_count": 9,
   "metadata": {},
   "outputs": [
    {
     "data": {
      "text/plain": [
       "array([[  2,  13,  44,   1,   9,  64,   4,   5,   0,   0,   2],\n",
       "       [  3,  11,  33,   1,   7, 136,   5,   5,   0,   0,   6],\n",
       "       [  3,  68,  52,   1,  24, 116,   1,  29,   0,   1,   2],\n",
       "       [  2,  33,  33,   0,  12,  33,   2,   0,   0,   1,   1],\n",
       "       [  2,  23,  30,   1,   9,  30,   1,   2,   0,   0,   4]],\n",
       "      dtype=int64)"
      ]
     },
     "execution_count": 9,
     "metadata": {},
     "output_type": "execute_result"
    }
   ],
   "source": [
    "X = df[['region', 'tenure','age', 'marital', 'address', 'income', 'ed', 'employ','retire', 'gender', 'reside']] .values  #.astype(float)\n",
    "X[0:5]"
   ]
  },
  {
   "cell_type": "code",
   "execution_count": 10,
   "metadata": {},
   "outputs": [
    {
     "data": {
      "text/plain": [
       "array([1, 4, 3, 1, 3], dtype=int64)"
      ]
     },
     "execution_count": 10,
     "metadata": {},
     "output_type": "execute_result"
    }
   ],
   "source": [
    "y = df['custcat'].values\n",
    "y[0:5]"
   ]
  },
  {
   "cell_type": "markdown",
   "metadata": {
    "button": false,
    "new_sheet": false,
    "run_control": {
     "read_only": false
    }
   },
   "source": [
    "## Normalize Data "
   ]
  },
  {
   "cell_type": "code",
   "execution_count": 11,
   "metadata": {
    "scrolled": true
   },
   "outputs": [
    {
     "data": {
      "text/plain": [
       "array([[-0.02696767, -1.055125  ,  0.18450456,  1.0100505 , -0.25303431,\n",
       "        -0.12650641,  1.0877526 , -0.5941226 , -0.22207644, -1.03459817,\n",
       "        -0.23065004],\n",
       "       [ 1.19883553, -1.14880563, -0.69181243,  1.0100505 , -0.4514148 ,\n",
       "         0.54644972,  1.9062271 , -0.5941226 , -0.22207644, -1.03459817,\n",
       "         2.55666158],\n",
       "       [ 1.19883553,  1.52109247,  0.82182601,  1.0100505 ,  1.23481934,\n",
       "         0.35951747, -1.36767088,  1.78752803, -0.22207644,  0.96655883,\n",
       "        -0.23065004],\n",
       "       [-0.02696767, -0.11831864, -0.69181243, -0.9900495 ,  0.04453642,\n",
       "        -0.41625141, -0.54919639, -1.09029981, -0.22207644,  0.96655883,\n",
       "        -0.92747794],\n",
       "       [-0.02696767, -0.58672182, -0.93080797,  1.0100505 , -0.25303431,\n",
       "        -0.44429125, -1.36767088, -0.89182893, -0.22207644, -1.03459817,\n",
       "         1.16300577]])"
      ]
     },
     "execution_count": 11,
     "metadata": {},
     "output_type": "execute_result"
    }
   ],
   "source": [
    "X = preprocessing.StandardScaler().fit(X).transform(X.astype(float))\n",
    "X[0:5]"
   ]
  },
  {
   "cell_type": "markdown",
   "metadata": {},
   "source": [
    "## Divide the dataset into Training and Test Set"
   ]
  },
  {
   "cell_type": "code",
   "execution_count": 12,
   "metadata": {},
   "outputs": [],
   "source": [
    "from sklearn.model_selection import train_test_split\n",
    "\n",
    "X_train, X_test, y_train, y_test = train_test_split( X, y, test_size=0.3, random_state=4)"
   ]
  },
  {
   "cell_type": "markdown",
   "metadata": {
    "button": false,
    "new_sheet": false,
    "run_control": {
     "read_only": false
    }
   },
   "source": [
    "# Classification "
   ]
  },
  {
   "cell_type": "markdown",
   "metadata": {
    "button": false,
    "new_sheet": false,
    "run_control": {
     "read_only": false
    }
   },
   "source": [
    "- K Nearest Neighbor(KNN)\n",
    "- Decision Tree\n",
    "- Support Vector Machine\n",
    "- Logistic Regression\n",
    "- Naive Bayes\n",
    "- Random Forest"
   ]
  },
  {
   "cell_type": "markdown",
   "metadata": {},
   "source": [
    "# K Nearest Neighbor(KNN)"
   ]
  },
  {
   "cell_type": "code",
   "execution_count": 13,
   "metadata": {
    "scrolled": true
   },
   "outputs": [
    {
     "name": "stdout",
     "output_type": "stream",
     "text": [
      "The predicted values using K =  1 is  [3 3 1 4 4]\n",
      "The predicted values using K =  2 is  [3 1 1 2 2]\n",
      "The predicted values using K =  3 is  [3 3 1 4 4]\n",
      "The predicted values using K =  4 is  [3 1 3 2 4]\n",
      "The predicted values using K =  5 is  [3 3 3 2 4]\n",
      "The predicted values using K =  6 is  [3 3 3 2 4]\n",
      "The predicted values using K =  7 is  [3 3 4 2 4]\n",
      "The predicted values using K =  8 is  [3 2 4 2 4]\n",
      "The predicted values using K =  9 is  [3 1 4 2 4]\n"
     ]
    }
   ],
   "source": [
    "from sklearn.neighbors import KNeighborsClassifier\n",
    "\n",
    "Ks = 10\n",
    "for n in range(1,Ks):\n",
    "    #Train Model and Predict  \n",
    "    neigh = KNeighborsClassifier(n_neighbors = n).fit(X_train,y_train)\n",
    "    yhat_KNN=neigh.predict(X_test)\n",
    "    print(\"The predicted values using K = \", n, \"is \", yhat_KNN[0:5])"
   ]
  },
  {
   "cell_type": "markdown",
   "metadata": {},
   "source": [
    "# Decision Tree"
   ]
  },
  {
   "cell_type": "code",
   "execution_count": 14,
   "metadata": {},
   "outputs": [
    {
     "name": "stdout",
     "output_type": "stream",
     "text": [
      "The values predicted by Decision Tree using criterion =  entropy  is  [3 3 4 4 4]\n",
      "The values predicted by Decision Tree using criterion =  gini  is  [3 4 2 4 4]\n"
     ]
    }
   ],
   "source": [
    "from sklearn.tree import DecisionTreeClassifier\n",
    "dtree_criterions = ['entropy', 'gini']\n",
    "for i in dtree_criterions:\n",
    "    drugTree = DecisionTreeClassifier(criterion=i)\n",
    "    drugTree.fit(X_train, y_train)\n",
    "    predTree = drugTree.predict(X_test)\n",
    "    print (\"The values predicted by Decision Tree using criterion = \",i,\" is \", predTree [0:5])"
   ]
  },
  {
   "cell_type": "markdown",
   "metadata": {},
   "source": [
    "# Support Vector Machine"
   ]
  },
  {
   "cell_type": "code",
   "execution_count": 15,
   "metadata": {
    "scrolled": true
   },
   "outputs": [
    {
     "name": "stdout",
     "output_type": "stream",
     "text": [
      "The values predicted by SVM using kernels =  rbf  is  [3 1 4 4 4]\n",
      "The values predicted by SVM using kernels =  linear  is  [3 1 4 4 4]\n",
      "The values predicted by SVM using kernels =  poly  is  [3 1 2 4 4]\n",
      "The values predicted by SVM using kernels =  sigmoid  is  [1 1 4 1 4]\n"
     ]
    }
   ],
   "source": [
    "from sklearn import svm\n",
    "svm_kernels = ['rbf', 'linear', 'poly', 'sigmoid']\n",
    "for i in svm_kernels:\n",
    "    clf = svm.SVC(kernel=i)\n",
    "    clf.fit(X_train, y_train) \n",
    "    yhat_SVM = clf.predict(X_test)\n",
    "    print(\"The values predicted by SVM using kernels = \", i, \" is \", yhat_SVM [0:5])"
   ]
  },
  {
   "cell_type": "markdown",
   "metadata": {},
   "source": [
    "# Logistic Regression"
   ]
  },
  {
   "cell_type": "code",
   "execution_count": 16,
   "metadata": {
    "scrolled": true
   },
   "outputs": [
    {
     "name": "stdout",
     "output_type": "stream",
     "text": [
      "The values predicted by Logistic Regression using c =  0.001  and solver =  liblinear  is  [1 1 4 4 4]\n",
      "The values predicted by Logistic Regression using c =  0.01  and solver =  liblinear  is  [3 1 4 4 4]\n",
      "The values predicted by Logistic Regression using c =  0.1  and solver =  liblinear  is  [3 1 4 4 4]\n",
      "The values predicted by Logistic Regression using c =  0.001  and solver =  newton-cg  is  [3 1 4 1 4]\n",
      "The values predicted by Logistic Regression using c =  0.01  and solver =  newton-cg  is  [3 1 4 4 4]\n",
      "The values predicted by Logistic Regression using c =  0.1  and solver =  newton-cg  is  [3 1 4 4 4]\n",
      "The values predicted by Logistic Regression using c =  0.001  and solver =  lbfgs  is  [3 1 4 1 4]\n",
      "The values predicted by Logistic Regression using c =  0.01  and solver =  lbfgs  is  [3 1 4 4 4]\n",
      "The values predicted by Logistic Regression using c =  0.1  and solver =  lbfgs  is  [3 1 4 4 4]\n",
      "The values predicted by Logistic Regression using c =  0.001  and solver =  sag  is  [3 1 4 1 4]\n",
      "The values predicted by Logistic Regression using c =  0.01  and solver =  sag  is  [3 1 4 4 4]\n",
      "The values predicted by Logistic Regression using c =  0.1  and solver =  sag  is  [3 1 4 4 4]\n",
      "The values predicted by Logistic Regression using c =  0.001  and solver =  saga  is  [3 1 4 1 4]\n",
      "The values predicted by Logistic Regression using c =  0.01  and solver =  saga  is  [3 1 4 4 4]\n",
      "The values predicted by Logistic Regression using c =  0.1  and solver =  saga  is  [3 1 4 4 4]\n"
     ]
    }
   ],
   "source": [
    "from sklearn.linear_model import LogisticRegression\n",
    "c_param_range=[0.001,0.01,0.1]\n",
    "lr_solvers=['liblinear', 'newton-cg', 'lbfgs', 'sag', 'saga']\n",
    "for i in lr_solvers:\n",
    "    for f in c_param_range:\n",
    "        LR = LogisticRegression(C=f, solver=i).fit(X_train,y_train)\n",
    "        yhat_LR = LR.predict(X_test)\n",
    "        print(\"The values predicted by Logistic Regression using c = \",f,\" and solver = \",i, \" is \",yhat_LR[0:5])\n"
   ]
  },
  {
   "cell_type": "markdown",
   "metadata": {},
   "source": [
    "# Naive bayes"
   ]
  },
  {
   "cell_type": "code",
   "execution_count": 17,
   "metadata": {},
   "outputs": [
    {
     "name": "stdout",
     "output_type": "stream",
     "text": [
      "The values predicted by Naive Bayes is  [1 1 4 1 4]\n"
     ]
    }
   ],
   "source": [
    "from sklearn.naive_bayes import GaussianNB\n",
    "gnb = GaussianNB()\n",
    "y_pred_NB = gnb.fit(X_train, y_train).predict(X_test)\n",
    "print(\"The values predicted by Naive Bayes is \", y_pred_NB[0:5])"
   ]
  },
  {
   "cell_type": "markdown",
   "metadata": {},
   "source": [
    "# Random Forest"
   ]
  },
  {
   "cell_type": "code",
   "execution_count": 18,
   "metadata": {},
   "outputs": [
    {
     "name": "stdout",
     "output_type": "stream",
     "text": [
      "The values predicted by Random Forest using criterion =  entropy  is  [1 1 4 4 4]\n",
      "The values predicted by Random Forest using criterion =  gini  is  [1 1 4 4 4]\n"
     ]
    }
   ],
   "source": [
    "from sklearn.ensemble import RandomForestClassifier\n",
    "rf_criterion=['entropy', 'gini']\n",
    "for i in rf_criterion:\n",
    "    clf=RandomForestClassifier(criterion=i)\n",
    "    clf.fit(X_train,y_train)\n",
    "    y_pred_RF=clf.predict(X_test)\n",
    "    print(\"The values predicted by Random Forest using criterion = \", i,\" is \",y_pred_RF[0:5])\n"
   ]
  },
  {
   "cell_type": "markdown",
   "metadata": {},
   "source": [
    "# Model Evaluation using Test set"
   ]
  },
  {
   "cell_type": "code",
   "execution_count": 19,
   "metadata": {},
   "outputs": [],
   "source": [
    "from sklearn.metrics import f1_score\n",
    "from sklearn.metrics import accuracy_score\n",
    "from sklearn.metrics import classification_report"
   ]
  },
  {
   "cell_type": "markdown",
   "metadata": {},
   "source": [
    "### KNN"
   ]
  },
  {
   "cell_type": "code",
   "execution_count": 20,
   "metadata": {
    "scrolled": true
   },
   "outputs": [
    {
     "name": "stdout",
     "output_type": "stream",
     "text": [
      "The accuracy score with k =  1 is  0.28\n",
      "The f1 score with k =  1 is  0.2802232381373485\n",
      "The accuracy score with k =  2 is  0.2733333333333333\n",
      "The f1 score with k =  2 is  0.2375438379466512\n",
      "The accuracy score with k =  3 is  0.30666666666666664\n",
      "The f1 score with k =  3 is  0.29636075152265373\n",
      "The accuracy score with k =  4 is  0.33\n",
      "The f1 score with k =  4 is  0.32184319699462793\n",
      "The accuracy score with k =  5 is  0.34\n",
      "The f1 score with k =  5 is  0.332524617158891\n",
      "The accuracy score with k =  6 is  0.31666666666666665\n",
      "The f1 score with k =  6 is  0.31129871928136155\n",
      "The accuracy score with k =  7 is  0.34\n",
      "The f1 score with k =  7 is  0.3376389176769396\n",
      "The accuracy score with k =  8 is  0.31666666666666665\n",
      "The f1 score with k =  8 is  0.3104490811341972\n",
      "The accuracy score with k =  9 is  0.32666666666666666\n",
      "The f1 score with k =  9 is  0.32043510992298024\n",
      "\n",
      "The best accuracy score for KNN was  0.34 with k= 5\n",
      "The best f1 score for KNN was  0.3376389176769396 with k= 7\n"
     ]
    }
   ],
   "source": [
    "Ks = 10\n",
    "accuracy_scor = np.zeros((Ks-1))\n",
    "f1_scor = np.zeros((Ks-1))\n",
    "\n",
    "\n",
    "for n in range(1,Ks):\n",
    "    \n",
    "    #Train Model and Predict  \n",
    "    neigh = KNeighborsClassifier(n_neighbors = n).fit(X_train,y_train)\n",
    "    yhat_KNN=neigh.predict(X_test)\n",
    "    accuracy_scor[n-1] = accuracy_score(y_test, yhat_KNN)\n",
    "    f1_scor[n-1] = f1_score(y_test, yhat_KNN, average = 'weighted')\n",
    "    print(\"The accuracy score with k = \",n, \"is \",accuracy_scor[n-1])\n",
    "    print(\"The f1 score with k = \",n, \"is \",f1_scor[n-1])\n",
    "    \n",
    "\n",
    "print( \"\\nThe best accuracy score for KNN was \", accuracy_scor.max(), \"with k=\", accuracy_scor.argmax()+1) \n",
    "print( \"The best f1 score for KNN was \", f1_scor.max(), \"with k=\", f1_scor.argmax()+1) "
   ]
  },
  {
   "cell_type": "markdown",
   "metadata": {},
   "source": [
    "#### Classification Report of KNN"
   ]
  },
  {
   "cell_type": "code",
   "execution_count": 21,
   "metadata": {
    "scrolled": true
   },
   "outputs": [
    {
     "name": "stdout",
     "output_type": "stream",
     "text": [
      "              precision    recall  f1-score   support\n",
      "\n",
      "           1       0.37      0.46      0.41        81\n",
      "           2       0.33      0.42      0.37        57\n",
      "           3       0.34      0.30      0.32        86\n",
      "           4       0.29      0.20      0.23        76\n",
      "\n",
      "    accuracy                           0.34       300\n",
      "   macro avg       0.33      0.34      0.33       300\n",
      "weighted avg       0.33      0.34      0.33       300\n",
      "\n"
     ]
    }
   ],
   "source": [
    "neigh = KNeighborsClassifier(n_neighbors = accuracy_scor.argmax()+1).fit(X_train,y_train)\n",
    "yhat_KNN=neigh.predict(X_test)\n",
    "print (classification_report(y_test, yhat_KNN))"
   ]
  },
  {
   "cell_type": "markdown",
   "metadata": {},
   "source": [
    "### Decision tree"
   ]
  },
  {
   "cell_type": "code",
   "execution_count": 22,
   "metadata": {
    "scrolled": true
   },
   "outputs": [
    {
     "name": "stdout",
     "output_type": "stream",
     "text": [
      "DecisionTrees's Accuracy with criterion =  entropy  using Accuracy Score:  0.29333333333333333\n",
      "DecisionTrees's Accuracy with criterion =  entropy  using F1 Score:  0.2930596692591738\n",
      "DecisionTrees's Accuracy with criterion =  gini  using Accuracy Score:  0.31333333333333335\n",
      "DecisionTrees's Accuracy with criterion =  gini  using F1 Score:  0.31317978112687894\n",
      "\n",
      "The best accuracy score using Decision Tree is  0.31333333333333335\n",
      "The best f1 score using Decision Tree is  0.31317978112687894\n"
     ]
    }
   ],
   "source": [
    "f = 0\n",
    "ascore_dtree = np.zeros(2)\n",
    "fscore_dtree = np.zeros(2)\n",
    "dtree_criterions = ['entropy', 'gini']\n",
    "for i in dtree_criterions:\n",
    "    drugTree = DecisionTreeClassifier(criterion=i)\n",
    "    drugTree.fit(X_train, y_train)\n",
    "    predTree = drugTree.predict(X_test)\n",
    "    ascore_dtree[f] = accuracy_score(y_test, predTree)\n",
    "    fscore_dtree[f] = f1_score(y_test, predTree, average = 'weighted')\n",
    "    print(\"DecisionTrees's Accuracy with criterion = \", i,\" using Accuracy Score: \", accuracy_score(y_test, predTree))\n",
    "    print(\"DecisionTrees's Accuracy with criterion = \", i,\" using F1 Score: \", f1_score(y_test, predTree, average = 'weighted'))\n",
    "    f += 1\n",
    "print(\"\\nThe best accuracy score using Decision Tree is \",ascore_dtree.max())\n",
    "print(\"The best f1 score using Decision Tree is \",fscore_dtree.max())"
   ]
  },
  {
   "cell_type": "markdown",
   "metadata": {},
   "source": [
    "#### Classification Report of Decision Tree"
   ]
  },
  {
   "cell_type": "code",
   "execution_count": 23,
   "metadata": {
    "scrolled": true
   },
   "outputs": [
    {
     "name": "stdout",
     "output_type": "stream",
     "text": [
      "Classification report for criterion =  entropy \n",
      "\n",
      "               precision    recall  f1-score   support\n",
      "\n",
      "           1       0.34      0.33      0.34        81\n",
      "           2       0.30      0.35      0.33        57\n",
      "           3       0.31      0.31      0.31        86\n",
      "           4       0.28      0.25      0.26        76\n",
      "\n",
      "    accuracy                           0.31       300\n",
      "   macro avg       0.31      0.31      0.31       300\n",
      "weighted avg       0.31      0.31      0.31       300\n",
      "\n",
      "Classification report for criterion =  gini \n",
      "\n",
      "               precision    recall  f1-score   support\n",
      "\n",
      "           1       0.40      0.44      0.42        81\n",
      "           2       0.22      0.23      0.22        57\n",
      "           3       0.37      0.33      0.35        86\n",
      "           4       0.31      0.30      0.30        76\n",
      "\n",
      "    accuracy                           0.33       300\n",
      "   macro avg       0.32      0.33      0.32       300\n",
      "weighted avg       0.33      0.33      0.33       300\n",
      "\n"
     ]
    }
   ],
   "source": [
    "k = ['entropy','gini']\n",
    "for i in k:\n",
    "    drugTree = DecisionTreeClassifier(criterion=i)\n",
    "    drugTree.fit(X_train, y_train)\n",
    "    predTree = drugTree.predict(X_test)\n",
    "    print(\"Classification report for criterion = \",i,\"\\n\\n\",classification_report(y_test, predTree))\n"
   ]
  },
  {
   "cell_type": "markdown",
   "metadata": {},
   "source": [
    "### Support Vector Machine"
   ]
  },
  {
   "cell_type": "code",
   "execution_count": 24,
   "metadata": {
    "scrolled": true
   },
   "outputs": [
    {
     "name": "stdout",
     "output_type": "stream",
     "text": [
      "The accuracy score for SVM with kernel =  rbf  is :  0.36666666666666664\n",
      "The f1 score for SVM with kernel =  rbf  is:  0.36008658258444315\n",
      "The accuracy score for SVM with kernel =  linear  is :  0.41\n",
      "The f1 score for SVM with kernel =  linear  is:  0.4049072713296851\n",
      "The accuracy score for SVM with kernel =  poly  is :  0.35\n",
      "The f1 score for SVM with kernel =  poly  is:  0.3374689864356919\n",
      "The accuracy score for SVM with kernel =  sigmoid  is :  0.3566666666666667\n",
      "The f1 score for SVM with kernel =  sigmoid  is:  0.34480548153787594\n",
      "\n",
      "The best accuracy score using SVM is  0.41\n",
      "The best f1 score using SVM is  0.4049072713296851\n"
     ]
    }
   ],
   "source": [
    "f=0\n",
    "ascore_svm = np.zeros(4)\n",
    "fscore_svm = np.zeros(4)\n",
    "svm_kernels = ['rbf', 'linear', 'poly', 'sigmoid']\n",
    "\n",
    "for i in svm_kernels:\n",
    "    clf = svm.SVC(kernel=i)\n",
    "    clf.fit(X_train, y_train) \n",
    "    yhat_SVM = clf.predict(X_test)\n",
    "    ascore_svm[f] = accuracy_score(y_test, yhat_SVM)\n",
    "    fscore_svm[f] = f1_score(y_test, yhat_SVM, average='weighted')\n",
    "    print(\"The accuracy score for SVM with kernel = \", i,\" is : \", accuracy_score(y_test, yhat_SVM))\n",
    "    print(\"The f1 score for SVM with kernel = \", i,\" is: \", f1_score(y_test, yhat_SVM, average='weighted'))\n",
    "    f += 1\n",
    "print(\"\\nThe best accuracy score using SVM is \",ascore_svm.max())\n",
    "print(\"The best f1 score using SVM is \",fscore_svm.max())    "
   ]
  },
  {
   "cell_type": "markdown",
   "metadata": {},
   "source": [
    "#### Classification Report of SVM"
   ]
  },
  {
   "cell_type": "code",
   "execution_count": 25,
   "metadata": {
    "scrolled": true
   },
   "outputs": [
    {
     "name": "stdout",
     "output_type": "stream",
     "text": [
      "Classification report for kernel =  rbf  \n",
      "\n",
      "               precision    recall  f1-score   support\n",
      "\n",
      "           1       0.41      0.53      0.46        81\n",
      "           2       0.34      0.28      0.31        57\n",
      "           3       0.35      0.36      0.36        86\n",
      "           4       0.33      0.26      0.29        76\n",
      "\n",
      "    accuracy                           0.37       300\n",
      "   macro avg       0.36      0.36      0.36       300\n",
      "weighted avg       0.36      0.37      0.36       300\n",
      "\n",
      "Classification report for kernel =  linear  \n",
      "\n",
      "               precision    recall  f1-score   support\n",
      "\n",
      "           1       0.42      0.52      0.46        81\n",
      "           2       0.36      0.25      0.29        57\n",
      "           3       0.40      0.41      0.40        86\n",
      "           4       0.44      0.42      0.43        76\n",
      "\n",
      "    accuracy                           0.41       300\n",
      "   macro avg       0.40      0.40      0.40       300\n",
      "weighted avg       0.41      0.41      0.40       300\n",
      "\n",
      "Classification report for kernel =  poly  \n",
      "\n",
      "               precision    recall  f1-score   support\n",
      "\n",
      "           1       0.39      0.58      0.47        81\n",
      "           2       0.26      0.30      0.28        57\n",
      "           3       0.36      0.30      0.33        86\n",
      "           4       0.35      0.20      0.25        76\n",
      "\n",
      "    accuracy                           0.35       300\n",
      "   macro avg       0.34      0.34      0.33       300\n",
      "weighted avg       0.35      0.35      0.34       300\n",
      "\n",
      "Classification report for kernel =  sigmoid  \n",
      "\n",
      "               precision    recall  f1-score   support\n",
      "\n",
      "           1       0.38      0.51      0.43        81\n",
      "           2       0.30      0.14      0.19        57\n",
      "           3       0.33      0.38      0.36        86\n",
      "           4       0.38      0.33      0.35        76\n",
      "\n",
      "    accuracy                           0.36       300\n",
      "   macro avg       0.35      0.34      0.33       300\n",
      "weighted avg       0.35      0.36      0.34       300\n",
      "\n"
     ]
    }
   ],
   "source": [
    "k = ['rbf', 'linear', 'poly', 'sigmoid']\n",
    "for i in k:\n",
    "    clf = svm.SVC(kernel=i)\n",
    "    clf.fit(X_train, y_train) \n",
    "    yhat_SVM = clf.predict(X_test)\n",
    "    print (\"Classification report for kernel = \",i,\" \\n\\n\",classification_report(y_test, yhat_SVM))"
   ]
  },
  {
   "cell_type": "markdown",
   "metadata": {},
   "source": [
    "### Logistic Regression"
   ]
  },
  {
   "cell_type": "code",
   "execution_count": 26,
   "metadata": {
    "scrolled": true
   },
   "outputs": [
    {
     "name": "stdout",
     "output_type": "stream",
     "text": [
      "The accuracy score for Logistic Regression with solver =  0.001  and kernel =  liblinear  is :  0.3933333333333333\n",
      "The f1 score for Logistic Regression with solver =  0.001  and kernel =  liblinear  is :  0.37040241327701173\n",
      "The accuracy score for Logistic Regression with solver =  0.01  and kernel =  liblinear  is :  0.41333333333333333\n",
      "The f1 score for Logistic Regression with solver =  0.01  and kernel =  liblinear  is :  0.3997173792908379\n",
      "The accuracy score for Logistic Regression with solver =  0.1  and kernel =  liblinear  is :  0.41\n",
      "The f1 score for Logistic Regression with solver =  0.1  and kernel =  liblinear  is :  0.4057602869060709\n",
      "The accuracy score for Logistic Regression with solver =  0.001  and kernel =  newton-cg  is :  0.36666666666666664\n",
      "The f1 score for Logistic Regression with solver =  0.001  and kernel =  newton-cg  is :  0.30277657046491124\n",
      "The accuracy score for Logistic Regression with solver =  0.01  and kernel =  newton-cg  is :  0.4166666666666667\n",
      "The f1 score for Logistic Regression with solver =  0.01  and kernel =  newton-cg  is :  0.4032523272640878\n",
      "The accuracy score for Logistic Regression with solver =  0.1  and kernel =  newton-cg  is :  0.4033333333333333\n",
      "The f1 score for Logistic Regression with solver =  0.1  and kernel =  newton-cg  is :  0.39987853990275296\n",
      "The accuracy score for Logistic Regression with solver =  0.001  and kernel =  lbfgs  is :  0.36666666666666664\n",
      "The f1 score for Logistic Regression with solver =  0.001  and kernel =  lbfgs  is :  0.30277657046491124\n",
      "The accuracy score for Logistic Regression with solver =  0.01  and kernel =  lbfgs  is :  0.4166666666666667\n",
      "The f1 score for Logistic Regression with solver =  0.01  and kernel =  lbfgs  is :  0.4032523272640878\n",
      "The accuracy score for Logistic Regression with solver =  0.1  and kernel =  lbfgs  is :  0.4033333333333333\n",
      "The f1 score for Logistic Regression with solver =  0.1  and kernel =  lbfgs  is :  0.39987853990275296\n",
      "The accuracy score for Logistic Regression with solver =  0.001  and kernel =  sag  is :  0.36333333333333334\n",
      "The f1 score for Logistic Regression with solver =  0.001  and kernel =  sag  is :  0.3003145743145743\n",
      "The accuracy score for Logistic Regression with solver =  0.01  and kernel =  sag  is :  0.4166666666666667\n",
      "The f1 score for Logistic Regression with solver =  0.01  and kernel =  sag  is :  0.4032523272640878\n",
      "The accuracy score for Logistic Regression with solver =  0.1  and kernel =  sag  is :  0.4033333333333333\n",
      "The f1 score for Logistic Regression with solver =  0.1  and kernel =  sag  is :  0.39987853990275296\n",
      "The accuracy score for Logistic Regression with solver =  0.001  and kernel =  saga  is :  0.36666666666666664\n",
      "The f1 score for Logistic Regression with solver =  0.001  and kernel =  saga  is :  0.30277657046491124\n",
      "The accuracy score for Logistic Regression with solver =  0.01  and kernel =  saga  is :  0.4166666666666667\n",
      "The f1 score for Logistic Regression with solver =  0.01  and kernel =  saga  is :  0.4032523272640878\n",
      "The accuracy score for Logistic Regression with solver =  0.1  and kernel =  saga  is :  0.4033333333333333\n",
      "The f1 score for Logistic Regression with solver =  0.1  and kernel =  saga  is :  0.39987853990275296\n",
      "\n",
      "The best accuracy score using Logistic Regression is  0.4166666666666667\n",
      "The best f1 score using Logistic Regression is  0.4057602869060709\n"
     ]
    }
   ],
   "source": [
    "g = 0\n",
    "ascore_lr = np.zeros(15)\n",
    "fscore_lr = np.zeros(15)\n",
    "c_param_range=[0.001,0.01,0.1]\n",
    "lr_solvers=['liblinear', 'newton-cg', 'lbfgs', 'sag', 'saga']\n",
    "for i in lr_solvers:\n",
    "    for f in c_param_range:\n",
    "        LR = LogisticRegression(C=f, solver=i).fit(X_train,y_train)\n",
    "        yhat_LR = LR.predict(X_test)\n",
    "        ascore_lr[g] = accuracy_score(y_test, yhat_LR)\n",
    "        fscore_lr[g] = f1_score(y_test, yhat_LR, average='weighted')\n",
    "        print(\"The accuracy score for Logistic Regression with solver = \", f, \" and kernel = \", i,\" is : \", accuracy_score(y_test, yhat_LR))\n",
    "        print(\"The f1 score for Logistic Regression with solver = \", f, \" and kernel = \", i,\" is : \", f1_score(y_test, yhat_LR, average='weighted'))\n",
    "        g += 1\n",
    "print(\"\\nThe best accuracy score using Logistic Regression is \",ascore_lr.max())\n",
    "print(\"The best f1 score using Logistic Regression is \",fscore_lr.max())              "
   ]
  },
  {
   "cell_type": "markdown",
   "metadata": {},
   "source": [
    "#### Classification Report of Logistic Regression"
   ]
  },
  {
   "cell_type": "code",
   "execution_count": 27,
   "metadata": {
    "scrolled": true
   },
   "outputs": [
    {
     "name": "stdout",
     "output_type": "stream",
     "text": [
      "Classification report for solver =  liblinear  \n",
      "\n",
      "               precision    recall  f1-score   support\n",
      "\n",
      "           1       0.46      0.60      0.52        81\n",
      "           2       0.29      0.16      0.20        57\n",
      "           3       0.39      0.42      0.40        86\n",
      "           4       0.42      0.39      0.41        76\n",
      "\n",
      "    accuracy                           0.41       300\n",
      "   macro avg       0.39      0.39      0.39       300\n",
      "weighted avg       0.40      0.41      0.40       300\n",
      "\n",
      "Classification report for solver =  newton-cg  \n",
      "\n",
      "               precision    recall  f1-score   support\n",
      "\n",
      "           1       0.47      0.59      0.52        81\n",
      "           2       0.29      0.16      0.20        57\n",
      "           3       0.40      0.45      0.43        86\n",
      "           4       0.42      0.38      0.40        76\n",
      "\n",
      "    accuracy                           0.42       300\n",
      "   macro avg       0.39      0.40      0.39       300\n",
      "weighted avg       0.40      0.42      0.40       300\n",
      "\n",
      "Classification report for solver =  lbfgs  \n",
      "\n",
      "               precision    recall  f1-score   support\n",
      "\n",
      "           1       0.47      0.59      0.52        81\n",
      "           2       0.29      0.16      0.20        57\n",
      "           3       0.40      0.45      0.43        86\n",
      "           4       0.42      0.38      0.40        76\n",
      "\n",
      "    accuracy                           0.42       300\n",
      "   macro avg       0.39      0.40      0.39       300\n",
      "weighted avg       0.40      0.42      0.40       300\n",
      "\n",
      "Classification report for solver =  sag  \n",
      "\n",
      "               precision    recall  f1-score   support\n",
      "\n",
      "           1       0.47      0.59      0.52        81\n",
      "           2       0.29      0.16      0.20        57\n",
      "           3       0.40      0.45      0.43        86\n",
      "           4       0.42      0.38      0.40        76\n",
      "\n",
      "    accuracy                           0.42       300\n",
      "   macro avg       0.39      0.40      0.39       300\n",
      "weighted avg       0.40      0.42      0.40       300\n",
      "\n",
      "Classification report for solver =  sag  \n",
      "\n",
      "               precision    recall  f1-score   support\n",
      "\n",
      "           1       0.47      0.59      0.52        81\n",
      "           2       0.29      0.16      0.20        57\n",
      "           3       0.40      0.45      0.43        86\n",
      "           4       0.42      0.38      0.40        76\n",
      "\n",
      "    accuracy                           0.42       300\n",
      "   macro avg       0.39      0.40      0.39       300\n",
      "weighted avg       0.40      0.42      0.40       300\n",
      "\n"
     ]
    }
   ],
   "source": [
    "k = ['liblinear', 'newton-cg', 'lbfgs', 'sag', 'sag']\n",
    "for i in k:\n",
    "    LR = LogisticRegression(C=0.01, solver=i).fit(X_train,y_train)\n",
    "    yhat_LR = LR.predict(X_test)\n",
    "    print(\"Classification report for solver = \",i,\" \\n\\n\",classification_report(y_test, yhat_LR))"
   ]
  },
  {
   "cell_type": "markdown",
   "metadata": {},
   "source": [
    "### Naive Bayes"
   ]
  },
  {
   "cell_type": "code",
   "execution_count": 28,
   "metadata": {
    "scrolled": true
   },
   "outputs": [
    {
     "name": "stdout",
     "output_type": "stream",
     "text": [
      "The accuracy score for Naive Bayes is :  0.36333333333333334\n",
      "The f1 score for Naive Bayes is:  0.3303519745850129\n"
     ]
    }
   ],
   "source": [
    "gnb = GaussianNB()\n",
    "y_pred_NB = gnb.fit(X_train, y_train).predict(X_test)\n",
    "print(\"The accuracy score for Naive Bayes is : \", accuracy_score(y_test, y_pred_NB))\n",
    "print(\"The f1 score for Naive Bayes is: \", f1_score(y_test, y_pred_NB, average='weighted'))"
   ]
  },
  {
   "cell_type": "markdown",
   "metadata": {},
   "source": [
    "#### Classification report of Naive Bayes"
   ]
  },
  {
   "cell_type": "code",
   "execution_count": 29,
   "metadata": {
    "scrolled": true
   },
   "outputs": [
    {
     "name": "stdout",
     "output_type": "stream",
     "text": [
      "              precision    recall  f1-score   support\n",
      "\n",
      "           1       0.35      0.73      0.47        81\n",
      "           2       0.21      0.09      0.12        57\n",
      "           3       0.41      0.33      0.36        86\n",
      "           4       0.46      0.22      0.30        76\n",
      "\n",
      "    accuracy                           0.36       300\n",
      "   macro avg       0.36      0.34      0.31       300\n",
      "weighted avg       0.37      0.36      0.33       300\n",
      "\n"
     ]
    }
   ],
   "source": [
    "print(classification_report(y_test, y_pred_NB))"
   ]
  },
  {
   "cell_type": "markdown",
   "metadata": {},
   "source": [
    "## Random Forest"
   ]
  },
  {
   "cell_type": "code",
   "execution_count": 30,
   "metadata": {
    "scrolled": true
   },
   "outputs": [
    {
     "name": "stdout",
     "output_type": "stream",
     "text": [
      "The accuracy score for Random Forest with criterion =  entropy  is  0.33666666666666667\n",
      "The f1 score for Random Forest with criterion =  entropy  is  0.33100995962820023\n",
      "The accuracy score for Random Forest with criterion =  gini  is  0.3333333333333333\n",
      "The f1 score for Random Forest with criterion =  gini  is  0.32629813664596274\n",
      "\n",
      "The best accuracy score using Random Forest is  0.33666666666666667\n",
      "The best f1 score using Random Forest is  0.33100995962820023\n"
     ]
    }
   ],
   "source": [
    "f=0\n",
    "ascore_rf = np.zeros(2)\n",
    "fscore_rf = np.zeros(2)\n",
    "rf_criterion=['entropy', 'gini']\n",
    "for i in rf_criterion:\n",
    "    clf=RandomForestClassifier(criterion=i)\n",
    "    clf.fit(X_train,y_train)\n",
    "    y_pred_RF=clf.predict(X_test)\n",
    "    ascore_rf[f] = accuracy_score(y_test, y_pred_RF)\n",
    "    fscore_rf[f] = f1_score(y_test, y_pred_RF, average='weighted')\n",
    "    print(\"The accuracy score for Random Forest with criterion = \",i,\" is \", accuracy_score(y_test, y_pred_RF))\n",
    "    print(\"The f1 score for Random Forest with criterion = \",i,\" is \", f1_score(y_test, y_pred_RF, average='weighted'))\n",
    "    f += 1\n",
    "    \n",
    "print(\"\\nThe best accuracy score using Random Forest is \",ascore_rf.max())\n",
    "print(\"The best f1 score using Random Forest is \",fscore_rf.max())    "
   ]
  },
  {
   "cell_type": "markdown",
   "metadata": {},
   "source": [
    "#### Classification report of Random Forest"
   ]
  },
  {
   "cell_type": "code",
   "execution_count": 31,
   "metadata": {
    "scrolled": true
   },
   "outputs": [
    {
     "name": "stdout",
     "output_type": "stream",
     "text": [
      "Classification report for criterion =  entropy  \n",
      "\n",
      "               precision    recall  f1-score   support\n",
      "\n",
      "           1       0.39      0.49      0.44        81\n",
      "           2       0.31      0.30      0.30        57\n",
      "           3       0.37      0.36      0.37        86\n",
      "           4       0.27      0.21      0.24        76\n",
      "\n",
      "    accuracy                           0.35       300\n",
      "   macro avg       0.34      0.34      0.34       300\n",
      "weighted avg       0.34      0.35      0.34       300\n",
      "\n",
      "Classification report for criterion =  gini  \n",
      "\n",
      "               precision    recall  f1-score   support\n",
      "\n",
      "           1       0.37      0.49      0.43        81\n",
      "           2       0.36      0.30      0.33        57\n",
      "           3       0.35      0.34      0.34        86\n",
      "           4       0.29      0.24      0.26        76\n",
      "\n",
      "    accuracy                           0.35       300\n",
      "   macro avg       0.34      0.34      0.34       300\n",
      "weighted avg       0.34      0.35      0.34       300\n",
      "\n"
     ]
    }
   ],
   "source": [
    "k = ['entropy', 'gini']\n",
    "for i in k:\n",
    "    clf=RandomForestClassifier(criterion=i)\n",
    "    clf.fit(X_train,y_train)\n",
    "    y_pred_RF=clf.predict(X_test)\n",
    "    print(\"Classification report for criterion = \",i,\" \\n\\n\",classification_report(y_test, y_pred_RF))\n"
   ]
  },
  {
   "cell_type": "markdown",
   "metadata": {},
   "source": [
    "# Report on accuracy of different algorithms using F1 score and Accuracy Score"
   ]
  },
  {
   "cell_type": "code",
   "execution_count": 32,
   "metadata": {},
   "outputs": [],
   "source": [
    "# js = jaccard score.......fs = F1-Score\n",
    "# KNN\n",
    "knnas = accuracy_scor.max()\n",
    "knnfs = f1_scor.max()\n",
    "# DTree with max accuracy\n",
    "dtreeas = ascore_dtree.max()\n",
    "dtreefs = fscore_dtree.max()\n",
    "\n",
    "# SVM with max accuracy\n",
    "svmas = ascore_svm.max()\n",
    "svmfs = fscore_svm.max()\n",
    "\n",
    "# Logistic regression with max accuracy\n",
    "lras = ascore_lr.max()\n",
    "lrfs = fscore_lr.max()\n",
    "\n",
    "# Naive Bayes\n",
    "nbas = accuracy_score(y_test, y_pred_NB)\n",
    "nbfs = f1_score(y_test, y_pred_NB, average='weighted')\n",
    "\n",
    "# Random Forest\n",
    "rfas = ascore_rf.max()\n",
    "rffs = fscore_rf.max()\n",
    "\n",
    "#max of all\n",
    "max_as = [knnas,dtreeas,svmas,lras,nbas,rfas]\n",
    "max_fs = [knnfs,dtreefs,svmfs,lrfs,nbfs,rffs]"
   ]
  },
  {
   "cell_type": "markdown",
   "metadata": {},
   "source": [
    "## Final Report"
   ]
  },
  {
   "cell_type": "code",
   "execution_count": 33,
   "metadata": {},
   "outputs": [
    {
     "data": {
      "text/html": [
       "<div>\n",
       "<style scoped>\n",
       "    .dataframe tbody tr th:only-of-type {\n",
       "        vertical-align: middle;\n",
       "    }\n",
       "\n",
       "    .dataframe tbody tr th {\n",
       "        vertical-align: top;\n",
       "    }\n",
       "\n",
       "    .dataframe thead th {\n",
       "        text-align: right;\n",
       "    }\n",
       "</style>\n",
       "<table border=\"1\" class=\"dataframe\">\n",
       "  <thead>\n",
       "    <tr style=\"text-align: right;\">\n",
       "      <th></th>\n",
       "      <th>Algorithm</th>\n",
       "      <th>Accuracy_Score</th>\n",
       "      <th>F1-Score</th>\n",
       "    </tr>\n",
       "  </thead>\n",
       "  <tbody>\n",
       "    <tr>\n",
       "      <th>1</th>\n",
       "      <td>K-Nearest Neighor</td>\n",
       "      <td>0.340000</td>\n",
       "      <td>0.337639</td>\n",
       "    </tr>\n",
       "    <tr>\n",
       "      <th>2</th>\n",
       "      <td>Decision tree</td>\n",
       "      <td>0.313333</td>\n",
       "      <td>0.313180</td>\n",
       "    </tr>\n",
       "    <tr>\n",
       "      <th>3</th>\n",
       "      <td>Support Vector Machine</td>\n",
       "      <td>0.410000</td>\n",
       "      <td>0.404907</td>\n",
       "    </tr>\n",
       "    <tr>\n",
       "      <th>4</th>\n",
       "      <td>Logistic regression</td>\n",
       "      <td>0.416667</td>\n",
       "      <td>0.405760</td>\n",
       "    </tr>\n",
       "    <tr>\n",
       "      <th>5</th>\n",
       "      <td>Naive Bayes</td>\n",
       "      <td>0.363333</td>\n",
       "      <td>0.330352</td>\n",
       "    </tr>\n",
       "    <tr>\n",
       "      <th>6</th>\n",
       "      <td>Random Forest</td>\n",
       "      <td>0.336667</td>\n",
       "      <td>0.331010</td>\n",
       "    </tr>\n",
       "  </tbody>\n",
       "</table>\n",
       "</div>"
      ],
      "text/plain": [
       "                Algorithm  Accuracy_Score  F1-Score\n",
       "1       K-Nearest Neighor        0.340000  0.337639\n",
       "2           Decision tree        0.313333  0.313180\n",
       "3  Support Vector Machine        0.410000  0.404907\n",
       "4     Logistic regression        0.416667  0.405760\n",
       "5             Naive Bayes        0.363333  0.330352\n",
       "6           Random Forest        0.336667  0.331010"
      ]
     },
     "execution_count": 33,
     "metadata": {},
     "output_type": "execute_result"
    }
   ],
   "source": [
    "data = {'Algorithm':['K-Nearest Neighor', 'Decision tree', 'Support Vector Machine', 'Logistic regression', 'Naive Bayes', 'Random Forest'], \n",
    "        'Accuracy_Score':max_as, 'F1-Score':max_fs}\n",
    "s = pd.DataFrame(data, index = [1,2,3,4,5,6])\n",
    "s"
   ]
  },
  {
   "cell_type": "code",
   "execution_count": null,
   "metadata": {},
   "outputs": [],
   "source": []
  }
 ],
 "metadata": {
  "kernelspec": {
   "display_name": "Python 3",
   "language": "python",
   "name": "python3"
  },
  "language_info": {
   "codemirror_mode": {
    "name": "ipython",
    "version": 3
   },
   "file_extension": ".py",
   "mimetype": "text/x-python",
   "name": "python",
   "nbconvert_exporter": "python",
   "pygments_lexer": "ipython3",
   "version": "3.7.6"
  }
 },
 "nbformat": 4,
 "nbformat_minor": 4
}
