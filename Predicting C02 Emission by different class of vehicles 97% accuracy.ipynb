{
 "cells": [
  {
   "cell_type": "code",
   "execution_count": 1,
   "metadata": {},
   "outputs": [],
   "source": [
    "import itertools\n",
    "import numpy as np\n",
    "import matplotlib.pyplot as plt\n",
    "from matplotlib.ticker import NullFormatter\n",
    "import pandas as pd\n",
    "import numpy as np\n",
    "import seaborn as sns\n",
    "import matplotlib.ticker as ticker\n",
    "from sklearn import preprocessing\n",
    "import operator\n",
    "from sklearn.metrics import mean_squared_error,r2_score\n",
    "from sklearn.model_selection import train_test_split\n",
    "import warnings\n",
    "warnings.filterwarnings('ignore')\n",
    "#warnings.filterwarnings(action='once')\n",
    "%matplotlib inline"
   ]
  },
  {
   "cell_type": "code",
   "execution_count": 2,
   "metadata": {},
   "outputs": [
    {
     "data": {
      "text/html": [
       "<div>\n",
       "<style scoped>\n",
       "    .dataframe tbody tr th:only-of-type {\n",
       "        vertical-align: middle;\n",
       "    }\n",
       "\n",
       "    .dataframe tbody tr th {\n",
       "        vertical-align: top;\n",
       "    }\n",
       "\n",
       "    .dataframe thead th {\n",
       "        text-align: right;\n",
       "    }\n",
       "</style>\n",
       "<table border=\"1\" class=\"dataframe\">\n",
       "  <thead>\n",
       "    <tr style=\"text-align: right;\">\n",
       "      <th></th>\n",
       "      <th>MODELYEAR</th>\n",
       "      <th>MAKE</th>\n",
       "      <th>MODEL</th>\n",
       "      <th>VEHICLECLASS</th>\n",
       "      <th>ENGINESIZE</th>\n",
       "      <th>CYLINDERS</th>\n",
       "      <th>TRANSMISSION</th>\n",
       "      <th>FUELTYPE</th>\n",
       "      <th>FUELCONSUMPTION_CITY</th>\n",
       "      <th>FUELCONSUMPTION_HWY</th>\n",
       "      <th>FUELCONSUMPTION_COMB</th>\n",
       "      <th>FUELCONSUMPTION_COMB_MPG</th>\n",
       "      <th>CO2EMISSIONS</th>\n",
       "    </tr>\n",
       "  </thead>\n",
       "  <tbody>\n",
       "    <tr>\n",
       "      <th>0</th>\n",
       "      <td>2014</td>\n",
       "      <td>ACURA</td>\n",
       "      <td>ILX</td>\n",
       "      <td>COMPACT</td>\n",
       "      <td>2.0</td>\n",
       "      <td>4</td>\n",
       "      <td>AS5</td>\n",
       "      <td>Z</td>\n",
       "      <td>9.9</td>\n",
       "      <td>6.7</td>\n",
       "      <td>8.5</td>\n",
       "      <td>33</td>\n",
       "      <td>196</td>\n",
       "    </tr>\n",
       "    <tr>\n",
       "      <th>1</th>\n",
       "      <td>2014</td>\n",
       "      <td>ACURA</td>\n",
       "      <td>ILX</td>\n",
       "      <td>COMPACT</td>\n",
       "      <td>2.4</td>\n",
       "      <td>4</td>\n",
       "      <td>M6</td>\n",
       "      <td>Z</td>\n",
       "      <td>11.2</td>\n",
       "      <td>7.7</td>\n",
       "      <td>9.6</td>\n",
       "      <td>29</td>\n",
       "      <td>221</td>\n",
       "    </tr>\n",
       "    <tr>\n",
       "      <th>2</th>\n",
       "      <td>2014</td>\n",
       "      <td>ACURA</td>\n",
       "      <td>ILX HYBRID</td>\n",
       "      <td>COMPACT</td>\n",
       "      <td>1.5</td>\n",
       "      <td>4</td>\n",
       "      <td>AV7</td>\n",
       "      <td>Z</td>\n",
       "      <td>6.0</td>\n",
       "      <td>5.8</td>\n",
       "      <td>5.9</td>\n",
       "      <td>48</td>\n",
       "      <td>136</td>\n",
       "    </tr>\n",
       "    <tr>\n",
       "      <th>3</th>\n",
       "      <td>2014</td>\n",
       "      <td>ACURA</td>\n",
       "      <td>MDX 4WD</td>\n",
       "      <td>SUV - SMALL</td>\n",
       "      <td>3.5</td>\n",
       "      <td>6</td>\n",
       "      <td>AS6</td>\n",
       "      <td>Z</td>\n",
       "      <td>12.7</td>\n",
       "      <td>9.1</td>\n",
       "      <td>11.1</td>\n",
       "      <td>25</td>\n",
       "      <td>255</td>\n",
       "    </tr>\n",
       "    <tr>\n",
       "      <th>4</th>\n",
       "      <td>2014</td>\n",
       "      <td>ACURA</td>\n",
       "      <td>RDX AWD</td>\n",
       "      <td>SUV - SMALL</td>\n",
       "      <td>3.5</td>\n",
       "      <td>6</td>\n",
       "      <td>AS6</td>\n",
       "      <td>Z</td>\n",
       "      <td>12.1</td>\n",
       "      <td>8.7</td>\n",
       "      <td>10.6</td>\n",
       "      <td>27</td>\n",
       "      <td>244</td>\n",
       "    </tr>\n",
       "    <tr>\n",
       "      <th>...</th>\n",
       "      <td>...</td>\n",
       "      <td>...</td>\n",
       "      <td>...</td>\n",
       "      <td>...</td>\n",
       "      <td>...</td>\n",
       "      <td>...</td>\n",
       "      <td>...</td>\n",
       "      <td>...</td>\n",
       "      <td>...</td>\n",
       "      <td>...</td>\n",
       "      <td>...</td>\n",
       "      <td>...</td>\n",
       "      <td>...</td>\n",
       "    </tr>\n",
       "    <tr>\n",
       "      <th>95</th>\n",
       "      <td>2014</td>\n",
       "      <td>BMW</td>\n",
       "      <td>435i COUPE</td>\n",
       "      <td>COMPACT</td>\n",
       "      <td>3.0</td>\n",
       "      <td>6</td>\n",
       "      <td>M6</td>\n",
       "      <td>Z</td>\n",
       "      <td>11.8</td>\n",
       "      <td>7.9</td>\n",
       "      <td>10.0</td>\n",
       "      <td>28</td>\n",
       "      <td>230</td>\n",
       "    </tr>\n",
       "    <tr>\n",
       "      <th>96</th>\n",
       "      <td>2014</td>\n",
       "      <td>BMW</td>\n",
       "      <td>435i xDRIVE COUPE</td>\n",
       "      <td>COMPACT</td>\n",
       "      <td>3.0</td>\n",
       "      <td>6</td>\n",
       "      <td>A8</td>\n",
       "      <td>Z</td>\n",
       "      <td>11.7</td>\n",
       "      <td>7.8</td>\n",
       "      <td>9.9</td>\n",
       "      <td>29</td>\n",
       "      <td>228</td>\n",
       "    </tr>\n",
       "    <tr>\n",
       "      <th>97</th>\n",
       "      <td>2014</td>\n",
       "      <td>BMW</td>\n",
       "      <td>435i xDRIVE COUPE</td>\n",
       "      <td>COMPACT</td>\n",
       "      <td>3.0</td>\n",
       "      <td>6</td>\n",
       "      <td>M6</td>\n",
       "      <td>Z</td>\n",
       "      <td>11.9</td>\n",
       "      <td>8.3</td>\n",
       "      <td>10.3</td>\n",
       "      <td>27</td>\n",
       "      <td>237</td>\n",
       "    </tr>\n",
       "    <tr>\n",
       "      <th>98</th>\n",
       "      <td>2014</td>\n",
       "      <td>BMW</td>\n",
       "      <td>528i</td>\n",
       "      <td>MID-SIZE</td>\n",
       "      <td>2.0</td>\n",
       "      <td>4</td>\n",
       "      <td>A8</td>\n",
       "      <td>Z</td>\n",
       "      <td>10.2</td>\n",
       "      <td>7.0</td>\n",
       "      <td>8.8</td>\n",
       "      <td>32</td>\n",
       "      <td>202</td>\n",
       "    </tr>\n",
       "    <tr>\n",
       "      <th>99</th>\n",
       "      <td>2014</td>\n",
       "      <td>BMW</td>\n",
       "      <td>528i xDRIVE</td>\n",
       "      <td>MID-SIZE</td>\n",
       "      <td>2.0</td>\n",
       "      <td>4</td>\n",
       "      <td>A8</td>\n",
       "      <td>Z</td>\n",
       "      <td>10.6</td>\n",
       "      <td>7.2</td>\n",
       "      <td>9.1</td>\n",
       "      <td>31</td>\n",
       "      <td>209</td>\n",
       "    </tr>\n",
       "  </tbody>\n",
       "</table>\n",
       "<p>100 rows × 13 columns</p>\n",
       "</div>"
      ],
      "text/plain": [
       "    MODELYEAR   MAKE              MODEL VEHICLECLASS  ENGINESIZE  CYLINDERS  \\\n",
       "0        2014  ACURA                ILX      COMPACT         2.0          4   \n",
       "1        2014  ACURA                ILX      COMPACT         2.4          4   \n",
       "2        2014  ACURA         ILX HYBRID      COMPACT         1.5          4   \n",
       "3        2014  ACURA            MDX 4WD  SUV - SMALL         3.5          6   \n",
       "4        2014  ACURA            RDX AWD  SUV - SMALL         3.5          6   \n",
       "..        ...    ...                ...          ...         ...        ...   \n",
       "95       2014    BMW         435i COUPE      COMPACT         3.0          6   \n",
       "96       2014    BMW  435i xDRIVE COUPE      COMPACT         3.0          6   \n",
       "97       2014    BMW  435i xDRIVE COUPE      COMPACT         3.0          6   \n",
       "98       2014    BMW               528i     MID-SIZE         2.0          4   \n",
       "99       2014    BMW        528i xDRIVE     MID-SIZE         2.0          4   \n",
       "\n",
       "   TRANSMISSION FUELTYPE  FUELCONSUMPTION_CITY  FUELCONSUMPTION_HWY  \\\n",
       "0           AS5        Z                   9.9                  6.7   \n",
       "1            M6        Z                  11.2                  7.7   \n",
       "2           AV7        Z                   6.0                  5.8   \n",
       "3           AS6        Z                  12.7                  9.1   \n",
       "4           AS6        Z                  12.1                  8.7   \n",
       "..          ...      ...                   ...                  ...   \n",
       "95           M6        Z                  11.8                  7.9   \n",
       "96           A8        Z                  11.7                  7.8   \n",
       "97           M6        Z                  11.9                  8.3   \n",
       "98           A8        Z                  10.2                  7.0   \n",
       "99           A8        Z                  10.6                  7.2   \n",
       "\n",
       "    FUELCONSUMPTION_COMB  FUELCONSUMPTION_COMB_MPG  CO2EMISSIONS  \n",
       "0                    8.5                        33           196  \n",
       "1                    9.6                        29           221  \n",
       "2                    5.9                        48           136  \n",
       "3                   11.1                        25           255  \n",
       "4                   10.6                        27           244  \n",
       "..                   ...                       ...           ...  \n",
       "95                  10.0                        28           230  \n",
       "96                   9.9                        29           228  \n",
       "97                  10.3                        27           237  \n",
       "98                   8.8                        32           202  \n",
       "99                   9.1                        31           209  \n",
       "\n",
       "[100 rows x 13 columns]"
      ]
     },
     "execution_count": 2,
     "metadata": {},
     "output_type": "execute_result"
    }
   ],
   "source": [
    "df = pd.read_csv(r'E:\\Datasets\\FuelConsumptionCo2.csv', encoding = 'unicode_escape')   \n",
    "df.head(100)"
   ]
  },
  {
   "cell_type": "code",
   "execution_count": 5,
   "metadata": {},
   "outputs": [
    {
     "data": {
      "text/plain": [
       "MODELYEAR                   0\n",
       "MAKE                        0\n",
       "MODEL                       0\n",
       "VEHICLECLASS                0\n",
       "ENGINESIZE                  0\n",
       "CYLINDERS                   0\n",
       "TRANSMISSION                0\n",
       "FUELTYPE                    0\n",
       "FUELCONSUMPTION_CITY        0\n",
       "FUELCONSUMPTION_HWY         0\n",
       "FUELCONSUMPTION_COMB        0\n",
       "FUELCONSUMPTION_COMB_MPG    0\n",
       "CO2EMISSIONS                0\n",
       "dtype: int64"
      ]
     },
     "execution_count": 5,
     "metadata": {},
     "output_type": "execute_result"
    }
   ],
   "source": [
    "df.isnull().sum()"
   ]
  },
  {
   "cell_type": "code",
   "execution_count": 6,
   "metadata": {},
   "outputs": [
    {
     "data": {
      "text/html": [
       "<div>\n",
       "<style scoped>\n",
       "    .dataframe tbody tr th:only-of-type {\n",
       "        vertical-align: middle;\n",
       "    }\n",
       "\n",
       "    .dataframe tbody tr th {\n",
       "        vertical-align: top;\n",
       "    }\n",
       "\n",
       "    .dataframe thead th {\n",
       "        text-align: right;\n",
       "    }\n",
       "</style>\n",
       "<table border=\"1\" class=\"dataframe\">\n",
       "  <thead>\n",
       "    <tr style=\"text-align: right;\">\n",
       "      <th></th>\n",
       "      <th>MODELYEAR</th>\n",
       "      <th>ENGINESIZE</th>\n",
       "      <th>CYLINDERS</th>\n",
       "      <th>FUELCONSUMPTION_CITY</th>\n",
       "      <th>FUELCONSUMPTION_HWY</th>\n",
       "      <th>FUELCONSUMPTION_COMB</th>\n",
       "      <th>FUELCONSUMPTION_COMB_MPG</th>\n",
       "      <th>CO2EMISSIONS</th>\n",
       "    </tr>\n",
       "  </thead>\n",
       "  <tbody>\n",
       "    <tr>\n",
       "      <th>count</th>\n",
       "      <td>1067.0</td>\n",
       "      <td>1067.000000</td>\n",
       "      <td>1067.000000</td>\n",
       "      <td>1067.000000</td>\n",
       "      <td>1067.000000</td>\n",
       "      <td>1067.000000</td>\n",
       "      <td>1067.000000</td>\n",
       "      <td>1067.000000</td>\n",
       "    </tr>\n",
       "    <tr>\n",
       "      <th>mean</th>\n",
       "      <td>2014.0</td>\n",
       "      <td>3.346298</td>\n",
       "      <td>5.794752</td>\n",
       "      <td>13.296532</td>\n",
       "      <td>9.474602</td>\n",
       "      <td>11.580881</td>\n",
       "      <td>26.441425</td>\n",
       "      <td>256.228679</td>\n",
       "    </tr>\n",
       "    <tr>\n",
       "      <th>std</th>\n",
       "      <td>0.0</td>\n",
       "      <td>1.415895</td>\n",
       "      <td>1.797447</td>\n",
       "      <td>4.101253</td>\n",
       "      <td>2.794510</td>\n",
       "      <td>3.485595</td>\n",
       "      <td>7.468702</td>\n",
       "      <td>63.372304</td>\n",
       "    </tr>\n",
       "    <tr>\n",
       "      <th>min</th>\n",
       "      <td>2014.0</td>\n",
       "      <td>1.000000</td>\n",
       "      <td>3.000000</td>\n",
       "      <td>4.600000</td>\n",
       "      <td>4.900000</td>\n",
       "      <td>4.700000</td>\n",
       "      <td>11.000000</td>\n",
       "      <td>108.000000</td>\n",
       "    </tr>\n",
       "    <tr>\n",
       "      <th>25%</th>\n",
       "      <td>2014.0</td>\n",
       "      <td>2.000000</td>\n",
       "      <td>4.000000</td>\n",
       "      <td>10.250000</td>\n",
       "      <td>7.500000</td>\n",
       "      <td>9.000000</td>\n",
       "      <td>21.000000</td>\n",
       "      <td>207.000000</td>\n",
       "    </tr>\n",
       "    <tr>\n",
       "      <th>50%</th>\n",
       "      <td>2014.0</td>\n",
       "      <td>3.400000</td>\n",
       "      <td>6.000000</td>\n",
       "      <td>12.600000</td>\n",
       "      <td>8.800000</td>\n",
       "      <td>10.900000</td>\n",
       "      <td>26.000000</td>\n",
       "      <td>251.000000</td>\n",
       "    </tr>\n",
       "    <tr>\n",
       "      <th>75%</th>\n",
       "      <td>2014.0</td>\n",
       "      <td>4.300000</td>\n",
       "      <td>8.000000</td>\n",
       "      <td>15.550000</td>\n",
       "      <td>10.850000</td>\n",
       "      <td>13.350000</td>\n",
       "      <td>31.000000</td>\n",
       "      <td>294.000000</td>\n",
       "    </tr>\n",
       "    <tr>\n",
       "      <th>max</th>\n",
       "      <td>2014.0</td>\n",
       "      <td>8.400000</td>\n",
       "      <td>12.000000</td>\n",
       "      <td>30.200000</td>\n",
       "      <td>20.500000</td>\n",
       "      <td>25.800000</td>\n",
       "      <td>60.000000</td>\n",
       "      <td>488.000000</td>\n",
       "    </tr>\n",
       "  </tbody>\n",
       "</table>\n",
       "</div>"
      ],
      "text/plain": [
       "       MODELYEAR   ENGINESIZE    CYLINDERS  FUELCONSUMPTION_CITY  \\\n",
       "count     1067.0  1067.000000  1067.000000           1067.000000   \n",
       "mean      2014.0     3.346298     5.794752             13.296532   \n",
       "std          0.0     1.415895     1.797447              4.101253   \n",
       "min       2014.0     1.000000     3.000000              4.600000   \n",
       "25%       2014.0     2.000000     4.000000             10.250000   \n",
       "50%       2014.0     3.400000     6.000000             12.600000   \n",
       "75%       2014.0     4.300000     8.000000             15.550000   \n",
       "max       2014.0     8.400000    12.000000             30.200000   \n",
       "\n",
       "       FUELCONSUMPTION_HWY  FUELCONSUMPTION_COMB  FUELCONSUMPTION_COMB_MPG  \\\n",
       "count          1067.000000           1067.000000               1067.000000   \n",
       "mean              9.474602             11.580881                 26.441425   \n",
       "std               2.794510              3.485595                  7.468702   \n",
       "min               4.900000              4.700000                 11.000000   \n",
       "25%               7.500000              9.000000                 21.000000   \n",
       "50%               8.800000             10.900000                 26.000000   \n",
       "75%              10.850000             13.350000                 31.000000   \n",
       "max              20.500000             25.800000                 60.000000   \n",
       "\n",
       "       CO2EMISSIONS  \n",
       "count   1067.000000  \n",
       "mean     256.228679  \n",
       "std       63.372304  \n",
       "min      108.000000  \n",
       "25%      207.000000  \n",
       "50%      251.000000  \n",
       "75%      294.000000  \n",
       "max      488.000000  "
      ]
     },
     "execution_count": 6,
     "metadata": {},
     "output_type": "execute_result"
    }
   ],
   "source": [
    "df.describe()"
   ]
  },
  {
   "cell_type": "code",
   "execution_count": 13,
   "metadata": {},
   "outputs": [
    {
     "data": {
      "text/plain": [
       "count    1067.000000\n",
       "mean        3.346298\n",
       "std         1.415895\n",
       "min         1.000000\n",
       "25%         2.000000\n",
       "50%         3.400000\n",
       "75%         4.300000\n",
       "max         8.400000\n",
       "Name: ENGINESIZE, dtype: float64"
      ]
     },
     "execution_count": 13,
     "metadata": {},
     "output_type": "execute_result"
    }
   ],
   "source": [
    "df.ENGINESIZE.describe()"
   ]
  },
  {
   "cell_type": "code",
   "execution_count": 11,
   "metadata": {},
   "outputs": [
    {
     "data": {
      "text/plain": [
       "count    1067.000000\n",
       "mean      256.228679\n",
       "std        63.372304\n",
       "min       108.000000\n",
       "25%       207.000000\n",
       "50%       251.000000\n",
       "75%       294.000000\n",
       "max       488.000000\n",
       "Name: CO2EMISSIONS, dtype: float64"
      ]
     },
     "execution_count": 11,
     "metadata": {},
     "output_type": "execute_result"
    }
   ],
   "source": [
    "df.CO2EMISSIONS.describe()"
   ]
  },
  {
   "cell_type": "code",
   "execution_count": 14,
   "metadata": {},
   "outputs": [
    {
     "data": {
      "image/png": "[encoded data removed]",
      "text/plain": [
       "<Figure size 504x504 with 3 Axes>"
      ]
     },
     "metadata": {},
     "output_type": "display_data"
    }
   ],
   "source": [
    "sns.set(style=\"darkgrid\")\n",
    "\n",
    "g = sns.jointplot(\"ENGINESIZE\", \"CO2EMISSIONS\", data=df,\n",
    "                  kind=\"reg\", truncate=False,\n",
    "                  xlim=(0, 10), ylim=(100, 500),\n",
    "                  color=\"m\", height=7)"
   ]
  },
  {
   "cell_type": "code",
   "execution_count": 21,
   "metadata": {},
   "outputs": [
    {
     "data": {
      "text/plain": [
       "<seaborn.axisgrid.PairGrid at 0x261c3441608>"
      ]
     },
     "execution_count": 21,
     "metadata": {},
     "output_type": "execute_result"
    },
    {
     "data": {
      "image/png": "[encoded data removed]",
      "text/plain": [
       "<Figure size 864x288 with 3 Axes>"
      ]
     },
     "metadata": {},
     "output_type": "display_data"
    }
   ],
   "source": [
    "g = sns.PairGrid(df, y_vars=[\"CO2EMISSIONS\"], x_vars=[\"ENGINESIZE\", \"CYLINDERS\", \"FUELCONSUMPTION_CITY\"], height=4)\n",
    "g.map(sns.regplot, color=\".4\")"
   ]
  },
  {
   "cell_type": "code",
   "execution_count": 22,
   "metadata": {},
   "outputs": [
    {
     "data": {
      "text/plain": [
       "<seaborn.axisgrid.PairGrid at 0x261c4df5c88>"
      ]
     },
     "execution_count": 22,
     "metadata": {},
     "output_type": "execute_result"
    },
    {
     "data": {
      "image/png": "[encoded data removed]",
      "text/plain": [
       "<Figure size 864x288 with 3 Axes>"
      ]
     },
     "metadata": {},
     "output_type": "display_data"
    }
   ],
   "source": [
    "g = sns.PairGrid(df, y_vars=[\"CO2EMISSIONS\"], x_vars=[\"FUELCONSUMPTION_HWY\", \"FUELCONSUMPTION_COMB\", \"FUELCONSUMPTION_COMB_MPG\"], height=4)\n",
    "g.map(sns.regplot, color=\".4\")\n"
   ]
  },
  {
   "cell_type": "code",
   "execution_count": 24,
   "metadata": {},
   "outputs": [],
   "source": [
    "X = df[['ENGINESIZE', 'CYLINDERS', 'FUELCONSUMPTION_CITY', 'FUELCONSUMPTION_HWY', 'FUELCONSUMPTION_COMB', 'FUELCONSUMPTION_COMB_MPG']]\n",
    "y = df[['CO2EMISSIONS']]"
   ]
  },
  {
   "cell_type": "markdown",
   "metadata": {},
   "source": [
    "# Linear Models"
   ]
  },
  {
   "cell_type": "markdown",
   "metadata": {},
   "source": [
    "### 1.Linear Regression"
   ]
  },
  {
   "cell_type": "code",
   "execution_count": 29,
   "metadata": {},
   "outputs": [
    {
     "data": {
      "text/plain": [
       "array([[308.96275897],\n",
       "       [241.38417423],\n",
       "       [279.01768813],\n",
       "       [237.30710931],\n",
       "       [206.05910132]])"
      ]
     },
     "execution_count": 29,
     "metadata": {},
     "output_type": "execute_result"
    }
   ],
   "source": [
    "X_train, X_test, y_train, y_test = train_test_split( X, y, test_size=0.3, random_state=42)\n",
    "\n",
    "from sklearn.linear_model import LinearRegression\n",
    "from sklearn.metrics import accuracy_score\n",
    "lin_df = LinearRegression()  \n",
    "lin_df.fit(X_train, y_train)\n",
    "lr_pred = lin_df.predict(X_test)   \n",
    "lr_pred[0:5]"
   ]
  },
  {
   "cell_type": "code",
   "execution_count": 30,
   "metadata": {
    "scrolled": true
   },
   "outputs": [
    {
     "name": "stdout",
     "output_type": "stream",
     "text": [
      "RMSE Score for Test set:  19.75373077859394\n",
      "R2 Score:  0.9032576748788012\n"
     ]
    }
   ],
   "source": [
    "linrgr_rmse = np.sqrt(mean_squared_error(y_test, lr_pred))\n",
    "linrgr_r2 = r2_score(y_test, lr_pred)\n",
    "print(\"RMSE Score for Test set: \",linrgr_rmse)\n",
    "print(\"R2 Score: \",linrgr_r2)"
   ]
  },
  {
   "cell_type": "markdown",
   "metadata": {},
   "source": [
    "### Ridge Regression"
   ]
  },
  {
   "cell_type": "code",
   "execution_count": 41,
   "metadata": {},
   "outputs": [
    {
     "name": "stdout",
     "output_type": "stream",
     "text": [
      "The coefficients after ridge regression is : [[ 9.34792972  6.71627577 -5.12708293  0.89961187  7.96102794 -3.90839506]]\n",
      "The intercept after ridge regression is : [257.04054999]\n"
     ]
    },
    {
     "data": {
      "text/plain": [
       "array([[308.11418474],\n",
       "       [242.03938319],\n",
       "       [278.3944232 ],\n",
       "       [236.58282648],\n",
       "       [205.64339057]])"
      ]
     },
     "execution_count": 41,
     "metadata": {},
     "output_type": "execute_result"
    }
   ],
   "source": [
    "X_train, X_test, y_train, y_test = train_test_split( X, y, test_size=0.3, random_state=42)\n",
    "\n",
    "from sklearn import linear_model\n",
    "reg = linear_model.Ridge()\n",
    "reg.fit(X_train, y_train)\n",
    "rdg_pred = reg.predict(X_test)\n",
    "print(\"The coefficients after ridge regression is :\", reg.coef_)\n",
    "print(\"The intercept after ridge regression is :\", reg.intercept_)\n",
    "rdg_pred[0:5]"
   ]
  },
  {
   "cell_type": "code",
   "execution_count": 42,
   "metadata": {},
   "outputs": [
    {
     "name": "stdout",
     "output_type": "stream",
     "text": [
      "RMSE Score for Test set:  19.743241893266763\n",
      "R2 Score:  0.9033603845660795\n"
     ]
    }
   ],
   "source": [
    "rdgrgr_rmse = np.sqrt(mean_squared_error(y_test, rdg_pred))\n",
    "rdgrgr_r2 = r2_score(y_test, rdg_pred)\n",
    "print(\"RMSE Score for Test set: \",rdgrgr_rmse)\n",
    "print(\"R2 Score: \",rdgrgr_r2)"
   ]
  },
  {
   "cell_type": "markdown",
   "metadata": {
    "scrolled": true
   },
   "source": [
    "### Lasso"
   ]
  },
  {
   "cell_type": "code",
   "execution_count": 43,
   "metadata": {},
   "outputs": [
    {
     "name": "stdout",
     "output_type": "stream",
     "text": [
      "0.6075327574825272\n"
     ]
    }
   ],
   "source": [
    "# Finding the best value of alpha using cross validation\n",
    "from sklearn.linear_model import LassoCV\n",
    "regr = LassoCV()\n",
    "regr.fit(X, y)\n",
    "print(regr.alpha_)"
   ]
  },
  {
   "cell_type": "code",
   "execution_count": 44,
   "metadata": {},
   "outputs": [
    {
     "name": "stdout",
     "output_type": "stream",
     "text": [
      "The coefficients after lasso regression is : [ 8.39361003  6.69635277  0.          3.62303732  0.         -3.95282406]\n",
      "The intercept after lasso regression is : [259.73217631]\n"
     ]
    },
    {
     "data": {
      "text/plain": [
       "array([307.42324848, 242.19111393, 279.03322918, 236.90739772,\n",
       "       206.49082656])"
      ]
     },
     "execution_count": 44,
     "metadata": {},
     "output_type": "execute_result"
    }
   ],
   "source": [
    "X_train, X_test, y_train, y_test = train_test_split( X, y, test_size=0.3, random_state=42)\n",
    "\n",
    "from sklearn import linear_model\n",
    "clf = linear_model.Lasso(alpha=regr.alpha_)\n",
    "clf.fit(X_train, y_train)\n",
    "las_pred = clf.predict(X_test)\n",
    "print(\"The coefficients after lasso regression is :\", clf.coef_)\n",
    "print(\"The intercept after lasso regression is :\", clf.intercept_)\n",
    "las_pred[0:5]"
   ]
  },
  {
   "cell_type": "code",
   "execution_count": 45,
   "metadata": {
    "scrolled": true
   },
   "outputs": [
    {
     "name": "stdout",
     "output_type": "stream",
     "text": [
      "RMSE Score for Test set:  19.780075069733265\n",
      "R2 Score:  0.9029994646738483\n"
     ]
    }
   ],
   "source": [
    "lasrgr_rmse = np.sqrt(mean_squared_error(y_test, las_pred))\n",
    "lasrgr_r2 = r2_score(y_test, las_pred)\n",
    "print(\"RMSE Score for Test set: \",lasrgr_rmse)\n",
    "print(\"R2 Score: \",lasrgr_r2)"
   ]
  },
  {
   "cell_type": "markdown",
   "metadata": {},
   "source": [
    "### ElasticNet"
   ]
  },
  {
   "cell_type": "code",
   "execution_count": 46,
   "metadata": {},
   "outputs": [
    {
     "name": "stdout",
     "output_type": "stream",
     "text": [
      "0.8572047002650004\n"
     ]
    }
   ],
   "source": [
    "# Finding the best value of alpha using cross validation\n",
    "from sklearn.linear_model import ElasticNetCV\n",
    "regr = ElasticNetCV()\n",
    "regr.fit(X, y)\n",
    "print(regr.alpha_)"
   ]
  },
  {
   "cell_type": "code",
   "execution_count": 47,
   "metadata": {},
   "outputs": [
    {
     "name": "stdout",
     "output_type": "stream",
     "text": [
      "The coefficients after elasticnet regression is : [ 5.37863256  6.21499572  1.1017821   1.63087673  1.39080286 -3.98032444]\n",
      "The intercept after elasticnet regression is : [261.41004635]\n"
     ]
    },
    {
     "data": {
      "text/plain": [
       "array([305.10993218, 240.2923344 , 281.08082635, 237.22393332,\n",
       "       209.30239949])"
      ]
     },
     "execution_count": 47,
     "metadata": {},
     "output_type": "execute_result"
    }
   ],
   "source": [
    "X_train, X_test, y_train, y_test = train_test_split( X, y, test_size=0.3, random_state=42)\n",
    "# Actual regression on test set\n",
    "from sklearn.linear_model import ElasticNet\n",
    "reg = ElasticNet(alpha=regr.alpha_)\n",
    "reg.fit(X_train, y_train)\n",
    "en_pred = reg.predict(X_test)\n",
    "print(\"The coefficients after elasticnet regression is :\", reg.coef_)\n",
    "print(\"The intercept after elasticnet regression is :\", reg.intercept_)\n",
    "en_pred[0:5]"
   ]
  },
  {
   "cell_type": "code",
   "execution_count": 48,
   "metadata": {},
   "outputs": [
    {
     "name": "stdout",
     "output_type": "stream",
     "text": [
      "RMSE Score for Test set:  20.23097046282535\n",
      "R2 Score:  0.8985267215348357\n"
     ]
    }
   ],
   "source": [
    "enrgr_rmse = np.sqrt(mean_squared_error(y_test, en_pred))\n",
    "enrgr_r2 = r2_score(y_test, en_pred)\n",
    "print(\"RMSE Score for Test set: \",enrgr_rmse)\n",
    "print(\"R2 Score: \",enrgr_r2)"
   ]
  },
  {
   "cell_type": "markdown",
   "metadata": {},
   "source": [
    "### LassoLars"
   ]
  },
  {
   "cell_type": "code",
   "execution_count": 49,
   "metadata": {},
   "outputs": [
    {
     "name": "stdout",
     "output_type": "stream",
     "text": [
      "0.005810529926268061\n"
     ]
    }
   ],
   "source": [
    "# Finding the best value of alpha using cross validation\n",
    "from sklearn.linear_model import LassoLarsCV\n",
    "regr = LassoLarsCV()\n",
    "regr.fit(X, y)\n",
    "print(regr.alpha_)"
   ]
  },
  {
   "cell_type": "code",
   "execution_count": 50,
   "metadata": {},
   "outputs": [
    {
     "name": "stdout",
     "output_type": "stream",
     "text": [
      "The coefficients after elasticnet regression is : [ 9.31917034  6.45687905  0.          3.76872847  0.         -3.79338929]\n",
      "The intercept after elasticnet regression is : [252.43479448]\n"
     ]
    },
    {
     "data": {
      "text/plain": [
       "array([307.42352838, 242.42721182, 278.58092938, 236.63700811,\n",
       "       206.06355539])"
      ]
     },
     "execution_count": 50,
     "metadata": {},
     "output_type": "execute_result"
    }
   ],
   "source": [
    "from sklearn import linear_model\n",
    "reg = linear_model.LassoLars(alpha=regr.alpha_)\n",
    "reg.fit(X_train, y_train)\n",
    "lslr_pred = reg.predict(X_test)\n",
    "print(\"The coefficients after elasticnet regression is :\", reg.coef_)\n",
    "print(\"The intercept after elasticnet regression is :\", reg.intercept_)\n",
    "lslr_pred[0:5]"
   ]
  },
  {
   "cell_type": "code",
   "execution_count": 52,
   "metadata": {
    "scrolled": true
   },
   "outputs": [
    {
     "name": "stdout",
     "output_type": "stream",
     "text": [
      "RMSE Score for Test set:  19.760483502050473\n",
      "R2 Score:  0.9031915217217275\n"
     ]
    }
   ],
   "source": [
    "lslrrgr_rmse = np.sqrt(mean_squared_error(y_test, lslr_pred))\n",
    "lslrrgr_r2 = r2_score(y_test, lslr_pred)\n",
    "print(\"RMSE Score for Test set: \",lslrrgr_rmse)\n",
    "print(\"R2 Score: \",lslrrgr_r2)"
   ]
  },
  {
   "cell_type": "markdown",
   "metadata": {},
   "source": [
    "# 3.Polynomial Regression"
   ]
  },
  {
   "cell_type": "code",
   "execution_count": 53,
   "metadata": {
    "scrolled": false
   },
   "outputs": [
    {
     "name": "stdout",
     "output_type": "stream",
     "text": [
      "\n",
      "The predicted values with degree =  1  is \n",
      " [[308.96275897]\n",
      " [241.38417423]\n",
      " [279.01768813]\n",
      " [237.30710931]\n",
      " [206.05910132]]\n",
      "\n",
      "RMSE Score of Test set for degree  1  is:  19.753730778593926\n",
      "R2 RMSE Score of Test set for degree  1  is:  0.9032576748788013\n",
      "\n",
      "The predicted values with degree =  2  is \n",
      " [[265.28125   ]\n",
      " [280.75585938]\n",
      " [181.68359375]\n",
      " [223.25976562]\n",
      " [217.58007812]]\n",
      "\n",
      "RMSE Score of Test set for degree  2  is:  66.68979823749869\n",
      "R2 RMSE Score of Test set for degree  2  is:  -0.10264843920559641\n",
      "\n",
      "The predicted values with degree =  3  is \n",
      " [[314.4141922 ]\n",
      " [225.49828339]\n",
      " [277.00170898]\n",
      " [249.75688171]\n",
      " [204.79666138]]\n",
      "\n",
      "RMSE Score of Test set for degree  3  is:  19.028426569070792\n",
      "R2 RMSE Score of Test set for degree  3  is:  0.9102314898757643\n",
      "\n",
      "The predicted values with degree =  4  is \n",
      " [[315.64861691]\n",
      " [220.25516045]\n",
      " [272.21159756]\n",
      " [229.34732735]\n",
      " [209.67060101]]\n",
      "\n",
      "RMSE Score of Test set for degree  4  is:  58.49077940180968\n",
      "R2 RMSE Score of Test set for degree  4  is:  0.1518101385295898\n",
      "\n",
      "The predicted values with degree =  5  is \n",
      " [[201.1621133 ]\n",
      " [221.31982815]\n",
      " [234.95996486]\n",
      " [313.37689602]\n",
      " [206.71170437]]\n",
      "\n",
      "RMSE Score of Test set for degree  5  is:  17660.830869377925\n",
      "R2 RMSE Score of Test set for degree  5  is:  -77327.66685627073\n",
      "\n",
      "The predicted values with degree =  6  is \n",
      " [[-3495.43609226]\n",
      " [  220.39636623]\n",
      " [  688.87263881]\n",
      " [   86.29367458]\n",
      " [  206.99724399]]\n",
      "\n",
      "RMSE Score of Test set for degree  6  is:  3481327.3180109137\n",
      "R2 RMSE Score of Test set for degree  6  is:  -3004747454.570501\n",
      "\n",
      "The predicted values with degree =  7  is \n",
      " [[ 789.88167965]\n",
      " [ 220.95707714]\n",
      " [ 720.4746133 ]\n",
      " [-186.2266692 ]\n",
      " [ 207.05635845]]\n",
      "\n",
      "RMSE Score of Test set for degree  7  is:  91810.15378245602\n",
      "R2 RMSE Score of Test set for degree  7  is:  -2089774.7714068312\n",
      "\n",
      "The predicted values with degree =  8  is \n",
      " [[1128.37133705]\n",
      " [ 220.97009289]\n",
      " [ 309.83471691]\n",
      " [  84.20059215]\n",
      " [ 206.73522198]]\n",
      "\n",
      "RMSE Score of Test set for degree  8  is:  609869.5873910254\n",
      "R2 RMSE Score of Test set for degree  8  is:  -92213012.2170797\n",
      "\n",
      "The predicted values with degree =  9  is \n",
      " [[604.90997123]\n",
      " [220.87343883]\n",
      " [316.88948631]\n",
      " [ 75.26294946]\n",
      " [206.665066  ]]\n",
      "\n",
      "RMSE Score of Test set for degree  9  is:  178083.27344757982\n",
      "R2 RMSE Score of Test set for degree  9  is:  -7862568.9133932805\n",
      "\n",
      "The best RMSE score of Test Set is  19.028426569070792  with degree =  3\n",
      "The max R2 score of Test Set is  0.9102314898757643  with degree =  3\n"
     ]
    }
   ],
   "source": [
    "X_train, X_test, y_train, y_test = train_test_split( X, y, test_size=0.3, random_state=42)\n",
    "\n",
    "from sklearn.preprocessing import PolynomialFeatures\n",
    "\n",
    "from sklearn import linear_model\n",
    "\n",
    "plrgr_rmse = np.zeros(9)\n",
    "plrgr_r2 = np.zeros(9)\n",
    "\n",
    "for i in range(1,10):\n",
    "    poly_df = PolynomialFeatures(degree = i)\n",
    "    transform_poly = poly_df.fit_transform(X_train)\n",
    "    clf = linear_model.LinearRegression()\n",
    "    clf.fit(transform_poly,y_train)\n",
    "    polynomial_predict = clf.predict(poly_df.fit_transform(X_test))\n",
    "    plrgr_rmse[i-1] = np.sqrt(mean_squared_error(y_test,polynomial_predict))\n",
    "    plrgr_r2[i-1] = r2_score(y_test,polynomial_predict)\n",
    "    print(\"\\nThe predicted values with degree = \",i,\" is \\n\",polynomial_predict[0:5])\n",
    "    print(\"\\nRMSE Score of Test set for degree \", i,\" is: \",plrgr_rmse[i-1])\n",
    "    print(\"R2 RMSE Score of Test set for degree \", i,\" is: \",plrgr_r2[i-1]) \n",
    "\n",
    "print(\"\\nThe best RMSE score of Test Set is \", plrgr_rmse.min(), \" with degree = \",plrgr_rmse.argmin()+1)\n",
    "print(\"The max R2 score of Test Set is \", plrgr_r2.max(), \" with degree = \",plrgr_r2.argmax()+1)"
   ]
  },
  {
   "cell_type": "markdown",
   "metadata": {},
   "source": [
    "# 4.Decision Tree Regression"
   ]
  },
  {
   "cell_type": "code",
   "execution_count": 59,
   "metadata": {
    "scrolled": true
   },
   "outputs": [
    {
     "name": "stdout",
     "output_type": "stream",
     "text": [
      "\n",
      "The predicted values for Test Set using criterion =  mse  is:  [304. 221. 294. 221. 207.]\n",
      "\n",
      "The RMSE score for Test Set using criterion =  mse  is:  13.758656295327663\n",
      "The R2 score for Test Set using criterion =  mse  is:  0.9530678658460063\n",
      "\n",
      "The predicted values for Test Set using criterion =  friedman_mse  is:  [304. 221. 294. 221. 207.]\n",
      "\n",
      "The RMSE score for Test Set using criterion =  friedman_mse  is:  13.207132501404585\n",
      "The R2 score for Test Set using criterion =  friedman_mse  is:  0.9567550569075653\n",
      "\n",
      "The predicted values for Test Set using criterion =  mae  is:  [304. 221. 294. 221. 207.]\n",
      "\n",
      "The RMSE score for Test Set using criterion =  mae  is:  15.063830957471104\n",
      "The R2 score for Test Set using criterion =  mae  is:  0.9437413732477961\n",
      "\n",
      "The best RMSE score for Test Set is  13.207132501404585\n",
      "The max R2 score of Test Set is  0.9567550569075653\n"
     ]
    }
   ],
   "source": [
    "X_train, X_test, y_train, y_test = train_test_split( X, y, test_size=0.3, random_state=42)\n",
    "\n",
    "k = ['mse', 'friedman_mse', 'mae']\n",
    "dt_rmse = np.zeros(3)\n",
    "dt_r2 = np.zeros(3)\n",
    "n = 0\n",
    "\n",
    "from sklearn.tree import DecisionTreeRegressor\n",
    "for i in k:\n",
    "    dt_reg = DecisionTreeRegressor(criterion = i)          # create  DecisionTreeReg with sklearn\n",
    "    dt_reg.fit(X_train,y_train)\n",
    "    dt_predict = dt_reg.predict(X_test)\n",
    "    dt_rmse[n] = np.sqrt(mean_squared_error(y_test,dt_predict))\n",
    "    dt_r2[n] = r2_score(y_test,dt_predict)\n",
    "    print(\"\\nThe predicted values for Test Set using criterion = \",i,\" is: \",dt_predict[0:5])\n",
    "    print(\"\\nThe RMSE score for Test Set using criterion = \",i,\" is: \",dt_rmse[n])\n",
    "    print(\"The R2 score for Test Set using criterion = \",i,\" is: \",dt_r2[n])\n",
    "    n += 1   \n",
    "print(\"\\nThe best RMSE score for Test Set is \", dt_rmse.min())\n",
    "print(\"The max R2 score of Test Set is \", dt_r2.max())   "
   ]
  },
  {
   "cell_type": "markdown",
   "metadata": {},
   "source": [
    "# Ensemble Methods"
   ]
  },
  {
   "cell_type": "markdown",
   "metadata": {},
   "source": [
    "### Random Forest Model"
   ]
  },
  {
   "cell_type": "code",
   "execution_count": 60,
   "metadata": {
    "scrolled": true
   },
   "outputs": [
    {
     "name": "stdout",
     "output_type": "stream",
     "text": [
      "\n",
      "The predicted values for Test Set using criterion =  mse  is:  [304.13 221.   293.68 220.86 207.02]\n",
      "\n",
      "The RMSE score for Test Set using criterion =  mse  is:  10.890467043485033\n",
      "The R2 score for Test Set using criterion =  mse  is:  0.9437413732477961\n",
      "\n",
      "The predicted values for Test Set using criterion =  mae  is:  [303.56 220.97 293.94 220.97 207.  ]\n",
      "\n",
      "The RMSE score for Test Set using criterion =  mae  is:  11.825136978651155\n",
      "The R2 score for Test Set using criterion =  mae  is:  0.9437413732477961\n",
      "\n",
      "The best RMSE score for Test Set is  10.890467043485033\n",
      "The max R2 score of Test Set is  0.9437413732477961\n"
     ]
    }
   ],
   "source": [
    "X_train, X_test, y_train, y_test = train_test_split( X, y, test_size=0.3, random_state=42)\n",
    "\n",
    "k = ['mse', 'mae']\n",
    "n = 0\n",
    "rf_rmse = np.zeros(2)\n",
    "rf_r2 = np.zeros(2)\n",
    "\n",
    "from sklearn.ensemble import RandomForestRegressor\n",
    "for i in k:\n",
    "    rf_reg = RandomForestRegressor(criterion = i)\n",
    "    rf_reg.fit(X_train,y_train)\n",
    "    rf_pred = rf_reg.predict(X_test)\n",
    "    rf_rmse[n] = np.sqrt(mean_squared_error(y_test,rf_pred))\n",
    "    rf_r2[n] = r2_score(y_test,dt_predict)\n",
    "    print(\"\\nThe predicted values for Test Set using criterion = \",i,\" is: \",rf_pred[0:5])\n",
    "    print(\"\\nThe RMSE score for Test Set using criterion = \",i,\" is: \",rf_rmse[n])\n",
    "    print(\"The R2 score for Test Set using criterion = \",i,\" is: \",rf_r2[n])\n",
    "    n += 1   \n",
    "    \n",
    "print(\"\\nThe best RMSE score for Test Set is \", rf_rmse.min())\n",
    "print(\"The max R2 score of Test Set is \", rf_r2.max())       "
   ]
  },
  {
   "cell_type": "markdown",
   "metadata": {},
   "source": [
    "### ADABoost"
   ]
  },
  {
   "cell_type": "code",
   "execution_count": 61,
   "metadata": {
    "scrolled": true
   },
   "outputs": [
    {
     "name": "stdout",
     "output_type": "stream",
     "text": [
      "\n",
      "The predicted values for Test Set using loss =  linear  is:  [304.45762712 208.86956522 280.01204819 208.86956522 204.53846154]\n",
      "\n",
      "The RMSE score for Test Set using loss =  linear  is:  19.501657787437598\n",
      "The R2 score for Test Set using loss =  linear  is:  0.905710936447163\n",
      "\n",
      "The predicted values for Test Set using loss =  square  is:  [292.46052632 209.90229885 274.63888889 209.90229885 193.24      ]\n",
      "\n",
      "The RMSE score for Test Set using loss =  square  is:  20.520373611482412\n",
      "The R2 score for Test Set using loss =  square  is:  0.8956028152468039\n",
      "\n",
      "The predicted values for Test Set using loss =  exponential  is:  [299.72839506 207.09090909 279.77777778 207.09090909 200.3452381 ]\n",
      "\n",
      "The RMSE score for Test Set using loss =  exponential  is:  20.453975426382932\n",
      "The R2 score for Test Set using loss =  exponential  is:  0.8962773223559259\n",
      "\n",
      "The best RMSE score for Test Set is  19.501657787437598\n",
      "The max R2 score of Test Set is  0.905710936447163\n"
     ]
    }
   ],
   "source": [
    "X_train, X_test, y_train, y_test = train_test_split( X, y, test_size=0.3, random_state=42)\n",
    "\n",
    "k = ['linear', 'square', 'exponential']\n",
    "n = 0\n",
    "adb_rmse = np.zeros(3)\n",
    "adb_r2 = np.zeros(3)\n",
    "\n",
    "from sklearn.ensemble import AdaBoostRegressor\n",
    "for i in k:\n",
    "    ada_regr = AdaBoostRegressor(loss = i)\n",
    "    ada_regr.fit(X_train,y_train)\n",
    "    ada_pred = ada_regr.predict(X_test)\n",
    "    adb_rmse[n] = np.sqrt(mean_squared_error(y_test,ada_pred))\n",
    "    adb_r2[n] = r2_score(y_test,ada_pred)\n",
    "    print(\"\\nThe predicted values for Test Set using loss = \",i,\" is: \",ada_pred[0:5])\n",
    "    print(\"\\nThe RMSE score for Test Set using loss = \",i,\" is: \",adb_rmse[n])\n",
    "    print(\"The R2 score for Test Set using loss = \",i,\" is: \",adb_r2[n])\n",
    "    n += 1   \n",
    "print(\"\\nThe best RMSE score for Test Set is \", adb_rmse.min())\n",
    "print(\"The max R2 score of Test Set is \", adb_r2.max())           "
   ]
  },
  {
   "cell_type": "markdown",
   "metadata": {},
   "source": [
    "### Gradient Boosting"
   ]
  },
  {
   "cell_type": "code",
   "execution_count": 62,
   "metadata": {
    "scrolled": false
   },
   "outputs": [
    {
     "name": "stdout",
     "output_type": "stream",
     "text": [
      "\n",
      "The predicted values for Test Set using loss =  ls  is:  [307.41137463 224.30363662 282.64214429 225.6553822  206.52535218]\n",
      "\n",
      "The RMSE score for Test Set using loss =  ls  is:  12.355442219923363\n",
      "The R2 score for Test Set using loss =  ls  is:  0.9621527047488243\n",
      "\n",
      "The predicted values for Test Set using loss =  lad  is:  [306.40889779 225.06308895 276.48241521 228.03224139 206.70181601]\n",
      "\n",
      "The RMSE score for Test Set using loss =  lad  is:  15.75334192622392\n",
      "The R2 score for Test Set using loss =  lad  is:  0.9384732947922321\n",
      "\n",
      "The predicted values for Test Set using loss =  huber  is:  [305.65361155 222.77790446 290.12157734 224.91441658 205.3421301 ]\n",
      "\n",
      "The RMSE score for Test Set using loss =  huber  is:  12.60819687951863\n",
      "The R2 score for Test Set using loss =  huber  is:  0.960588385727836\n",
      "\n",
      "The predicted values for Test Set using loss =  quantile  is:  [317.72980573 228.23082998 292.45479695 239.16817418 206.86392312]\n",
      "\n",
      "The RMSE score for Test Set using loss =  quantile  is:  29.500623287803613\n",
      "The R2 score for Test Set using loss =  quantile  is:  0.7842351758361574\n",
      "\n",
      "The best RMSE score for Test Set is  12.355442219923363\n",
      "The max R2 score of Test Set is  0.9621527047488243\n"
     ]
    }
   ],
   "source": [
    "X_train, X_test, y_train, y_test = train_test_split( X, y, test_size=0.3, random_state=42)\n",
    "\n",
    "k = ['ls', 'lad', 'huber', 'quantile']\n",
    "n = 0\n",
    "gdb_rmse = np.zeros(4)\n",
    "gdb_r2 = np.zeros(4)\n",
    "\n",
    "from sklearn.ensemble import GradientBoostingRegressor\n",
    "\n",
    "for i in k:\n",
    "    reg = GradientBoostingRegressor(loss = i)\n",
    "    reg.fit(X_train, y_train)\n",
    "    grdbst_pred = reg.predict(X_test)\n",
    "    gdb_rmse[n] = np.sqrt(mean_squared_error(y_test,grdbst_pred))\n",
    "    gdb_r2[n] = r2_score(y_test,grdbst_pred)\n",
    "    print(\"\\nThe predicted values for Test Set using loss = \",i,\" is: \",grdbst_pred[0:5])\n",
    "    print(\"\\nThe RMSE score for Test Set using loss = \",i,\" is: \",gdb_rmse[n])\n",
    "    print(\"The R2 score for Test Set using loss = \",i,\" is: \",gdb_r2[n])\n",
    "    n += 1   \n",
    "print(\"\\nThe best RMSE score for Test Set is \", gdb_rmse.min())\n",
    "print(\"The max R2 score of Test Set is \", gdb_r2.max())    "
   ]
  },
  {
   "cell_type": "markdown",
   "metadata": {},
   "source": [
    "# KNearestNeighbor"
   ]
  },
  {
   "cell_type": "code",
   "execution_count": 64,
   "metadata": {
    "scrolled": false
   },
   "outputs": [
    {
     "name": "stdout",
     "output_type": "stream",
     "text": [
      "\n",
      "The predicted values for Test Set with neighbor k =  1  is: \n",
      " [[306.]\n",
      " [221.]\n",
      " [290.]\n",
      " [221.]\n",
      " [207.]]\n",
      "\n",
      "The RMSE score for Test Set with neighbor k =  1  is:  14.762924006904758\n",
      "The R2 score for Test Set with neighbor k =  1  is:  0.9459665088674759\n",
      "\n",
      "The predicted values for Test Set with neighbor k =  2  is: \n",
      " [[305.]\n",
      " [221.]\n",
      " [290.]\n",
      " [221.]\n",
      " [207.]]\n",
      "\n",
      "The RMSE score for Test Set with neighbor k =  2  is:  10.677151194602367\n",
      "The R2 score for Test Set with neighbor k =  2  is:  0.9717362980095889\n",
      "\n",
      "The predicted values for Test Set with neighbor k =  3  is: \n",
      " [[305.33333333]\n",
      " [221.        ]\n",
      " [291.33333333]\n",
      " [221.66666667]\n",
      " [207.66666667]]\n",
      "\n",
      "The RMSE score for Test Set with neighbor k =  3  is:  11.048792005316209\n",
      "The R2 score for Test Set with neighbor k =  3  is:  0.9697344997901257\n",
      "\n",
      "The predicted values for Test Set with neighbor k =  4  is: \n",
      " [[305.5 ]\n",
      " [222.  ]\n",
      " [292.75]\n",
      " [222.  ]\n",
      " [208.  ]]\n",
      "\n",
      "The RMSE score for Test Set with neighbor k =  4  is:  12.50571520436099\n",
      "The R2 score for Test Set with neighbor k =  4  is:  0.961226471183228\n",
      "\n",
      "The predicted values for Test Set with neighbor k =  5  is: \n",
      " [[305.6]\n",
      " [222.6]\n",
      " [293. ]\n",
      " [223.2]\n",
      " [208.2]]\n",
      "\n",
      "The RMSE score for Test Set with neighbor k =  5  is:  12.273178212133617\n",
      "The R2 score for Test Set with neighbor k =  5  is:  0.9626550105681075\n",
      "\n",
      "The predicted values for Test Set with neighbor k =  6  is: \n",
      " [[305.66666667]\n",
      " [223.        ]\n",
      " [293.16666667]\n",
      " [223.5       ]\n",
      " [208.33333333]]\n",
      "\n",
      "The RMSE score for Test Set with neighbor k =  6  is:  13.569778512889918\n",
      "The R2 score for Test Set with neighbor k =  6  is:  0.9543475827130112\n",
      "\n",
      "The predicted values for Test Set with neighbor k =  7  is: \n",
      " [[305.71428571]\n",
      " [223.71428571]\n",
      " [292.71428571]\n",
      " [223.71428571]\n",
      " [208.42857143]]\n",
      "\n",
      "The RMSE score for Test Set with neighbor k =  7  is:  14.493168814039114\n",
      "The R2 score for Test Set with neighbor k =  7  is:  0.9479231194539199\n",
      "\n",
      "The predicted values for Test Set with neighbor k =  8  is: \n",
      " [[305.5  ]\n",
      " [223.625]\n",
      " [292.625]\n",
      " [223.375]\n",
      " [208.25 ]]\n",
      "\n",
      "The RMSE score for Test Set with neighbor k =  8  is:  15.3110722361893\n",
      "The R2 score for Test Set with neighbor k =  8  is:  0.9418794827152841\n",
      "\n",
      "The predicted values for Test Set with neighbor k =  9  is: \n",
      " [[306.55555556]\n",
      " [223.55555556]\n",
      " [293.33333333]\n",
      " [223.55555556]\n",
      " [208.33333333]]\n",
      "\n",
      "The RMSE score for Test Set with neighbor k =  9  is:  16.146220443146106\n",
      "The R2 score for Test Set with neighbor k =  9  is:  0.935366151609727\n",
      "\n",
      "The best RMSE score for Test Set is  10.677151194602367  with neighbor k =  2\n",
      "The max R2 score of Test Set is  0.9717362980095889  with neighbor k =  2\n"
     ]
    }
   ],
   "source": [
    "X_train, X_test, y_train, y_test = train_test_split( X, y, test_size=0.3, random_state=42)\n",
    "\n",
    "from sklearn.neighbors import KNeighborsRegressor\n",
    "\n",
    "n = 0\n",
    "knn_rmse = np.zeros(9)\n",
    "knn_r2 = np.zeros(9)\n",
    "\n",
    "for i in range(1,10):\n",
    "    neigh = KNeighborsRegressor(n_neighbors=i)\n",
    "    neigh.fit(X_train, y_train)\n",
    "    knn_pred = neigh.predict(X_test)\n",
    "    knn_rmse[n] = np.sqrt(mean_squared_error(y_test,knn_pred))\n",
    "    knn_r2[n] = r2_score(y_test,knn_pred)\n",
    "    print(\"\\nThe predicted values for Test Set with neighbor k = \",i,\" is: \\n\",knn_pred[0:5])\n",
    "    print(\"\\nThe RMSE score for Test Set with neighbor k = \",i,\" is: \",knn_rmse[n])\n",
    "    print(\"The R2 score for Test Set with neighbor k = \",i,\" is: \",knn_r2[n])\n",
    "    n += 1   \n",
    "print(\"\\nThe best RMSE score for Test Set is \", knn_rmse.min(), \" with neighbor k = \", knn_rmse.argmin()+1)\n",
    "print(\"The max R2 score of Test Set is \", knn_r2.max(), \" with neighbor k = \", knn_r2.argmax()+1)   "
   ]
  },
  {
   "cell_type": "markdown",
   "metadata": {},
   "source": [
    "# Stochastic Gradient Descent"
   ]
  },
  {
   "cell_type": "code",
   "execution_count": 65,
   "metadata": {},
   "outputs": [
    {
     "data": {
      "text/plain": [
       "array([306.8909593 , 242.59082287, 278.86960518, 237.3718541 ,\n",
       "       206.85175043])"
      ]
     },
     "execution_count": 65,
     "metadata": {},
     "output_type": "execute_result"
    }
   ],
   "source": [
    "X= preprocessing.StandardScaler().fit(X).transform(X)\n",
    "X_train, X_test, y_train, y_test = train_test_split( X, y, test_size=0.3, random_state=42)\n",
    "\n",
    "from sklearn.linear_model import SGDRegressor\n",
    "reg = SGDRegressor()\n",
    "reg.fit(X_train, y_train)\n",
    "sgd_pred = reg.predict(X_test)\n",
    "sgd_pred[0:5]"
   ]
  },
  {
   "cell_type": "code",
   "execution_count": 66,
   "metadata": {},
   "outputs": [
    {
     "name": "stdout",
     "output_type": "stream",
     "text": [
      "RMSE Score for Test set:  19.80855110342886\n",
      "R2 Score for Test set:  0.9027199734411867\n"
     ]
    }
   ],
   "source": [
    "sgd_rmse = np.sqrt(mean_squared_error(y_test,sgd_pred))\n",
    "sgd_r2 = r2_score(y_test,sgd_pred)\n",
    "print(\"RMSE Score for Test set: \",sgd_rmse)\n",
    "print(\"R2 Score for Test set: \",sgd_r2)"
   ]
  },
  {
   "cell_type": "markdown",
   "metadata": {},
   "source": [
    "# Support Vector Machines"
   ]
  },
  {
   "cell_type": "markdown",
   "metadata": {},
   "source": [
    "### SVR"
   ]
  },
  {
   "cell_type": "code",
   "execution_count": 67,
   "metadata": {
    "scrolled": false
   },
   "outputs": [
    {
     "name": "stdout",
     "output_type": "stream",
     "text": [
      "\n",
      "The predicted values for Test Set with kernel =  linear  is:  [303.6357347  226.68922424 289.59212546 224.64725402 206.76272119]\n",
      "\n",
      "The RMSE score for Test Set with kernel =  linear  is:  30.394270768636897\n",
      "The R2 score for Test Set with kernel =  linear  is:  0.7709650727520849\n",
      "\n",
      "The predicted values for Test Set with kernel =  poly  is:  [264.91553877 246.72764209 246.63329201 246.27513821 225.05209911]\n",
      "\n",
      "The RMSE score for Test Set with kernel =  poly  is:  40.48669307894525\n",
      "The R2 score for Test Set with kernel =  poly  is:  0.5936101328282476\n",
      "\n",
      "The predicted values for Test Set with kernel =  rbf  is:  [304.34212024 224.79388755 288.58780203 222.21044118 206.55371891]\n",
      "\n",
      "The RMSE score for Test Set with kernel =  rbf  is:  30.44709437722849\n",
      "The R2 score for Test Set with kernel =  rbf  is:  0.7701682801807522\n",
      "\n",
      "The predicted values for Test Set with kernel =  sigmoid  is:  [321.41384202 210.60199933 308.89780908 205.28264278 200.07801882]\n",
      "\n",
      "The RMSE score for Test Set with kernel =  sigmoid  is:  43.93500508137894\n",
      "The R2 score for Test Set with kernel =  sigmoid  is:  0.5214364448608905\n",
      "\n",
      "The best RMSE score for Test Set is  30.394270768636897\n",
      "The max R2 score of Test Set is  0.7709650727520849\n"
     ]
    }
   ],
   "source": [
    "X= preprocessing.StandardScaler().fit(X).transform(X)\n",
    "X_train, X_test, y_train, y_test = train_test_split( X, y, test_size=0.3, random_state=42)\n",
    "\n",
    "from sklearn.svm import SVR\n",
    "k = ['linear', 'poly', 'rbf', 'sigmoid']\n",
    "n = 0\n",
    "svr_rmse = np.zeros(4)\n",
    "svr_r2 = np.zeros(4)\n",
    "\n",
    "for i in k:\n",
    "    reg = SVR(kernel = i)\n",
    "    reg.fit(X_train, y_train)\n",
    "    svr_pred = reg.predict(X_test)\n",
    "    svr_rmse[n] = np.sqrt(mean_squared_error(y_test,svr_pred))\n",
    "    svr_r2[n] = r2_score(y_test,svr_pred)\n",
    "    print(\"\\nThe predicted values for Test Set with kernel = \",i,\" is: \",svr_pred[0:5])\n",
    "    print(\"\\nThe RMSE score for Test Set with kernel = \",i,\" is: \",svr_rmse[n])\n",
    "    print(\"The R2 score for Test Set with kernel = \",i,\" is: \",svr_r2[n])\n",
    "    n += 1   \n",
    "print(\"\\nThe best RMSE score for Test Set is \", svr_rmse.min())\n",
    "print(\"The max R2 score of Test Set is \", svr_r2.max())         "
   ]
  },
  {
   "cell_type": "markdown",
   "metadata": {},
   "source": [
    "### NuSVR"
   ]
  },
  {
   "cell_type": "code",
   "execution_count": 68,
   "metadata": {},
   "outputs": [
    {
     "name": "stdout",
     "output_type": "stream",
     "text": [
      "\n",
      "The predicted values for Test Set with kernel =  linear  is:  [304.31845984 232.92154591 285.18795245 229.68484147 207.67249774]\n",
      "\n",
      "The RMSE score for Test Set with kernel =  linear  is:  24.33386832846783\n",
      "The R2 score for Test Set with kernel =  linear  is:  0.8531950946003223\n",
      "\n",
      "The predicted values for Test Set with kernel =  poly  is:  [265.61202286 252.419126   252.39223555 251.98985224 235.33795856]\n",
      "\n",
      "The RMSE score for Test Set with kernel =  poly  is:  35.99485330953234\n",
      "The R2 score for Test Set with kernel =  poly  is:  0.6787825899671546\n",
      "\n",
      "The predicted values for Test Set with kernel =  rbf  is:  [305.09993916 229.3471858  286.58837252 225.71809016 206.36200491]\n",
      "\n",
      "The RMSE score for Test Set with kernel =  rbf  is:  30.706091809256826\n",
      "The R2 score for Test Set with kernel =  rbf  is:  0.7662415342030559\n",
      "\n",
      "The predicted values for Test Set with kernel =  sigmoid  is:  [320.27648342 215.65452335 307.00274267 210.50297892 202.05700189]\n",
      "\n",
      "The RMSE score for Test Set with kernel =  sigmoid  is:  34.99949212167115\n",
      "The R2 score for Test Set with kernel =  sigmoid  is:  0.6963021308826132\n",
      "\n",
      "The best RMSE score for Test Set is  24.33386832846783\n",
      "The max R2 score of Test Set is  0.8531950946003223\n"
     ]
    }
   ],
   "source": [
    "X= preprocessing.StandardScaler().fit(X).transform(X)\n",
    "X_train, X_test, y_train, y_test = train_test_split( X, y, test_size=0.3, random_state=42)\n",
    "\n",
    "from sklearn.svm import NuSVR\n",
    "k = ['linear', 'poly', 'rbf', 'sigmoid']\n",
    "n = 0\n",
    "nusvr_rmse = np.zeros(4)\n",
    "nusvr_r2 = np.zeros(4)\n",
    "\n",
    "for i in k:\n",
    "    reg = NuSVR(kernel = i)\n",
    "    reg.fit(X_train, y_train)\n",
    "    nusvr_pred = reg.predict(X_test)\n",
    "    nusvr_rmse[n] = np.sqrt(mean_squared_error(y_test,nusvr_pred))\n",
    "    nusvr_r2[n] = r2_score(y_test,nusvr_pred)\n",
    "    print(\"\\nThe predicted values for Test Set with kernel = \",i,\" is: \",nusvr_pred[0:5])\n",
    "    print(\"\\nThe RMSE score for Test Set with kernel = \",i,\" is: \",nusvr_rmse[n])\n",
    "    print(\"The R2 score for Test Set with kernel = \",i,\" is: \",nusvr_r2[n])\n",
    "    n += 1   \n",
    "print(\"\\nThe best RMSE score for Test Set is \", nusvr_rmse.min())\n",
    "print(\"The max R2 score of Test Set is \", nusvr_r2.max())         "
   ]
  },
  {
   "cell_type": "markdown",
   "metadata": {},
   "source": [
    "### LinearSVR"
   ]
  },
  {
   "cell_type": "code",
   "execution_count": 69,
   "metadata": {},
   "outputs": [
    {
     "name": "stdout",
     "output_type": "stream",
     "text": [
      "\n",
      "The predicted values for Test Set is:  [295.6263318  234.2864577  274.87630986 232.05657528 206.8974851 ]\n",
      "\n",
      "The RMSE score for Test Set is:  21.705536155888908\n",
      "The R2 score for Test Set is:  0.8831955749626657\n"
     ]
    }
   ],
   "source": [
    "X= preprocessing.StandardScaler().fit(X).transform(X)\n",
    "X_train, X_test, y_train, y_test = train_test_split( X, y, test_size=0.3, random_state=42)\n",
    "\n",
    "from sklearn.svm import LinearSVR\n",
    "\n",
    "reg = LinearSVR()\n",
    "reg.fit(X_train, y_train)\n",
    "linsvr_pred = reg.predict(X_test)\n",
    "linsvr_rmse = np.sqrt(mean_squared_error(y_test,linsvr_pred))\n",
    "linsvr_r2 = r2_score(y_test,linsvr_pred)\n",
    "print(\"\\nThe predicted values for Test Set is: \",linsvr_pred[0:5])\n",
    "print(\"\\nThe RMSE score for Test Set is: \",linsvr_rmse)\n",
    "print(\"The R2 score for Test Set is: \",linsvr_r2)  "
   ]
  },
  {
   "cell_type": "markdown",
   "metadata": {},
   "source": [
    "# Report on accuracy of different algorithms using RMSE value and R2 score"
   ]
  },
  {
   "cell_type": "code",
   "execution_count": 70,
   "metadata": {},
   "outputs": [],
   "source": [
    "# rmse = root mean squared score.......r2 = R2-Score\n",
    "# 1.Linear Models\n",
    "# 1.1. Linear Regression\n",
    "linrgr_rmse\n",
    "linrgr_r2\n",
    "\n",
    "# 1.2. Ridge Regression\n",
    "rdgrgr_rmse\n",
    "rdgrgr_r2\n",
    "\n",
    "# 1.3. Lasso\n",
    "lasrgr_rmse\n",
    "lasrgr_r2\n",
    "\n",
    "# 1.4. ElasticNet\n",
    "enrgr_rmse\n",
    "enrgr_r2\n",
    "\n",
    "# 1.5. LarsLasso\n",
    "lslrrgr_rmse\n",
    "lslrrgr_r2\n",
    "\n",
    "# 2.Polynomial Regression\n",
    "plrgr_rmse = plrgr_rmse.min()\n",
    "plrgr_r2 = plrgr_r2.max()\n",
    "\n",
    "# 3.Decision Tree\n",
    "dt_rmse = dt_rmse.min()\n",
    "dt_r2 = dt_r2.max()\n",
    "\n",
    "# 4.Ensemble Methods\n",
    "# 4.1. Random Forest\n",
    "rf_rmse = rf_rmse.min()\n",
    "rf_r2 = rf_r2.max()\n",
    "\n",
    "# 4.2. AdaBoost\n",
    "adb_rmse = adb_rmse.min()\n",
    "adb_r2 = adb_r2.max()\n",
    "\n",
    "# 4.3. GradientBoost\n",
    "gdb_rmse = gdb_rmse.min()\n",
    "gdb_r2 = gdb_r2.max()\n",
    "\n",
    "# 5.KNearestNeighbor\n",
    "knn_rmse = knn_rmse.min()\n",
    "knn_r2 = knn_r2.max()\n",
    "\n",
    "# 6.Stochastic Gradient Descent\n",
    "sgd_rmse\n",
    "sgd_r2\n",
    "\n",
    "# 7.Support Vector Machines\n",
    "# 7.1. SVR\n",
    "svr_rmse = svr_rmse.min()\n",
    "svr_r2 = svr_r2.max()\n",
    "\n",
    "# 7.2. NuSVR\n",
    "nusvr_rmse = nusvr_rmse.min()\n",
    "nusvr_r2 = nusvr_r2.max()\n",
    "# 7.3. LinearSVR\n",
    "linsvr_rmse = linsvr_rmse\n",
    "linsvr_r2 = linsvr_r2\n",
    "\n",
    "#max of all\n",
    "min_rmse = [linrgr_rmse,rdgrgr_rmse,lasrgr_rmse,enrgr_rmse,lslrrgr_rmse,plrgr_rmse,dt_rmse,rf_rmse,adb_rmse,gdb_rmse,knn_rmse,sgd_rmse,svr_rmse,nusvr_rmse,linsvr_rmse]\n",
    "max_r2 = [linrgr_r2,rdgrgr_r2,lasrgr_r2,enrgr_r2,lslrrgr_r2,plrgr_r2,dt_r2,rf_r2,adb_r2,gdb_r2,knn_r2,sgd_r2,svr_r2,nusvr_r2,linsvr_r2]"
   ]
  },
  {
   "cell_type": "markdown",
   "metadata": {},
   "source": [
    "## Final Report"
   ]
  },
  {
   "cell_type": "code",
   "execution_count": 71,
   "metadata": {},
   "outputs": [
    {
     "data": {
      "text/html": [
       "<div>\n",
       "<style scoped>\n",
       "    .dataframe tbody tr th:only-of-type {\n",
       "        vertical-align: middle;\n",
       "    }\n",
       "\n",
       "    .dataframe tbody tr th {\n",
       "        vertical-align: top;\n",
       "    }\n",
       "\n",
       "    .dataframe thead th {\n",
       "        text-align: right;\n",
       "    }\n",
       "</style>\n",
       "<table border=\"1\" class=\"dataframe\">\n",
       "  <thead>\n",
       "    <tr style=\"text-align: right;\">\n",
       "      <th></th>\n",
       "      <th>Algorithm</th>\n",
       "      <th>R2-Sore</th>\n",
       "      <th>Root Mean Squared Error</th>\n",
       "    </tr>\n",
       "  </thead>\n",
       "  <tbody>\n",
       "    <tr>\n",
       "      <th>1</th>\n",
       "      <td>Linear Regression</td>\n",
       "      <td>0.903258</td>\n",
       "      <td>19.753731</td>\n",
       "    </tr>\n",
       "    <tr>\n",
       "      <th>2</th>\n",
       "      <td>Ridge Regression</td>\n",
       "      <td>0.903360</td>\n",
       "      <td>19.743242</td>\n",
       "    </tr>\n",
       "    <tr>\n",
       "      <th>3</th>\n",
       "      <td>Lasso Regression</td>\n",
       "      <td>0.902999</td>\n",
       "      <td>19.780075</td>\n",
       "    </tr>\n",
       "    <tr>\n",
       "      <th>4</th>\n",
       "      <td>ElasticNet Regression</td>\n",
       "      <td>0.898527</td>\n",
       "      <td>20.230970</td>\n",
       "    </tr>\n",
       "    <tr>\n",
       "      <th>5</th>\n",
       "      <td>LarsLasso Regression</td>\n",
       "      <td>0.903192</td>\n",
       "      <td>19.760484</td>\n",
       "    </tr>\n",
       "    <tr>\n",
       "      <th>6</th>\n",
       "      <td>Polynomial Regression</td>\n",
       "      <td>0.910231</td>\n",
       "      <td>19.028427</td>\n",
       "    </tr>\n",
       "    <tr>\n",
       "      <th>7</th>\n",
       "      <td>Decision Tree Regression</td>\n",
       "      <td>0.956755</td>\n",
       "      <td>13.207133</td>\n",
       "    </tr>\n",
       "    <tr>\n",
       "      <th>8</th>\n",
       "      <td>Random Forest Regression</td>\n",
       "      <td>0.943741</td>\n",
       "      <td>10.890467</td>\n",
       "    </tr>\n",
       "    <tr>\n",
       "      <th>9</th>\n",
       "      <td>AdaBoost Regression</td>\n",
       "      <td>0.905711</td>\n",
       "      <td>19.501658</td>\n",
       "    </tr>\n",
       "    <tr>\n",
       "      <th>10</th>\n",
       "      <td>Gradient Boosting Regression</td>\n",
       "      <td>0.962153</td>\n",
       "      <td>12.355442</td>\n",
       "    </tr>\n",
       "    <tr>\n",
       "      <th>11</th>\n",
       "      <td>KNearest Neighbor Regression</td>\n",
       "      <td>0.971736</td>\n",
       "      <td>10.677151</td>\n",
       "    </tr>\n",
       "    <tr>\n",
       "      <th>12</th>\n",
       "      <td>Stochastic Gradient Regression</td>\n",
       "      <td>0.902720</td>\n",
       "      <td>19.808551</td>\n",
       "    </tr>\n",
       "    <tr>\n",
       "      <th>13</th>\n",
       "      <td>Support Vector Regression</td>\n",
       "      <td>0.770965</td>\n",
       "      <td>30.394271</td>\n",
       "    </tr>\n",
       "    <tr>\n",
       "      <th>14</th>\n",
       "      <td>Nu Support Vector Regression</td>\n",
       "      <td>0.853195</td>\n",
       "      <td>24.333868</td>\n",
       "    </tr>\n",
       "    <tr>\n",
       "      <th>15</th>\n",
       "      <td>Linear Support Vector Regression</td>\n",
       "      <td>0.883196</td>\n",
       "      <td>21.705536</td>\n",
       "    </tr>\n",
       "  </tbody>\n",
       "</table>\n",
       "</div>"
      ],
      "text/plain": [
       "                           Algorithm   R2-Sore  Root Mean Squared Error\n",
       "1                  Linear Regression  0.903258                19.753731\n",
       "2                   Ridge Regression  0.903360                19.743242\n",
       "3                   Lasso Regression  0.902999                19.780075\n",
       "4              ElasticNet Regression  0.898527                20.230970\n",
       "5               LarsLasso Regression  0.903192                19.760484\n",
       "6              Polynomial Regression  0.910231                19.028427\n",
       "7           Decision Tree Regression  0.956755                13.207133\n",
       "8           Random Forest Regression  0.943741                10.890467\n",
       "9                AdaBoost Regression  0.905711                19.501658\n",
       "10      Gradient Boosting Regression  0.962153                12.355442\n",
       "11      KNearest Neighbor Regression  0.971736                10.677151\n",
       "12    Stochastic Gradient Regression  0.902720                19.808551\n",
       "13         Support Vector Regression  0.770965                30.394271\n",
       "14      Nu Support Vector Regression  0.853195                24.333868\n",
       "15  Linear Support Vector Regression  0.883196                21.705536"
      ]
     },
     "execution_count": 71,
     "metadata": {},
     "output_type": "execute_result"
    }
   ],
   "source": [
    "data = {'Algorithm':['Linear Regression', 'Ridge Regression', 'Lasso Regression', 'ElasticNet Regression', 'LarsLasso Regression', 'Polynomial Regression','Decision Tree Regression','Random Forest Regression','AdaBoost Regression','Gradient Boosting Regression','KNearest Neighbor Regression','Stochastic Gradient Regression','Support Vector Regression','Nu Support Vector Regression','Linear Support Vector Regression'], \n",
    "        'R2-Sore':max_r2, 'Root Mean Squared Error':min_rmse}\n",
    "s = pd.DataFrame(data, index = [1,2,3,4,5,6,7,8,9,10,11,12,13,14,15])\n",
    "s"
   ]
  }
 ],
 "metadata": {
  "kernelspec": {
   "display_name": "Python 3",
   "language": "python",
   "name": "python3"
  },
  "language_info": {
   "codemirror_mode": {
    "name": "ipython",
    "version": 3
   },
   "file_extension": ".py",
   "mimetype": "text/x-python",
   "name": "python",
   "nbconvert_exporter": "python",
   "pygments_lexer": "ipython3",
   "version": "3.7.6"
  }
 },
 "nbformat": 4,
 "nbformat_minor": 4
}
