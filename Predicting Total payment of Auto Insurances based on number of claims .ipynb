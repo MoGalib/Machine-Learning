{
 "cells": [
  {
   "cell_type": "markdown",
   "metadata": {},
   "source": [
    "\n",
    "\n",
    "<h1 align=\"center\"><font size=\"5\">Predicting Total payment of Auto Insurances based on number of claims </font></h1>"
   ]
  },
  {
   "cell_type": "code",
   "execution_count": 1,
   "metadata": {},
   "outputs": [],
   "source": [
    "import itertools\n",
    "import numpy as np\n",
    "import matplotlib.pyplot as plt\n",
    "from matplotlib.ticker import NullFormatter\n",
    "import pandas as pd\n",
    "import numpy as np\n",
    "import seaborn as sns\n",
    "import matplotlib.ticker as ticker\n",
    "from sklearn import preprocessing\n",
    "import operator\n",
    "from sklearn.metrics import mean_squared_error,r2_score\n",
    "from sklearn.model_selection import train_test_split\n",
    "import warnings\n",
    "warnings.filterwarnings('ignore')\n",
    "#warnings.filterwarnings(action='once')\n",
    "%matplotlib inline"
   ]
  },
  {
   "cell_type": "markdown",
   "metadata": {},
   "source": [
    "This dataset has two columns.....  X = Number of claims....  Y = total payment for all the claims in thousands of Swedish Kronor for geographical zones in Sweden"
   ]
  },
  {
   "cell_type": "code",
   "execution_count": 2,
   "metadata": {},
   "outputs": [
    {
     "data": {
      "text/html": [
       "<div>\n",
       "<style scoped>\n",
       "    .dataframe tbody tr th:only-of-type {\n",
       "        vertical-align: middle;\n",
       "    }\n",
       "\n",
       "    .dataframe tbody tr th {\n",
       "        vertical-align: top;\n",
       "    }\n",
       "\n",
       "    .dataframe thead th {\n",
       "        text-align: right;\n",
       "    }\n",
       "</style>\n",
       "<table border=\"1\" class=\"dataframe\">\n",
       "  <thead>\n",
       "    <tr style=\"text-align: right;\">\n",
       "      <th></th>\n",
       "      <th>X</th>\n",
       "      <th>Y</th>\n",
       "    </tr>\n",
       "  </thead>\n",
       "  <tbody>\n",
       "    <tr>\n",
       "      <th>0</th>\n",
       "      <td>108</td>\n",
       "      <td>392.5</td>\n",
       "    </tr>\n",
       "    <tr>\n",
       "      <th>1</th>\n",
       "      <td>19</td>\n",
       "      <td>46.2</td>\n",
       "    </tr>\n",
       "    <tr>\n",
       "      <th>2</th>\n",
       "      <td>13</td>\n",
       "      <td>15.7</td>\n",
       "    </tr>\n",
       "    <tr>\n",
       "      <th>3</th>\n",
       "      <td>124</td>\n",
       "      <td>422.2</td>\n",
       "    </tr>\n",
       "    <tr>\n",
       "      <th>4</th>\n",
       "      <td>40</td>\n",
       "      <td>119.4</td>\n",
       "    </tr>\n",
       "    <tr>\n",
       "      <th>...</th>\n",
       "      <td>...</td>\n",
       "      <td>...</td>\n",
       "    </tr>\n",
       "    <tr>\n",
       "      <th>58</th>\n",
       "      <td>9</td>\n",
       "      <td>87.4</td>\n",
       "    </tr>\n",
       "    <tr>\n",
       "      <th>59</th>\n",
       "      <td>31</td>\n",
       "      <td>209.8</td>\n",
       "    </tr>\n",
       "    <tr>\n",
       "      <th>60</th>\n",
       "      <td>14</td>\n",
       "      <td>95.5</td>\n",
       "    </tr>\n",
       "    <tr>\n",
       "      <th>61</th>\n",
       "      <td>53</td>\n",
       "      <td>244.6</td>\n",
       "    </tr>\n",
       "    <tr>\n",
       "      <th>62</th>\n",
       "      <td>26</td>\n",
       "      <td>187.5</td>\n",
       "    </tr>\n",
       "  </tbody>\n",
       "</table>\n",
       "<p>63 rows × 2 columns</p>\n",
       "</div>"
      ],
      "text/plain": [
       "      X      Y\n",
       "0   108  392.5\n",
       "1    19   46.2\n",
       "2    13   15.7\n",
       "3   124  422.2\n",
       "4    40  119.4\n",
       "..  ...    ...\n",
       "58    9   87.4\n",
       "59   31  209.8\n",
       "60   14   95.5\n",
       "61   53  244.6\n",
       "62   26  187.5\n",
       "\n",
       "[63 rows x 2 columns]"
      ]
     },
     "execution_count": 2,
     "metadata": {},
     "output_type": "execute_result"
    }
   ],
   "source": [
    "df = pd.read_csv(r'E:\\Datasets\\auto_insurance_sweden.csv', encoding = 'unicode_escape')   \n",
    "df.head(100)"
   ]
  },
  {
   "cell_type": "code",
   "execution_count": 3,
   "metadata": {},
   "outputs": [
    {
     "data": {
      "text/html": [
       "<div>\n",
       "<style scoped>\n",
       "    .dataframe tbody tr th:only-of-type {\n",
       "        vertical-align: middle;\n",
       "    }\n",
       "\n",
       "    .dataframe tbody tr th {\n",
       "        vertical-align: top;\n",
       "    }\n",
       "\n",
       "    .dataframe thead th {\n",
       "        text-align: right;\n",
       "    }\n",
       "</style>\n",
       "<table border=\"1\" class=\"dataframe\">\n",
       "  <thead>\n",
       "    <tr style=\"text-align: right;\">\n",
       "      <th></th>\n",
       "      <th>X</th>\n",
       "      <th>Y</th>\n",
       "    </tr>\n",
       "  </thead>\n",
       "  <tbody>\n",
       "    <tr>\n",
       "      <th>0</th>\n",
       "      <td>False</td>\n",
       "      <td>False</td>\n",
       "    </tr>\n",
       "    <tr>\n",
       "      <th>1</th>\n",
       "      <td>False</td>\n",
       "      <td>False</td>\n",
       "    </tr>\n",
       "    <tr>\n",
       "      <th>2</th>\n",
       "      <td>False</td>\n",
       "      <td>False</td>\n",
       "    </tr>\n",
       "    <tr>\n",
       "      <th>3</th>\n",
       "      <td>False</td>\n",
       "      <td>False</td>\n",
       "    </tr>\n",
       "    <tr>\n",
       "      <th>4</th>\n",
       "      <td>False</td>\n",
       "      <td>False</td>\n",
       "    </tr>\n",
       "    <tr>\n",
       "      <th>...</th>\n",
       "      <td>...</td>\n",
       "      <td>...</td>\n",
       "    </tr>\n",
       "    <tr>\n",
       "      <th>58</th>\n",
       "      <td>False</td>\n",
       "      <td>False</td>\n",
       "    </tr>\n",
       "    <tr>\n",
       "      <th>59</th>\n",
       "      <td>False</td>\n",
       "      <td>False</td>\n",
       "    </tr>\n",
       "    <tr>\n",
       "      <th>60</th>\n",
       "      <td>False</td>\n",
       "      <td>False</td>\n",
       "    </tr>\n",
       "    <tr>\n",
       "      <th>61</th>\n",
       "      <td>False</td>\n",
       "      <td>False</td>\n",
       "    </tr>\n",
       "    <tr>\n",
       "      <th>62</th>\n",
       "      <td>False</td>\n",
       "      <td>False</td>\n",
       "    </tr>\n",
       "  </tbody>\n",
       "</table>\n",
       "<p>63 rows × 2 columns</p>\n",
       "</div>"
      ],
      "text/plain": [
       "        X      Y\n",
       "0   False  False\n",
       "1   False  False\n",
       "2   False  False\n",
       "3   False  False\n",
       "4   False  False\n",
       "..    ...    ...\n",
       "58  False  False\n",
       "59  False  False\n",
       "60  False  False\n",
       "61  False  False\n",
       "62  False  False\n",
       "\n",
       "[63 rows x 2 columns]"
      ]
     },
     "execution_count": 3,
     "metadata": {},
     "output_type": "execute_result"
    }
   ],
   "source": [
    "df.isnull()"
   ]
  },
  {
   "cell_type": "code",
   "execution_count": 4,
   "metadata": {},
   "outputs": [
    {
     "data": {
      "text/html": [
       "<div>\n",
       "<style scoped>\n",
       "    .dataframe tbody tr th:only-of-type {\n",
       "        vertical-align: middle;\n",
       "    }\n",
       "\n",
       "    .dataframe tbody tr th {\n",
       "        vertical-align: top;\n",
       "    }\n",
       "\n",
       "    .dataframe thead th {\n",
       "        text-align: right;\n",
       "    }\n",
       "</style>\n",
       "<table border=\"1\" class=\"dataframe\">\n",
       "  <thead>\n",
       "    <tr style=\"text-align: right;\">\n",
       "      <th></th>\n",
       "      <th>X</th>\n",
       "      <th>Y</th>\n",
       "    </tr>\n",
       "  </thead>\n",
       "  <tbody>\n",
       "    <tr>\n",
       "      <th>count</th>\n",
       "      <td>63.000000</td>\n",
       "      <td>63.000000</td>\n",
       "    </tr>\n",
       "    <tr>\n",
       "      <th>mean</th>\n",
       "      <td>22.904762</td>\n",
       "      <td>98.187302</td>\n",
       "    </tr>\n",
       "    <tr>\n",
       "      <th>std</th>\n",
       "      <td>23.351946</td>\n",
       "      <td>87.327553</td>\n",
       "    </tr>\n",
       "    <tr>\n",
       "      <th>min</th>\n",
       "      <td>0.000000</td>\n",
       "      <td>0.000000</td>\n",
       "    </tr>\n",
       "    <tr>\n",
       "      <th>25%</th>\n",
       "      <td>7.500000</td>\n",
       "      <td>38.850000</td>\n",
       "    </tr>\n",
       "    <tr>\n",
       "      <th>50%</th>\n",
       "      <td>14.000000</td>\n",
       "      <td>73.400000</td>\n",
       "    </tr>\n",
       "    <tr>\n",
       "      <th>75%</th>\n",
       "      <td>29.000000</td>\n",
       "      <td>140.000000</td>\n",
       "    </tr>\n",
       "    <tr>\n",
       "      <th>max</th>\n",
       "      <td>124.000000</td>\n",
       "      <td>422.200000</td>\n",
       "    </tr>\n",
       "  </tbody>\n",
       "</table>\n",
       "</div>"
      ],
      "text/plain": [
       "                X           Y\n",
       "count   63.000000   63.000000\n",
       "mean    22.904762   98.187302\n",
       "std     23.351946   87.327553\n",
       "min      0.000000    0.000000\n",
       "25%      7.500000   38.850000\n",
       "50%     14.000000   73.400000\n",
       "75%     29.000000  140.000000\n",
       "max    124.000000  422.200000"
      ]
     },
     "execution_count": 4,
     "metadata": {},
     "output_type": "execute_result"
    }
   ],
   "source": [
    "df.describe()"
   ]
  },
  {
   "cell_type": "code",
   "execution_count": 5,
   "metadata": {},
   "outputs": [],
   "source": [
    "X = np.array(df['X']).reshape(-1,1)\n",
    "y = np.array(df['Y']).reshape(-1,1)"
   ]
  },
  {
   "cell_type": "code",
   "execution_count": 6,
   "metadata": {},
   "outputs": [
    {
     "data": {
      "text/plain": [
       "<seaborn.axisgrid.PairGrid at 0x1e729a93c88>"
      ]
     },
     "execution_count": 6,
     "metadata": {},
     "output_type": "execute_result"
    },
    {
     "data": {
      "image/png": "[encoded data removed]",
      "text/plain": [
       "<Figure size 360x360 with 6 Axes>"
      ]
     },
     "metadata": {
      "needs_background": "light"
     },
     "output_type": "display_data"
    }
   ],
   "source": [
    "sns.pairplot(df, kind=\"reg\")"
   ]
  },
  {
   "cell_type": "code",
   "execution_count": 6,
   "metadata": {},
   "outputs": [
    {
     "data": {
      "text/plain": [
       "X    0\n",
       "Y    0\n",
       "dtype: int64"
      ]
     },
     "execution_count": 6,
     "metadata": {},
     "output_type": "execute_result"
    }
   ],
   "source": [
    "df.isnull().sum()"
   ]
  },
  {
   "cell_type": "markdown",
   "metadata": {},
   "source": [
    "# Linear Models"
   ]
  },
  {
   "cell_type": "markdown",
   "metadata": {},
   "source": [
    "### 1.Linear Regression"
   ]
  },
  {
   "cell_type": "code",
   "execution_count": 7,
   "metadata": {},
   "outputs": [
    {
     "data": {
      "text/plain": [
       "array([[206.94573169],\n",
       "       [ 99.43414033],\n",
       "       [410.84702566],\n",
       "       [147.62899163],\n",
       "       [221.77491671]])"
      ]
     },
     "execution_count": 7,
     "metadata": {},
     "output_type": "execute_result"
    }
   ],
   "source": [
    "X_train, X_test, y_train, y_test = train_test_split( X, y, test_size=0.3, random_state=42)\n",
    "\n",
    "from sklearn.linear_model import LinearRegression\n",
    "from sklearn.metrics import accuracy_score\n",
    "lin_df = LinearRegression()  \n",
    "lin_df.fit(X_train, y_train)\n",
    "lr_pred = lin_df.predict(X_test)   \n",
    "lr_pred[0:5]"
   ]
  },
  {
   "cell_type": "code",
   "execution_count": 8,
   "metadata": {},
   "outputs": [
    {
     "name": "stdout",
     "output_type": "stream",
     "text": [
      "RMSE Score for Test set:  36.12176263358525\n",
      "R2 Score:  0.8880527542012344\n"
     ]
    }
   ],
   "source": [
    "linrgr_rmse = np.sqrt(mean_squared_error(y_test, lr_pred))\n",
    "linrgr_r2 = r2_score(y_test, lr_pred)\n",
    "print(\"RMSE Score for Test set: \",linrgr_rmse)\n",
    "print(\"R2 Score: \",linrgr_r2)"
   ]
  },
  {
   "cell_type": "code",
   "execution_count": 15,
   "metadata": {},
   "outputs": [
    {
     "data": {
      "image/png": "[encoded data removed]",
      "text/plain": [
       "<Figure size 432x288 with 1 Axes>"
      ]
     },
     "metadata": {
      "needs_background": "light"
     },
     "output_type": "display_data"
    }
   ],
   "source": [
    "plt.scatter(X_test, y_test, color='r')\n",
    "plt.plot(X_test, lr_pred, color='g')\n",
    "plt.show()"
   ]
  },
  {
   "cell_type": "markdown",
   "metadata": {},
   "source": [
    "### Ridge Regression"
   ]
  },
  {
   "cell_type": "code",
   "execution_count": 10,
   "metadata": {
    "scrolled": true
   },
   "outputs": [
    {
     "name": "stdout",
     "output_type": "stream",
     "text": [
      "The coefficients after ridge regression is : [[3.70692735]]\n",
      "The intercept after ridge regression is : [10.46581308]\n"
     ]
    },
    {
     "data": {
      "text/plain": [
       "array([[206.93296251],\n",
       "       [ 99.43206943],\n",
       "       [410.81396664],\n",
       "       [147.62212495],\n",
       "       [221.76067191]])"
      ]
     },
     "execution_count": 10,
     "metadata": {},
     "output_type": "execute_result"
    }
   ],
   "source": [
    "X_train, X_test, y_train, y_test = train_test_split( X, y, test_size=0.3, random_state=42)\n",
    "\n",
    "from sklearn import linear_model\n",
    "reg = linear_model.Ridge()\n",
    "reg.fit(X_train, y_train)\n",
    "rdg_pred = reg.predict(X_test)\n",
    "print(\"The coefficients after ridge regression is :\", reg.coef_)\n",
    "print(\"The intercept after ridge regression is :\", reg.intercept_)\n",
    "rdg_pred[0:5]"
   ]
  },
  {
   "cell_type": "code",
   "execution_count": 11,
   "metadata": {},
   "outputs": [
    {
     "name": "stdout",
     "output_type": "stream",
     "text": [
      "RMSE Score for Test set:  36.11686194778923\n",
      "R2 Score:  0.8880831281930621\n"
     ]
    }
   ],
   "source": [
    "rdgrgr_rmse = np.sqrt(mean_squared_error(y_test, rdg_pred))\n",
    "rdgrgr_r2 = r2_score(y_test, rdg_pred)\n",
    "print(\"RMSE Score for Test set: \",rdgrgr_rmse)\n",
    "print(\"R2 Score: \",rdgrgr_r2)"
   ]
  },
  {
   "cell_type": "code",
   "execution_count": 15,
   "metadata": {},
   "outputs": [
    {
     "data": {
      "image/png": "[encoded data removed]",
      "text/plain": [
       "<Figure size 432x288 with 1 Axes>"
      ]
     },
     "metadata": {
      "needs_background": "light"
     },
     "output_type": "display_data"
    }
   ],
   "source": [
    "plt.scatter(X_test, y_test, color='r')\n",
    "plt.plot(X_test, rdg_pred, color='g')\n",
    "plt.show()"
   ]
  },
  {
   "cell_type": "markdown",
   "metadata": {
    "scrolled": true
   },
   "source": [
    "### Lasso"
   ]
  },
  {
   "cell_type": "code",
   "execution_count": 16,
   "metadata": {},
   "outputs": [
    {
     "name": "stdout",
     "output_type": "stream",
     "text": [
      "34.32935353504641\n"
     ]
    }
   ],
   "source": [
    "# Finding the best value of alpha using cross validation\n",
    "from sklearn.linear_model import LassoCV\n",
    "regr = LassoCV()\n",
    "regr.fit(X, y)\n",
    "print(regr.alpha_)"
   ]
  },
  {
   "cell_type": "code",
   "execution_count": 17,
   "metadata": {},
   "outputs": [
    {
     "name": "stdout",
     "output_type": "stream",
     "text": [
      "The coefficients after lasso regression is : [3.55697513]\n",
      "The intercept after lasso regression is : [13.22288907]\n"
     ]
    },
    {
     "data": {
      "text/plain": [
       "array([201.742571  ,  98.59029221, 397.3762032 , 144.83096891,\n",
       "       215.97047153])"
      ]
     },
     "execution_count": 17,
     "metadata": {},
     "output_type": "execute_result"
    }
   ],
   "source": [
    "X_train, X_test, y_train, y_test = train_test_split( X, y, test_size=0.3, random_state=42)\n",
    "\n",
    "from sklearn import linear_model\n",
    "clf = linear_model.Lasso(alpha=regr.alpha_)\n",
    "clf.fit(X_train, y_train)\n",
    "las_pred = clf.predict(X_test)\n",
    "print(\"The coefficients after lasso regression is :\", clf.coef_)\n",
    "print(\"The intercept after lasso regression is :\", clf.intercept_)\n",
    "las_pred[0:5]"
   ]
  },
  {
   "cell_type": "code",
   "execution_count": 18,
   "metadata": {},
   "outputs": [
    {
     "name": "stdout",
     "output_type": "stream",
     "text": [
      "RMSE Score for Test set:  34.499884496429644\n",
      "R2 Score:  0.8978799951970453\n"
     ]
    }
   ],
   "source": [
    "lasrgr_rmse = np.sqrt(mean_squared_error(y_test, las_pred))\n",
    "lasrgr_r2 = r2_score(y_test, las_pred)\n",
    "print(\"RMSE Score for Test set: \",lasrgr_rmse)\n",
    "print(\"R2 Score: \",lasrgr_r2)"
   ]
  },
  {
   "cell_type": "code",
   "execution_count": 19,
   "metadata": {},
   "outputs": [
    {
     "data": {
      "image/png": "[encoded data removed]",
      "text/plain": [
       "<Figure size 432x288 with 1 Axes>"
      ]
     },
     "metadata": {
      "needs_background": "light"
     },
     "output_type": "display_data"
    }
   ],
   "source": [
    "plt.scatter(X_test, y_test, color='r')\n",
    "plt.plot(X_test, las_pred, color='g')\n",
    "plt.show()"
   ]
  },
  {
   "cell_type": "markdown",
   "metadata": {},
   "source": [
    "### ElasticNet"
   ]
  },
  {
   "cell_type": "code",
   "execution_count": 20,
   "metadata": {},
   "outputs": [
    {
     "name": "stdout",
     "output_type": "stream",
     "text": [
      "15.861051837193102\n"
     ]
    }
   ],
   "source": [
    "# Finding the best value of alpha using cross validation\n",
    "from sklearn.linear_model import ElasticNetCV\n",
    "regr = ElasticNetCV()\n",
    "regr.fit(X, y)\n",
    "print(regr.alpha_)"
   ]
  },
  {
   "cell_type": "code",
   "execution_count": 21,
   "metadata": {},
   "outputs": [
    {
     "name": "stdout",
     "output_type": "stream",
     "text": [
      "The coefficients after elasticnet regression is : [3.54931612]\n",
      "The intercept after elasticnet regression is : [13.36371052]\n"
     ]
    },
    {
     "data": {
      "text/plain": [
       "array([201.47746462,  98.54729728, 396.68985096, 144.68840678,\n",
       "       215.67472908])"
      ]
     },
     "execution_count": 21,
     "metadata": {},
     "output_type": "execute_result"
    }
   ],
   "source": [
    "X_train, X_test, y_train, y_test = train_test_split( X, y, test_size=0.3, random_state=42)\n",
    "# Actual regression on test set\n",
    "from sklearn.linear_model import ElasticNet\n",
    "reg = ElasticNet(alpha=regr.alpha_)\n",
    "reg.fit(X_train, y_train)\n",
    "en_pred = reg.predict(X_test)\n",
    "print(\"The coefficients after elasticnet regression is :\", reg.coef_)\n",
    "print(\"The intercept after elasticnet regression is :\", reg.intercept_)\n",
    "en_pred[0:5]"
   ]
  },
  {
   "cell_type": "code",
   "execution_count": 23,
   "metadata": {},
   "outputs": [
    {
     "name": "stdout",
     "output_type": "stream",
     "text": [
      "RMSE Score for Test set:  34.438367982723726\n",
      "R2 Score:  0.8982438495119887\n"
     ]
    }
   ],
   "source": [
    "enrgr_rmse = np.sqrt(mean_squared_error(y_test, en_pred))\n",
    "enrgr_r2 = r2_score(y_test, en_pred)\n",
    "print(\"RMSE Score for Test set: \",enrgr_rmse)\n",
    "print(\"R2 Score: \",enrgr_r2)"
   ]
  },
  {
   "cell_type": "code",
   "execution_count": 24,
   "metadata": {},
   "outputs": [
    {
     "data": {
      "image/png": "[encoded data removed]",
      "text/plain": [
       "<Figure size 432x288 with 1 Axes>"
      ]
     },
     "metadata": {
      "needs_background": "light"
     },
     "output_type": "display_data"
    }
   ],
   "source": [
    "plt.scatter(X_test, y_test, color='r')\n",
    "plt.plot(X_test, en_pred, color='g')\n",
    "plt.show()"
   ]
  },
  {
   "cell_type": "markdown",
   "metadata": {},
   "source": [
    "### LassoLars"
   ]
  },
  {
   "cell_type": "code",
   "execution_count": 25,
   "metadata": {},
   "outputs": [
    {
     "name": "stdout",
     "output_type": "stream",
     "text": [
      "0.0\n"
     ]
    }
   ],
   "source": [
    "# Finding the best value of alpha using cross validation\n",
    "from sklearn.linear_model import LassoLarsCV\n",
    "regr = LassoLarsCV()\n",
    "regr.fit(X, y)\n",
    "print(regr.alpha_)"
   ]
  },
  {
   "cell_type": "code",
   "execution_count": 26,
   "metadata": {},
   "outputs": [
    {
     "name": "stdout",
     "output_type": "stream",
     "text": [
      "The coefficients after elasticnet regression is : [3.70729625]\n",
      "The intercept after elasticnet regression is : [10.45903024]\n"
     ]
    },
    {
     "data": {
      "text/plain": [
       "array([206.94573169,  99.43414033, 410.84702566, 147.62899163,\n",
       "       221.77491671])"
      ]
     },
     "execution_count": 26,
     "metadata": {},
     "output_type": "execute_result"
    }
   ],
   "source": [
    "from sklearn import linear_model\n",
    "reg = linear_model.LassoLars(alpha=regr.alpha_)\n",
    "reg.fit(X_train, y_train)\n",
    "lslr_pred = reg.predict(X_test)\n",
    "print(\"The coefficients after elasticnet regression is :\", reg.coef_)\n",
    "print(\"The intercept after elasticnet regression is :\", reg.intercept_)\n",
    "lslr_pred[0:5]"
   ]
  },
  {
   "cell_type": "code",
   "execution_count": 27,
   "metadata": {},
   "outputs": [
    {
     "name": "stdout",
     "output_type": "stream",
     "text": [
      "RMSE Score for Test set:  36.12176263358526\n",
      "R2 Score:  0.8880527542012344\n"
     ]
    }
   ],
   "source": [
    "lslrrgr_rmse = np.sqrt(mean_squared_error(y_test, lslr_pred))\n",
    "lslrrgr_r2 = r2_score(y_test, lslr_pred)\n",
    "print(\"RMSE Score for Test set: \",lslrrgr_rmse)\n",
    "print(\"R2 Score: \",lslrrgr_r2)"
   ]
  },
  {
   "cell_type": "code",
   "execution_count": 28,
   "metadata": {},
   "outputs": [
    {
     "data": {
      "image/png": "[encoded data removed]",
      "text/plain": [
       "<Figure size 432x288 with 1 Axes>"
      ]
     },
     "metadata": {
      "needs_background": "light"
     },
     "output_type": "display_data"
    }
   ],
   "source": [
    "plt.scatter(X_test, y_test, color='r')\n",
    "plt.plot(X_test, lslr_pred, color='g')\n",
    "plt.show()"
   ]
  },
  {
   "cell_type": "markdown",
   "metadata": {},
   "source": [
    "# 3.Polynomial Regression"
   ]
  },
  {
   "cell_type": "code",
   "execution_count": 30,
   "metadata": {},
   "outputs": [
    {
     "name": "stdout",
     "output_type": "stream",
     "text": [
      "\n",
      "The predicted values with degree =  1  is \n",
      " [[206.94573169]\n",
      " [ 99.43414033]\n",
      " [410.84702566]\n",
      " [147.62899163]\n",
      " [221.77491671]]\n",
      "\n",
      "RMSE Score of Test set for degree  1  is:  36.121762633585305\n",
      "R2 RMSE Score of Test set for degree  1  is:  0.8880527542012341\n",
      "\n",
      "The predicted values with degree =  2  is \n",
      " [[192.6021439 ]\n",
      " [109.43256857]\n",
      " [189.54980323]\n",
      " [153.9544103 ]\n",
      " [199.47987398]]\n",
      "\n",
      "RMSE Score of Test set for degree  2  is:  84.66043991465709\n",
      "R2 RMSE Score of Test set for degree  2  is:  0.38505455911495134\n",
      "\n",
      "The predicted values with degree =  3  is \n",
      " [[ 192.82346814]\n",
      " [ 108.8017519 ]\n",
      " [-140.8618238 ]\n",
      " [ 158.04629709]\n",
      " [ 195.1659836 ]]\n",
      "\n",
      "RMSE Score of Test set for degree  3  is:  235.10697611788615\n",
      "R2 RMSE Score of Test set for degree  3  is:  -3.742491660635668\n",
      "\n",
      "The predicted values with degree =  4  is \n",
      " [[ 192.87404729]\n",
      " [ 108.77151004]\n",
      " [-156.05213011]\n",
      " [ 158.03985915]\n",
      " [ 195.17034321]]\n",
      "\n",
      "RMSE Score of Test set for degree  4  is:  243.35995762098537\n",
      "R2 RMSE Score of Test set for degree  4  is:  -4.081287716453797\n",
      "\n",
      "The predicted values with degree =  5  is \n",
      " [[ 188.76516455]\n",
      " [ 108.09322567]\n",
      " [3699.42785125]\n",
      " [ 160.25929126]\n",
      " [ 192.61782319]]\n",
      "\n",
      "RMSE Score of Test set for degree  5  is:  2281.5841192939706\n",
      "R2 RMSE Score of Test set for degree  5  is:  -445.6306416205321\n",
      "\n",
      "The predicted values with degree =  6  is \n",
      " [[   197.10065308]\n",
      " [   110.23906834]\n",
      " [-36706.58382463]\n",
      " [   158.81628717]\n",
      " [   201.69113255]]\n",
      "\n",
      "RMSE Score of Test set for degree  6  is:  29239.819555893762\n",
      "R2 RMSE Score of Test set for degree  6  is:  -73353.18914247879\n",
      "\n",
      "The predicted values with degree =  7  is \n",
      " [[1.95801384e+02]\n",
      " [1.12611308e+02]\n",
      " [1.43086889e+05]\n",
      " [1.53763841e+02]\n",
      " [1.93150206e+02]]\n",
      "\n",
      "RMSE Score of Test set for degree  7  is:  139894.31039866805\n",
      "R2 RMSE Score of Test set for degree  7  is:  -1679095.4675252566\n",
      "\n",
      "The predicted values with degree =  8  is \n",
      " [[2.15987943e+02]\n",
      " [1.18027756e+02]\n",
      " [5.88376640e+06]\n",
      " [1.28206413e+02]\n",
      " [1.26802629e+02]]\n",
      "\n",
      "RMSE Score of Test set for degree  8  is:  6607440.601470038\n",
      "R2 RMSE Score of Test set for degree  8  is:  -3745778388.3282976\n",
      "\n",
      "The predicted values with degree =  9  is \n",
      " [[2.45888017e+02]\n",
      " [1.06322706e+02]\n",
      " [2.68713389e+07]\n",
      " [1.38580673e+02]\n",
      " [7.04926727e+01]]\n",
      "\n",
      "RMSE Score of Test set for degree  9  is:  35046158.4889773\n",
      "R2 RMSE Score of Test set for degree  9  is:  -105379561155.24173\n",
      "\n",
      "The best RMSE score of Test Set is  36.121762633585305  with degree =  1\n",
      "The max R2 score of Test Set is  0.8880527542012341  with degree =  1\n"
     ]
    }
   ],
   "source": [
    "X_train, X_test, y_train, y_test = train_test_split( X, y, test_size=0.3, random_state=42)\n",
    "\n",
    "from sklearn.preprocessing import PolynomialFeatures\n",
    "\n",
    "from sklearn import linear_model\n",
    "\n",
    "plrgr_rmse = np.zeros(9)\n",
    "plrgr_r2 = np.zeros(9)\n",
    "\n",
    "for i in range(1,10):\n",
    "    poly_df = PolynomialFeatures(degree = i)\n",
    "    transform_poly = poly_df.fit_transform(X_train)\n",
    "    clf = linear_model.LinearRegression()\n",
    "    clf.fit(transform_poly,y_train)\n",
    "    polynomial_predict = clf.predict(poly_df.fit_transform(X_test))\n",
    "    plrgr_rmse[i-1] = np.sqrt(mean_squared_error(y_test,polynomial_predict))\n",
    "    plrgr_r2[i-1] = r2_score(y_test,polynomial_predict)\n",
    "    print(\"\\nThe predicted values with degree = \",i,\" is \\n\",polynomial_predict[0:5])\n",
    "    print(\"\\nRMSE Score of Test set for degree \", i,\" is: \",plrgr_rmse[i-1])\n",
    "    print(\"R2 RMSE Score of Test set for degree \", i,\" is: \",plrgr_r2[i-1]) \n",
    "\n",
    "print(\"\\nThe best RMSE score of Test Set is \", plrgr_rmse.min(), \" with degree = \",plrgr_rmse.argmin()+1)\n",
    "print(\"The max R2 score of Test Set is \", plrgr_r2.max(), \" with degree = \",plrgr_r2.argmax()+1)"
   ]
  },
  {
   "cell_type": "code",
   "execution_count": 32,
   "metadata": {
    "scrolled": false
   },
   "outputs": [
    {
     "data": {
      "image/png": "[encoded data removed]",
      "text/plain": [
       "<Figure size 432x288 with 1 Axes>"
      ]
     },
     "metadata": {
      "needs_background": "light"
     },
     "output_type": "display_data"
    }
   ],
   "source": [
    "X_train, X_test, y_train, y_test = train_test_split( X, y, test_size=0.3, random_state=42)\n",
    "#Draw the plot using the best degree\n",
    "poly_df = PolynomialFeatures(degree = plrgr_r2.argmax()+1)\n",
    "transform_poly = poly_df.fit_transform(X_train)\n",
    "clf = linear_model.LinearRegression()\n",
    "clf.fit(transform_poly,y_train)\n",
    "polynomial_predict = clf.predict(poly_df.fit_transform(X_test))\n",
    "\n",
    "\n",
    "plt.scatter(X_test, y_test, s=50)\n",
    "# sort the values of x before line plot\n",
    "sort_axis = operator.itemgetter(0)\n",
    "sorted_zip = sorted(zip(X_test,polynomial_predict), key=sort_axis)\n",
    "X_test, polynomial_predict = zip(*sorted_zip)\n",
    "plt.plot(X_test, polynomial_predict, color='m')\n",
    "plt.show()"
   ]
  },
  {
   "cell_type": "markdown",
   "metadata": {},
   "source": [
    "# 4.Decision Tree Regression"
   ]
  },
  {
   "cell_type": "code",
   "execution_count": 12,
   "metadata": {},
   "outputs": [
    {
     "name": "stdout",
     "output_type": "stream",
     "text": [
      "\n",
      "The predicted values for Test Set using criterion =  mse  is:  [162.8   84.95 202.4  119.4  162.8 ]\n",
      "\n",
      "The RMSE score for Test Set using criterion =  mse  is:  77.21951981051217\n",
      "The R2 score for Test Set using criterion =  mse  is:  0.48840094021243674\n",
      "\n",
      "The predicted values for Test Set using criterion =  friedman_mse  is:  [162.8   84.95 202.4  119.4  162.8 ]\n",
      "\n",
      "The RMSE score for Test Set using criterion =  friedman_mse  is:  77.21951981051217\n",
      "The R2 score for Test Set using criterion =  friedman_mse  is:  0.48840094021243674\n",
      "\n",
      "The predicted values for Test Set using criterion =  mae  is:  [162.8   84.95 202.4  119.4  162.8 ]\n",
      "\n",
      "The RMSE score for Test Set using criterion =  mae  is:  77.98242463934793\n",
      "The R2 score for Test Set using criterion =  mae  is:  0.4782421248698103\n",
      "\n",
      "The best RMSE score for Test Set is  77.21951981051217\n",
      "The max R2 score of Test Set is  0.48840094021243674\n"
     ]
    }
   ],
   "source": [
    "X_train, X_test, y_train, y_test = train_test_split( X, y, test_size=0.3, random_state=42)\n",
    "\n",
    "k = ['mse', 'friedman_mse', 'mae']\n",
    "dt_rmse = np.zeros(3)\n",
    "dt_r2 = np.zeros(3)\n",
    "n = 0\n",
    "\n",
    "from sklearn.tree import DecisionTreeRegressor\n",
    "for i in k:\n",
    "    dt_reg = DecisionTreeRegressor(criterion = i)          # create  DecisionTreeReg with sklearn\n",
    "    dt_reg.fit(X_train,y_train)\n",
    "    dt_predict = dt_reg.predict(X_test)\n",
    "    dt_rmse[n] = np.sqrt(mean_squared_error(y_test,dt_predict))\n",
    "    dt_r2[n] = r2_score(y_test,dt_predict)\n",
    "    print(\"\\nThe predicted values for Test Set using criterion = \",i,\" is: \",dt_predict[0:5])\n",
    "    print(\"\\nThe RMSE score for Test Set using criterion = \",i,\" is: \",dt_rmse[n])\n",
    "    print(\"The R2 score for Test Set using criterion = \",i,\" is: \",dt_r2[n])\n",
    "    n += 1   \n",
    "print(\"\\nThe best RMSE score for Test Set is \", dt_rmse.min())\n",
    "print(\"The max R2 score of Test Set is \", dt_r2.max())   "
   ]
  },
  {
   "cell_type": "code",
   "execution_count": 33,
   "metadata": {},
   "outputs": [
    {
     "data": {
      "image/png": "[encoded data removed]",
      "text/plain": [
       "<Figure size 432x288 with 1 Axes>"
      ]
     },
     "metadata": {
      "needs_background": "light"
     },
     "output_type": "display_data"
    }
   ],
   "source": [
    "X_train, X_test, y_train, y_test = train_test_split( X, y, test_size=0.3, random_state=42)\n",
    "\n",
    "dt_reg = DecisionTreeRegressor(criterion = 'mse')          # create  DecisionTreeReg with sklearn\n",
    "dt_reg.fit(X_train,y_train)\n",
    "\n",
    "plt.scatter(X_test,y_test, color=\"red\")                           # scatter draw\n",
    "X_grid = np.arange(min(np.array(X_test)),max(np.array(X_test)), 0.01)  \n",
    "X_grid = X_grid.reshape((len(X_grid), 1))\n",
    "plt.plot(X_grid,dt_reg.predict(X_grid),color=\"g\")                 # line draw\n",
    "plt.xlabel(\"X\")\n",
    "plt.ylabel(\"Y\")\n",
    "plt.title(\"Auto Insurance\")\n",
    "plt.show()"
   ]
  },
  {
   "cell_type": "markdown",
   "metadata": {},
   "source": [
    "# Ensemble Methods"
   ]
  },
  {
   "cell_type": "markdown",
   "metadata": {},
   "source": [
    "### Random Forest Model"
   ]
  },
  {
   "cell_type": "code",
   "execution_count": 17,
   "metadata": {},
   "outputs": [
    {
     "name": "stdout",
     "output_type": "stream",
     "text": [
      "\n",
      "The predicted values for Test Set using criterion =  mse  is:  [185.617    85.42445 194.328   123.5404  179.676  ]\n",
      "\n",
      "The RMSE score for Test Set using criterion =  mse  is:  78.19096053577888\n",
      "The R2 score for Test Set using criterion =  mse  is:  0.4782421248698103\n",
      "\n",
      "The predicted values for Test Set using criterion =  mae  is:  [178.8075  84.7215 193.5195 122.13   173.3235]\n",
      "\n",
      "The RMSE score for Test Set using criterion =  mae  is:  79.35801646262075\n",
      "The R2 score for Test Set using criterion =  mae  is:  0.4782421248698103\n",
      "\n",
      "The best RMSE score for Test Set is  78.19096053577888\n",
      "The max R2 score of Test Set is  0.4782421248698103\n"
     ]
    }
   ],
   "source": [
    "X_train, X_test, y_train, y_test = train_test_split( X, y, test_size=0.3, random_state=42)\n",
    "\n",
    "k = ['mse', 'mae']\n",
    "n = 0\n",
    "rf_rmse = np.zeros(2)\n",
    "rf_r2 = np.zeros(2)\n",
    "\n",
    "from sklearn.ensemble import RandomForestRegressor\n",
    "for i in k:\n",
    "    rf_reg = RandomForestRegressor(criterion = i)\n",
    "    rf_reg.fit(X_train,y_train)\n",
    "    rf_pred = rf_reg.predict(X_test)\n",
    "    rf_rmse[n] = np.sqrt(mean_squared_error(y_test,rf_pred))\n",
    "    rf_r2[n] = r2_score(y_test,dt_predict)\n",
    "    print(\"\\nThe predicted values for Test Set using criterion = \",i,\" is: \",rf_pred[0:5])\n",
    "    print(\"\\nThe RMSE score for Test Set using criterion = \",i,\" is: \",rf_rmse[n])\n",
    "    print(\"The R2 score for Test Set using criterion = \",i,\" is: \",rf_r2[n])\n",
    "    n += 1   \n",
    "    \n",
    "print(\"\\nThe best RMSE score for Test Set is \", rf_rmse.min())\n",
    "print(\"The max R2 score of Test Set is \", rf_r2.max())       "
   ]
  },
  {
   "cell_type": "code",
   "execution_count": 32,
   "metadata": {},
   "outputs": [
    {
     "data": {
      "image/png": "[encoded data removed]",
      "text/plain": [
       "<Figure size 432x288 with 1 Axes>"
      ]
     },
     "metadata": {
      "needs_background": "light"
     },
     "output_type": "display_data"
    }
   ],
   "source": [
    "X_train, X_test, y_train, y_test = train_test_split( X, y, test_size=0.3, random_state=42)\n",
    "\n",
    "rf_reg = RandomForestRegressor(criterion = 'mae')          # create  DecisionTreeReg with sklearn\n",
    "rf_reg.fit(X_train,y_train)\n",
    "\n",
    "plt.scatter(X_test,y_test, color=\"red\")                           # scatter draw\n",
    "X_grid = np.arange(min(np.array(X_test)),max(np.array(X_test)), 0.01)  \n",
    "X_grid = X_grid.reshape((len(X_grid), 1))\n",
    "plt.plot(X_grid,rf_reg.predict(X_grid),color=\"g\")                 # line draw\n",
    "plt.xlabel(\"X\")\n",
    "plt.ylabel(\"Y\")\n",
    "plt.title(\"Auto Insurance\")\n",
    "plt.show()"
   ]
  },
  {
   "cell_type": "markdown",
   "metadata": {},
   "source": [
    "### ADABoost"
   ]
  },
  {
   "cell_type": "code",
   "execution_count": 19,
   "metadata": {},
   "outputs": [
    {
     "name": "stdout",
     "output_type": "stream",
     "text": [
      "\n",
      "The predicted values for Test Set using loss =  linear  is:  [182.6     89.0875 182.6    124.7    182.6   ]\n",
      "\n",
      "The RMSE score for Test Set using loss =  linear  is:  81.62922245823029\n",
      "The R2 score for Test Set using loss =  linear  is:  0.42830174861332404\n",
      "\n",
      "The predicted values for Test Set using loss =  square  is:  [162.8         75.34       162.8        124.71290323 162.8       ]\n",
      "\n",
      "The RMSE score for Test Set using loss =  square  is:  90.70565072044243\n",
      "The R2 score for Test Set using loss =  square  is:  0.29409829482852523\n",
      "\n",
      "The predicted values for Test Set using loss =  exponential  is:  [176.    84.95 182.6  125.76 176.  ]\n",
      "\n",
      "The RMSE score for Test Set using loss =  exponential  is:  81.79306923641947\n",
      "The R2 score for Test Set using loss =  exponential  is:  0.4260044114039231\n",
      "\n",
      "The best RMSE score for Test Set is  81.62922245823029\n",
      "The max R2 score of Test Set is  0.42830174861332404\n"
     ]
    }
   ],
   "source": [
    "X_train, X_test, y_train, y_test = train_test_split( X, y, test_size=0.3, random_state=42)\n",
    "\n",
    "k = ['linear', 'square', 'exponential']\n",
    "n = 0\n",
    "adb_rmse = np.zeros(3)\n",
    "adb_r2 = np.zeros(3)\n",
    "\n",
    "from sklearn.ensemble import AdaBoostRegressor\n",
    "for i in k:\n",
    "    ada_regr = AdaBoostRegressor(loss = i)\n",
    "    ada_regr.fit(X_train,y_train)\n",
    "    ada_pred = ada_regr.predict(X_test)\n",
    "    adb_rmse[n] = np.sqrt(mean_squared_error(y_test,ada_pred))\n",
    "    adb_r2[n] = r2_score(y_test,ada_pred)\n",
    "    print(\"\\nThe predicted values for Test Set using loss = \",i,\" is: \",ada_pred[0:5])\n",
    "    print(\"\\nThe RMSE score for Test Set using loss = \",i,\" is: \",adb_rmse[n])\n",
    "    print(\"The R2 score for Test Set using loss = \",i,\" is: \",adb_r2[n])\n",
    "    n += 1   \n",
    "print(\"\\nThe best RMSE score for Test Set is \", adb_rmse.min())\n",
    "print(\"The max R2 score of Test Set is \", adb_r2.max())           "
   ]
  },
  {
   "cell_type": "code",
   "execution_count": 31,
   "metadata": {},
   "outputs": [
    {
     "data": {
      "image/png": "[encoded data removed]",
      "text/plain": [
       "<Figure size 432x288 with 1 Axes>"
      ]
     },
     "metadata": {
      "needs_background": "light"
     },
     "output_type": "display_data"
    }
   ],
   "source": [
    "X_train, X_test, y_train, y_test = train_test_split( X, y, test_size=0.3, random_state=42)\n",
    "\n",
    "ada_regr = AdaBoostRegressor(loss = 'exponential')          # create  DecisionTreeReg with sklearn\n",
    "ada_regr.fit(X_train,y_train)\n",
    "\n",
    "plt.scatter(X_test,y_test, color=\"red\")                           # scatter draw\n",
    "X_grid = np.arange(min(np.array(X_test)),max(np.array(X_test)), 0.01)  \n",
    "X_grid = X_grid.reshape((len(X_grid), 1))\n",
    "plt.plot(X_grid,ada_regr.predict(X_grid),color=\"g\")                 # line draw\n",
    "plt.xlabel(\"X\")\n",
    "plt.ylabel(\"Y\")\n",
    "plt.title(\"Auto Insurance\")\n",
    "plt.show()"
   ]
  },
  {
   "cell_type": "markdown",
   "metadata": {},
   "source": [
    "### Gradient Boosting"
   ]
  },
  {
   "cell_type": "code",
   "execution_count": 21,
   "metadata": {},
   "outputs": [
    {
     "name": "stdout",
     "output_type": "stream",
     "text": [
      "\n",
      "The predicted values for Test Set using loss =  ls  is:  [165.64433916  84.50203994 200.91134719 122.35049206 165.64433916]\n",
      "\n",
      "The RMSE score for Test Set using loss =  ls  is:  77.49004139029272\n",
      "The R2 score for Test Set using loss =  ls  is:  0.48481011212416103\n",
      "\n",
      "The predicted values for Test Set using loss =  lad  is:  [168.07126472  58.3940224  202.32189192 124.77323666 168.07126472]\n",
      "\n",
      "The RMSE score for Test Set using loss =  lad  is:  80.41640666496552\n",
      "The R2 score for Test Set using loss =  lad  is:  0.4451636952030371\n",
      "\n",
      "The predicted values for Test Set using loss =  huber  is:  [165.78635444  86.08786405 202.06104139 123.89617276 165.78635444]\n",
      "\n",
      "The RMSE score for Test Set using loss =  huber  is:  77.24269119426828\n",
      "The R2 score for Test Set using loss =  huber  is:  0.48809386146432443\n",
      "\n",
      "The predicted values for Test Set using loss =  quantile  is:  [162.80116782 142.52687994 202.39986926 196.32761864 162.80116782]\n",
      "\n",
      "The RMSE score for Test Set using loss =  quantile  is:  77.38430751998739\n",
      "The R2 score for Test Set using loss =  quantile  is:  0.4862150889714052\n",
      "\n",
      "The best RMSE score for Test Set is  77.24269119426828\n",
      "The max R2 score of Test Set is  0.48809386146432443\n"
     ]
    }
   ],
   "source": [
    "X_train, X_test, y_train, y_test = train_test_split( X, y, test_size=0.3, random_state=42)\n",
    "\n",
    "k = ['ls', 'lad', 'huber', 'quantile']\n",
    "n = 0\n",
    "gdb_rmse = np.zeros(4)\n",
    "gdb_r2 = np.zeros(4)\n",
    "\n",
    "from sklearn.ensemble import GradientBoostingRegressor\n",
    "\n",
    "for i in k:\n",
    "    reg = GradientBoostingRegressor(loss = i)\n",
    "    reg.fit(X_train, y_train)\n",
    "    grdbst_pred = reg.predict(X_test)\n",
    "    gdb_rmse[n] = np.sqrt(mean_squared_error(y_test,grdbst_pred))\n",
    "    gdb_r2[n] = r2_score(y_test,grdbst_pred)\n",
    "    print(\"\\nThe predicted values for Test Set using loss = \",i,\" is: \",grdbst_pred[0:5])\n",
    "    print(\"\\nThe RMSE score for Test Set using loss = \",i,\" is: \",gdb_rmse[n])\n",
    "    print(\"The R2 score for Test Set using loss = \",i,\" is: \",gdb_r2[n])\n",
    "    n += 1   \n",
    "print(\"\\nThe best RMSE score for Test Set is \", gdb_rmse.min())\n",
    "print(\"The max R2 score of Test Set is \", gdb_r2.max())           "
   ]
  },
  {
   "cell_type": "code",
   "execution_count": 30,
   "metadata": {},
   "outputs": [
    {
     "data": {
      "image/png": "[encoded data removed]",
      "text/plain": [
       "<Figure size 432x288 with 1 Axes>"
      ]
     },
     "metadata": {
      "needs_background": "light"
     },
     "output_type": "display_data"
    }
   ],
   "source": [
    "X_train, X_test, y_train, y_test = train_test_split( X, y, test_size=0.3, random_state=42)\n",
    "\n",
    "grdbst_regr = GradientBoostingRegressor(loss = 'huber')          # create  DecisionTreeReg with sklearn\n",
    "grdbst_regr.fit(X_train,y_train)\n",
    "\n",
    "plt.scatter(X_test,y_test, color=\"red\")                           # scatter draw\n",
    "X_grid = np.arange(min(np.array(X_test)),max(np.array(X_test)), 0.01)  \n",
    "X_grid = X_grid.reshape((len(X_grid), 1))\n",
    "plt.plot(X_grid,grdbst_regr.predict(X_grid),color=\"g\")                 # line draw\n",
    "plt.xlabel(\"X\")\n",
    "plt.ylabel(\"Y\")\n",
    "plt.title(\"Auto Insurance\")\n",
    "plt.show()"
   ]
  },
  {
   "cell_type": "markdown",
   "metadata": {},
   "source": [
    "# KNearestNeighbor"
   ]
  },
  {
   "cell_type": "code",
   "execution_count": 34,
   "metadata": {},
   "outputs": [
    {
     "name": "stdout",
     "output_type": "stream",
     "text": [
      "\n",
      "The predicted values for Test Set with neighbor k =  1  is: \n",
      " [[162.8]\n",
      " [ 56.9]\n",
      " [202.4]\n",
      " [119.4]\n",
      " [162.8]]\n",
      "\n",
      "The RMSE score for Test Set with neighbor k =  1  is:  82.18986683604199\n",
      "The R2 score for Test Set with neighbor k =  1  is:  0.4204217249251372\n",
      "\n",
      "The predicted values for Test Set with neighbor k =  2  is: \n",
      " [[205.45]\n",
      " [ 84.95]\n",
      " [182.6 ]\n",
      " [ 96.4 ]\n",
      " [182.6 ]]\n",
      "\n",
      "The RMSE score for Test Set with neighbor k =  2  is:  83.10898995010297\n",
      "The R2 score for Test Set with neighbor k =  2  is:  0.40738648340687844\n",
      "\n",
      "The predicted values for Test Set with neighbor k =  3  is: \n",
      " [[204.43333333]\n",
      " [ 79.7       ]\n",
      " [204.43333333]\n",
      " [124.7       ]\n",
      " [204.43333333]]\n",
      "\n",
      "The RMSE score for Test Set with neighbor k =  3  is:  76.28605561111253\n",
      "The R2 score for Test Set with neighbor k =  3  is:  0.5006950578589053\n",
      "\n",
      "The predicted values for Test Set with neighbor k =  4  is: \n",
      " [[206.825]\n",
      " [106.65 ]\n",
      " [206.825]\n",
      " [145.975]\n",
      " [206.825]]\n",
      "\n",
      "The RMSE score for Test Set with neighbor k =  4  is:  75.17162052859268\n",
      "The R2 score for Test Set with neighbor k =  4  is:  0.5151768266239317\n",
      "\n",
      "The predicted values for Test Set with neighbor k =  5  is: \n",
      " [[180.14]\n",
      " [103.84]\n",
      " [180.14]\n",
      " [155.68]\n",
      " [180.14]]\n",
      "\n",
      "The RMSE score for Test Set with neighbor k =  5  is:  83.16301442601183\n",
      "The R2 score for Test Set with neighbor k =  5  is:  0.40661578361975304\n",
      "\n",
      "The predicted values for Test Set with neighbor k =  6  is: \n",
      " [[180.33333333]\n",
      " [102.88333333]\n",
      " [180.33333333]\n",
      " [147.05      ]\n",
      " [180.33333333]]\n",
      "\n",
      "The RMSE score for Test Set with neighbor k =  6  is:  82.07820787274987\n",
      "The R2 score for Test Set with neighbor k =  6  is:  0.42199542622206765\n",
      "\n",
      "The predicted values for Test Set with neighbor k =  7  is: \n",
      " [[171.62857143]\n",
      " [103.02857143]\n",
      " [171.62857143]\n",
      " [156.61428571]\n",
      " [171.62857143]]\n",
      "\n",
      "The RMSE score for Test Set with neighbor k =  7  is:  84.65428411810515\n",
      "The R2 score for Test Set with neighbor k =  7  is:  0.3851439832049822\n",
      "\n",
      "The predicted values for Test Set with neighbor k =  8  is: \n",
      " [[176.4   ]\n",
      " [ 95.925 ]\n",
      " [176.4   ]\n",
      " [148.6125]\n",
      " [176.4   ]]\n",
      "\n",
      "The RMSE score for Test Set with neighbor k =  8  is:  83.26539252357647\n",
      "The R2 score for Test Set with neighbor k =  8  is:  0.4051539092377192\n",
      "\n",
      "The predicted values for Test Set with neighbor k =  9  is: \n",
      " [[178.41111111]\n",
      " [106.87777778]\n",
      " [178.41111111]\n",
      " [152.93333333]\n",
      " [178.41111111]]\n",
      "\n",
      "The RMSE score for Test Set with neighbor k =  9  is:  82.21873795367607\n",
      "The R2 score for Test Set with neighbor k =  9  is:  0.4200144724950232\n",
      "\n",
      "The best RMSE score for Test Set is  75.17162052859268  with neighbor k =  4\n",
      "The max R2 score of Test Set is  0.5151768266239317  with neighbor k =  4\n"
     ]
    }
   ],
   "source": [
    "X_train, X_test, y_train, y_test = train_test_split( X, y, test_size=0.3, random_state=42)\n",
    "\n",
    "from sklearn.neighbors import KNeighborsRegressor\n",
    "\n",
    "n = 0\n",
    "knn_rmse = np.zeros(9)\n",
    "knn_r2 = np.zeros(9)\n",
    "\n",
    "for i in range(1,10):\n",
    "    neigh = KNeighborsRegressor(n_neighbors=i)\n",
    "    neigh.fit(X_train, y_train)\n",
    "    knn_pred = neigh.predict(X_test)\n",
    "    knn_rmse[n] = np.sqrt(mean_squared_error(y_test,knn_pred))\n",
    "    knn_r2[n] = r2_score(y_test,knn_pred)\n",
    "    print(\"\\nThe predicted values for Test Set with neighbor k = \",i,\" is: \\n\",knn_pred[0:5])\n",
    "    print(\"\\nThe RMSE score for Test Set with neighbor k = \",i,\" is: \",knn_rmse[n])\n",
    "    print(\"The R2 score for Test Set with neighbor k = \",i,\" is: \",knn_r2[n])\n",
    "    n += 1   \n",
    "print(\"\\nThe best RMSE score for Test Set is \", knn_rmse.min(), \" with neighbor k = \", knn_rmse.argmin()+1)\n",
    "print(\"The max R2 score of Test Set is \", knn_r2.max(), \" with neighbor k = \", knn_r2.argmax()+1)         "
   ]
  },
  {
   "cell_type": "code",
   "execution_count": 29,
   "metadata": {},
   "outputs": [
    {
     "data": {
      "image/png": "[encoded data removed]",
      "text/plain": [
       "<Figure size 432x288 with 1 Axes>"
      ]
     },
     "metadata": {
      "needs_background": "light"
     },
     "output_type": "display_data"
    }
   ],
   "source": [
    "X_train, X_test, y_train, y_test = train_test_split( X, y, test_size=0.3, random_state=42)\n",
    "\n",
    "knn_regr = KNeighborsRegressor(n_neighbors=4)          # create  DecisionTreeReg with sklearn\n",
    "knn_regr.fit(X_train,y_train)\n",
    "\n",
    "plt.scatter(X_test,y_test, color=\"red\")                           # scatter draw\n",
    "X_grid = np.arange(min(np.array(X_test)),max(np.array(X_test)), 0.01)  \n",
    "X_grid = X_grid.reshape((len(X_grid), 1))\n",
    "plt.plot(X_grid,knn_regr.predict(X_grid),color=\"g\")                 # line draw\n",
    "plt.xlabel(\"X\")\n",
    "plt.ylabel(\"Y\")\n",
    "plt.title(\"Auto Insurance\")\n",
    "plt.show()"
   ]
  },
  {
   "cell_type": "markdown",
   "metadata": {},
   "source": [
    "# Stochastic Gradient Descent"
   ]
  },
  {
   "cell_type": "code",
   "execution_count": 25,
   "metadata": {},
   "outputs": [
    {
     "data": {
      "text/plain": [
       "array([206.49037547,  99.34051543, 409.70562727, 147.37321131,\n",
       "       221.26966651])"
      ]
     },
     "execution_count": 25,
     "metadata": {},
     "output_type": "execute_result"
    }
   ],
   "source": [
    "X= preprocessing.StandardScaler().fit(X).transform(X)\n",
    "X_train, X_test, y_train, y_test = train_test_split( X, y, test_size=0.3, random_state=42)\n",
    "\n",
    "from sklearn.linear_model import SGDRegressor\n",
    "reg = SGDRegressor()\n",
    "reg.fit(X_train, y_train)\n",
    "sgd_pred = reg.predict(X_test)\n",
    "sgd_pred[0:5]"
   ]
  },
  {
   "cell_type": "code",
   "execution_count": 26,
   "metadata": {},
   "outputs": [
    {
     "name": "stdout",
     "output_type": "stream",
     "text": [
      "RMSE Score for Test set:  35.964710834037135\n",
      "R2 Score for Test set:  0.88902409636619\n"
     ]
    }
   ],
   "source": [
    "sgd_rmse = np.sqrt(mean_squared_error(y_test,sgd_pred))\n",
    "sgd_r2 = r2_score(y_test,sgd_pred)\n",
    "print(\"RMSE Score for Test set: \",sgd_rmse)\n",
    "print(\"R2 Score for Test set: \",sgd_r2)"
   ]
  },
  {
   "cell_type": "code",
   "execution_count": 28,
   "metadata": {},
   "outputs": [
    {
     "data": {
      "image/png": "[encoded data removed]",
      "text/plain": [
       "<Figure size 432x288 with 1 Axes>"
      ]
     },
     "metadata": {
      "needs_background": "light"
     },
     "output_type": "display_data"
    }
   ],
   "source": [
    "plt.scatter(X_test,y_test, color=\"red\")                           # scatter draw\n",
    "X_grid = np.arange(min(np.array(X_test)),max(np.array(X_test)), 0.01)  \n",
    "X_grid = X_grid.reshape((len(X_grid), 1))\n",
    "plt.plot(X_grid,reg.predict(X_grid),color=\"g\")                 # line draw\n",
    "plt.xlabel(\"X\")\n",
    "plt.ylabel(\"Y\")\n",
    "plt.title(\"Auto Insurance\")\n",
    "plt.show()"
   ]
  },
  {
   "cell_type": "markdown",
   "metadata": {},
   "source": [
    "# Support Vector Machines"
   ]
  },
  {
   "cell_type": "markdown",
   "metadata": {},
   "source": [
    "### SVR"
   ]
  },
  {
   "cell_type": "code",
   "execution_count": 47,
   "metadata": {},
   "outputs": [
    {
     "name": "stdout",
     "output_type": "stream",
     "text": [
      "\n",
      "The predicted values for Test Set with kernel =  linear  is:  [ 85.35764159  64.22871306 125.42974743  73.70030171  88.27197656]\n",
      "\n",
      "The RMSE score for Test Set with kernel =  linear  is:  111.70420508438686\n",
      "The R2 score for Test Set with kernel =  linear  is:  -0.07056881649288682\n",
      "\n",
      "The predicted values for Test Set with kernel =  poly  is:  [ 144.89693694   60.34373473 1971.83575518   69.02676061  183.29257285]\n",
      "\n",
      "The RMSE score for Test Set with kernel =  poly  is:  747.9312827743432\n",
      "The R2 score for Test Set with kernel =  poly  is:  -46.99532545592194\n",
      "\n",
      "The predicted values for Test Set with kernel =  rbf  is:  [69.30866128 67.98705194 63.89962534 72.48159871 68.182745  ]\n",
      "\n",
      "The RMSE score for Test Set with kernel =  rbf  is:  132.73030024779186\n",
      "The R2 score for Test Set with kernel =  rbf  is:  -0.5115262647201191\n",
      "\n",
      "The predicted values for Test Set with kernel =  sigmoid  is:  [83.49822574 67.91479086 84.37472023 80.6271826  83.70728339]\n",
      "\n",
      "The RMSE score for Test Set with kernel =  sigmoid  is:  124.38537966390983\n",
      "The R2 score for Test Set with kernel =  sigmoid  is:  -0.32743791062246386\n",
      "\n",
      "The best RMSE score for Test Set is  111.70420508438686\n",
      "The max R2 score of Test Set is  -0.07056881649288682\n"
     ]
    }
   ],
   "source": [
    "X= preprocessing.StandardScaler().fit(X).transform(X)\n",
    "X_train, X_test, y_train, y_test = train_test_split( X, y, test_size=0.3, random_state=42)\n",
    "\n",
    "from sklearn.svm import SVR\n",
    "k = ['linear', 'poly', 'rbf', 'sigmoid']\n",
    "n = 0\n",
    "svr_rmse = np.zeros(4)\n",
    "svr_r2 = np.zeros(4)\n",
    "\n",
    "for i in k:\n",
    "    reg = SVR(kernel = i)\n",
    "    reg.fit(X_train, y_train)\n",
    "    svr_pred = reg.predict(X_test)\n",
    "    svr_rmse[n] = np.sqrt(mean_squared_error(y_test,svr_pred))\n",
    "    svr_r2[n] = r2_score(y_test,svr_pred)\n",
    "    print(\"\\nThe predicted values for Test Set with kernel = \",i,\" is: \",svr_pred[0:5])\n",
    "    print(\"\\nThe RMSE score for Test Set with kernel = \",i,\" is: \",svr_rmse[n])\n",
    "    print(\"The R2 score for Test Set with kernel = \",i,\" is: \",svr_r2[n])\n",
    "    n += 1   \n",
    "print(\"\\nThe best RMSE score for Test Set is \", svr_rmse.min())\n",
    "print(\"The max R2 score of Test Set is \", svr_r2.max())         "
   ]
  },
  {
   "cell_type": "code",
   "execution_count": 48,
   "metadata": {},
   "outputs": [
    {
     "data": {
      "image/png": "[encoded data removed]",
      "text/plain": [
       "<Figure size 432x288 with 1 Axes>"
      ]
     },
     "metadata": {
      "needs_background": "light"
     },
     "output_type": "display_data"
    }
   ],
   "source": [
    "X_train, X_test, y_train, y_test = train_test_split( X, y, test_size=0.3, random_state=42)\n",
    "\n",
    "svr_regr = SVR(kernel='linear')          \n",
    "svr_regr.fit(X_train,y_train)\n",
    "\n",
    "plt.scatter(X_test,y_test, color=\"red\")                           # scatter draw\n",
    "X_grid = np.arange(min(np.array(X_test)),max(np.array(X_test)), 0.01)  \n",
    "X_grid = X_grid.reshape((len(X_grid), 1))\n",
    "plt.plot(X_grid,svr_regr.predict(X_grid),color=\"g\")                 # line draw\n",
    "plt.xlabel(\"X\")\n",
    "plt.ylabel(\"Y\")\n",
    "plt.title(\"Auto Insurance\")\n",
    "plt.show()"
   ]
  },
  {
   "cell_type": "markdown",
   "metadata": {},
   "source": [
    "### NuSVR"
   ]
  },
  {
   "cell_type": "code",
   "execution_count": 52,
   "metadata": {},
   "outputs": [
    {
     "name": "stdout",
     "output_type": "stream",
     "text": [
      "\n",
      "The predicted values for Test Set with kernel =  linear  is:  [ 89.70052842  70.30082166 126.49307572  78.99724193  92.37635004]\n",
      "\n",
      "The RMSE score for Test Set with kernel =  linear  is:  109.67203967636499\n",
      "The R2 score for Test Set with kernel =  linear  is:  -0.031970744218791314\n",
      "\n",
      "The predicted values for Test Set with kernel =  poly  is:  [ 155.34605956   67.83826649 2046.12464477   76.82470831  195.08337611]\n",
      "\n",
      "The RMSE score for Test Set with kernel =  poly  is:  779.8388065807193\n",
      "The R2 score for Test Set with kernel =  poly  is:  -51.1777358913394\n",
      "\n",
      "The predicted values for Test Set with kernel =  rbf  is:  [73.7665629  71.7394413  69.03469406 75.25050356 72.93507466]\n",
      "\n",
      "The RMSE score for Test Set with kernel =  rbf  is:  129.9155723893075\n",
      "The R2 score for Test Set with kernel =  rbf  is:  -0.4480980428950625\n",
      "\n",
      "The predicted values for Test Set with kernel =  sigmoid  is:  [88.50991663 73.40334041 89.39878029 85.60213792 88.71959762]\n",
      "\n",
      "The RMSE score for Test Set with kernel =  sigmoid  is:  121.25476884527198\n",
      "The R2 score for Test Set with kernel =  sigmoid  is:  -0.26145917672164654\n",
      "\n",
      "The best RMSE score for Test Set is  109.67203967636499\n",
      "The max R2 score of Test Set is  -0.031970744218791314\n"
     ]
    }
   ],
   "source": [
    "X= preprocessing.StandardScaler().fit(X).transform(X)\n",
    "X_train, X_test, y_train, y_test = train_test_split( X, y, test_size=0.3, random_state=42)\n",
    "\n",
    "from sklearn.svm import NuSVR\n",
    "k = ['linear', 'poly', 'rbf', 'sigmoid']\n",
    "n = 0\n",
    "nusvr_rmse = np.zeros(4)\n",
    "nusvr_r2 = np.zeros(4)\n",
    "\n",
    "for i in k:\n",
    "    reg = NuSVR(kernel = i)\n",
    "    reg.fit(X_train, y_train)\n",
    "    nusvr_pred = reg.predict(X_test)\n",
    "    nusvr_rmse[n] = np.sqrt(mean_squared_error(y_test,nusvr_pred))\n",
    "    nusvr_r2[n] = r2_score(y_test,nusvr_pred)\n",
    "    print(\"\\nThe predicted values for Test Set with kernel = \",i,\" is: \",nusvr_pred[0:5])\n",
    "    print(\"\\nThe RMSE score for Test Set with kernel = \",i,\" is: \",nusvr_rmse[n])\n",
    "    print(\"The R2 score for Test Set with kernel = \",i,\" is: \",nusvr_r2[n])\n",
    "    n += 1   \n",
    "print(\"\\nThe best RMSE score for Test Set is \", nusvr_rmse.min())\n",
    "print(\"The max R2 score of Test Set is \", nusvr_r2.max())         "
   ]
  },
  {
   "cell_type": "code",
   "execution_count": 53,
   "metadata": {},
   "outputs": [
    {
     "data": {
      "image/png": "[encoded data removed]",
      "text/plain": [
       "<Figure size 432x288 with 1 Axes>"
      ]
     },
     "metadata": {
      "needs_background": "light"
     },
     "output_type": "display_data"
    }
   ],
   "source": [
    "X_train, X_test, y_train, y_test = train_test_split( X, y, test_size=0.3, random_state=42)\n",
    "\n",
    "nusvr_regr = NuSVR(kernel='linear')          \n",
    "nusvr_regr.fit(X_train,y_train)\n",
    "\n",
    "plt.scatter(X_test,y_test, color=\"red\")                           # scatter draw\n",
    "X_grid = np.arange(min(np.array(X_test)),max(np.array(X_test)), 0.01)  \n",
    "X_grid = X_grid.reshape((len(X_grid), 1))\n",
    "plt.plot(X_grid,nusvr_regr.predict(X_grid),color=\"g\")                 # line draw\n",
    "plt.xlabel(\"X\")\n",
    "plt.ylabel(\"Y\")\n",
    "plt.title(\"Auto Insurance\")\n",
    "plt.show()"
   ]
  },
  {
   "cell_type": "markdown",
   "metadata": {},
   "source": [
    "### LinearSVR"
   ]
  },
  {
   "cell_type": "code",
   "execution_count": 54,
   "metadata": {},
   "outputs": [
    {
     "name": "stdout",
     "output_type": "stream",
     "text": [
      "\n",
      "The predicted values for Test Set is:  [32.9040994  24.89174505 48.09994384 28.4834901  34.00925172]\n",
      "\n",
      "The RMSE score for Test Set is:  152.6432952927343\n",
      "The R2 score for Test Set is:  -0.9990838497148977\n"
     ]
    }
   ],
   "source": [
    "X= preprocessing.StandardScaler().fit(X).transform(X)\n",
    "X_train, X_test, y_train, y_test = train_test_split( X, y, test_size=0.3, random_state=42)\n",
    "\n",
    "from sklearn.svm import LinearSVR\n",
    "\n",
    "reg = LinearSVR()\n",
    "reg.fit(X_train, y_train)\n",
    "linsvr_pred = reg.predict(X_test)\n",
    "linsvr_rmse = np.sqrt(mean_squared_error(y_test,linsvr_pred))\n",
    "linsvr_r2 = r2_score(y_test,linsvr_pred)\n",
    "print(\"\\nThe predicted values for Test Set is: \",linsvr_pred[0:5])\n",
    "print(\"\\nThe RMSE score for Test Set is: \",linsvr_rmse)\n",
    "print(\"The R2 score for Test Set is: \",linsvr_r2)  "
   ]
  },
  {
   "cell_type": "code",
   "execution_count": 55,
   "metadata": {
    "scrolled": true
   },
   "outputs": [
    {
     "data": {
      "image/png": "[encoded data removed]",
      "text/plain": [
       "<Figure size 432x288 with 1 Axes>"
      ]
     },
     "metadata": {
      "needs_background": "light"
     },
     "output_type": "display_data"
    }
   ],
   "source": [
    "plt.scatter(X_test,y_test, color=\"red\")                           # scatter draw\n",
    "X_grid = np.arange(min(np.array(X_test)),max(np.array(X_test)), 0.01)  \n",
    "X_grid = X_grid.reshape((len(X_grid), 1))\n",
    "plt.plot(X_grid,reg.predict(X_grid),color=\"g\")                 # line draw\n",
    "plt.xlabel(\"X\")\n",
    "plt.ylabel(\"Y\")\n",
    "plt.title(\"Auto Insurance\")\n",
    "plt.show()"
   ]
  },
  {
   "cell_type": "markdown",
   "metadata": {},
   "source": [
    "# Report on accuracy of different algorithms using RMSE value and R2 score"
   ]
  },
  {
   "cell_type": "code",
   "execution_count": 56,
   "metadata": {},
   "outputs": [],
   "source": [
    "# rmse = root mean squared score.......r2 = R2-Score\n",
    "# 1.Linear Models\n",
    "# 1.1. Linear Regression\n",
    "linrgr_rmse\n",
    "linrgr_r2\n",
    "\n",
    "# 1.2. Ridge Regression\n",
    "rdgrgr_rmse\n",
    "rdgrgr_r2\n",
    "\n",
    "# 1.3. Lasso\n",
    "lasrgr_rmse\n",
    "lasrgr_r2\n",
    "\n",
    "# 1.4. ElasticNet\n",
    "enrgr_rmse\n",
    "enrgr_r2\n",
    "\n",
    "# 1.5. LarsLasso\n",
    "lslrrgr_rmse\n",
    "lslrrgr_r2\n",
    "\n",
    "# 2.Polynomial Regression\n",
    "plrgr_rmse = plrgr_rmse.min()\n",
    "plrgr_r2 = plrgr_r2.max()\n",
    "\n",
    "# 3.Decision Tree\n",
    "dt_rmse = dt_rmse.min()\n",
    "dt_r2 = dt_r2.max()\n",
    "\n",
    "# 4.Ensemble Methods\n",
    "# 4.1. Random Forest\n",
    "rf_rmse = rf_rmse.min()\n",
    "rf_r2 = rf_r2.max()\n",
    "\n",
    "# 4.2. AdaBoost\n",
    "adb_rmse = adb_rmse.min()\n",
    "adb_r2 = adb_r2.max()\n",
    "\n",
    "# 4.3. GradientBoost\n",
    "gdb_rmse = gdb_rmse.min()\n",
    "gdb_r2 = gdb_r2.max()\n",
    "\n",
    "# 5.KNearestNeighbor\n",
    "knn_rmse = knn_rmse.min()\n",
    "knn_r2 = knn_r2.max()\n",
    "\n",
    "# 6.Stochastic Gradient Descent\n",
    "sgd_rmse\n",
    "sgd_r2\n",
    "\n",
    "# 7.Support Vector Machines\n",
    "# 7.1. SVR\n",
    "svr_rmse = svr_rmse.min()\n",
    "svr_r2 = svr_r2.max()\n",
    "\n",
    "# 7.2. NuSVR\n",
    "nusvr_rmse = nusvr_rmse.min()\n",
    "nusvr_r2 = nusvr_r2.max()\n",
    "# 7.3. LinearSVR\n",
    "linsvr_rmse = linsvr_rmse\n",
    "linsvr_r2 = linsvr_r2\n",
    "\n",
    "#max of all\n",
    "min_rmse = [linrgr_rmse,rdgrgr_rmse,lasrgr_rmse,enrgr_rmse,lslrrgr_rmse,plrgr_rmse,dt_rmse,rf_rmse,adb_rmse,gdb_rmse,knn_rmse,sgd_rmse,svr_rmse,nusvr_rmse,linsvr_rmse]\n",
    "max_r2 = [linrgr_r2,rdgrgr_r2,lasrgr_r2,enrgr_r2,lslrrgr_r2,plrgr_r2,dt_r2,rf_r2,adb_r2,gdb_r2,knn_r2,sgd_r2,svr_r2,nusvr_r2,linsvr_r2]"
   ]
  },
  {
   "cell_type": "markdown",
   "metadata": {},
   "source": [
    "## Final Report"
   ]
  },
  {
   "cell_type": "code",
   "execution_count": 57,
   "metadata": {},
   "outputs": [
    {
     "data": {
      "text/html": [
       "<div>\n",
       "<style scoped>\n",
       "    .dataframe tbody tr th:only-of-type {\n",
       "        vertical-align: middle;\n",
       "    }\n",
       "\n",
       "    .dataframe tbody tr th {\n",
       "        vertical-align: top;\n",
       "    }\n",
       "\n",
       "    .dataframe thead th {\n",
       "        text-align: right;\n",
       "    }\n",
       "</style>\n",
       "<table border=\"1\" class=\"dataframe\">\n",
       "  <thead>\n",
       "    <tr style=\"text-align: right;\">\n",
       "      <th></th>\n",
       "      <th>Algorithm</th>\n",
       "      <th>R2-Sore</th>\n",
       "      <th>Root Mean Squared Error</th>\n",
       "    </tr>\n",
       "  </thead>\n",
       "  <tbody>\n",
       "    <tr>\n",
       "      <th>1</th>\n",
       "      <td>Linear Regression</td>\n",
       "      <td>0.888053</td>\n",
       "      <td>36.121763</td>\n",
       "    </tr>\n",
       "    <tr>\n",
       "      <th>2</th>\n",
       "      <td>Ridge Regression</td>\n",
       "      <td>0.888083</td>\n",
       "      <td>36.116862</td>\n",
       "    </tr>\n",
       "    <tr>\n",
       "      <th>3</th>\n",
       "      <td>Lasso Regression</td>\n",
       "      <td>0.897880</td>\n",
       "      <td>34.499884</td>\n",
       "    </tr>\n",
       "    <tr>\n",
       "      <th>4</th>\n",
       "      <td>ElasticNet Regression</td>\n",
       "      <td>0.898244</td>\n",
       "      <td>34.438368</td>\n",
       "    </tr>\n",
       "    <tr>\n",
       "      <th>5</th>\n",
       "      <td>LarsLasso Regression</td>\n",
       "      <td>0.888053</td>\n",
       "      <td>36.121763</td>\n",
       "    </tr>\n",
       "    <tr>\n",
       "      <th>6</th>\n",
       "      <td>Polynomial Regression</td>\n",
       "      <td>0.888053</td>\n",
       "      <td>36.121763</td>\n",
       "    </tr>\n",
       "    <tr>\n",
       "      <th>7</th>\n",
       "      <td>Decision Tree Regression</td>\n",
       "      <td>0.488401</td>\n",
       "      <td>77.219520</td>\n",
       "    </tr>\n",
       "    <tr>\n",
       "      <th>8</th>\n",
       "      <td>Random Forest Regression</td>\n",
       "      <td>0.478242</td>\n",
       "      <td>76.773148</td>\n",
       "    </tr>\n",
       "    <tr>\n",
       "      <th>9</th>\n",
       "      <td>AdaBoost Regression</td>\n",
       "      <td>0.458503</td>\n",
       "      <td>79.443846</td>\n",
       "    </tr>\n",
       "    <tr>\n",
       "      <th>10</th>\n",
       "      <td>Gradient Boosting Regression</td>\n",
       "      <td>0.488094</td>\n",
       "      <td>77.242691</td>\n",
       "    </tr>\n",
       "    <tr>\n",
       "      <th>11</th>\n",
       "      <td>KNearest Neighbor Regression</td>\n",
       "      <td>0.534858</td>\n",
       "      <td>73.630042</td>\n",
       "    </tr>\n",
       "    <tr>\n",
       "      <th>12</th>\n",
       "      <td>Stochastic Gradient Regression</td>\n",
       "      <td>0.888774</td>\n",
       "      <td>36.005170</td>\n",
       "    </tr>\n",
       "    <tr>\n",
       "      <th>13</th>\n",
       "      <td>Support Vector Regression</td>\n",
       "      <td>-0.070569</td>\n",
       "      <td>111.704205</td>\n",
       "    </tr>\n",
       "    <tr>\n",
       "      <th>14</th>\n",
       "      <td>Nu Support Vector Regression</td>\n",
       "      <td>-0.031971</td>\n",
       "      <td>109.672040</td>\n",
       "    </tr>\n",
       "    <tr>\n",
       "      <th>15</th>\n",
       "      <td>Linear Support Vector Regression</td>\n",
       "      <td>-0.999084</td>\n",
       "      <td>152.643295</td>\n",
       "    </tr>\n",
       "  </tbody>\n",
       "</table>\n",
       "</div>"
      ],
      "text/plain": [
       "                           Algorithm   R2-Sore  Root Mean Squared Error\n",
       "1                  Linear Regression  0.888053                36.121763\n",
       "2                   Ridge Regression  0.888083                36.116862\n",
       "3                   Lasso Regression  0.897880                34.499884\n",
       "4              ElasticNet Regression  0.898244                34.438368\n",
       "5               LarsLasso Regression  0.888053                36.121763\n",
       "6              Polynomial Regression  0.888053                36.121763\n",
       "7           Decision Tree Regression  0.488401                77.219520\n",
       "8           Random Forest Regression  0.478242                76.773148\n",
       "9                AdaBoost Regression  0.458503                79.443846\n",
       "10      Gradient Boosting Regression  0.488094                77.242691\n",
       "11      KNearest Neighbor Regression  0.534858                73.630042\n",
       "12    Stochastic Gradient Regression  0.888774                36.005170\n",
       "13         Support Vector Regression -0.070569               111.704205\n",
       "14      Nu Support Vector Regression -0.031971               109.672040\n",
       "15  Linear Support Vector Regression -0.999084               152.643295"
      ]
     },
     "execution_count": 57,
     "metadata": {},
     "output_type": "execute_result"
    }
   ],
   "source": [
    "data = {'Algorithm':['Linear Regression', 'Ridge Regression', 'Lasso Regression', 'ElasticNet Regression', 'LarsLasso Regression', 'Polynomial Regression','Decision Tree Regression','Random Forest Regression','AdaBoost Regression','Gradient Boosting Regression','KNearest Neighbor Regression','Stochastic Gradient Regression','Support Vector Regression','Nu Support Vector Regression','Linear Support Vector Regression'], \n",
    "        'R2-Sore':max_r2, 'Root Mean Squared Error':min_rmse}\n",
    "s = pd.DataFrame(data, index = [1,2,3,4,5,6,7,8,9,10,11,12,13,14,15])\n",
    "s"
   ]
  }
 ],
 "metadata": {
  "kernelspec": {
   "display_name": "Python 3",
   "language": "python",
   "name": "python3"
  },
  "language_info": {
   "codemirror_mode": {
    "name": "ipython",
    "version": 3
   },
   "file_extension": ".py",
   "mimetype": "text/x-python",
   "name": "python",
   "nbconvert_exporter": "python",
   "pygments_lexer": "ipython3",
   "version": "3.7.6"
  }
 },
 "nbformat": 4,
 "nbformat_minor": 4
}
